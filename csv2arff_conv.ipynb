{
  "nbformat": 4,
  "nbformat_minor": 0,
  "metadata": {
    "colab": {
      "provenance": [],
      "collapsed_sections": [],
      "authorship_tag": "ABX9TyO57Nosx2xecrJ5dIHgSL2e",
      "include_colab_link": true
    },
    "kernelspec": {
      "name": "python3",
      "display_name": "Python 3"
    },
    "language_info": {
      "name": "python"
    }
  },
  "cells": [
    {
      "cell_type": "markdown",
      "metadata": {
        "id": "view-in-github",
        "colab_type": "text"
      },
      "source": [
        "<a href=\"https://colab.research.google.com/github/ibabedal/BLCA-analysis/blob/main/csv2arff_conv.ipynb\" target=\"_parent\"><img src=\"https://colab.research.google.com/assets/colab-badge.svg\" alt=\"Open In Colab\"/></a>"
      ]
    },
    {
      "cell_type": "code",
      "execution_count": null,
      "metadata": {
        "id": "ycTvulfh4c9v"
      },
      "outputs": [],
      "source": []
    },
    {
      "cell_type": "markdown",
      "source": [
        "### installing the java runtime on the colab"
      ],
      "metadata": {
        "id": "C2RYVXhIoC0t"
      }
    },
    {
      "cell_type": "code",
      "source": [
        "!sudo apt-get update\n",
        "!sudo apt-get install -y default-jdk \n",
        "!git clone https://github.com/heshida01/mrmd.git"
      ],
      "metadata": {
        "id": "xxrhSfmaoAkc"
      },
      "execution_count": null,
      "outputs": []
    },
    {
      "cell_type": "code",
      "source": [
        "!pip install csv2arff"
      ],
      "metadata": {
        "id": "djExbpawqyXp"
      },
      "execution_count": null,
      "outputs": []
    },
    {
      "cell_type": "code",
      "source": [
        "!csv2arff CNA-TMB-Chi2.csv CNA-TMB-Chi2.arff"
      ],
      "metadata": {
        "id": "sj1sDaKfr87c"
      },
      "execution_count": null,
      "outputs": []
    },
    {
      "cell_type": "code",
      "source": [
        "# replacing numeric with list for class TMB so that mrmd can work on it\n",
        "!grep TMB CNA-TMB-Chi2.arff\n",
        "!sed -i 's/TMB_CLASS numeric/TMB_CLASS \\{1,2\\}/' CNA-TMB-Chi2.arff\n",
        "!grep TMB CNA-TMB-Chi2.arff"
      ],
      "metadata": {
        "id": "yQlMSb0l3Tue"
      },
      "execution_count": null,
      "outputs": []
    },
    {
      "cell_type": "code",
      "source": [
        "!java -jar ./mrmd/mrmd.jar -i ./CNA-TMB-Reduced.arff -o ./CNA-TMB-MRMD.csv"
      ],
      "metadata": {
        "id": "NS8gDfT4x4Pa"
      },
      "execution_count": null,
      "outputs": []
    },
    {
      "cell_type": "code",
      "source": [],
      "metadata": {
        "id": "ArAMODo11rpM"
      },
      "execution_count": null,
      "outputs": []
    },
    {
      "cell_type": "code",
      "source": [],
      "metadata": {
        "id": "I89fN7bT28tB"
      },
      "execution_count": null,
      "outputs": []
    }
  ]
}