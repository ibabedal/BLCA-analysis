{
  "nbformat": 4,
  "nbformat_minor": 0,
  "metadata": {
    "colab": {
      "provenance": [],
      "collapsed_sections": [],
      "authorship_tag": "ABX9TyMe4tq16asvWNuWDrUSmVn7",
      "include_colab_link": true
    },
    "kernelspec": {
      "name": "python3",
      "display_name": "Python 3"
    },
    "language_info": {
      "name": "python"
    }
  },
  "cells": [
    {
      "cell_type": "markdown",
      "metadata": {
        "id": "view-in-github",
        "colab_type": "text"
      },
      "source": [
        "<a href=\"https://colab.research.google.com/github/ibabedal/BLCA-analysis/blob/main/csv2arff_conv.ipynb\" target=\"_parent\"><img src=\"https://colab.research.google.com/assets/colab-badge.svg\" alt=\"Open In Colab\"/></a>"
      ]
    },
    {
      "cell_type": "code",
      "execution_count": null,
      "metadata": {
        "id": "ycTvulfh4c9v"
      },
      "outputs": [],
      "source": []
    },
    {
      "cell_type": "markdown",
      "source": [
        "### installing the java runtime on the colab"
      ],
      "metadata": {
        "id": "C2RYVXhIoC0t"
      }
    },
    {
      "cell_type": "code",
      "source": [
        "!sudo apt-get update\n",
        "!sudo apt-get install -y default-jdk \n",
        "!git clone https://github.com/heshida01/mrmd.git"
      ],
      "metadata": {
        "colab": {
          "base_uri": "https://localhost:8080/"
        },
        "id": "xxrhSfmaoAkc",
        "outputId": "dffcf9bc-4888-45cd-ea64-6f16274514bf"
      },
      "execution_count": null,
      "outputs": [
        {
          "output_type": "stream",
          "name": "stdout",
          "text": [
            "\r0% [Working]\r            \rHit:1 https://cloud.r-project.org/bin/linux/ubuntu bionic-cran40/ InRelease\n",
            "\r0% [Connecting to archive.ubuntu.com] [Connecting to security.ubuntu.com] [Wait\r0% [1 InRelease gpgv 3,626 B] [Connecting to archive.ubuntu.com (91.189.91.39)]\r                                                                               \rIgn:2 https://developer.download.nvidia.com/compute/machine-learning/repos/ubuntu1804/x86_64  InRelease\n",
            "\r0% [1 InRelease gpgv 3,626 B] [Connecting to archive.ubuntu.com (91.189.91.39)]\r                                                                               \rHit:3 https://developer.download.nvidia.com/compute/cuda/repos/ubuntu1804/x86_64  InRelease\n",
            "\r0% [1 InRelease gpgv 3,626 B] [Waiting for headers] [Waiting for headers] [Wait\r                                                                               \rHit:4 https://developer.download.nvidia.com/compute/machine-learning/repos/ubuntu1804/x86_64  Release\n",
            "Hit:5 http://archive.ubuntu.com/ubuntu bionic InRelease\n",
            "Hit:6 http://security.ubuntu.com/ubuntu bionic-security InRelease\n",
            "Hit:7 http://archive.ubuntu.com/ubuntu bionic-updates InRelease\n",
            "Hit:8 http://ppa.launchpad.net/c2d4u.team/c2d4u4.0+/ubuntu bionic InRelease\n",
            "Hit:9 http://archive.ubuntu.com/ubuntu bionic-backports InRelease\n",
            "Hit:10 http://ppa.launchpad.net/cran/libgit2/ubuntu bionic InRelease\n",
            "Hit:12 http://ppa.launchpad.net/deadsnakes/ppa/ubuntu bionic InRelease\n",
            "Hit:13 http://ppa.launchpad.net/graphics-drivers/ppa/ubuntu bionic InRelease\n",
            "Reading package lists... Done\n",
            "Reading package lists... Done\n",
            "Building dependency tree       \n",
            "Reading state information... Done\n",
            "default-jdk is already the newest version (2:1.11-68ubuntu1~18.04.1).\n",
            "The following package was automatically installed and is no longer required:\n",
            "  libnvidia-common-460\n",
            "Use 'sudo apt autoremove' to remove it.\n",
            "0 upgraded, 0 newly installed, 0 to remove and 12 not upgraded.\n",
            "fatal: destination path 'mrmd' already exists and is not an empty directory.\n"
          ]
        }
      ]
    },
    {
      "cell_type": "code",
      "source": [
        "!pip install csv2arff"
      ],
      "metadata": {
        "colab": {
          "base_uri": "https://localhost:8080/"
        },
        "id": "djExbpawqyXp",
        "outputId": "2f323766-fd96-4760-9ab2-34bd6966da59"
      },
      "execution_count": null,
      "outputs": [
        {
          "output_type": "stream",
          "name": "stdout",
          "text": [
            "Looking in indexes: https://pypi.org/simple, https://us-python.pkg.dev/colab-wheels/public/simple/\n",
            "Collecting csv2arff\n",
            "  Downloading csv2arff-2.0.tar.gz (16 kB)\n",
            "Requirement already satisfied: numpy in /usr/local/lib/python3.7/dist-packages (from csv2arff) (1.21.6)\n",
            "Building wheels for collected packages: csv2arff\n",
            "  Building wheel for csv2arff (setup.py) ... \u001b[?25l\u001b[?25hdone\n",
            "  Created wheel for csv2arff: filename=csv2arff-2.0-py3-none-any.whl size=17252 sha256=737bd4116effbffed32c7a215a72c6f18d1540f073bf6cb55b7568eb09f5834b\n",
            "  Stored in directory: /root/.cache/pip/wheels/e1/d9/93/908a6541f84dbfbb6df585613b96c8406e5e84896ef7968db1\n",
            "Successfully built csv2arff\n",
            "Installing collected packages: csv2arff\n",
            "Successfully installed csv2arff-2.0\n"
          ]
        }
      ]
    },
    {
      "cell_type": "code",
      "source": [
        "!csv2arff CNA-TMB-Chi2.csv CNA-TMB-Chi2.arff"
      ],
      "metadata": {
        "id": "sj1sDaKfr87c"
      },
      "execution_count": null,
      "outputs": []
    },
    {
      "cell_type": "code",
      "source": [
        "# replacing numeric with list for class TMB so that mrmd can work on it\n",
        "!grep TMB CNA-TMB-Chi2.arff\n",
        "!sed -i 's/TMB_CLASS numeric/TMB_CLASS {1,2}/' CNA-TMB-Chi2.arff\n",
        "!grep TMB CNA-TMB-Chi2.arff"
      ],
      "metadata": {
        "colab": {
          "base_uri": "https://localhost:8080/"
        },
        "id": "yQlMSb0l3Tue",
        "outputId": "8182544f-d10b-45c2-91e3-14fc6942c3f3"
      },
      "execution_count": null,
      "outputs": [
        {
          "output_type": "stream",
          "name": "stdout",
          "text": [
            "@relation CNA-TMB-Chi2\n",
            "@attribute TMB_CLASS numeric\n",
            "@relation CNA-TMB-Chi2\n",
            "@attribute TMB_CLASS (1, 2)\n"
          ]
        }
      ]
    },
    {
      "cell_type": "code",
      "source": [
        "!java -jar ./mrmd/mrmd.jar -i ./CNA-TMB-Reduced.arff -o ./CNA-TMB-MRMD.csv"
      ],
      "metadata": {
        "colab": {
          "base_uri": "https://localhost:8080/"
        },
        "id": "NS8gDfT4x4Pa",
        "outputId": "4c75a494-1c8a-4a03-c744-9ac93cd3cb7a"
      },
      "execution_count": null,
      "outputs": [
        {
          "output_type": "stream",
          "name": "stdout",
          "text": [
            "Initialization...\n",
            "Initialization over!!!\n",
            "Start to calculate Pearson's correlation coefficient...\n",
            "Calculating Pearson's correlation coefficient over!!!\n",
            "Start to calculate Euclidean Distance...\n",
            "Calculating Euclidean Distance over!!!\n",
            "MRMD over.\n",
            "Feature selction optimation begin\n",
            "model:rf\n",
            "feature num: 1 rate: 0.6274509803921569\n",
            "feature num: 2 rate: 0.6360294117647058\n",
            "feature num: 3 rate: 0.6360294117647058\n",
            "feature num: 4 rate: 0.6360294117647058\n",
            "feature num: 5 rate: 0.6348039215686274\n",
            "feature num: 6 rate: 0.6446078431372548\n",
            "feature num: 7 rate: 0.6433823529411764\n",
            "feature num: 8 rate: 0.6458333333333333\n",
            "feature num: 9 rate: 0.6458333333333333\n",
            "feature num: 10 rate: 0.6470588235294117\n",
            "feature num: 11 rate: 0.6495098039215687\n",
            "feature num: 12 rate: 0.6470588235294117\n",
            "feature num: 13 rate: 0.6519607843137255\n",
            "feature num: 14 rate: 0.6568627450980392\n",
            "feature num: 15 rate: 0.6629901960784313\n",
            "feature num: 16 rate: 0.6605392156862745\n",
            "feature num: 17 rate: 0.6629901960784313\n",
            "feature num: 18 rate: 0.6617647058823529\n",
            "feature num: 19 rate: 0.6593137254901961\n",
            "feature num: 20 rate: 0.6605392156862745\n",
            "feature num: 21 rate: 0.6617647058823529\n",
            "feature num: 22 rate: 0.6617647058823529\n",
            "feature num: 23 rate: 0.6580882352941176\n",
            "feature num: 24 rate: 0.6593137254901961\n",
            "feature num: 25 rate: 0.6764705882352942\n",
            "feature num: 26 rate: 0.678921568627451\n",
            "feature num: 27 rate: 0.6825980392156863\n",
            "feature num: 28 rate: 0.6740196078431373\n",
            "feature num: 29 rate: 0.6752450980392157\n",
            "feature num: 30 rate: 0.6825980392156863\n",
            "feature num: 31 rate: 0.6801470588235294\n",
            "feature num: 32 rate: 0.6801470588235294\n",
            "feature num: 33 rate: 0.6801470588235294\n",
            "feature num: 34 rate: 0.678921568627451\n",
            "feature num: 35 rate: 0.6850490196078431\n",
            "feature num: 36 rate: 0.6911764705882353\n",
            "feature num: 37 rate: 0.6887254901960784\n",
            "feature num: 38 rate: 0.6899509803921569\n",
            "feature num: 39 rate: 0.6899509803921569\n",
            "feature num: 40 rate: 0.6911764705882353\n",
            "feature num: 41 rate: 0.6985294117647058\n",
            "feature num: 42 rate: 0.6948529411764706\n",
            "feature num: 43 rate: 0.6899509803921569\n",
            "feature num: 44 rate: 0.6985294117647058\n",
            "feature num: 45 rate: 0.6936274509803921\n",
            "feature num: 46 rate: 0.6985294117647058\n",
            "feature num: 47 rate: 0.6899509803921569\n",
            "feature num: 48 rate: 0.696078431372549\n",
            "feature num: 49 rate: 0.6973039215686274\n",
            "feature num: 50 rate: 0.7095588235294117\n",
            "feature num: 51 rate: 0.7071078431372548\n",
            "feature num: 52 rate: 0.6985294117647058\n",
            "feature num: 53 rate: 0.7009803921568627\n",
            "feature num: 54 rate: 0.7058823529411764\n",
            "feature num: 55 rate: 0.7120098039215687\n",
            "feature num: 56 rate: 0.7144607843137255\n",
            "feature num: 57 rate: 0.7083333333333333\n",
            "feature num: 58 rate: 0.7144607843137255\n",
            "feature num: 59 rate: 0.7120098039215687\n",
            "feature num: 60 rate: 0.7181372549019608\n",
            "feature num: 61 rate: 0.7205882352941176\n",
            "feature num: 62 rate: 0.7107843137254901\n",
            "feature num: 63 rate: 0.7242647058823529\n",
            "feature num: 64 rate: 0.7279411764705883\n",
            "feature num: 65 rate: 0.7181372549019608\n",
            "feature num: 66 rate: 0.7254901960784313\n",
            "feature num: 67 rate: 0.7377450980392157\n",
            "feature num: 68 rate: 0.7218137254901961\n",
            "feature num: 69 rate: 0.7340686274509804\n",
            "feature num: 70 rate: 0.7340686274509804\n",
            "feature num: 71 rate: 0.7230392156862745\n",
            "feature num: 72 rate: 0.741421568627451\n",
            "feature num: 73 rate: 0.7267156862745099\n",
            "feature num: 74 rate: 0.7303921568627452\n",
            "feature num: 75 rate: 0.7303921568627452\n",
            "feature num: 76 rate: 0.7316176470588236\n",
            "feature num: 77 rate: 0.7218137254901961\n",
            "feature num: 78 rate: 0.732843137254902\n",
            "feature num: 79 rate: 0.7291666666666667\n",
            "feature num: 80 rate: 0.7267156862745099\n",
            "feature num: 81 rate: 0.7230392156862745\n",
            "feature num: 82 rate: 0.7242647058823529\n",
            "feature num: 83 rate: 0.7267156862745099\n",
            "feature num: 84 rate: 0.7267156862745099\n",
            "feature num: 85 rate: 0.7230392156862745\n",
            "feature num: 86 rate: 0.7205882352941176\n",
            "feature num: 87 rate: 0.7144607843137255\n",
            "feature num: 88 rate: 0.7267156862745099\n",
            "feature num: 89 rate: 0.7291666666666667\n",
            "feature num: 90 rate: 0.7242647058823529\n",
            "feature num: 91 rate: 0.7242647058823529\n",
            "feature num: 92 rate: 0.7242647058823529\n",
            "feature num: 93 rate: 0.7524509803921569\n",
            "feature num: 94 rate: 0.7463235294117647\n",
            "feature num: 95 rate: 0.7512254901960784\n",
            "feature num: 96 rate: 0.7830882352941176\n",
            "feature num: 97 rate: 0.7745098039215687\n",
            "feature num: 98 rate: 0.7659313725490196\n",
            "feature num: 99 rate: 0.7745098039215687\n",
            "feature num: 100 rate: 0.7818627450980392\n",
            "feature num: 101 rate: 0.7855392156862745\n",
            "feature num: 102 rate: 0.7904411764705882\n",
            "The best feature number: 102\n",
            "The best rate: 0.7904411764705882\n",
            "Feature selction optimation end,the best arff save out_15.arff\n"
          ]
        }
      ]
    },
    {
      "cell_type": "code",
      "source": [],
      "metadata": {
        "colab": {
          "base_uri": "https://localhost:8080/"
        },
        "id": "ArAMODo11rpM",
        "outputId": "6c42813c-80f5-4d60-d978-009dca20efe3"
      },
      "execution_count": null,
      "outputs": [
        {
          "output_type": "stream",
          "name": "stdout",
          "text": [
            "The number of selected features is: 102\r\n",
            "\r\n",
            "The index of selected features start from 0\r\n",
            "\r\n",
            "NO.\t\tFeaName\t\tScore\r\n",
            "\r\n",
            "1\t\tFea81\t\t1.0\r\n",
            "2\t\tFea85\t\t0.9804065161387214\r\n",
            "3\t\tFea32\t\t0.9766283592025893\r\n",
            "4\t\tFea86\t\t0.9766283592025893\r\n"
          ]
        }
      ]
    },
    {
      "cell_type": "code",
      "source": [],
      "metadata": {
        "id": "I89fN7bT28tB"
      },
      "execution_count": null,
      "outputs": []
    }
  ]
}