{
  "nbformat": 4,
  "nbformat_minor": 0,
  "metadata": {
    "colab": {
      "provenance": [],
      "collapsed_sections": [],
      "mount_file_id": "1G7Mdam3Ci9ATyoIwI0WWqSLDt0szUNPs",
      "authorship_tag": "ABX9TyM5p4X7+MXPrfjudakvjUeG",
      "include_colab_link": true
    },
    "kernelspec": {
      "name": "python3",
      "display_name": "Python 3"
    },
    "language_info": {
      "name": "python"
    }
  },
  "cells": [
    {
      "cell_type": "markdown",
      "metadata": {
        "id": "view-in-github",
        "colab_type": "text"
      },
      "source": [
        "<a href=\"https://colab.research.google.com/github/ibabedal/BLCA-analysis/blob/main/CNA_scaling_testing.ipynb\" target=\"_parent\"><img src=\"https://colab.research.google.com/assets/colab-badge.svg\" alt=\"Open In Colab\"/></a>"
      ]
    },
    {
      "cell_type": "markdown",
      "source": [
        "# importing needed libraries"
      ],
      "metadata": {
        "id": "xVpuVAm05a3w"
      }
    },
    {
      "cell_type": "code",
      "execution_count": 1,
      "metadata": {
        "id": "3g4Tcx534SQB"
      },
      "outputs": [],
      "source": [
        "import os\n",
        "import sys\n",
        "import time\n",
        "import psutil\n",
        "import pandas as pd\n",
        "import numpy  as np\n",
        "import concurrent.futures\n",
        "import datetime\n",
        "\n",
        "\n",
        "from sklearn.impute import SimpleImputer\n",
        "from sklearn.feature_selection import SelectKBest\n",
        "from sklearn.feature_selection import chi2"
      ]
    },
    {
      "cell_type": "markdown",
      "source": [
        "# Downloading data from github"
      ],
      "metadata": {
        "id": "sEQ9BykM5ezC"
      }
    },
    {
      "cell_type": "code",
      "source": [
        "!wget https://raw.githubusercontent.com/ibabedal/BLCA-analysis/main/processing-mrna-cna.tar.gz\n",
        "!tar zxf processing-mrna-cna.tar.gz"
      ],
      "metadata": {
        "colab": {
          "base_uri": "https://localhost:8080/"
        },
        "id": "cuFnxQTf5d1y",
        "outputId": "3502f4e1-c460-4839-e2f0-80ef8b20d240"
      },
      "execution_count": 2,
      "outputs": [
        {
          "output_type": "stream",
          "name": "stdout",
          "text": [
            "--2022-10-07 16:49:46--  https://raw.githubusercontent.com/ibabedal/BLCA-analysis/main/processing-mrna-cna.tar.gz\n",
            "Resolving raw.githubusercontent.com (raw.githubusercontent.com)... 185.199.110.133, 185.199.111.133, 185.199.108.133, ...\n",
            "Connecting to raw.githubusercontent.com (raw.githubusercontent.com)|185.199.110.133|:443... connected.\n",
            "HTTP request sent, awaiting response... 200 OK\n",
            "Length: 21932951 (21M) [application/octet-stream]\n",
            "Saving to: ‘processing-mrna-cna.tar.gz.2’\n",
            "\n",
            "processing-mrna-cna 100%[===================>]  20.92M  --.-KB/s    in 0.1s    \n",
            "\n",
            "2022-10-07 16:49:47 (157 MB/s) - ‘processing-mrna-cna.tar.gz.2’ saved [21932951/21932951]\n",
            "\n",
            "tar: Ignoring unknown extended header keyword 'LIBARCHIVE.xattr.com.apple.quarantine'\n",
            "tar: Ignoring unknown extended header keyword 'LIBARCHIVE.xattr.com.apple.macl'\n",
            "tar: Ignoring unknown extended header keyword 'LIBARCHIVE.xattr.com.apple.quarantine'\n",
            "tar: Ignoring unknown extended header keyword 'LIBARCHIVE.xattr.com.apple.macl'\n"
          ]
        }
      ]
    },
    {
      "cell_type": "markdown",
      "source": [
        "# Start CNA processing"
      ],
      "metadata": {
        "id": "MoNfH5Bp7nX4"
      }
    },
    {
      "cell_type": "code",
      "source": [
        "df_cna = pd.read_csv('./CNA-TMB.csv')\n",
        "df_cna.head()"
      ],
      "metadata": {
        "colab": {
          "base_uri": "https://localhost:8080/",
          "height": 438
        },
        "id": "1FhUxEZp6gfw",
        "outputId": "09ac41d9-2020-4931-f75b-0c77ac0019fb"
      },
      "execution_count": 3,
      "outputs": [
        {
          "output_type": "execute_result",
          "data": {
            "text/plain": [
              "         SAMPLE_ID  ACAP3  ACTRT2  AGRN  ANKRD65  ATAD3A  ATAD3B  ATAD3C  \\\n",
              "0  TCGA-2F-A9KO-01     -1      -1    -1       -1      -1      -1      -1   \n",
              "1  TCGA-2F-A9KP-01      2       2     2        2       2       2       2   \n",
              "2  TCGA-2F-A9KQ-01      0       0     0        0       0       0       0   \n",
              "3  TCGA-2F-A9KR-01      0       0     0        0       0       0       0   \n",
              "4  TCGA-2F-A9KT-01      0       0     0        0       0       0       0   \n",
              "\n",
              "   AURKAIP1  B3GALT6  ...  hsa-mir-361  hsa-mir-548m  hsa-mir-652  \\\n",
              "0        -1       -1  ...            0             0            0   \n",
              "1         2        2  ...            0             0            0   \n",
              "2         0        0  ...           -1            -1           -1   \n",
              "3         0        0  ...           -1            -1           -1   \n",
              "4         0        0  ...           -1            -1           -1   \n",
              "\n",
              "   hsa-mir-220a  hsa-mir-513c  hsa-mir-513b  hsa-mir-513a-1  hsa-mir-513a-2  \\\n",
              "0             0             0             0               0               0   \n",
              "1             0             0             0               0               0   \n",
              "2            -1            -1            -1              -1              -1   \n",
              "3            -1             0             0               0               0   \n",
              "4            -1            -1            -1              -1              -1   \n",
              "\n",
              "   hsa-mir-224  TMB_CLASS  \n",
              "0            0          2  \n",
              "1            0          1  \n",
              "2           -1          1  \n",
              "3           -1          2  \n",
              "4           -1          2  \n",
              "\n",
              "[5 rows x 25130 columns]"
            ],
            "text/html": [
              "\n",
              "  <div id=\"df-6a67f105-55d3-4077-80d0-c329810f8f95\">\n",
              "    <div class=\"colab-df-container\">\n",
              "      <div>\n",
              "<style scoped>\n",
              "    .dataframe tbody tr th:only-of-type {\n",
              "        vertical-align: middle;\n",
              "    }\n",
              "\n",
              "    .dataframe tbody tr th {\n",
              "        vertical-align: top;\n",
              "    }\n",
              "\n",
              "    .dataframe thead th {\n",
              "        text-align: right;\n",
              "    }\n",
              "</style>\n",
              "<table border=\"1\" class=\"dataframe\">\n",
              "  <thead>\n",
              "    <tr style=\"text-align: right;\">\n",
              "      <th></th>\n",
              "      <th>SAMPLE_ID</th>\n",
              "      <th>ACAP3</th>\n",
              "      <th>ACTRT2</th>\n",
              "      <th>AGRN</th>\n",
              "      <th>ANKRD65</th>\n",
              "      <th>ATAD3A</th>\n",
              "      <th>ATAD3B</th>\n",
              "      <th>ATAD3C</th>\n",
              "      <th>AURKAIP1</th>\n",
              "      <th>B3GALT6</th>\n",
              "      <th>...</th>\n",
              "      <th>hsa-mir-361</th>\n",
              "      <th>hsa-mir-548m</th>\n",
              "      <th>hsa-mir-652</th>\n",
              "      <th>hsa-mir-220a</th>\n",
              "      <th>hsa-mir-513c</th>\n",
              "      <th>hsa-mir-513b</th>\n",
              "      <th>hsa-mir-513a-1</th>\n",
              "      <th>hsa-mir-513a-2</th>\n",
              "      <th>hsa-mir-224</th>\n",
              "      <th>TMB_CLASS</th>\n",
              "    </tr>\n",
              "  </thead>\n",
              "  <tbody>\n",
              "    <tr>\n",
              "      <th>0</th>\n",
              "      <td>TCGA-2F-A9KO-01</td>\n",
              "      <td>-1</td>\n",
              "      <td>-1</td>\n",
              "      <td>-1</td>\n",
              "      <td>-1</td>\n",
              "      <td>-1</td>\n",
              "      <td>-1</td>\n",
              "      <td>-1</td>\n",
              "      <td>-1</td>\n",
              "      <td>-1</td>\n",
              "      <td>...</td>\n",
              "      <td>0</td>\n",
              "      <td>0</td>\n",
              "      <td>0</td>\n",
              "      <td>0</td>\n",
              "      <td>0</td>\n",
              "      <td>0</td>\n",
              "      <td>0</td>\n",
              "      <td>0</td>\n",
              "      <td>0</td>\n",
              "      <td>2</td>\n",
              "    </tr>\n",
              "    <tr>\n",
              "      <th>1</th>\n",
              "      <td>TCGA-2F-A9KP-01</td>\n",
              "      <td>2</td>\n",
              "      <td>2</td>\n",
              "      <td>2</td>\n",
              "      <td>2</td>\n",
              "      <td>2</td>\n",
              "      <td>2</td>\n",
              "      <td>2</td>\n",
              "      <td>2</td>\n",
              "      <td>2</td>\n",
              "      <td>...</td>\n",
              "      <td>0</td>\n",
              "      <td>0</td>\n",
              "      <td>0</td>\n",
              "      <td>0</td>\n",
              "      <td>0</td>\n",
              "      <td>0</td>\n",
              "      <td>0</td>\n",
              "      <td>0</td>\n",
              "      <td>0</td>\n",
              "      <td>1</td>\n",
              "    </tr>\n",
              "    <tr>\n",
              "      <th>2</th>\n",
              "      <td>TCGA-2F-A9KQ-01</td>\n",
              "      <td>0</td>\n",
              "      <td>0</td>\n",
              "      <td>0</td>\n",
              "      <td>0</td>\n",
              "      <td>0</td>\n",
              "      <td>0</td>\n",
              "      <td>0</td>\n",
              "      <td>0</td>\n",
              "      <td>0</td>\n",
              "      <td>...</td>\n",
              "      <td>-1</td>\n",
              "      <td>-1</td>\n",
              "      <td>-1</td>\n",
              "      <td>-1</td>\n",
              "      <td>-1</td>\n",
              "      <td>-1</td>\n",
              "      <td>-1</td>\n",
              "      <td>-1</td>\n",
              "      <td>-1</td>\n",
              "      <td>1</td>\n",
              "    </tr>\n",
              "    <tr>\n",
              "      <th>3</th>\n",
              "      <td>TCGA-2F-A9KR-01</td>\n",
              "      <td>0</td>\n",
              "      <td>0</td>\n",
              "      <td>0</td>\n",
              "      <td>0</td>\n",
              "      <td>0</td>\n",
              "      <td>0</td>\n",
              "      <td>0</td>\n",
              "      <td>0</td>\n",
              "      <td>0</td>\n",
              "      <td>...</td>\n",
              "      <td>-1</td>\n",
              "      <td>-1</td>\n",
              "      <td>-1</td>\n",
              "      <td>-1</td>\n",
              "      <td>0</td>\n",
              "      <td>0</td>\n",
              "      <td>0</td>\n",
              "      <td>0</td>\n",
              "      <td>-1</td>\n",
              "      <td>2</td>\n",
              "    </tr>\n",
              "    <tr>\n",
              "      <th>4</th>\n",
              "      <td>TCGA-2F-A9KT-01</td>\n",
              "      <td>0</td>\n",
              "      <td>0</td>\n",
              "      <td>0</td>\n",
              "      <td>0</td>\n",
              "      <td>0</td>\n",
              "      <td>0</td>\n",
              "      <td>0</td>\n",
              "      <td>0</td>\n",
              "      <td>0</td>\n",
              "      <td>...</td>\n",
              "      <td>-1</td>\n",
              "      <td>-1</td>\n",
              "      <td>-1</td>\n",
              "      <td>-1</td>\n",
              "      <td>-1</td>\n",
              "      <td>-1</td>\n",
              "      <td>-1</td>\n",
              "      <td>-1</td>\n",
              "      <td>-1</td>\n",
              "      <td>2</td>\n",
              "    </tr>\n",
              "  </tbody>\n",
              "</table>\n",
              "<p>5 rows × 25130 columns</p>\n",
              "</div>\n",
              "      <button class=\"colab-df-convert\" onclick=\"convertToInteractive('df-6a67f105-55d3-4077-80d0-c329810f8f95')\"\n",
              "              title=\"Convert this dataframe to an interactive table.\"\n",
              "              style=\"display:none;\">\n",
              "        \n",
              "  <svg xmlns=\"http://www.w3.org/2000/svg\" height=\"24px\"viewBox=\"0 0 24 24\"\n",
              "       width=\"24px\">\n",
              "    <path d=\"M0 0h24v24H0V0z\" fill=\"none\"/>\n",
              "    <path d=\"M18.56 5.44l.94 2.06.94-2.06 2.06-.94-2.06-.94-.94-2.06-.94 2.06-2.06.94zm-11 1L8.5 8.5l.94-2.06 2.06-.94-2.06-.94L8.5 2.5l-.94 2.06-2.06.94zm10 10l.94 2.06.94-2.06 2.06-.94-2.06-.94-.94-2.06-.94 2.06-2.06.94z\"/><path d=\"M17.41 7.96l-1.37-1.37c-.4-.4-.92-.59-1.43-.59-.52 0-1.04.2-1.43.59L10.3 9.45l-7.72 7.72c-.78.78-.78 2.05 0 2.83L4 21.41c.39.39.9.59 1.41.59.51 0 1.02-.2 1.41-.59l7.78-7.78 2.81-2.81c.8-.78.8-2.07 0-2.86zM5.41 20L4 18.59l7.72-7.72 1.47 1.35L5.41 20z\"/>\n",
              "  </svg>\n",
              "      </button>\n",
              "      \n",
              "  <style>\n",
              "    .colab-df-container {\n",
              "      display:flex;\n",
              "      flex-wrap:wrap;\n",
              "      gap: 12px;\n",
              "    }\n",
              "\n",
              "    .colab-df-convert {\n",
              "      background-color: #E8F0FE;\n",
              "      border: none;\n",
              "      border-radius: 50%;\n",
              "      cursor: pointer;\n",
              "      display: none;\n",
              "      fill: #1967D2;\n",
              "      height: 32px;\n",
              "      padding: 0 0 0 0;\n",
              "      width: 32px;\n",
              "    }\n",
              "\n",
              "    .colab-df-convert:hover {\n",
              "      background-color: #E2EBFA;\n",
              "      box-shadow: 0px 1px 2px rgba(60, 64, 67, 0.3), 0px 1px 3px 1px rgba(60, 64, 67, 0.15);\n",
              "      fill: #174EA6;\n",
              "    }\n",
              "\n",
              "    [theme=dark] .colab-df-convert {\n",
              "      background-color: #3B4455;\n",
              "      fill: #D2E3FC;\n",
              "    }\n",
              "\n",
              "    [theme=dark] .colab-df-convert:hover {\n",
              "      background-color: #434B5C;\n",
              "      box-shadow: 0px 1px 3px 1px rgba(0, 0, 0, 0.15);\n",
              "      filter: drop-shadow(0px 1px 2px rgba(0, 0, 0, 0.3));\n",
              "      fill: #FFFFFF;\n",
              "    }\n",
              "  </style>\n",
              "\n",
              "      <script>\n",
              "        const buttonEl =\n",
              "          document.querySelector('#df-6a67f105-55d3-4077-80d0-c329810f8f95 button.colab-df-convert');\n",
              "        buttonEl.style.display =\n",
              "          google.colab.kernel.accessAllowed ? 'block' : 'none';\n",
              "\n",
              "        async function convertToInteractive(key) {\n",
              "          const element = document.querySelector('#df-6a67f105-55d3-4077-80d0-c329810f8f95');\n",
              "          const dataTable =\n",
              "            await google.colab.kernel.invokeFunction('convertToInteractive',\n",
              "                                                     [key], {});\n",
              "          if (!dataTable) return;\n",
              "\n",
              "          const docLinkHtml = 'Like what you see? Visit the ' +\n",
              "            '<a target=\"_blank\" href=https://colab.research.google.com/notebooks/data_table.ipynb>data table notebook</a>'\n",
              "            + ' to learn more about interactive tables.';\n",
              "          element.innerHTML = '';\n",
              "          dataTable['output_type'] = 'display_data';\n",
              "          await google.colab.output.renderOutput(dataTable, element);\n",
              "          const docLink = document.createElement('div');\n",
              "          docLink.innerHTML = docLinkHtml;\n",
              "          element.appendChild(docLink);\n",
              "        }\n",
              "      </script>\n",
              "    </div>\n",
              "  </div>\n",
              "  "
            ]
          },
          "metadata": {},
          "execution_count": 3
        }
      ]
    },
    {
      "cell_type": "code",
      "source": [
        "x = df_cna.drop(['SAMPLE_ID', 'TMB_CLASS'], axis=1)\n",
        "x.head()"
      ],
      "metadata": {
        "colab": {
          "base_uri": "https://localhost:8080/",
          "height": 352
        },
        "id": "rC4XgfQ067Ye",
        "outputId": "8aae650e-bb17-404e-d3bd-35da45ae7e45"
      },
      "execution_count": 4,
      "outputs": [
        {
          "output_type": "execute_result",
          "data": {
            "text/plain": [
              "   ACAP3  ACTRT2  AGRN  ANKRD65  ATAD3A  ATAD3B  ATAD3C  AURKAIP1  B3GALT6  \\\n",
              "0     -1      -1    -1       -1      -1      -1      -1        -1       -1   \n",
              "1      2       2     2        2       2       2       2         2        2   \n",
              "2      0       0     0        0       0       0       0         0        0   \n",
              "3      0       0     0        0       0       0       0         0        0   \n",
              "4      0       0     0        0       0       0       0         0        0   \n",
              "\n",
              "   C1orf159  ...  hsa-mir-1321  hsa-mir-361  hsa-mir-548m  hsa-mir-652  \\\n",
              "0        -1  ...             0            0             0            0   \n",
              "1         2  ...             0            0             0            0   \n",
              "2         0  ...            -1           -1            -1           -1   \n",
              "3         0  ...            -1           -1            -1           -1   \n",
              "4         0  ...            -1           -1            -1           -1   \n",
              "\n",
              "   hsa-mir-220a  hsa-mir-513c  hsa-mir-513b  hsa-mir-513a-1  hsa-mir-513a-2  \\\n",
              "0             0             0             0               0               0   \n",
              "1             0             0             0               0               0   \n",
              "2            -1            -1            -1              -1              -1   \n",
              "3            -1             0             0               0               0   \n",
              "4            -1            -1            -1              -1              -1   \n",
              "\n",
              "   hsa-mir-224  \n",
              "0            0  \n",
              "1            0  \n",
              "2           -1  \n",
              "3           -1  \n",
              "4           -1  \n",
              "\n",
              "[5 rows x 25128 columns]"
            ],
            "text/html": [
              "\n",
              "  <div id=\"df-5e8703ee-4bef-49e6-bae6-15643c5c168e\">\n",
              "    <div class=\"colab-df-container\">\n",
              "      <div>\n",
              "<style scoped>\n",
              "    .dataframe tbody tr th:only-of-type {\n",
              "        vertical-align: middle;\n",
              "    }\n",
              "\n",
              "    .dataframe tbody tr th {\n",
              "        vertical-align: top;\n",
              "    }\n",
              "\n",
              "    .dataframe thead th {\n",
              "        text-align: right;\n",
              "    }\n",
              "</style>\n",
              "<table border=\"1\" class=\"dataframe\">\n",
              "  <thead>\n",
              "    <tr style=\"text-align: right;\">\n",
              "      <th></th>\n",
              "      <th>ACAP3</th>\n",
              "      <th>ACTRT2</th>\n",
              "      <th>AGRN</th>\n",
              "      <th>ANKRD65</th>\n",
              "      <th>ATAD3A</th>\n",
              "      <th>ATAD3B</th>\n",
              "      <th>ATAD3C</th>\n",
              "      <th>AURKAIP1</th>\n",
              "      <th>B3GALT6</th>\n",
              "      <th>C1orf159</th>\n",
              "      <th>...</th>\n",
              "      <th>hsa-mir-1321</th>\n",
              "      <th>hsa-mir-361</th>\n",
              "      <th>hsa-mir-548m</th>\n",
              "      <th>hsa-mir-652</th>\n",
              "      <th>hsa-mir-220a</th>\n",
              "      <th>hsa-mir-513c</th>\n",
              "      <th>hsa-mir-513b</th>\n",
              "      <th>hsa-mir-513a-1</th>\n",
              "      <th>hsa-mir-513a-2</th>\n",
              "      <th>hsa-mir-224</th>\n",
              "    </tr>\n",
              "  </thead>\n",
              "  <tbody>\n",
              "    <tr>\n",
              "      <th>0</th>\n",
              "      <td>-1</td>\n",
              "      <td>-1</td>\n",
              "      <td>-1</td>\n",
              "      <td>-1</td>\n",
              "      <td>-1</td>\n",
              "      <td>-1</td>\n",
              "      <td>-1</td>\n",
              "      <td>-1</td>\n",
              "      <td>-1</td>\n",
              "      <td>-1</td>\n",
              "      <td>...</td>\n",
              "      <td>0</td>\n",
              "      <td>0</td>\n",
              "      <td>0</td>\n",
              "      <td>0</td>\n",
              "      <td>0</td>\n",
              "      <td>0</td>\n",
              "      <td>0</td>\n",
              "      <td>0</td>\n",
              "      <td>0</td>\n",
              "      <td>0</td>\n",
              "    </tr>\n",
              "    <tr>\n",
              "      <th>1</th>\n",
              "      <td>2</td>\n",
              "      <td>2</td>\n",
              "      <td>2</td>\n",
              "      <td>2</td>\n",
              "      <td>2</td>\n",
              "      <td>2</td>\n",
              "      <td>2</td>\n",
              "      <td>2</td>\n",
              "      <td>2</td>\n",
              "      <td>2</td>\n",
              "      <td>...</td>\n",
              "      <td>0</td>\n",
              "      <td>0</td>\n",
              "      <td>0</td>\n",
              "      <td>0</td>\n",
              "      <td>0</td>\n",
              "      <td>0</td>\n",
              "      <td>0</td>\n",
              "      <td>0</td>\n",
              "      <td>0</td>\n",
              "      <td>0</td>\n",
              "    </tr>\n",
              "    <tr>\n",
              "      <th>2</th>\n",
              "      <td>0</td>\n",
              "      <td>0</td>\n",
              "      <td>0</td>\n",
              "      <td>0</td>\n",
              "      <td>0</td>\n",
              "      <td>0</td>\n",
              "      <td>0</td>\n",
              "      <td>0</td>\n",
              "      <td>0</td>\n",
              "      <td>0</td>\n",
              "      <td>...</td>\n",
              "      <td>-1</td>\n",
              "      <td>-1</td>\n",
              "      <td>-1</td>\n",
              "      <td>-1</td>\n",
              "      <td>-1</td>\n",
              "      <td>-1</td>\n",
              "      <td>-1</td>\n",
              "      <td>-1</td>\n",
              "      <td>-1</td>\n",
              "      <td>-1</td>\n",
              "    </tr>\n",
              "    <tr>\n",
              "      <th>3</th>\n",
              "      <td>0</td>\n",
              "      <td>0</td>\n",
              "      <td>0</td>\n",
              "      <td>0</td>\n",
              "      <td>0</td>\n",
              "      <td>0</td>\n",
              "      <td>0</td>\n",
              "      <td>0</td>\n",
              "      <td>0</td>\n",
              "      <td>0</td>\n",
              "      <td>...</td>\n",
              "      <td>-1</td>\n",
              "      <td>-1</td>\n",
              "      <td>-1</td>\n",
              "      <td>-1</td>\n",
              "      <td>-1</td>\n",
              "      <td>0</td>\n",
              "      <td>0</td>\n",
              "      <td>0</td>\n",
              "      <td>0</td>\n",
              "      <td>-1</td>\n",
              "    </tr>\n",
              "    <tr>\n",
              "      <th>4</th>\n",
              "      <td>0</td>\n",
              "      <td>0</td>\n",
              "      <td>0</td>\n",
              "      <td>0</td>\n",
              "      <td>0</td>\n",
              "      <td>0</td>\n",
              "      <td>0</td>\n",
              "      <td>0</td>\n",
              "      <td>0</td>\n",
              "      <td>0</td>\n",
              "      <td>...</td>\n",
              "      <td>-1</td>\n",
              "      <td>-1</td>\n",
              "      <td>-1</td>\n",
              "      <td>-1</td>\n",
              "      <td>-1</td>\n",
              "      <td>-1</td>\n",
              "      <td>-1</td>\n",
              "      <td>-1</td>\n",
              "      <td>-1</td>\n",
              "      <td>-1</td>\n",
              "    </tr>\n",
              "  </tbody>\n",
              "</table>\n",
              "<p>5 rows × 25128 columns</p>\n",
              "</div>\n",
              "      <button class=\"colab-df-convert\" onclick=\"convertToInteractive('df-5e8703ee-4bef-49e6-bae6-15643c5c168e')\"\n",
              "              title=\"Convert this dataframe to an interactive table.\"\n",
              "              style=\"display:none;\">\n",
              "        \n",
              "  <svg xmlns=\"http://www.w3.org/2000/svg\" height=\"24px\"viewBox=\"0 0 24 24\"\n",
              "       width=\"24px\">\n",
              "    <path d=\"M0 0h24v24H0V0z\" fill=\"none\"/>\n",
              "    <path d=\"M18.56 5.44l.94 2.06.94-2.06 2.06-.94-2.06-.94-.94-2.06-.94 2.06-2.06.94zm-11 1L8.5 8.5l.94-2.06 2.06-.94-2.06-.94L8.5 2.5l-.94 2.06-2.06.94zm10 10l.94 2.06.94-2.06 2.06-.94-2.06-.94-.94-2.06-.94 2.06-2.06.94z\"/><path d=\"M17.41 7.96l-1.37-1.37c-.4-.4-.92-.59-1.43-.59-.52 0-1.04.2-1.43.59L10.3 9.45l-7.72 7.72c-.78.78-.78 2.05 0 2.83L4 21.41c.39.39.9.59 1.41.59.51 0 1.02-.2 1.41-.59l7.78-7.78 2.81-2.81c.8-.78.8-2.07 0-2.86zM5.41 20L4 18.59l7.72-7.72 1.47 1.35L5.41 20z\"/>\n",
              "  </svg>\n",
              "      </button>\n",
              "      \n",
              "  <style>\n",
              "    .colab-df-container {\n",
              "      display:flex;\n",
              "      flex-wrap:wrap;\n",
              "      gap: 12px;\n",
              "    }\n",
              "\n",
              "    .colab-df-convert {\n",
              "      background-color: #E8F0FE;\n",
              "      border: none;\n",
              "      border-radius: 50%;\n",
              "      cursor: pointer;\n",
              "      display: none;\n",
              "      fill: #1967D2;\n",
              "      height: 32px;\n",
              "      padding: 0 0 0 0;\n",
              "      width: 32px;\n",
              "    }\n",
              "\n",
              "    .colab-df-convert:hover {\n",
              "      background-color: #E2EBFA;\n",
              "      box-shadow: 0px 1px 2px rgba(60, 64, 67, 0.3), 0px 1px 3px 1px rgba(60, 64, 67, 0.15);\n",
              "      fill: #174EA6;\n",
              "    }\n",
              "\n",
              "    [theme=dark] .colab-df-convert {\n",
              "      background-color: #3B4455;\n",
              "      fill: #D2E3FC;\n",
              "    }\n",
              "\n",
              "    [theme=dark] .colab-df-convert:hover {\n",
              "      background-color: #434B5C;\n",
              "      box-shadow: 0px 1px 3px 1px rgba(0, 0, 0, 0.15);\n",
              "      filter: drop-shadow(0px 1px 2px rgba(0, 0, 0, 0.3));\n",
              "      fill: #FFFFFF;\n",
              "    }\n",
              "  </style>\n",
              "\n",
              "      <script>\n",
              "        const buttonEl =\n",
              "          document.querySelector('#df-5e8703ee-4bef-49e6-bae6-15643c5c168e button.colab-df-convert');\n",
              "        buttonEl.style.display =\n",
              "          google.colab.kernel.accessAllowed ? 'block' : 'none';\n",
              "\n",
              "        async function convertToInteractive(key) {\n",
              "          const element = document.querySelector('#df-5e8703ee-4bef-49e6-bae6-15643c5c168e');\n",
              "          const dataTable =\n",
              "            await google.colab.kernel.invokeFunction('convertToInteractive',\n",
              "                                                     [key], {});\n",
              "          if (!dataTable) return;\n",
              "\n",
              "          const docLinkHtml = 'Like what you see? Visit the ' +\n",
              "            '<a target=\"_blank\" href=https://colab.research.google.com/notebooks/data_table.ipynb>data table notebook</a>'\n",
              "            + ' to learn more about interactive tables.';\n",
              "          element.innerHTML = '';\n",
              "          dataTable['output_type'] = 'display_data';\n",
              "          await google.colab.output.renderOutput(dataTable, element);\n",
              "          const docLink = document.createElement('div');\n",
              "          docLink.innerHTML = docLinkHtml;\n",
              "          element.appendChild(docLink);\n",
              "        }\n",
              "      </script>\n",
              "    </div>\n",
              "  </div>\n",
              "  "
            ]
          },
          "metadata": {},
          "execution_count": 4
        }
      ]
    },
    {
      "cell_type": "code",
      "source": [
        "y = df_cna[['TMB_CLASS']]\n",
        "y.head()"
      ],
      "metadata": {
        "colab": {
          "base_uri": "https://localhost:8080/",
          "height": 206
        },
        "id": "mRzo4XhtGBFZ",
        "outputId": "91e9c11f-4cbf-4fda-ccd1-f30c64afddac"
      },
      "execution_count": 5,
      "outputs": [
        {
          "output_type": "execute_result",
          "data": {
            "text/plain": [
              "   TMB_CLASS\n",
              "0          2\n",
              "1          1\n",
              "2          1\n",
              "3          2\n",
              "4          2"
            ],
            "text/html": [
              "\n",
              "  <div id=\"df-e96e6383-87a7-438b-b674-a8359a364d0b\">\n",
              "    <div class=\"colab-df-container\">\n",
              "      <div>\n",
              "<style scoped>\n",
              "    .dataframe tbody tr th:only-of-type {\n",
              "        vertical-align: middle;\n",
              "    }\n",
              "\n",
              "    .dataframe tbody tr th {\n",
              "        vertical-align: top;\n",
              "    }\n",
              "\n",
              "    .dataframe thead th {\n",
              "        text-align: right;\n",
              "    }\n",
              "</style>\n",
              "<table border=\"1\" class=\"dataframe\">\n",
              "  <thead>\n",
              "    <tr style=\"text-align: right;\">\n",
              "      <th></th>\n",
              "      <th>TMB_CLASS</th>\n",
              "    </tr>\n",
              "  </thead>\n",
              "  <tbody>\n",
              "    <tr>\n",
              "      <th>0</th>\n",
              "      <td>2</td>\n",
              "    </tr>\n",
              "    <tr>\n",
              "      <th>1</th>\n",
              "      <td>1</td>\n",
              "    </tr>\n",
              "    <tr>\n",
              "      <th>2</th>\n",
              "      <td>1</td>\n",
              "    </tr>\n",
              "    <tr>\n",
              "      <th>3</th>\n",
              "      <td>2</td>\n",
              "    </tr>\n",
              "    <tr>\n",
              "      <th>4</th>\n",
              "      <td>2</td>\n",
              "    </tr>\n",
              "  </tbody>\n",
              "</table>\n",
              "</div>\n",
              "      <button class=\"colab-df-convert\" onclick=\"convertToInteractive('df-e96e6383-87a7-438b-b674-a8359a364d0b')\"\n",
              "              title=\"Convert this dataframe to an interactive table.\"\n",
              "              style=\"display:none;\">\n",
              "        \n",
              "  <svg xmlns=\"http://www.w3.org/2000/svg\" height=\"24px\"viewBox=\"0 0 24 24\"\n",
              "       width=\"24px\">\n",
              "    <path d=\"M0 0h24v24H0V0z\" fill=\"none\"/>\n",
              "    <path d=\"M18.56 5.44l.94 2.06.94-2.06 2.06-.94-2.06-.94-.94-2.06-.94 2.06-2.06.94zm-11 1L8.5 8.5l.94-2.06 2.06-.94-2.06-.94L8.5 2.5l-.94 2.06-2.06.94zm10 10l.94 2.06.94-2.06 2.06-.94-2.06-.94-.94-2.06-.94 2.06-2.06.94z\"/><path d=\"M17.41 7.96l-1.37-1.37c-.4-.4-.92-.59-1.43-.59-.52 0-1.04.2-1.43.59L10.3 9.45l-7.72 7.72c-.78.78-.78 2.05 0 2.83L4 21.41c.39.39.9.59 1.41.59.51 0 1.02-.2 1.41-.59l7.78-7.78 2.81-2.81c.8-.78.8-2.07 0-2.86zM5.41 20L4 18.59l7.72-7.72 1.47 1.35L5.41 20z\"/>\n",
              "  </svg>\n",
              "      </button>\n",
              "      \n",
              "  <style>\n",
              "    .colab-df-container {\n",
              "      display:flex;\n",
              "      flex-wrap:wrap;\n",
              "      gap: 12px;\n",
              "    }\n",
              "\n",
              "    .colab-df-convert {\n",
              "      background-color: #E8F0FE;\n",
              "      border: none;\n",
              "      border-radius: 50%;\n",
              "      cursor: pointer;\n",
              "      display: none;\n",
              "      fill: #1967D2;\n",
              "      height: 32px;\n",
              "      padding: 0 0 0 0;\n",
              "      width: 32px;\n",
              "    }\n",
              "\n",
              "    .colab-df-convert:hover {\n",
              "      background-color: #E2EBFA;\n",
              "      box-shadow: 0px 1px 2px rgba(60, 64, 67, 0.3), 0px 1px 3px 1px rgba(60, 64, 67, 0.15);\n",
              "      fill: #174EA6;\n",
              "    }\n",
              "\n",
              "    [theme=dark] .colab-df-convert {\n",
              "      background-color: #3B4455;\n",
              "      fill: #D2E3FC;\n",
              "    }\n",
              "\n",
              "    [theme=dark] .colab-df-convert:hover {\n",
              "      background-color: #434B5C;\n",
              "      box-shadow: 0px 1px 3px 1px rgba(0, 0, 0, 0.15);\n",
              "      filter: drop-shadow(0px 1px 2px rgba(0, 0, 0, 0.3));\n",
              "      fill: #FFFFFF;\n",
              "    }\n",
              "  </style>\n",
              "\n",
              "      <script>\n",
              "        const buttonEl =\n",
              "          document.querySelector('#df-e96e6383-87a7-438b-b674-a8359a364d0b button.colab-df-convert');\n",
              "        buttonEl.style.display =\n",
              "          google.colab.kernel.accessAllowed ? 'block' : 'none';\n",
              "\n",
              "        async function convertToInteractive(key) {\n",
              "          const element = document.querySelector('#df-e96e6383-87a7-438b-b674-a8359a364d0b');\n",
              "          const dataTable =\n",
              "            await google.colab.kernel.invokeFunction('convertToInteractive',\n",
              "                                                     [key], {});\n",
              "          if (!dataTable) return;\n",
              "\n",
              "          const docLinkHtml = 'Like what you see? Visit the ' +\n",
              "            '<a target=\"_blank\" href=https://colab.research.google.com/notebooks/data_table.ipynb>data table notebook</a>'\n",
              "            + ' to learn more about interactive tables.';\n",
              "          element.innerHTML = '';\n",
              "          dataTable['output_type'] = 'display_data';\n",
              "          await google.colab.output.renderOutput(dataTable, element);\n",
              "          const docLink = document.createElement('div');\n",
              "          docLink.innerHTML = docLinkHtml;\n",
              "          element.appendChild(docLink);\n",
              "        }\n",
              "      </script>\n",
              "    </div>\n",
              "  </div>\n",
              "  "
            ]
          },
          "metadata": {},
          "execution_count": 5
        }
      ]
    },
    {
      "cell_type": "markdown",
      "source": [
        "### Doing shifting and normalization"
      ],
      "metadata": {
        "id": "5dgTWZ0FF0F5"
      }
    },
    {
      "cell_type": "code",
      "source": [
        "\n",
        "\n",
        "def do_something(x):\n",
        "    '''\n",
        "    do stuff\n",
        "    '''\n",
        "    pid  = os.getpid()\n",
        "    ppid = os.getppid()\n",
        "    start = time.time()\n",
        "    print(\"PPID %s->%s Started\"%(ppid,pid))\n",
        "    #df['diff'] = datetime.datetime.now() - pd.to_datetime(df['Order Date'])\n",
        "    for i in x.columns:\n",
        "      x[i] = ((x[i] - x[i].min()) + 0.1)\n",
        "    stop  = time.time()\n",
        "    completed_in  = round(stop - start,2)\n",
        "    return(x)\n"
      ],
      "metadata": {
        "id": "Q8AEQNEK8cWS"
      },
      "execution_count": 6,
      "outputs": []
    },
    {
      "cell_type": "code",
      "source": [
        "## parallel execution , credit to https://betterprogramming.pub/pandas-how-to-process-a-dataframe-in-parallel-make-pandas-lightning-fast-669978cf5356\n",
        "\n",
        "logical    = False\n",
        "df_results = []\n",
        "num_procs  = psutil.cpu_count(logical=logical)\n",
        "#if len(sys.argv) > 1:\n",
        "#    num_procs = int(sys.argv[1])\n",
        "\n",
        "big_dataframe = x.copy()\n",
        "splitted_df = np.array_split(big_dataframe, num_procs)\n",
        "start = time.time()\n",
        "with concurrent.futures.ProcessPoolExecutor(max_workers=num_procs) as executor:\n",
        "    results = [ executor.submit(do_something, x=df) for df in splitted_df ]\n",
        "    for result in concurrent.futures.as_completed(results):\n",
        "        try:\n",
        "            df_results.append(result.result())\n",
        "        except Exception as ex:\n",
        "            print(str(ex))\n",
        "            pass\n",
        "end = time.time()\n",
        "print(\"-------------------------------------------\")\n",
        "print(\"PPID %s Completed in %s\"%(os.getpid(), round(end-start,2)))\n",
        "df_results = pd.concat(df_results)"
      ],
      "metadata": {
        "colab": {
          "base_uri": "https://localhost:8080/",
          "height": 407
        },
        "id": "23FkeXIN9mTl",
        "outputId": "2628fd38-cd20-4619-9371-153718436aac"
      },
      "execution_count": 7,
      "outputs": [
        {
          "output_type": "stream",
          "name": "stdout",
          "text": [
            "PPID 1063->1118 Started\n"
          ]
        },
        {
          "output_type": "error",
          "ename": "KeyboardInterrupt",
          "evalue": "ignored",
          "traceback": [
            "\u001b[0;31m---------------------------------------------------------------------------\u001b[0m",
            "\u001b[0;31mKeyboardInterrupt\u001b[0m                         Traceback (most recent call last)",
            "\u001b[0;32m<ipython-input-7-7ed345de82f8>\u001b[0m in \u001b[0;36m<module>\u001b[0;34m\u001b[0m\n\u001b[1;32m     12\u001b[0m \u001b[0;32mwith\u001b[0m \u001b[0mconcurrent\u001b[0m\u001b[0;34m.\u001b[0m\u001b[0mfutures\u001b[0m\u001b[0;34m.\u001b[0m\u001b[0mProcessPoolExecutor\u001b[0m\u001b[0;34m(\u001b[0m\u001b[0mmax_workers\u001b[0m\u001b[0;34m=\u001b[0m\u001b[0mnum_procs\u001b[0m\u001b[0;34m)\u001b[0m \u001b[0;32mas\u001b[0m \u001b[0mexecutor\u001b[0m\u001b[0;34m:\u001b[0m\u001b[0;34m\u001b[0m\u001b[0;34m\u001b[0m\u001b[0m\n\u001b[1;32m     13\u001b[0m     \u001b[0mresults\u001b[0m \u001b[0;34m=\u001b[0m \u001b[0;34m[\u001b[0m \u001b[0mexecutor\u001b[0m\u001b[0;34m.\u001b[0m\u001b[0msubmit\u001b[0m\u001b[0;34m(\u001b[0m\u001b[0mdo_something\u001b[0m\u001b[0;34m,\u001b[0m \u001b[0mx\u001b[0m\u001b[0;34m=\u001b[0m\u001b[0mdf\u001b[0m\u001b[0;34m)\u001b[0m \u001b[0;32mfor\u001b[0m \u001b[0mdf\u001b[0m \u001b[0;32min\u001b[0m \u001b[0msplitted_df\u001b[0m \u001b[0;34m]\u001b[0m\u001b[0;34m\u001b[0m\u001b[0;34m\u001b[0m\u001b[0m\n\u001b[0;32m---> 14\u001b[0;31m     \u001b[0;32mfor\u001b[0m \u001b[0mresult\u001b[0m \u001b[0;32min\u001b[0m \u001b[0mconcurrent\u001b[0m\u001b[0;34m.\u001b[0m\u001b[0mfutures\u001b[0m\u001b[0;34m.\u001b[0m\u001b[0mas_completed\u001b[0m\u001b[0;34m(\u001b[0m\u001b[0mresults\u001b[0m\u001b[0;34m)\u001b[0m\u001b[0;34m:\u001b[0m\u001b[0;34m\u001b[0m\u001b[0;34m\u001b[0m\u001b[0m\n\u001b[0m\u001b[1;32m     15\u001b[0m         \u001b[0;32mtry\u001b[0m\u001b[0;34m:\u001b[0m\u001b[0;34m\u001b[0m\u001b[0;34m\u001b[0m\u001b[0m\n\u001b[1;32m     16\u001b[0m             \u001b[0mdf_results\u001b[0m\u001b[0;34m.\u001b[0m\u001b[0mappend\u001b[0m\u001b[0;34m(\u001b[0m\u001b[0mresult\u001b[0m\u001b[0;34m.\u001b[0m\u001b[0mresult\u001b[0m\u001b[0;34m(\u001b[0m\u001b[0;34m)\u001b[0m\u001b[0;34m)\u001b[0m\u001b[0;34m\u001b[0m\u001b[0;34m\u001b[0m\u001b[0m\n",
            "\u001b[0;32m/usr/lib/python3.7/concurrent/futures/_base.py\u001b[0m in \u001b[0;36mas_completed\u001b[0;34m(fs, timeout)\u001b[0m\n\u001b[1;32m    238\u001b[0m                             len(pending), total_futures))\n\u001b[1;32m    239\u001b[0m \u001b[0;34m\u001b[0m\u001b[0m\n\u001b[0;32m--> 240\u001b[0;31m             \u001b[0mwaiter\u001b[0m\u001b[0;34m.\u001b[0m\u001b[0mevent\u001b[0m\u001b[0;34m.\u001b[0m\u001b[0mwait\u001b[0m\u001b[0;34m(\u001b[0m\u001b[0mwait_timeout\u001b[0m\u001b[0;34m)\u001b[0m\u001b[0;34m\u001b[0m\u001b[0;34m\u001b[0m\u001b[0m\n\u001b[0m\u001b[1;32m    241\u001b[0m \u001b[0;34m\u001b[0m\u001b[0m\n\u001b[1;32m    242\u001b[0m             \u001b[0;32mwith\u001b[0m \u001b[0mwaiter\u001b[0m\u001b[0;34m.\u001b[0m\u001b[0mlock\u001b[0m\u001b[0;34m:\u001b[0m\u001b[0;34m\u001b[0m\u001b[0;34m\u001b[0m\u001b[0m\n",
            "\u001b[0;32m/usr/lib/python3.7/threading.py\u001b[0m in \u001b[0;36mwait\u001b[0;34m(self, timeout)\u001b[0m\n\u001b[1;32m    550\u001b[0m             \u001b[0msignaled\u001b[0m \u001b[0;34m=\u001b[0m \u001b[0mself\u001b[0m\u001b[0;34m.\u001b[0m\u001b[0m_flag\u001b[0m\u001b[0;34m\u001b[0m\u001b[0;34m\u001b[0m\u001b[0m\n\u001b[1;32m    551\u001b[0m             \u001b[0;32mif\u001b[0m \u001b[0;32mnot\u001b[0m \u001b[0msignaled\u001b[0m\u001b[0;34m:\u001b[0m\u001b[0;34m\u001b[0m\u001b[0;34m\u001b[0m\u001b[0m\n\u001b[0;32m--> 552\u001b[0;31m                 \u001b[0msignaled\u001b[0m \u001b[0;34m=\u001b[0m \u001b[0mself\u001b[0m\u001b[0;34m.\u001b[0m\u001b[0m_cond\u001b[0m\u001b[0;34m.\u001b[0m\u001b[0mwait\u001b[0m\u001b[0;34m(\u001b[0m\u001b[0mtimeout\u001b[0m\u001b[0;34m)\u001b[0m\u001b[0;34m\u001b[0m\u001b[0;34m\u001b[0m\u001b[0m\n\u001b[0m\u001b[1;32m    553\u001b[0m             \u001b[0;32mreturn\u001b[0m \u001b[0msignaled\u001b[0m\u001b[0;34m\u001b[0m\u001b[0;34m\u001b[0m\u001b[0m\n\u001b[1;32m    554\u001b[0m \u001b[0;34m\u001b[0m\u001b[0m\n",
            "\u001b[0;32m/usr/lib/python3.7/threading.py\u001b[0m in \u001b[0;36mwait\u001b[0;34m(self, timeout)\u001b[0m\n\u001b[1;32m    294\u001b[0m         \u001b[0;32mtry\u001b[0m\u001b[0;34m:\u001b[0m    \u001b[0;31m# restore state no matter what (e.g., KeyboardInterrupt)\u001b[0m\u001b[0;34m\u001b[0m\u001b[0;34m\u001b[0m\u001b[0m\n\u001b[1;32m    295\u001b[0m             \u001b[0;32mif\u001b[0m \u001b[0mtimeout\u001b[0m \u001b[0;32mis\u001b[0m \u001b[0;32mNone\u001b[0m\u001b[0;34m:\u001b[0m\u001b[0;34m\u001b[0m\u001b[0;34m\u001b[0m\u001b[0m\n\u001b[0;32m--> 296\u001b[0;31m                 \u001b[0mwaiter\u001b[0m\u001b[0;34m.\u001b[0m\u001b[0macquire\u001b[0m\u001b[0;34m(\u001b[0m\u001b[0;34m)\u001b[0m\u001b[0;34m\u001b[0m\u001b[0;34m\u001b[0m\u001b[0m\n\u001b[0m\u001b[1;32m    297\u001b[0m                 \u001b[0mgotit\u001b[0m \u001b[0;34m=\u001b[0m \u001b[0;32mTrue\u001b[0m\u001b[0;34m\u001b[0m\u001b[0;34m\u001b[0m\u001b[0m\n\u001b[1;32m    298\u001b[0m             \u001b[0;32melse\u001b[0m\u001b[0;34m:\u001b[0m\u001b[0;34m\u001b[0m\u001b[0;34m\u001b[0m\u001b[0m\n",
            "\u001b[0;31mKeyboardInterrupt\u001b[0m: "
          ]
        }
      ]
    },
    {
      "cell_type": "code",
      "source": [
        "x = df_results.copy()\n",
        "x.head()"
      ],
      "metadata": {
        "id": "ThPvolnaAlLi"
      },
      "execution_count": null,
      "outputs": []
    },
    {
      "cell_type": "code",
      "source": [
        "## saving to file to avoid recacluation\n",
        "x.to_csv('cna_features_shifted.csv',index=False)"
      ],
      "metadata": {
        "id": "ebXDPsGHEiAy"
      },
      "execution_count": null,
      "outputs": []
    },
    {
      "cell_type": "code",
      "source": [
        "x = pd.read_csv('cna_features_shifted.csv')\n",
        "x.head()"
      ],
      "metadata": {
        "colab": {
          "base_uri": "https://localhost:8080/",
          "height": 352
        },
        "id": "04BKRLYzFWuf",
        "outputId": "de11a85d-c69b-429c-a796-f75fdfc5be27"
      },
      "execution_count": 8,
      "outputs": [
        {
          "output_type": "execute_result",
          "data": {
            "text/plain": [
              "   ACAP3  ACTRT2  AGRN  ANKRD65  ATAD3A  ATAD3B  ATAD3C  AURKAIP1  B3GALT6  \\\n",
              "0    1.1     1.1   1.1      1.1     1.1     1.1     1.1       1.1      1.1   \n",
              "1    4.1     4.1   4.1      4.1     4.1     4.1     4.1       4.1      4.1   \n",
              "2    2.1     2.1   2.1      2.1     2.1     2.1     2.1       2.1      2.1   \n",
              "3    2.1     2.1   2.1      2.1     2.1     2.1     2.1       2.1      2.1   \n",
              "4    2.1     2.1   2.1      2.1     2.1     2.1     2.1       2.1      2.1   \n",
              "\n",
              "   C1orf159  ...  hsa-mir-1321  hsa-mir-361  hsa-mir-548m  hsa-mir-652  \\\n",
              "0       1.1  ...           2.1          2.1           1.1          2.1   \n",
              "1       4.1  ...           2.1          2.1           1.1          2.1   \n",
              "2       2.1  ...           1.1          1.1           0.1          1.1   \n",
              "3       2.1  ...           1.1          1.1           0.1          1.1   \n",
              "4       2.1  ...           1.1          1.1           0.1          1.1   \n",
              "\n",
              "   hsa-mir-220a  hsa-mir-513c  hsa-mir-513b  hsa-mir-513a-1  hsa-mir-513a-2  \\\n",
              "0           1.1           2.1           2.1             2.1             2.1   \n",
              "1           1.1           2.1           2.1             2.1             2.1   \n",
              "2           0.1           1.1           1.1             1.1             1.1   \n",
              "3           0.1           2.1           2.1             2.1             2.1   \n",
              "4           0.1           1.1           1.1             1.1             1.1   \n",
              "\n",
              "   hsa-mir-224  \n",
              "0          1.1  \n",
              "1          1.1  \n",
              "2          0.1  \n",
              "3          0.1  \n",
              "4          0.1  \n",
              "\n",
              "[5 rows x 25128 columns]"
            ],
            "text/html": [
              "\n",
              "  <div id=\"df-ca6edb10-d9fe-4579-9e34-1dd58dcfcca2\">\n",
              "    <div class=\"colab-df-container\">\n",
              "      <div>\n",
              "<style scoped>\n",
              "    .dataframe tbody tr th:only-of-type {\n",
              "        vertical-align: middle;\n",
              "    }\n",
              "\n",
              "    .dataframe tbody tr th {\n",
              "        vertical-align: top;\n",
              "    }\n",
              "\n",
              "    .dataframe thead th {\n",
              "        text-align: right;\n",
              "    }\n",
              "</style>\n",
              "<table border=\"1\" class=\"dataframe\">\n",
              "  <thead>\n",
              "    <tr style=\"text-align: right;\">\n",
              "      <th></th>\n",
              "      <th>ACAP3</th>\n",
              "      <th>ACTRT2</th>\n",
              "      <th>AGRN</th>\n",
              "      <th>ANKRD65</th>\n",
              "      <th>ATAD3A</th>\n",
              "      <th>ATAD3B</th>\n",
              "      <th>ATAD3C</th>\n",
              "      <th>AURKAIP1</th>\n",
              "      <th>B3GALT6</th>\n",
              "      <th>C1orf159</th>\n",
              "      <th>...</th>\n",
              "      <th>hsa-mir-1321</th>\n",
              "      <th>hsa-mir-361</th>\n",
              "      <th>hsa-mir-548m</th>\n",
              "      <th>hsa-mir-652</th>\n",
              "      <th>hsa-mir-220a</th>\n",
              "      <th>hsa-mir-513c</th>\n",
              "      <th>hsa-mir-513b</th>\n",
              "      <th>hsa-mir-513a-1</th>\n",
              "      <th>hsa-mir-513a-2</th>\n",
              "      <th>hsa-mir-224</th>\n",
              "    </tr>\n",
              "  </thead>\n",
              "  <tbody>\n",
              "    <tr>\n",
              "      <th>0</th>\n",
              "      <td>1.1</td>\n",
              "      <td>1.1</td>\n",
              "      <td>1.1</td>\n",
              "      <td>1.1</td>\n",
              "      <td>1.1</td>\n",
              "      <td>1.1</td>\n",
              "      <td>1.1</td>\n",
              "      <td>1.1</td>\n",
              "      <td>1.1</td>\n",
              "      <td>1.1</td>\n",
              "      <td>...</td>\n",
              "      <td>2.1</td>\n",
              "      <td>2.1</td>\n",
              "      <td>1.1</td>\n",
              "      <td>2.1</td>\n",
              "      <td>1.1</td>\n",
              "      <td>2.1</td>\n",
              "      <td>2.1</td>\n",
              "      <td>2.1</td>\n",
              "      <td>2.1</td>\n",
              "      <td>1.1</td>\n",
              "    </tr>\n",
              "    <tr>\n",
              "      <th>1</th>\n",
              "      <td>4.1</td>\n",
              "      <td>4.1</td>\n",
              "      <td>4.1</td>\n",
              "      <td>4.1</td>\n",
              "      <td>4.1</td>\n",
              "      <td>4.1</td>\n",
              "      <td>4.1</td>\n",
              "      <td>4.1</td>\n",
              "      <td>4.1</td>\n",
              "      <td>4.1</td>\n",
              "      <td>...</td>\n",
              "      <td>2.1</td>\n",
              "      <td>2.1</td>\n",
              "      <td>1.1</td>\n",
              "      <td>2.1</td>\n",
              "      <td>1.1</td>\n",
              "      <td>2.1</td>\n",
              "      <td>2.1</td>\n",
              "      <td>2.1</td>\n",
              "      <td>2.1</td>\n",
              "      <td>1.1</td>\n",
              "    </tr>\n",
              "    <tr>\n",
              "      <th>2</th>\n",
              "      <td>2.1</td>\n",
              "      <td>2.1</td>\n",
              "      <td>2.1</td>\n",
              "      <td>2.1</td>\n",
              "      <td>2.1</td>\n",
              "      <td>2.1</td>\n",
              "      <td>2.1</td>\n",
              "      <td>2.1</td>\n",
              "      <td>2.1</td>\n",
              "      <td>2.1</td>\n",
              "      <td>...</td>\n",
              "      <td>1.1</td>\n",
              "      <td>1.1</td>\n",
              "      <td>0.1</td>\n",
              "      <td>1.1</td>\n",
              "      <td>0.1</td>\n",
              "      <td>1.1</td>\n",
              "      <td>1.1</td>\n",
              "      <td>1.1</td>\n",
              "      <td>1.1</td>\n",
              "      <td>0.1</td>\n",
              "    </tr>\n",
              "    <tr>\n",
              "      <th>3</th>\n",
              "      <td>2.1</td>\n",
              "      <td>2.1</td>\n",
              "      <td>2.1</td>\n",
              "      <td>2.1</td>\n",
              "      <td>2.1</td>\n",
              "      <td>2.1</td>\n",
              "      <td>2.1</td>\n",
              "      <td>2.1</td>\n",
              "      <td>2.1</td>\n",
              "      <td>2.1</td>\n",
              "      <td>...</td>\n",
              "      <td>1.1</td>\n",
              "      <td>1.1</td>\n",
              "      <td>0.1</td>\n",
              "      <td>1.1</td>\n",
              "      <td>0.1</td>\n",
              "      <td>2.1</td>\n",
              "      <td>2.1</td>\n",
              "      <td>2.1</td>\n",
              "      <td>2.1</td>\n",
              "      <td>0.1</td>\n",
              "    </tr>\n",
              "    <tr>\n",
              "      <th>4</th>\n",
              "      <td>2.1</td>\n",
              "      <td>2.1</td>\n",
              "      <td>2.1</td>\n",
              "      <td>2.1</td>\n",
              "      <td>2.1</td>\n",
              "      <td>2.1</td>\n",
              "      <td>2.1</td>\n",
              "      <td>2.1</td>\n",
              "      <td>2.1</td>\n",
              "      <td>2.1</td>\n",
              "      <td>...</td>\n",
              "      <td>1.1</td>\n",
              "      <td>1.1</td>\n",
              "      <td>0.1</td>\n",
              "      <td>1.1</td>\n",
              "      <td>0.1</td>\n",
              "      <td>1.1</td>\n",
              "      <td>1.1</td>\n",
              "      <td>1.1</td>\n",
              "      <td>1.1</td>\n",
              "      <td>0.1</td>\n",
              "    </tr>\n",
              "  </tbody>\n",
              "</table>\n",
              "<p>5 rows × 25128 columns</p>\n",
              "</div>\n",
              "      <button class=\"colab-df-convert\" onclick=\"convertToInteractive('df-ca6edb10-d9fe-4579-9e34-1dd58dcfcca2')\"\n",
              "              title=\"Convert this dataframe to an interactive table.\"\n",
              "              style=\"display:none;\">\n",
              "        \n",
              "  <svg xmlns=\"http://www.w3.org/2000/svg\" height=\"24px\"viewBox=\"0 0 24 24\"\n",
              "       width=\"24px\">\n",
              "    <path d=\"M0 0h24v24H0V0z\" fill=\"none\"/>\n",
              "    <path d=\"M18.56 5.44l.94 2.06.94-2.06 2.06-.94-2.06-.94-.94-2.06-.94 2.06-2.06.94zm-11 1L8.5 8.5l.94-2.06 2.06-.94-2.06-.94L8.5 2.5l-.94 2.06-2.06.94zm10 10l.94 2.06.94-2.06 2.06-.94-2.06-.94-.94-2.06-.94 2.06-2.06.94z\"/><path d=\"M17.41 7.96l-1.37-1.37c-.4-.4-.92-.59-1.43-.59-.52 0-1.04.2-1.43.59L10.3 9.45l-7.72 7.72c-.78.78-.78 2.05 0 2.83L4 21.41c.39.39.9.59 1.41.59.51 0 1.02-.2 1.41-.59l7.78-7.78 2.81-2.81c.8-.78.8-2.07 0-2.86zM5.41 20L4 18.59l7.72-7.72 1.47 1.35L5.41 20z\"/>\n",
              "  </svg>\n",
              "      </button>\n",
              "      \n",
              "  <style>\n",
              "    .colab-df-container {\n",
              "      display:flex;\n",
              "      flex-wrap:wrap;\n",
              "      gap: 12px;\n",
              "    }\n",
              "\n",
              "    .colab-df-convert {\n",
              "      background-color: #E8F0FE;\n",
              "      border: none;\n",
              "      border-radius: 50%;\n",
              "      cursor: pointer;\n",
              "      display: none;\n",
              "      fill: #1967D2;\n",
              "      height: 32px;\n",
              "      padding: 0 0 0 0;\n",
              "      width: 32px;\n",
              "    }\n",
              "\n",
              "    .colab-df-convert:hover {\n",
              "      background-color: #E2EBFA;\n",
              "      box-shadow: 0px 1px 2px rgba(60, 64, 67, 0.3), 0px 1px 3px 1px rgba(60, 64, 67, 0.15);\n",
              "      fill: #174EA6;\n",
              "    }\n",
              "\n",
              "    [theme=dark] .colab-df-convert {\n",
              "      background-color: #3B4455;\n",
              "      fill: #D2E3FC;\n",
              "    }\n",
              "\n",
              "    [theme=dark] .colab-df-convert:hover {\n",
              "      background-color: #434B5C;\n",
              "      box-shadow: 0px 1px 3px 1px rgba(0, 0, 0, 0.15);\n",
              "      filter: drop-shadow(0px 1px 2px rgba(0, 0, 0, 0.3));\n",
              "      fill: #FFFFFF;\n",
              "    }\n",
              "  </style>\n",
              "\n",
              "      <script>\n",
              "        const buttonEl =\n",
              "          document.querySelector('#df-ca6edb10-d9fe-4579-9e34-1dd58dcfcca2 button.colab-df-convert');\n",
              "        buttonEl.style.display =\n",
              "          google.colab.kernel.accessAllowed ? 'block' : 'none';\n",
              "\n",
              "        async function convertToInteractive(key) {\n",
              "          const element = document.querySelector('#df-ca6edb10-d9fe-4579-9e34-1dd58dcfcca2');\n",
              "          const dataTable =\n",
              "            await google.colab.kernel.invokeFunction('convertToInteractive',\n",
              "                                                     [key], {});\n",
              "          if (!dataTable) return;\n",
              "\n",
              "          const docLinkHtml = 'Like what you see? Visit the ' +\n",
              "            '<a target=\"_blank\" href=https://colab.research.google.com/notebooks/data_table.ipynb>data table notebook</a>'\n",
              "            + ' to learn more about interactive tables.';\n",
              "          element.innerHTML = '';\n",
              "          dataTable['output_type'] = 'display_data';\n",
              "          await google.colab.output.renderOutput(dataTable, element);\n",
              "          const docLink = document.createElement('div');\n",
              "          docLink.innerHTML = docLinkHtml;\n",
              "          element.appendChild(docLink);\n",
              "        }\n",
              "      </script>\n",
              "    </div>\n",
              "  </div>\n",
              "  "
            ]
          },
          "metadata": {},
          "execution_count": 8
        }
      ]
    },
    {
      "cell_type": "code",
      "source": [
        "start = time.time()\n",
        "for i in x.columns:\n",
        "  sum_feature = x[i].sum()\n",
        "  x[i] = x[i]/sum_feature\n",
        "end = time.time()\n",
        "print(round(end-start,2))\n",
        "x.head()"
      ],
      "metadata": {
        "colab": {
          "base_uri": "https://localhost:8080/",
          "height": 352
        },
        "id": "DgPGSqQsBrLW",
        "outputId": "71fde0b7-3680-4b69-c65e-d45697fae771"
      },
      "execution_count": 9,
      "outputs": [
        {
          "output_type": "stream",
          "name": "stdout",
          "text": [
            "8.05\n"
          ]
        },
        {
          "output_type": "execute_result",
          "data": {
            "text/plain": [
              "      ACAP3    ACTRT2      AGRN   ANKRD65    ATAD3A    ATAD3B    ATAD3C  \\\n",
              "0  0.001260  0.001260  0.001260  0.001260  0.001260  0.001260  0.001260   \n",
              "1  0.004698  0.004698  0.004698  0.004698  0.004698  0.004698  0.004698   \n",
              "2  0.002406  0.002406  0.002406  0.002406  0.002406  0.002406  0.002406   \n",
              "3  0.002406  0.002406  0.002406  0.002406  0.002406  0.002406  0.002406   \n",
              "4  0.002406  0.002406  0.002406  0.002406  0.002406  0.002406  0.002406   \n",
              "\n",
              "   AURKAIP1   B3GALT6  C1orf159  ...  hsa-mir-1321  hsa-mir-361  hsa-mir-548m  \\\n",
              "0  0.001260  0.001260  0.001260  ...      0.002546     0.002546      0.002583   \n",
              "1  0.004698  0.004698  0.004698  ...      0.002546     0.002546      0.002583   \n",
              "2  0.002406  0.002406  0.002406  ...      0.001334     0.001334      0.000235   \n",
              "3  0.002406  0.002406  0.002406  ...      0.001334     0.001334      0.000235   \n",
              "4  0.002406  0.002406  0.002406  ...      0.001334     0.001334      0.000235   \n",
              "\n",
              "   hsa-mir-652  hsa-mir-220a  hsa-mir-513c  hsa-mir-513b  hsa-mir-513a-1  \\\n",
              "0     0.002498      0.002571      0.002477      0.002477        0.002477   \n",
              "1     0.002498      0.002571      0.002477      0.002477        0.002477   \n",
              "2     0.001308      0.000234      0.001297      0.001297        0.001297   \n",
              "3     0.001308      0.000234      0.002477      0.002477        0.002477   \n",
              "4     0.001308      0.000234      0.001297      0.001297        0.001297   \n",
              "\n",
              "   hsa-mir-513a-2  hsa-mir-224  \n",
              "0        0.002477     0.002473  \n",
              "1        0.002477     0.002473  \n",
              "2        0.001297     0.000225  \n",
              "3        0.002477     0.000225  \n",
              "4        0.001297     0.000225  \n",
              "\n",
              "[5 rows x 25128 columns]"
            ],
            "text/html": [
              "\n",
              "  <div id=\"df-c0b332d2-aaad-480a-b00e-e206d391737e\">\n",
              "    <div class=\"colab-df-container\">\n",
              "      <div>\n",
              "<style scoped>\n",
              "    .dataframe tbody tr th:only-of-type {\n",
              "        vertical-align: middle;\n",
              "    }\n",
              "\n",
              "    .dataframe tbody tr th {\n",
              "        vertical-align: top;\n",
              "    }\n",
              "\n",
              "    .dataframe thead th {\n",
              "        text-align: right;\n",
              "    }\n",
              "</style>\n",
              "<table border=\"1\" class=\"dataframe\">\n",
              "  <thead>\n",
              "    <tr style=\"text-align: right;\">\n",
              "      <th></th>\n",
              "      <th>ACAP3</th>\n",
              "      <th>ACTRT2</th>\n",
              "      <th>AGRN</th>\n",
              "      <th>ANKRD65</th>\n",
              "      <th>ATAD3A</th>\n",
              "      <th>ATAD3B</th>\n",
              "      <th>ATAD3C</th>\n",
              "      <th>AURKAIP1</th>\n",
              "      <th>B3GALT6</th>\n",
              "      <th>C1orf159</th>\n",
              "      <th>...</th>\n",
              "      <th>hsa-mir-1321</th>\n",
              "      <th>hsa-mir-361</th>\n",
              "      <th>hsa-mir-548m</th>\n",
              "      <th>hsa-mir-652</th>\n",
              "      <th>hsa-mir-220a</th>\n",
              "      <th>hsa-mir-513c</th>\n",
              "      <th>hsa-mir-513b</th>\n",
              "      <th>hsa-mir-513a-1</th>\n",
              "      <th>hsa-mir-513a-2</th>\n",
              "      <th>hsa-mir-224</th>\n",
              "    </tr>\n",
              "  </thead>\n",
              "  <tbody>\n",
              "    <tr>\n",
              "      <th>0</th>\n",
              "      <td>0.001260</td>\n",
              "      <td>0.001260</td>\n",
              "      <td>0.001260</td>\n",
              "      <td>0.001260</td>\n",
              "      <td>0.001260</td>\n",
              "      <td>0.001260</td>\n",
              "      <td>0.001260</td>\n",
              "      <td>0.001260</td>\n",
              "      <td>0.001260</td>\n",
              "      <td>0.001260</td>\n",
              "      <td>...</td>\n",
              "      <td>0.002546</td>\n",
              "      <td>0.002546</td>\n",
              "      <td>0.002583</td>\n",
              "      <td>0.002498</td>\n",
              "      <td>0.002571</td>\n",
              "      <td>0.002477</td>\n",
              "      <td>0.002477</td>\n",
              "      <td>0.002477</td>\n",
              "      <td>0.002477</td>\n",
              "      <td>0.002473</td>\n",
              "    </tr>\n",
              "    <tr>\n",
              "      <th>1</th>\n",
              "      <td>0.004698</td>\n",
              "      <td>0.004698</td>\n",
              "      <td>0.004698</td>\n",
              "      <td>0.004698</td>\n",
              "      <td>0.004698</td>\n",
              "      <td>0.004698</td>\n",
              "      <td>0.004698</td>\n",
              "      <td>0.004698</td>\n",
              "      <td>0.004698</td>\n",
              "      <td>0.004698</td>\n",
              "      <td>...</td>\n",
              "      <td>0.002546</td>\n",
              "      <td>0.002546</td>\n",
              "      <td>0.002583</td>\n",
              "      <td>0.002498</td>\n",
              "      <td>0.002571</td>\n",
              "      <td>0.002477</td>\n",
              "      <td>0.002477</td>\n",
              "      <td>0.002477</td>\n",
              "      <td>0.002477</td>\n",
              "      <td>0.002473</td>\n",
              "    </tr>\n",
              "    <tr>\n",
              "      <th>2</th>\n",
              "      <td>0.002406</td>\n",
              "      <td>0.002406</td>\n",
              "      <td>0.002406</td>\n",
              "      <td>0.002406</td>\n",
              "      <td>0.002406</td>\n",
              "      <td>0.002406</td>\n",
              "      <td>0.002406</td>\n",
              "      <td>0.002406</td>\n",
              "      <td>0.002406</td>\n",
              "      <td>0.002406</td>\n",
              "      <td>...</td>\n",
              "      <td>0.001334</td>\n",
              "      <td>0.001334</td>\n",
              "      <td>0.000235</td>\n",
              "      <td>0.001308</td>\n",
              "      <td>0.000234</td>\n",
              "      <td>0.001297</td>\n",
              "      <td>0.001297</td>\n",
              "      <td>0.001297</td>\n",
              "      <td>0.001297</td>\n",
              "      <td>0.000225</td>\n",
              "    </tr>\n",
              "    <tr>\n",
              "      <th>3</th>\n",
              "      <td>0.002406</td>\n",
              "      <td>0.002406</td>\n",
              "      <td>0.002406</td>\n",
              "      <td>0.002406</td>\n",
              "      <td>0.002406</td>\n",
              "      <td>0.002406</td>\n",
              "      <td>0.002406</td>\n",
              "      <td>0.002406</td>\n",
              "      <td>0.002406</td>\n",
              "      <td>0.002406</td>\n",
              "      <td>...</td>\n",
              "      <td>0.001334</td>\n",
              "      <td>0.001334</td>\n",
              "      <td>0.000235</td>\n",
              "      <td>0.001308</td>\n",
              "      <td>0.000234</td>\n",
              "      <td>0.002477</td>\n",
              "      <td>0.002477</td>\n",
              "      <td>0.002477</td>\n",
              "      <td>0.002477</td>\n",
              "      <td>0.000225</td>\n",
              "    </tr>\n",
              "    <tr>\n",
              "      <th>4</th>\n",
              "      <td>0.002406</td>\n",
              "      <td>0.002406</td>\n",
              "      <td>0.002406</td>\n",
              "      <td>0.002406</td>\n",
              "      <td>0.002406</td>\n",
              "      <td>0.002406</td>\n",
              "      <td>0.002406</td>\n",
              "      <td>0.002406</td>\n",
              "      <td>0.002406</td>\n",
              "      <td>0.002406</td>\n",
              "      <td>...</td>\n",
              "      <td>0.001334</td>\n",
              "      <td>0.001334</td>\n",
              "      <td>0.000235</td>\n",
              "      <td>0.001308</td>\n",
              "      <td>0.000234</td>\n",
              "      <td>0.001297</td>\n",
              "      <td>0.001297</td>\n",
              "      <td>0.001297</td>\n",
              "      <td>0.001297</td>\n",
              "      <td>0.000225</td>\n",
              "    </tr>\n",
              "  </tbody>\n",
              "</table>\n",
              "<p>5 rows × 25128 columns</p>\n",
              "</div>\n",
              "      <button class=\"colab-df-convert\" onclick=\"convertToInteractive('df-c0b332d2-aaad-480a-b00e-e206d391737e')\"\n",
              "              title=\"Convert this dataframe to an interactive table.\"\n",
              "              style=\"display:none;\">\n",
              "        \n",
              "  <svg xmlns=\"http://www.w3.org/2000/svg\" height=\"24px\"viewBox=\"0 0 24 24\"\n",
              "       width=\"24px\">\n",
              "    <path d=\"M0 0h24v24H0V0z\" fill=\"none\"/>\n",
              "    <path d=\"M18.56 5.44l.94 2.06.94-2.06 2.06-.94-2.06-.94-.94-2.06-.94 2.06-2.06.94zm-11 1L8.5 8.5l.94-2.06 2.06-.94-2.06-.94L8.5 2.5l-.94 2.06-2.06.94zm10 10l.94 2.06.94-2.06 2.06-.94-2.06-.94-.94-2.06-.94 2.06-2.06.94z\"/><path d=\"M17.41 7.96l-1.37-1.37c-.4-.4-.92-.59-1.43-.59-.52 0-1.04.2-1.43.59L10.3 9.45l-7.72 7.72c-.78.78-.78 2.05 0 2.83L4 21.41c.39.39.9.59 1.41.59.51 0 1.02-.2 1.41-.59l7.78-7.78 2.81-2.81c.8-.78.8-2.07 0-2.86zM5.41 20L4 18.59l7.72-7.72 1.47 1.35L5.41 20z\"/>\n",
              "  </svg>\n",
              "      </button>\n",
              "      \n",
              "  <style>\n",
              "    .colab-df-container {\n",
              "      display:flex;\n",
              "      flex-wrap:wrap;\n",
              "      gap: 12px;\n",
              "    }\n",
              "\n",
              "    .colab-df-convert {\n",
              "      background-color: #E8F0FE;\n",
              "      border: none;\n",
              "      border-radius: 50%;\n",
              "      cursor: pointer;\n",
              "      display: none;\n",
              "      fill: #1967D2;\n",
              "      height: 32px;\n",
              "      padding: 0 0 0 0;\n",
              "      width: 32px;\n",
              "    }\n",
              "\n",
              "    .colab-df-convert:hover {\n",
              "      background-color: #E2EBFA;\n",
              "      box-shadow: 0px 1px 2px rgba(60, 64, 67, 0.3), 0px 1px 3px 1px rgba(60, 64, 67, 0.15);\n",
              "      fill: #174EA6;\n",
              "    }\n",
              "\n",
              "    [theme=dark] .colab-df-convert {\n",
              "      background-color: #3B4455;\n",
              "      fill: #D2E3FC;\n",
              "    }\n",
              "\n",
              "    [theme=dark] .colab-df-convert:hover {\n",
              "      background-color: #434B5C;\n",
              "      box-shadow: 0px 1px 3px 1px rgba(0, 0, 0, 0.15);\n",
              "      filter: drop-shadow(0px 1px 2px rgba(0, 0, 0, 0.3));\n",
              "      fill: #FFFFFF;\n",
              "    }\n",
              "  </style>\n",
              "\n",
              "      <script>\n",
              "        const buttonEl =\n",
              "          document.querySelector('#df-c0b332d2-aaad-480a-b00e-e206d391737e button.colab-df-convert');\n",
              "        buttonEl.style.display =\n",
              "          google.colab.kernel.accessAllowed ? 'block' : 'none';\n",
              "\n",
              "        async function convertToInteractive(key) {\n",
              "          const element = document.querySelector('#df-c0b332d2-aaad-480a-b00e-e206d391737e');\n",
              "          const dataTable =\n",
              "            await google.colab.kernel.invokeFunction('convertToInteractive',\n",
              "                                                     [key], {});\n",
              "          if (!dataTable) return;\n",
              "\n",
              "          const docLinkHtml = 'Like what you see? Visit the ' +\n",
              "            '<a target=\"_blank\" href=https://colab.research.google.com/notebooks/data_table.ipynb>data table notebook</a>'\n",
              "            + ' to learn more about interactive tables.';\n",
              "          element.innerHTML = '';\n",
              "          dataTable['output_type'] = 'display_data';\n",
              "          await google.colab.output.renderOutput(dataTable, element);\n",
              "          const docLink = document.createElement('div');\n",
              "          docLink.innerHTML = docLinkHtml;\n",
              "          element.appendChild(docLink);\n",
              "        }\n",
              "      </script>\n",
              "    </div>\n",
              "  </div>\n",
              "  "
            ]
          },
          "metadata": {},
          "execution_count": 9
        }
      ]
    },
    {
      "cell_type": "markdown",
      "source": [
        "### starting with Chi2"
      ],
      "metadata": {
        "id": "B9WIzqSBFvuO"
      }
    },
    {
      "cell_type": "code",
      "source": [
        "chi2_selector = SelectKBest(chi2, k=1000)\n",
        "kbest_df = chi2_selector.fit_transform(x, y)\n",
        "column_names = x.columns[chi2_selector.get_support()]"
      ],
      "metadata": {
        "id": "gBNKjjNOFvYn"
      },
      "execution_count": 10,
      "outputs": []
    },
    {
      "cell_type": "code",
      "source": [
        "kbest_df_chi2=pd.DataFrame(kbest_df, columns = column_names, index=df_cna['SAMPLE_ID'])\n",
        "\n",
        "kbest_df_chi2.head()"
      ],
      "metadata": {
        "colab": {
          "base_uri": "https://localhost:8080/",
          "height": 452
        },
        "id": "6Sg_y_-NB7tD",
        "outputId": "fe575dec-432c-4a1f-8eb3-93c042bc6282"
      },
      "execution_count": 11,
      "outputs": [
        {
          "output_type": "execute_result",
          "data": {
            "text/plain": [
              "                   GABPB2    SEMA6C    LYSMD1     SCNM1  TNFAIP8L2-SCNM1  \\\n",
              "SAMPLE_ID                                                                  \n",
              "TCGA-2F-A9KO-01  0.003154  0.003154  0.003154  0.003154         0.003154   \n",
              "TCGA-2F-A9KP-01  0.001652  0.001652  0.001652  0.001652         0.001652   \n",
              "TCGA-2F-A9KQ-01  0.001652  0.001652  0.001652  0.001652         0.001652   \n",
              "TCGA-2F-A9KR-01  0.001652  0.001652  0.001652  0.001652         0.001652   \n",
              "TCGA-2F-A9KT-01  0.003154  0.003154  0.003154  0.003154         0.003154   \n",
              "\n",
              "                 TNFAIP8L2     TMOD4     VPS72   PIP5K1A     PSMD4  ...  \\\n",
              "SAMPLE_ID                                                           ...   \n",
              "TCGA-2F-A9KO-01   0.003154  0.003154  0.003154  0.003154  0.003154  ...   \n",
              "TCGA-2F-A9KP-01   0.001652  0.001652  0.001652  0.001652  0.001652  ...   \n",
              "TCGA-2F-A9KQ-01   0.001652  0.001652  0.001652  0.001652  0.001652  ...   \n",
              "TCGA-2F-A9KR-01   0.001652  0.001652  0.001652  0.001652  0.001652  ...   \n",
              "TCGA-2F-A9KT-01   0.003154  0.003154  0.003154  0.003154  0.003154  ...   \n",
              "\n",
              "                 hsa-mir-3119-1  hsa-mir-378b  hsa-mir-3134  hsa-mir-3135  \\\n",
              "SAMPLE_ID                                                                   \n",
              "TCGA-2F-A9KO-01        0.003267      0.003513      0.003641      0.003792   \n",
              "TCGA-2F-A9KP-01        0.003267      0.005186      0.003641      0.003792   \n",
              "TCGA-2F-A9KQ-01        0.001711      0.001840      0.001907      0.001986   \n",
              "TCGA-2F-A9KR-01        0.003267      0.000167      0.000173      0.000181   \n",
              "TCGA-2F-A9KT-01        0.001711      0.001840      0.001907      0.001986   \n",
              "\n",
              "                 hsa-mir-3139  hsa-mir-548v  hsa-mir-548h-4  hsa-mir-302e  \\\n",
              "SAMPLE_ID                                                                   \n",
              "TCGA-2F-A9KO-01      0.000289      0.001758        0.001744      0.000391   \n",
              "TCGA-2F-A9KP-01      0.003181      0.001758        0.001744      0.004300   \n",
              "TCGA-2F-A9KQ-01      0.003181      0.003356        0.003329      0.004300   \n",
              "TCGA-2F-A9KR-01      0.003181      0.001758        0.001744      0.000391   \n",
              "TCGA-2F-A9KT-01      0.000289      0.001758        0.001744      0.000391   \n",
              "\n",
              "                 hsa-mir-3159  hsa-mir-220a  \n",
              "SAMPLE_ID                                    \n",
              "TCGA-2F-A9KO-01      0.000372      0.002571  \n",
              "TCGA-2F-A9KP-01      0.004092      0.002571  \n",
              "TCGA-2F-A9KQ-01      0.004092      0.000234  \n",
              "TCGA-2F-A9KR-01      0.000372      0.000234  \n",
              "TCGA-2F-A9KT-01      0.000372      0.000234  \n",
              "\n",
              "[5 rows x 1000 columns]"
            ],
            "text/html": [
              "\n",
              "  <div id=\"df-1db76ca4-39dd-4107-ba65-52a54a47c2af\">\n",
              "    <div class=\"colab-df-container\">\n",
              "      <div>\n",
              "<style scoped>\n",
              "    .dataframe tbody tr th:only-of-type {\n",
              "        vertical-align: middle;\n",
              "    }\n",
              "\n",
              "    .dataframe tbody tr th {\n",
              "        vertical-align: top;\n",
              "    }\n",
              "\n",
              "    .dataframe thead th {\n",
              "        text-align: right;\n",
              "    }\n",
              "</style>\n",
              "<table border=\"1\" class=\"dataframe\">\n",
              "  <thead>\n",
              "    <tr style=\"text-align: right;\">\n",
              "      <th></th>\n",
              "      <th>GABPB2</th>\n",
              "      <th>SEMA6C</th>\n",
              "      <th>LYSMD1</th>\n",
              "      <th>SCNM1</th>\n",
              "      <th>TNFAIP8L2-SCNM1</th>\n",
              "      <th>TNFAIP8L2</th>\n",
              "      <th>TMOD4</th>\n",
              "      <th>VPS72</th>\n",
              "      <th>PIP5K1A</th>\n",
              "      <th>PSMD4</th>\n",
              "      <th>...</th>\n",
              "      <th>hsa-mir-3119-1</th>\n",
              "      <th>hsa-mir-378b</th>\n",
              "      <th>hsa-mir-3134</th>\n",
              "      <th>hsa-mir-3135</th>\n",
              "      <th>hsa-mir-3139</th>\n",
              "      <th>hsa-mir-548v</th>\n",
              "      <th>hsa-mir-548h-4</th>\n",
              "      <th>hsa-mir-302e</th>\n",
              "      <th>hsa-mir-3159</th>\n",
              "      <th>hsa-mir-220a</th>\n",
              "    </tr>\n",
              "    <tr>\n",
              "      <th>SAMPLE_ID</th>\n",
              "      <th></th>\n",
              "      <th></th>\n",
              "      <th></th>\n",
              "      <th></th>\n",
              "      <th></th>\n",
              "      <th></th>\n",
              "      <th></th>\n",
              "      <th></th>\n",
              "      <th></th>\n",
              "      <th></th>\n",
              "      <th></th>\n",
              "      <th></th>\n",
              "      <th></th>\n",
              "      <th></th>\n",
              "      <th></th>\n",
              "      <th></th>\n",
              "      <th></th>\n",
              "      <th></th>\n",
              "      <th></th>\n",
              "      <th></th>\n",
              "      <th></th>\n",
              "    </tr>\n",
              "  </thead>\n",
              "  <tbody>\n",
              "    <tr>\n",
              "      <th>TCGA-2F-A9KO-01</th>\n",
              "      <td>0.003154</td>\n",
              "      <td>0.003154</td>\n",
              "      <td>0.003154</td>\n",
              "      <td>0.003154</td>\n",
              "      <td>0.003154</td>\n",
              "      <td>0.003154</td>\n",
              "      <td>0.003154</td>\n",
              "      <td>0.003154</td>\n",
              "      <td>0.003154</td>\n",
              "      <td>0.003154</td>\n",
              "      <td>...</td>\n",
              "      <td>0.003267</td>\n",
              "      <td>0.003513</td>\n",
              "      <td>0.003641</td>\n",
              "      <td>0.003792</td>\n",
              "      <td>0.000289</td>\n",
              "      <td>0.001758</td>\n",
              "      <td>0.001744</td>\n",
              "      <td>0.000391</td>\n",
              "      <td>0.000372</td>\n",
              "      <td>0.002571</td>\n",
              "    </tr>\n",
              "    <tr>\n",
              "      <th>TCGA-2F-A9KP-01</th>\n",
              "      <td>0.001652</td>\n",
              "      <td>0.001652</td>\n",
              "      <td>0.001652</td>\n",
              "      <td>0.001652</td>\n",
              "      <td>0.001652</td>\n",
              "      <td>0.001652</td>\n",
              "      <td>0.001652</td>\n",
              "      <td>0.001652</td>\n",
              "      <td>0.001652</td>\n",
              "      <td>0.001652</td>\n",
              "      <td>...</td>\n",
              "      <td>0.003267</td>\n",
              "      <td>0.005186</td>\n",
              "      <td>0.003641</td>\n",
              "      <td>0.003792</td>\n",
              "      <td>0.003181</td>\n",
              "      <td>0.001758</td>\n",
              "      <td>0.001744</td>\n",
              "      <td>0.004300</td>\n",
              "      <td>0.004092</td>\n",
              "      <td>0.002571</td>\n",
              "    </tr>\n",
              "    <tr>\n",
              "      <th>TCGA-2F-A9KQ-01</th>\n",
              "      <td>0.001652</td>\n",
              "      <td>0.001652</td>\n",
              "      <td>0.001652</td>\n",
              "      <td>0.001652</td>\n",
              "      <td>0.001652</td>\n",
              "      <td>0.001652</td>\n",
              "      <td>0.001652</td>\n",
              "      <td>0.001652</td>\n",
              "      <td>0.001652</td>\n",
              "      <td>0.001652</td>\n",
              "      <td>...</td>\n",
              "      <td>0.001711</td>\n",
              "      <td>0.001840</td>\n",
              "      <td>0.001907</td>\n",
              "      <td>0.001986</td>\n",
              "      <td>0.003181</td>\n",
              "      <td>0.003356</td>\n",
              "      <td>0.003329</td>\n",
              "      <td>0.004300</td>\n",
              "      <td>0.004092</td>\n",
              "      <td>0.000234</td>\n",
              "    </tr>\n",
              "    <tr>\n",
              "      <th>TCGA-2F-A9KR-01</th>\n",
              "      <td>0.001652</td>\n",
              "      <td>0.001652</td>\n",
              "      <td>0.001652</td>\n",
              "      <td>0.001652</td>\n",
              "      <td>0.001652</td>\n",
              "      <td>0.001652</td>\n",
              "      <td>0.001652</td>\n",
              "      <td>0.001652</td>\n",
              "      <td>0.001652</td>\n",
              "      <td>0.001652</td>\n",
              "      <td>...</td>\n",
              "      <td>0.003267</td>\n",
              "      <td>0.000167</td>\n",
              "      <td>0.000173</td>\n",
              "      <td>0.000181</td>\n",
              "      <td>0.003181</td>\n",
              "      <td>0.001758</td>\n",
              "      <td>0.001744</td>\n",
              "      <td>0.000391</td>\n",
              "      <td>0.000372</td>\n",
              "      <td>0.000234</td>\n",
              "    </tr>\n",
              "    <tr>\n",
              "      <th>TCGA-2F-A9KT-01</th>\n",
              "      <td>0.003154</td>\n",
              "      <td>0.003154</td>\n",
              "      <td>0.003154</td>\n",
              "      <td>0.003154</td>\n",
              "      <td>0.003154</td>\n",
              "      <td>0.003154</td>\n",
              "      <td>0.003154</td>\n",
              "      <td>0.003154</td>\n",
              "      <td>0.003154</td>\n",
              "      <td>0.003154</td>\n",
              "      <td>...</td>\n",
              "      <td>0.001711</td>\n",
              "      <td>0.001840</td>\n",
              "      <td>0.001907</td>\n",
              "      <td>0.001986</td>\n",
              "      <td>0.000289</td>\n",
              "      <td>0.001758</td>\n",
              "      <td>0.001744</td>\n",
              "      <td>0.000391</td>\n",
              "      <td>0.000372</td>\n",
              "      <td>0.000234</td>\n",
              "    </tr>\n",
              "  </tbody>\n",
              "</table>\n",
              "<p>5 rows × 1000 columns</p>\n",
              "</div>\n",
              "      <button class=\"colab-df-convert\" onclick=\"convertToInteractive('df-1db76ca4-39dd-4107-ba65-52a54a47c2af')\"\n",
              "              title=\"Convert this dataframe to an interactive table.\"\n",
              "              style=\"display:none;\">\n",
              "        \n",
              "  <svg xmlns=\"http://www.w3.org/2000/svg\" height=\"24px\"viewBox=\"0 0 24 24\"\n",
              "       width=\"24px\">\n",
              "    <path d=\"M0 0h24v24H0V0z\" fill=\"none\"/>\n",
              "    <path d=\"M18.56 5.44l.94 2.06.94-2.06 2.06-.94-2.06-.94-.94-2.06-.94 2.06-2.06.94zm-11 1L8.5 8.5l.94-2.06 2.06-.94-2.06-.94L8.5 2.5l-.94 2.06-2.06.94zm10 10l.94 2.06.94-2.06 2.06-.94-2.06-.94-.94-2.06-.94 2.06-2.06.94z\"/><path d=\"M17.41 7.96l-1.37-1.37c-.4-.4-.92-.59-1.43-.59-.52 0-1.04.2-1.43.59L10.3 9.45l-7.72 7.72c-.78.78-.78 2.05 0 2.83L4 21.41c.39.39.9.59 1.41.59.51 0 1.02-.2 1.41-.59l7.78-7.78 2.81-2.81c.8-.78.8-2.07 0-2.86zM5.41 20L4 18.59l7.72-7.72 1.47 1.35L5.41 20z\"/>\n",
              "  </svg>\n",
              "      </button>\n",
              "      \n",
              "  <style>\n",
              "    .colab-df-container {\n",
              "      display:flex;\n",
              "      flex-wrap:wrap;\n",
              "      gap: 12px;\n",
              "    }\n",
              "\n",
              "    .colab-df-convert {\n",
              "      background-color: #E8F0FE;\n",
              "      border: none;\n",
              "      border-radius: 50%;\n",
              "      cursor: pointer;\n",
              "      display: none;\n",
              "      fill: #1967D2;\n",
              "      height: 32px;\n",
              "      padding: 0 0 0 0;\n",
              "      width: 32px;\n",
              "    }\n",
              "\n",
              "    .colab-df-convert:hover {\n",
              "      background-color: #E2EBFA;\n",
              "      box-shadow: 0px 1px 2px rgba(60, 64, 67, 0.3), 0px 1px 3px 1px rgba(60, 64, 67, 0.15);\n",
              "      fill: #174EA6;\n",
              "    }\n",
              "\n",
              "    [theme=dark] .colab-df-convert {\n",
              "      background-color: #3B4455;\n",
              "      fill: #D2E3FC;\n",
              "    }\n",
              "\n",
              "    [theme=dark] .colab-df-convert:hover {\n",
              "      background-color: #434B5C;\n",
              "      box-shadow: 0px 1px 3px 1px rgba(0, 0, 0, 0.15);\n",
              "      filter: drop-shadow(0px 1px 2px rgba(0, 0, 0, 0.3));\n",
              "      fill: #FFFFFF;\n",
              "    }\n",
              "  </style>\n",
              "\n",
              "      <script>\n",
              "        const buttonEl =\n",
              "          document.querySelector('#df-1db76ca4-39dd-4107-ba65-52a54a47c2af button.colab-df-convert');\n",
              "        buttonEl.style.display =\n",
              "          google.colab.kernel.accessAllowed ? 'block' : 'none';\n",
              "\n",
              "        async function convertToInteractive(key) {\n",
              "          const element = document.querySelector('#df-1db76ca4-39dd-4107-ba65-52a54a47c2af');\n",
              "          const dataTable =\n",
              "            await google.colab.kernel.invokeFunction('convertToInteractive',\n",
              "                                                     [key], {});\n",
              "          if (!dataTable) return;\n",
              "\n",
              "          const docLinkHtml = 'Like what you see? Visit the ' +\n",
              "            '<a target=\"_blank\" href=https://colab.research.google.com/notebooks/data_table.ipynb>data table notebook</a>'\n",
              "            + ' to learn more about interactive tables.';\n",
              "          element.innerHTML = '';\n",
              "          dataTable['output_type'] = 'display_data';\n",
              "          await google.colab.output.renderOutput(dataTable, element);\n",
              "          const docLink = document.createElement('div');\n",
              "          docLink.innerHTML = docLinkHtml;\n",
              "          element.appendChild(docLink);\n",
              "        }\n",
              "      </script>\n",
              "    </div>\n",
              "  </div>\n",
              "  "
            ]
          },
          "metadata": {},
          "execution_count": 11
        }
      ]
    },
    {
      "cell_type": "code",
      "source": [
        "kbest_df_chi2.isnull().sum().sum()"
      ],
      "metadata": {
        "colab": {
          "base_uri": "https://localhost:8080/"
        },
        "id": "WXhReN5FHCg4",
        "outputId": "81444e8b-760c-420b-aac6-638e2d368818"
      },
      "execution_count": 12,
      "outputs": [
        {
          "output_type": "execute_result",
          "data": {
            "text/plain": [
              "0"
            ]
          },
          "metadata": {},
          "execution_count": 12
        }
      ]
    },
    {
      "cell_type": "code",
      "source": [
        "kbest_df_chi2.info()"
      ],
      "metadata": {
        "colab": {
          "base_uri": "https://localhost:8080/"
        },
        "id": "T1ohgnLQHXqL",
        "outputId": "122bb623-95e3-4f54-8f69-33a2db3268bd"
      },
      "execution_count": 13,
      "outputs": [
        {
          "output_type": "stream",
          "name": "stdout",
          "text": [
            "<class 'pandas.core.frame.DataFrame'>\n",
            "Index: 408 entries, TCGA-2F-A9KO-01 to TCGA-ZF-AA5P-01\n",
            "Columns: 1000 entries, GABPB2 to hsa-mir-220a\n",
            "dtypes: float64(1000)\n",
            "memory usage: 3.1+ MB\n"
          ]
        }
      ]
    },
    {
      "cell_type": "code",
      "source": [
        "kbest_df_chi2['TMB_CLASS'] = y.iloc[:,0].values"
      ],
      "metadata": {
        "id": "XrZ2IcfAXzvr"
      },
      "execution_count": 14,
      "outputs": []
    },
    {
      "cell_type": "code",
      "source": [
        "kbest_df_chi2.head()"
      ],
      "metadata": {
        "colab": {
          "base_uri": "https://localhost:8080/",
          "height": 452
        },
        "id": "OTKCvT-aX5yI",
        "outputId": "243672b2-ee79-447f-cc71-8ed37dd039a9"
      },
      "execution_count": 15,
      "outputs": [
        {
          "output_type": "execute_result",
          "data": {
            "text/plain": [
              "                   GABPB2    SEMA6C    LYSMD1     SCNM1  TNFAIP8L2-SCNM1  \\\n",
              "SAMPLE_ID                                                                  \n",
              "TCGA-2F-A9KO-01  0.003154  0.003154  0.003154  0.003154         0.003154   \n",
              "TCGA-2F-A9KP-01  0.001652  0.001652  0.001652  0.001652         0.001652   \n",
              "TCGA-2F-A9KQ-01  0.001652  0.001652  0.001652  0.001652         0.001652   \n",
              "TCGA-2F-A9KR-01  0.001652  0.001652  0.001652  0.001652         0.001652   \n",
              "TCGA-2F-A9KT-01  0.003154  0.003154  0.003154  0.003154         0.003154   \n",
              "\n",
              "                 TNFAIP8L2     TMOD4     VPS72   PIP5K1A     PSMD4  ...  \\\n",
              "SAMPLE_ID                                                           ...   \n",
              "TCGA-2F-A9KO-01   0.003154  0.003154  0.003154  0.003154  0.003154  ...   \n",
              "TCGA-2F-A9KP-01   0.001652  0.001652  0.001652  0.001652  0.001652  ...   \n",
              "TCGA-2F-A9KQ-01   0.001652  0.001652  0.001652  0.001652  0.001652  ...   \n",
              "TCGA-2F-A9KR-01   0.001652  0.001652  0.001652  0.001652  0.001652  ...   \n",
              "TCGA-2F-A9KT-01   0.003154  0.003154  0.003154  0.003154  0.003154  ...   \n",
              "\n",
              "                 hsa-mir-378b  hsa-mir-3134  hsa-mir-3135  hsa-mir-3139  \\\n",
              "SAMPLE_ID                                                                 \n",
              "TCGA-2F-A9KO-01      0.003513      0.003641      0.003792      0.000289   \n",
              "TCGA-2F-A9KP-01      0.005186      0.003641      0.003792      0.003181   \n",
              "TCGA-2F-A9KQ-01      0.001840      0.001907      0.001986      0.003181   \n",
              "TCGA-2F-A9KR-01      0.000167      0.000173      0.000181      0.003181   \n",
              "TCGA-2F-A9KT-01      0.001840      0.001907      0.001986      0.000289   \n",
              "\n",
              "                 hsa-mir-548v  hsa-mir-548h-4  hsa-mir-302e  hsa-mir-3159  \\\n",
              "SAMPLE_ID                                                                   \n",
              "TCGA-2F-A9KO-01      0.001758        0.001744      0.000391      0.000372   \n",
              "TCGA-2F-A9KP-01      0.001758        0.001744      0.004300      0.004092   \n",
              "TCGA-2F-A9KQ-01      0.003356        0.003329      0.004300      0.004092   \n",
              "TCGA-2F-A9KR-01      0.001758        0.001744      0.000391      0.000372   \n",
              "TCGA-2F-A9KT-01      0.001758        0.001744      0.000391      0.000372   \n",
              "\n",
              "                 hsa-mir-220a  TMB_CLASS  \n",
              "SAMPLE_ID                                 \n",
              "TCGA-2F-A9KO-01      0.002571          2  \n",
              "TCGA-2F-A9KP-01      0.002571          1  \n",
              "TCGA-2F-A9KQ-01      0.000234          1  \n",
              "TCGA-2F-A9KR-01      0.000234          2  \n",
              "TCGA-2F-A9KT-01      0.000234          2  \n",
              "\n",
              "[5 rows x 1001 columns]"
            ],
            "text/html": [
              "\n",
              "  <div id=\"df-eb893c96-d65c-451d-bc48-baef149f0ced\">\n",
              "    <div class=\"colab-df-container\">\n",
              "      <div>\n",
              "<style scoped>\n",
              "    .dataframe tbody tr th:only-of-type {\n",
              "        vertical-align: middle;\n",
              "    }\n",
              "\n",
              "    .dataframe tbody tr th {\n",
              "        vertical-align: top;\n",
              "    }\n",
              "\n",
              "    .dataframe thead th {\n",
              "        text-align: right;\n",
              "    }\n",
              "</style>\n",
              "<table border=\"1\" class=\"dataframe\">\n",
              "  <thead>\n",
              "    <tr style=\"text-align: right;\">\n",
              "      <th></th>\n",
              "      <th>GABPB2</th>\n",
              "      <th>SEMA6C</th>\n",
              "      <th>LYSMD1</th>\n",
              "      <th>SCNM1</th>\n",
              "      <th>TNFAIP8L2-SCNM1</th>\n",
              "      <th>TNFAIP8L2</th>\n",
              "      <th>TMOD4</th>\n",
              "      <th>VPS72</th>\n",
              "      <th>PIP5K1A</th>\n",
              "      <th>PSMD4</th>\n",
              "      <th>...</th>\n",
              "      <th>hsa-mir-378b</th>\n",
              "      <th>hsa-mir-3134</th>\n",
              "      <th>hsa-mir-3135</th>\n",
              "      <th>hsa-mir-3139</th>\n",
              "      <th>hsa-mir-548v</th>\n",
              "      <th>hsa-mir-548h-4</th>\n",
              "      <th>hsa-mir-302e</th>\n",
              "      <th>hsa-mir-3159</th>\n",
              "      <th>hsa-mir-220a</th>\n",
              "      <th>TMB_CLASS</th>\n",
              "    </tr>\n",
              "    <tr>\n",
              "      <th>SAMPLE_ID</th>\n",
              "      <th></th>\n",
              "      <th></th>\n",
              "      <th></th>\n",
              "      <th></th>\n",
              "      <th></th>\n",
              "      <th></th>\n",
              "      <th></th>\n",
              "      <th></th>\n",
              "      <th></th>\n",
              "      <th></th>\n",
              "      <th></th>\n",
              "      <th></th>\n",
              "      <th></th>\n",
              "      <th></th>\n",
              "      <th></th>\n",
              "      <th></th>\n",
              "      <th></th>\n",
              "      <th></th>\n",
              "      <th></th>\n",
              "      <th></th>\n",
              "      <th></th>\n",
              "    </tr>\n",
              "  </thead>\n",
              "  <tbody>\n",
              "    <tr>\n",
              "      <th>TCGA-2F-A9KO-01</th>\n",
              "      <td>0.003154</td>\n",
              "      <td>0.003154</td>\n",
              "      <td>0.003154</td>\n",
              "      <td>0.003154</td>\n",
              "      <td>0.003154</td>\n",
              "      <td>0.003154</td>\n",
              "      <td>0.003154</td>\n",
              "      <td>0.003154</td>\n",
              "      <td>0.003154</td>\n",
              "      <td>0.003154</td>\n",
              "      <td>...</td>\n",
              "      <td>0.003513</td>\n",
              "      <td>0.003641</td>\n",
              "      <td>0.003792</td>\n",
              "      <td>0.000289</td>\n",
              "      <td>0.001758</td>\n",
              "      <td>0.001744</td>\n",
              "      <td>0.000391</td>\n",
              "      <td>0.000372</td>\n",
              "      <td>0.002571</td>\n",
              "      <td>2</td>\n",
              "    </tr>\n",
              "    <tr>\n",
              "      <th>TCGA-2F-A9KP-01</th>\n",
              "      <td>0.001652</td>\n",
              "      <td>0.001652</td>\n",
              "      <td>0.001652</td>\n",
              "      <td>0.001652</td>\n",
              "      <td>0.001652</td>\n",
              "      <td>0.001652</td>\n",
              "      <td>0.001652</td>\n",
              "      <td>0.001652</td>\n",
              "      <td>0.001652</td>\n",
              "      <td>0.001652</td>\n",
              "      <td>...</td>\n",
              "      <td>0.005186</td>\n",
              "      <td>0.003641</td>\n",
              "      <td>0.003792</td>\n",
              "      <td>0.003181</td>\n",
              "      <td>0.001758</td>\n",
              "      <td>0.001744</td>\n",
              "      <td>0.004300</td>\n",
              "      <td>0.004092</td>\n",
              "      <td>0.002571</td>\n",
              "      <td>1</td>\n",
              "    </tr>\n",
              "    <tr>\n",
              "      <th>TCGA-2F-A9KQ-01</th>\n",
              "      <td>0.001652</td>\n",
              "      <td>0.001652</td>\n",
              "      <td>0.001652</td>\n",
              "      <td>0.001652</td>\n",
              "      <td>0.001652</td>\n",
              "      <td>0.001652</td>\n",
              "      <td>0.001652</td>\n",
              "      <td>0.001652</td>\n",
              "      <td>0.001652</td>\n",
              "      <td>0.001652</td>\n",
              "      <td>...</td>\n",
              "      <td>0.001840</td>\n",
              "      <td>0.001907</td>\n",
              "      <td>0.001986</td>\n",
              "      <td>0.003181</td>\n",
              "      <td>0.003356</td>\n",
              "      <td>0.003329</td>\n",
              "      <td>0.004300</td>\n",
              "      <td>0.004092</td>\n",
              "      <td>0.000234</td>\n",
              "      <td>1</td>\n",
              "    </tr>\n",
              "    <tr>\n",
              "      <th>TCGA-2F-A9KR-01</th>\n",
              "      <td>0.001652</td>\n",
              "      <td>0.001652</td>\n",
              "      <td>0.001652</td>\n",
              "      <td>0.001652</td>\n",
              "      <td>0.001652</td>\n",
              "      <td>0.001652</td>\n",
              "      <td>0.001652</td>\n",
              "      <td>0.001652</td>\n",
              "      <td>0.001652</td>\n",
              "      <td>0.001652</td>\n",
              "      <td>...</td>\n",
              "      <td>0.000167</td>\n",
              "      <td>0.000173</td>\n",
              "      <td>0.000181</td>\n",
              "      <td>0.003181</td>\n",
              "      <td>0.001758</td>\n",
              "      <td>0.001744</td>\n",
              "      <td>0.000391</td>\n",
              "      <td>0.000372</td>\n",
              "      <td>0.000234</td>\n",
              "      <td>2</td>\n",
              "    </tr>\n",
              "    <tr>\n",
              "      <th>TCGA-2F-A9KT-01</th>\n",
              "      <td>0.003154</td>\n",
              "      <td>0.003154</td>\n",
              "      <td>0.003154</td>\n",
              "      <td>0.003154</td>\n",
              "      <td>0.003154</td>\n",
              "      <td>0.003154</td>\n",
              "      <td>0.003154</td>\n",
              "      <td>0.003154</td>\n",
              "      <td>0.003154</td>\n",
              "      <td>0.003154</td>\n",
              "      <td>...</td>\n",
              "      <td>0.001840</td>\n",
              "      <td>0.001907</td>\n",
              "      <td>0.001986</td>\n",
              "      <td>0.000289</td>\n",
              "      <td>0.001758</td>\n",
              "      <td>0.001744</td>\n",
              "      <td>0.000391</td>\n",
              "      <td>0.000372</td>\n",
              "      <td>0.000234</td>\n",
              "      <td>2</td>\n",
              "    </tr>\n",
              "  </tbody>\n",
              "</table>\n",
              "<p>5 rows × 1001 columns</p>\n",
              "</div>\n",
              "      <button class=\"colab-df-convert\" onclick=\"convertToInteractive('df-eb893c96-d65c-451d-bc48-baef149f0ced')\"\n",
              "              title=\"Convert this dataframe to an interactive table.\"\n",
              "              style=\"display:none;\">\n",
              "        \n",
              "  <svg xmlns=\"http://www.w3.org/2000/svg\" height=\"24px\"viewBox=\"0 0 24 24\"\n",
              "       width=\"24px\">\n",
              "    <path d=\"M0 0h24v24H0V0z\" fill=\"none\"/>\n",
              "    <path d=\"M18.56 5.44l.94 2.06.94-2.06 2.06-.94-2.06-.94-.94-2.06-.94 2.06-2.06.94zm-11 1L8.5 8.5l.94-2.06 2.06-.94-2.06-.94L8.5 2.5l-.94 2.06-2.06.94zm10 10l.94 2.06.94-2.06 2.06-.94-2.06-.94-.94-2.06-.94 2.06-2.06.94z\"/><path d=\"M17.41 7.96l-1.37-1.37c-.4-.4-.92-.59-1.43-.59-.52 0-1.04.2-1.43.59L10.3 9.45l-7.72 7.72c-.78.78-.78 2.05 0 2.83L4 21.41c.39.39.9.59 1.41.59.51 0 1.02-.2 1.41-.59l7.78-7.78 2.81-2.81c.8-.78.8-2.07 0-2.86zM5.41 20L4 18.59l7.72-7.72 1.47 1.35L5.41 20z\"/>\n",
              "  </svg>\n",
              "      </button>\n",
              "      \n",
              "  <style>\n",
              "    .colab-df-container {\n",
              "      display:flex;\n",
              "      flex-wrap:wrap;\n",
              "      gap: 12px;\n",
              "    }\n",
              "\n",
              "    .colab-df-convert {\n",
              "      background-color: #E8F0FE;\n",
              "      border: none;\n",
              "      border-radius: 50%;\n",
              "      cursor: pointer;\n",
              "      display: none;\n",
              "      fill: #1967D2;\n",
              "      height: 32px;\n",
              "      padding: 0 0 0 0;\n",
              "      width: 32px;\n",
              "    }\n",
              "\n",
              "    .colab-df-convert:hover {\n",
              "      background-color: #E2EBFA;\n",
              "      box-shadow: 0px 1px 2px rgba(60, 64, 67, 0.3), 0px 1px 3px 1px rgba(60, 64, 67, 0.15);\n",
              "      fill: #174EA6;\n",
              "    }\n",
              "\n",
              "    [theme=dark] .colab-df-convert {\n",
              "      background-color: #3B4455;\n",
              "      fill: #D2E3FC;\n",
              "    }\n",
              "\n",
              "    [theme=dark] .colab-df-convert:hover {\n",
              "      background-color: #434B5C;\n",
              "      box-shadow: 0px 1px 3px 1px rgba(0, 0, 0, 0.15);\n",
              "      filter: drop-shadow(0px 1px 2px rgba(0, 0, 0, 0.3));\n",
              "      fill: #FFFFFF;\n",
              "    }\n",
              "  </style>\n",
              "\n",
              "      <script>\n",
              "        const buttonEl =\n",
              "          document.querySelector('#df-eb893c96-d65c-451d-bc48-baef149f0ced button.colab-df-convert');\n",
              "        buttonEl.style.display =\n",
              "          google.colab.kernel.accessAllowed ? 'block' : 'none';\n",
              "\n",
              "        async function convertToInteractive(key) {\n",
              "          const element = document.querySelector('#df-eb893c96-d65c-451d-bc48-baef149f0ced');\n",
              "          const dataTable =\n",
              "            await google.colab.kernel.invokeFunction('convertToInteractive',\n",
              "                                                     [key], {});\n",
              "          if (!dataTable) return;\n",
              "\n",
              "          const docLinkHtml = 'Like what you see? Visit the ' +\n",
              "            '<a target=\"_blank\" href=https://colab.research.google.com/notebooks/data_table.ipynb>data table notebook</a>'\n",
              "            + ' to learn more about interactive tables.';\n",
              "          element.innerHTML = '';\n",
              "          dataTable['output_type'] = 'display_data';\n",
              "          await google.colab.output.renderOutput(dataTable, element);\n",
              "          const docLink = document.createElement('div');\n",
              "          docLink.innerHTML = docLinkHtml;\n",
              "          element.appendChild(docLink);\n",
              "        }\n",
              "      </script>\n",
              "    </div>\n",
              "  </div>\n",
              "  "
            ]
          },
          "metadata": {},
          "execution_count": 15
        }
      ]
    },
    {
      "cell_type": "code",
      "source": [
        "kbest_df_chi2.to_csv('./CNA-TMB-Chi2.csv',index=False)"
      ],
      "metadata": {
        "id": "aYv079vBX-85"
      },
      "execution_count": 16,
      "outputs": []
    },
    {
      "cell_type": "markdown",
      "source": [
        "### Using information gain probability based method"
      ],
      "metadata": {
        "id": "9eli7OEKIGcQ"
      }
    },
    {
      "cell_type": "code",
      "source": [
        "from sklearn.feature_selection import SelectKBest\n",
        "from sklearn.feature_selection import mutual_info_classif"
      ],
      "metadata": {
        "id": "ep6kjqghIFYm"
      },
      "execution_count": 17,
      "outputs": []
    },
    {
      "cell_type": "code",
      "source": [
        "ig_selector = SelectKBest(chi2, k=1000)\n",
        "kbest_df = ig_selector.fit_transform(x, y)\n",
        "column_names = x.columns[ig_selector.get_support()]"
      ],
      "metadata": {
        "id": "Mq2lkIGJK_7H"
      },
      "execution_count": 18,
      "outputs": []
    },
    {
      "cell_type": "code",
      "source": [
        "kbest_df_ig=pd.DataFrame(kbest_df, columns = column_names, index=df_cna['SAMPLE_ID'])\n",
        "\n",
        "kbest_df_ig.head()"
      ],
      "metadata": {
        "colab": {
          "base_uri": "https://localhost:8080/",
          "height": 452
        },
        "id": "pEqmrruXLHkg",
        "outputId": "b92046cb-b954-4708-f039-51eeab199cf0"
      },
      "execution_count": 19,
      "outputs": [
        {
          "output_type": "execute_result",
          "data": {
            "text/plain": [
              "                   GABPB2    SEMA6C    LYSMD1     SCNM1  TNFAIP8L2-SCNM1  \\\n",
              "SAMPLE_ID                                                                  \n",
              "TCGA-2F-A9KO-01  0.003154  0.003154  0.003154  0.003154         0.003154   \n",
              "TCGA-2F-A9KP-01  0.001652  0.001652  0.001652  0.001652         0.001652   \n",
              "TCGA-2F-A9KQ-01  0.001652  0.001652  0.001652  0.001652         0.001652   \n",
              "TCGA-2F-A9KR-01  0.001652  0.001652  0.001652  0.001652         0.001652   \n",
              "TCGA-2F-A9KT-01  0.003154  0.003154  0.003154  0.003154         0.003154   \n",
              "\n",
              "                 TNFAIP8L2     TMOD4     VPS72   PIP5K1A     PSMD4  ...  \\\n",
              "SAMPLE_ID                                                           ...   \n",
              "TCGA-2F-A9KO-01   0.003154  0.003154  0.003154  0.003154  0.003154  ...   \n",
              "TCGA-2F-A9KP-01   0.001652  0.001652  0.001652  0.001652  0.001652  ...   \n",
              "TCGA-2F-A9KQ-01   0.001652  0.001652  0.001652  0.001652  0.001652  ...   \n",
              "TCGA-2F-A9KR-01   0.001652  0.001652  0.001652  0.001652  0.001652  ...   \n",
              "TCGA-2F-A9KT-01   0.003154  0.003154  0.003154  0.003154  0.003154  ...   \n",
              "\n",
              "                 hsa-mir-3119-1  hsa-mir-378b  hsa-mir-3134  hsa-mir-3135  \\\n",
              "SAMPLE_ID                                                                   \n",
              "TCGA-2F-A9KO-01        0.003267      0.003513      0.003641      0.003792   \n",
              "TCGA-2F-A9KP-01        0.003267      0.005186      0.003641      0.003792   \n",
              "TCGA-2F-A9KQ-01        0.001711      0.001840      0.001907      0.001986   \n",
              "TCGA-2F-A9KR-01        0.003267      0.000167      0.000173      0.000181   \n",
              "TCGA-2F-A9KT-01        0.001711      0.001840      0.001907      0.001986   \n",
              "\n",
              "                 hsa-mir-3139  hsa-mir-548v  hsa-mir-548h-4  hsa-mir-302e  \\\n",
              "SAMPLE_ID                                                                   \n",
              "TCGA-2F-A9KO-01      0.000289      0.001758        0.001744      0.000391   \n",
              "TCGA-2F-A9KP-01      0.003181      0.001758        0.001744      0.004300   \n",
              "TCGA-2F-A9KQ-01      0.003181      0.003356        0.003329      0.004300   \n",
              "TCGA-2F-A9KR-01      0.003181      0.001758        0.001744      0.000391   \n",
              "TCGA-2F-A9KT-01      0.000289      0.001758        0.001744      0.000391   \n",
              "\n",
              "                 hsa-mir-3159  hsa-mir-220a  \n",
              "SAMPLE_ID                                    \n",
              "TCGA-2F-A9KO-01      0.000372      0.002571  \n",
              "TCGA-2F-A9KP-01      0.004092      0.002571  \n",
              "TCGA-2F-A9KQ-01      0.004092      0.000234  \n",
              "TCGA-2F-A9KR-01      0.000372      0.000234  \n",
              "TCGA-2F-A9KT-01      0.000372      0.000234  \n",
              "\n",
              "[5 rows x 1000 columns]"
            ],
            "text/html": [
              "\n",
              "  <div id=\"df-6c447e4b-8cf3-4337-ae84-70b2a5daca7f\">\n",
              "    <div class=\"colab-df-container\">\n",
              "      <div>\n",
              "<style scoped>\n",
              "    .dataframe tbody tr th:only-of-type {\n",
              "        vertical-align: middle;\n",
              "    }\n",
              "\n",
              "    .dataframe tbody tr th {\n",
              "        vertical-align: top;\n",
              "    }\n",
              "\n",
              "    .dataframe thead th {\n",
              "        text-align: right;\n",
              "    }\n",
              "</style>\n",
              "<table border=\"1\" class=\"dataframe\">\n",
              "  <thead>\n",
              "    <tr style=\"text-align: right;\">\n",
              "      <th></th>\n",
              "      <th>GABPB2</th>\n",
              "      <th>SEMA6C</th>\n",
              "      <th>LYSMD1</th>\n",
              "      <th>SCNM1</th>\n",
              "      <th>TNFAIP8L2-SCNM1</th>\n",
              "      <th>TNFAIP8L2</th>\n",
              "      <th>TMOD4</th>\n",
              "      <th>VPS72</th>\n",
              "      <th>PIP5K1A</th>\n",
              "      <th>PSMD4</th>\n",
              "      <th>...</th>\n",
              "      <th>hsa-mir-3119-1</th>\n",
              "      <th>hsa-mir-378b</th>\n",
              "      <th>hsa-mir-3134</th>\n",
              "      <th>hsa-mir-3135</th>\n",
              "      <th>hsa-mir-3139</th>\n",
              "      <th>hsa-mir-548v</th>\n",
              "      <th>hsa-mir-548h-4</th>\n",
              "      <th>hsa-mir-302e</th>\n",
              "      <th>hsa-mir-3159</th>\n",
              "      <th>hsa-mir-220a</th>\n",
              "    </tr>\n",
              "    <tr>\n",
              "      <th>SAMPLE_ID</th>\n",
              "      <th></th>\n",
              "      <th></th>\n",
              "      <th></th>\n",
              "      <th></th>\n",
              "      <th></th>\n",
              "      <th></th>\n",
              "      <th></th>\n",
              "      <th></th>\n",
              "      <th></th>\n",
              "      <th></th>\n",
              "      <th></th>\n",
              "      <th></th>\n",
              "      <th></th>\n",
              "      <th></th>\n",
              "      <th></th>\n",
              "      <th></th>\n",
              "      <th></th>\n",
              "      <th></th>\n",
              "      <th></th>\n",
              "      <th></th>\n",
              "      <th></th>\n",
              "    </tr>\n",
              "  </thead>\n",
              "  <tbody>\n",
              "    <tr>\n",
              "      <th>TCGA-2F-A9KO-01</th>\n",
              "      <td>0.003154</td>\n",
              "      <td>0.003154</td>\n",
              "      <td>0.003154</td>\n",
              "      <td>0.003154</td>\n",
              "      <td>0.003154</td>\n",
              "      <td>0.003154</td>\n",
              "      <td>0.003154</td>\n",
              "      <td>0.003154</td>\n",
              "      <td>0.003154</td>\n",
              "      <td>0.003154</td>\n",
              "      <td>...</td>\n",
              "      <td>0.003267</td>\n",
              "      <td>0.003513</td>\n",
              "      <td>0.003641</td>\n",
              "      <td>0.003792</td>\n",
              "      <td>0.000289</td>\n",
              "      <td>0.001758</td>\n",
              "      <td>0.001744</td>\n",
              "      <td>0.000391</td>\n",
              "      <td>0.000372</td>\n",
              "      <td>0.002571</td>\n",
              "    </tr>\n",
              "    <tr>\n",
              "      <th>TCGA-2F-A9KP-01</th>\n",
              "      <td>0.001652</td>\n",
              "      <td>0.001652</td>\n",
              "      <td>0.001652</td>\n",
              "      <td>0.001652</td>\n",
              "      <td>0.001652</td>\n",
              "      <td>0.001652</td>\n",
              "      <td>0.001652</td>\n",
              "      <td>0.001652</td>\n",
              "      <td>0.001652</td>\n",
              "      <td>0.001652</td>\n",
              "      <td>...</td>\n",
              "      <td>0.003267</td>\n",
              "      <td>0.005186</td>\n",
              "      <td>0.003641</td>\n",
              "      <td>0.003792</td>\n",
              "      <td>0.003181</td>\n",
              "      <td>0.001758</td>\n",
              "      <td>0.001744</td>\n",
              "      <td>0.004300</td>\n",
              "      <td>0.004092</td>\n",
              "      <td>0.002571</td>\n",
              "    </tr>\n",
              "    <tr>\n",
              "      <th>TCGA-2F-A9KQ-01</th>\n",
              "      <td>0.001652</td>\n",
              "      <td>0.001652</td>\n",
              "      <td>0.001652</td>\n",
              "      <td>0.001652</td>\n",
              "      <td>0.001652</td>\n",
              "      <td>0.001652</td>\n",
              "      <td>0.001652</td>\n",
              "      <td>0.001652</td>\n",
              "      <td>0.001652</td>\n",
              "      <td>0.001652</td>\n",
              "      <td>...</td>\n",
              "      <td>0.001711</td>\n",
              "      <td>0.001840</td>\n",
              "      <td>0.001907</td>\n",
              "      <td>0.001986</td>\n",
              "      <td>0.003181</td>\n",
              "      <td>0.003356</td>\n",
              "      <td>0.003329</td>\n",
              "      <td>0.004300</td>\n",
              "      <td>0.004092</td>\n",
              "      <td>0.000234</td>\n",
              "    </tr>\n",
              "    <tr>\n",
              "      <th>TCGA-2F-A9KR-01</th>\n",
              "      <td>0.001652</td>\n",
              "      <td>0.001652</td>\n",
              "      <td>0.001652</td>\n",
              "      <td>0.001652</td>\n",
              "      <td>0.001652</td>\n",
              "      <td>0.001652</td>\n",
              "      <td>0.001652</td>\n",
              "      <td>0.001652</td>\n",
              "      <td>0.001652</td>\n",
              "      <td>0.001652</td>\n",
              "      <td>...</td>\n",
              "      <td>0.003267</td>\n",
              "      <td>0.000167</td>\n",
              "      <td>0.000173</td>\n",
              "      <td>0.000181</td>\n",
              "      <td>0.003181</td>\n",
              "      <td>0.001758</td>\n",
              "      <td>0.001744</td>\n",
              "      <td>0.000391</td>\n",
              "      <td>0.000372</td>\n",
              "      <td>0.000234</td>\n",
              "    </tr>\n",
              "    <tr>\n",
              "      <th>TCGA-2F-A9KT-01</th>\n",
              "      <td>0.003154</td>\n",
              "      <td>0.003154</td>\n",
              "      <td>0.003154</td>\n",
              "      <td>0.003154</td>\n",
              "      <td>0.003154</td>\n",
              "      <td>0.003154</td>\n",
              "      <td>0.003154</td>\n",
              "      <td>0.003154</td>\n",
              "      <td>0.003154</td>\n",
              "      <td>0.003154</td>\n",
              "      <td>...</td>\n",
              "      <td>0.001711</td>\n",
              "      <td>0.001840</td>\n",
              "      <td>0.001907</td>\n",
              "      <td>0.001986</td>\n",
              "      <td>0.000289</td>\n",
              "      <td>0.001758</td>\n",
              "      <td>0.001744</td>\n",
              "      <td>0.000391</td>\n",
              "      <td>0.000372</td>\n",
              "      <td>0.000234</td>\n",
              "    </tr>\n",
              "  </tbody>\n",
              "</table>\n",
              "<p>5 rows × 1000 columns</p>\n",
              "</div>\n",
              "      <button class=\"colab-df-convert\" onclick=\"convertToInteractive('df-6c447e4b-8cf3-4337-ae84-70b2a5daca7f')\"\n",
              "              title=\"Convert this dataframe to an interactive table.\"\n",
              "              style=\"display:none;\">\n",
              "        \n",
              "  <svg xmlns=\"http://www.w3.org/2000/svg\" height=\"24px\"viewBox=\"0 0 24 24\"\n",
              "       width=\"24px\">\n",
              "    <path d=\"M0 0h24v24H0V0z\" fill=\"none\"/>\n",
              "    <path d=\"M18.56 5.44l.94 2.06.94-2.06 2.06-.94-2.06-.94-.94-2.06-.94 2.06-2.06.94zm-11 1L8.5 8.5l.94-2.06 2.06-.94-2.06-.94L8.5 2.5l-.94 2.06-2.06.94zm10 10l.94 2.06.94-2.06 2.06-.94-2.06-.94-.94-2.06-.94 2.06-2.06.94z\"/><path d=\"M17.41 7.96l-1.37-1.37c-.4-.4-.92-.59-1.43-.59-.52 0-1.04.2-1.43.59L10.3 9.45l-7.72 7.72c-.78.78-.78 2.05 0 2.83L4 21.41c.39.39.9.59 1.41.59.51 0 1.02-.2 1.41-.59l7.78-7.78 2.81-2.81c.8-.78.8-2.07 0-2.86zM5.41 20L4 18.59l7.72-7.72 1.47 1.35L5.41 20z\"/>\n",
              "  </svg>\n",
              "      </button>\n",
              "      \n",
              "  <style>\n",
              "    .colab-df-container {\n",
              "      display:flex;\n",
              "      flex-wrap:wrap;\n",
              "      gap: 12px;\n",
              "    }\n",
              "\n",
              "    .colab-df-convert {\n",
              "      background-color: #E8F0FE;\n",
              "      border: none;\n",
              "      border-radius: 50%;\n",
              "      cursor: pointer;\n",
              "      display: none;\n",
              "      fill: #1967D2;\n",
              "      height: 32px;\n",
              "      padding: 0 0 0 0;\n",
              "      width: 32px;\n",
              "    }\n",
              "\n",
              "    .colab-df-convert:hover {\n",
              "      background-color: #E2EBFA;\n",
              "      box-shadow: 0px 1px 2px rgba(60, 64, 67, 0.3), 0px 1px 3px 1px rgba(60, 64, 67, 0.15);\n",
              "      fill: #174EA6;\n",
              "    }\n",
              "\n",
              "    [theme=dark] .colab-df-convert {\n",
              "      background-color: #3B4455;\n",
              "      fill: #D2E3FC;\n",
              "    }\n",
              "\n",
              "    [theme=dark] .colab-df-convert:hover {\n",
              "      background-color: #434B5C;\n",
              "      box-shadow: 0px 1px 3px 1px rgba(0, 0, 0, 0.15);\n",
              "      filter: drop-shadow(0px 1px 2px rgba(0, 0, 0, 0.3));\n",
              "      fill: #FFFFFF;\n",
              "    }\n",
              "  </style>\n",
              "\n",
              "      <script>\n",
              "        const buttonEl =\n",
              "          document.querySelector('#df-6c447e4b-8cf3-4337-ae84-70b2a5daca7f button.colab-df-convert');\n",
              "        buttonEl.style.display =\n",
              "          google.colab.kernel.accessAllowed ? 'block' : 'none';\n",
              "\n",
              "        async function convertToInteractive(key) {\n",
              "          const element = document.querySelector('#df-6c447e4b-8cf3-4337-ae84-70b2a5daca7f');\n",
              "          const dataTable =\n",
              "            await google.colab.kernel.invokeFunction('convertToInteractive',\n",
              "                                                     [key], {});\n",
              "          if (!dataTable) return;\n",
              "\n",
              "          const docLinkHtml = 'Like what you see? Visit the ' +\n",
              "            '<a target=\"_blank\" href=https://colab.research.google.com/notebooks/data_table.ipynb>data table notebook</a>'\n",
              "            + ' to learn more about interactive tables.';\n",
              "          element.innerHTML = '';\n",
              "          dataTable['output_type'] = 'display_data';\n",
              "          await google.colab.output.renderOutput(dataTable, element);\n",
              "          const docLink = document.createElement('div');\n",
              "          docLink.innerHTML = docLinkHtml;\n",
              "          element.appendChild(docLink);\n",
              "        }\n",
              "      </script>\n",
              "    </div>\n",
              "  </div>\n",
              "  "
            ]
          },
          "metadata": {},
          "execution_count": 19
        }
      ]
    },
    {
      "cell_type": "code",
      "source": [
        "kbest_df_ig.isnull().sum().sum()"
      ],
      "metadata": {
        "colab": {
          "base_uri": "https://localhost:8080/"
        },
        "id": "E_Vn6layLY-9",
        "outputId": "2504a667-3db3-4b4a-85bf-de7a0553222a"
      },
      "execution_count": 20,
      "outputs": [
        {
          "output_type": "execute_result",
          "data": {
            "text/plain": [
              "0"
            ]
          },
          "metadata": {},
          "execution_count": 20
        }
      ]
    },
    {
      "cell_type": "code",
      "source": [
        "kbest_df_ig.info()"
      ],
      "metadata": {
        "colab": {
          "base_uri": "https://localhost:8080/"
        },
        "id": "L0-IJejUZE9L",
        "outputId": "a9434a1a-724d-46a3-f720-56f9839ef314"
      },
      "execution_count": 21,
      "outputs": [
        {
          "output_type": "stream",
          "name": "stdout",
          "text": [
            "<class 'pandas.core.frame.DataFrame'>\n",
            "Index: 408 entries, TCGA-2F-A9KO-01 to TCGA-ZF-AA5P-01\n",
            "Columns: 1000 entries, GABPB2 to hsa-mir-220a\n",
            "dtypes: float64(1000)\n",
            "memory usage: 3.1+ MB\n"
          ]
        }
      ]
    },
    {
      "cell_type": "code",
      "source": [
        "kbest_df_ig['TMB_CLASS'] = y.iloc[:,0].values"
      ],
      "metadata": {
        "id": "-995NKEeZIuk"
      },
      "execution_count": 22,
      "outputs": []
    },
    {
      "cell_type": "code",
      "source": [
        "kbest_df_ig.head()"
      ],
      "metadata": {
        "colab": {
          "base_uri": "https://localhost:8080/",
          "height": 452
        },
        "id": "k-571aIWZN4H",
        "outputId": "17645f15-be1c-4ef6-eb2e-e5f33ab6b21b"
      },
      "execution_count": 23,
      "outputs": [
        {
          "output_type": "execute_result",
          "data": {
            "text/plain": [
              "                   GABPB2    SEMA6C    LYSMD1     SCNM1  TNFAIP8L2-SCNM1  \\\n",
              "SAMPLE_ID                                                                  \n",
              "TCGA-2F-A9KO-01  0.003154  0.003154  0.003154  0.003154         0.003154   \n",
              "TCGA-2F-A9KP-01  0.001652  0.001652  0.001652  0.001652         0.001652   \n",
              "TCGA-2F-A9KQ-01  0.001652  0.001652  0.001652  0.001652         0.001652   \n",
              "TCGA-2F-A9KR-01  0.001652  0.001652  0.001652  0.001652         0.001652   \n",
              "TCGA-2F-A9KT-01  0.003154  0.003154  0.003154  0.003154         0.003154   \n",
              "\n",
              "                 TNFAIP8L2     TMOD4     VPS72   PIP5K1A     PSMD4  ...  \\\n",
              "SAMPLE_ID                                                           ...   \n",
              "TCGA-2F-A9KO-01   0.003154  0.003154  0.003154  0.003154  0.003154  ...   \n",
              "TCGA-2F-A9KP-01   0.001652  0.001652  0.001652  0.001652  0.001652  ...   \n",
              "TCGA-2F-A9KQ-01   0.001652  0.001652  0.001652  0.001652  0.001652  ...   \n",
              "TCGA-2F-A9KR-01   0.001652  0.001652  0.001652  0.001652  0.001652  ...   \n",
              "TCGA-2F-A9KT-01   0.003154  0.003154  0.003154  0.003154  0.003154  ...   \n",
              "\n",
              "                 hsa-mir-378b  hsa-mir-3134  hsa-mir-3135  hsa-mir-3139  \\\n",
              "SAMPLE_ID                                                                 \n",
              "TCGA-2F-A9KO-01      0.003513      0.003641      0.003792      0.000289   \n",
              "TCGA-2F-A9KP-01      0.005186      0.003641      0.003792      0.003181   \n",
              "TCGA-2F-A9KQ-01      0.001840      0.001907      0.001986      0.003181   \n",
              "TCGA-2F-A9KR-01      0.000167      0.000173      0.000181      0.003181   \n",
              "TCGA-2F-A9KT-01      0.001840      0.001907      0.001986      0.000289   \n",
              "\n",
              "                 hsa-mir-548v  hsa-mir-548h-4  hsa-mir-302e  hsa-mir-3159  \\\n",
              "SAMPLE_ID                                                                   \n",
              "TCGA-2F-A9KO-01      0.001758        0.001744      0.000391      0.000372   \n",
              "TCGA-2F-A9KP-01      0.001758        0.001744      0.004300      0.004092   \n",
              "TCGA-2F-A9KQ-01      0.003356        0.003329      0.004300      0.004092   \n",
              "TCGA-2F-A9KR-01      0.001758        0.001744      0.000391      0.000372   \n",
              "TCGA-2F-A9KT-01      0.001758        0.001744      0.000391      0.000372   \n",
              "\n",
              "                 hsa-mir-220a  TMB_CLASS  \n",
              "SAMPLE_ID                                 \n",
              "TCGA-2F-A9KO-01      0.002571          2  \n",
              "TCGA-2F-A9KP-01      0.002571          1  \n",
              "TCGA-2F-A9KQ-01      0.000234          1  \n",
              "TCGA-2F-A9KR-01      0.000234          2  \n",
              "TCGA-2F-A9KT-01      0.000234          2  \n",
              "\n",
              "[5 rows x 1001 columns]"
            ],
            "text/html": [
              "\n",
              "  <div id=\"df-e27ef01f-0b29-4605-b066-637a0ca80860\">\n",
              "    <div class=\"colab-df-container\">\n",
              "      <div>\n",
              "<style scoped>\n",
              "    .dataframe tbody tr th:only-of-type {\n",
              "        vertical-align: middle;\n",
              "    }\n",
              "\n",
              "    .dataframe tbody tr th {\n",
              "        vertical-align: top;\n",
              "    }\n",
              "\n",
              "    .dataframe thead th {\n",
              "        text-align: right;\n",
              "    }\n",
              "</style>\n",
              "<table border=\"1\" class=\"dataframe\">\n",
              "  <thead>\n",
              "    <tr style=\"text-align: right;\">\n",
              "      <th></th>\n",
              "      <th>GABPB2</th>\n",
              "      <th>SEMA6C</th>\n",
              "      <th>LYSMD1</th>\n",
              "      <th>SCNM1</th>\n",
              "      <th>TNFAIP8L2-SCNM1</th>\n",
              "      <th>TNFAIP8L2</th>\n",
              "      <th>TMOD4</th>\n",
              "      <th>VPS72</th>\n",
              "      <th>PIP5K1A</th>\n",
              "      <th>PSMD4</th>\n",
              "      <th>...</th>\n",
              "      <th>hsa-mir-378b</th>\n",
              "      <th>hsa-mir-3134</th>\n",
              "      <th>hsa-mir-3135</th>\n",
              "      <th>hsa-mir-3139</th>\n",
              "      <th>hsa-mir-548v</th>\n",
              "      <th>hsa-mir-548h-4</th>\n",
              "      <th>hsa-mir-302e</th>\n",
              "      <th>hsa-mir-3159</th>\n",
              "      <th>hsa-mir-220a</th>\n",
              "      <th>TMB_CLASS</th>\n",
              "    </tr>\n",
              "    <tr>\n",
              "      <th>SAMPLE_ID</th>\n",
              "      <th></th>\n",
              "      <th></th>\n",
              "      <th></th>\n",
              "      <th></th>\n",
              "      <th></th>\n",
              "      <th></th>\n",
              "      <th></th>\n",
              "      <th></th>\n",
              "      <th></th>\n",
              "      <th></th>\n",
              "      <th></th>\n",
              "      <th></th>\n",
              "      <th></th>\n",
              "      <th></th>\n",
              "      <th></th>\n",
              "      <th></th>\n",
              "      <th></th>\n",
              "      <th></th>\n",
              "      <th></th>\n",
              "      <th></th>\n",
              "      <th></th>\n",
              "    </tr>\n",
              "  </thead>\n",
              "  <tbody>\n",
              "    <tr>\n",
              "      <th>TCGA-2F-A9KO-01</th>\n",
              "      <td>0.003154</td>\n",
              "      <td>0.003154</td>\n",
              "      <td>0.003154</td>\n",
              "      <td>0.003154</td>\n",
              "      <td>0.003154</td>\n",
              "      <td>0.003154</td>\n",
              "      <td>0.003154</td>\n",
              "      <td>0.003154</td>\n",
              "      <td>0.003154</td>\n",
              "      <td>0.003154</td>\n",
              "      <td>...</td>\n",
              "      <td>0.003513</td>\n",
              "      <td>0.003641</td>\n",
              "      <td>0.003792</td>\n",
              "      <td>0.000289</td>\n",
              "      <td>0.001758</td>\n",
              "      <td>0.001744</td>\n",
              "      <td>0.000391</td>\n",
              "      <td>0.000372</td>\n",
              "      <td>0.002571</td>\n",
              "      <td>2</td>\n",
              "    </tr>\n",
              "    <tr>\n",
              "      <th>TCGA-2F-A9KP-01</th>\n",
              "      <td>0.001652</td>\n",
              "      <td>0.001652</td>\n",
              "      <td>0.001652</td>\n",
              "      <td>0.001652</td>\n",
              "      <td>0.001652</td>\n",
              "      <td>0.001652</td>\n",
              "      <td>0.001652</td>\n",
              "      <td>0.001652</td>\n",
              "      <td>0.001652</td>\n",
              "      <td>0.001652</td>\n",
              "      <td>...</td>\n",
              "      <td>0.005186</td>\n",
              "      <td>0.003641</td>\n",
              "      <td>0.003792</td>\n",
              "      <td>0.003181</td>\n",
              "      <td>0.001758</td>\n",
              "      <td>0.001744</td>\n",
              "      <td>0.004300</td>\n",
              "      <td>0.004092</td>\n",
              "      <td>0.002571</td>\n",
              "      <td>1</td>\n",
              "    </tr>\n",
              "    <tr>\n",
              "      <th>TCGA-2F-A9KQ-01</th>\n",
              "      <td>0.001652</td>\n",
              "      <td>0.001652</td>\n",
              "      <td>0.001652</td>\n",
              "      <td>0.001652</td>\n",
              "      <td>0.001652</td>\n",
              "      <td>0.001652</td>\n",
              "      <td>0.001652</td>\n",
              "      <td>0.001652</td>\n",
              "      <td>0.001652</td>\n",
              "      <td>0.001652</td>\n",
              "      <td>...</td>\n",
              "      <td>0.001840</td>\n",
              "      <td>0.001907</td>\n",
              "      <td>0.001986</td>\n",
              "      <td>0.003181</td>\n",
              "      <td>0.003356</td>\n",
              "      <td>0.003329</td>\n",
              "      <td>0.004300</td>\n",
              "      <td>0.004092</td>\n",
              "      <td>0.000234</td>\n",
              "      <td>1</td>\n",
              "    </tr>\n",
              "    <tr>\n",
              "      <th>TCGA-2F-A9KR-01</th>\n",
              "      <td>0.001652</td>\n",
              "      <td>0.001652</td>\n",
              "      <td>0.001652</td>\n",
              "      <td>0.001652</td>\n",
              "      <td>0.001652</td>\n",
              "      <td>0.001652</td>\n",
              "      <td>0.001652</td>\n",
              "      <td>0.001652</td>\n",
              "      <td>0.001652</td>\n",
              "      <td>0.001652</td>\n",
              "      <td>...</td>\n",
              "      <td>0.000167</td>\n",
              "      <td>0.000173</td>\n",
              "      <td>0.000181</td>\n",
              "      <td>0.003181</td>\n",
              "      <td>0.001758</td>\n",
              "      <td>0.001744</td>\n",
              "      <td>0.000391</td>\n",
              "      <td>0.000372</td>\n",
              "      <td>0.000234</td>\n",
              "      <td>2</td>\n",
              "    </tr>\n",
              "    <tr>\n",
              "      <th>TCGA-2F-A9KT-01</th>\n",
              "      <td>0.003154</td>\n",
              "      <td>0.003154</td>\n",
              "      <td>0.003154</td>\n",
              "      <td>0.003154</td>\n",
              "      <td>0.003154</td>\n",
              "      <td>0.003154</td>\n",
              "      <td>0.003154</td>\n",
              "      <td>0.003154</td>\n",
              "      <td>0.003154</td>\n",
              "      <td>0.003154</td>\n",
              "      <td>...</td>\n",
              "      <td>0.001840</td>\n",
              "      <td>0.001907</td>\n",
              "      <td>0.001986</td>\n",
              "      <td>0.000289</td>\n",
              "      <td>0.001758</td>\n",
              "      <td>0.001744</td>\n",
              "      <td>0.000391</td>\n",
              "      <td>0.000372</td>\n",
              "      <td>0.000234</td>\n",
              "      <td>2</td>\n",
              "    </tr>\n",
              "  </tbody>\n",
              "</table>\n",
              "<p>5 rows × 1001 columns</p>\n",
              "</div>\n",
              "      <button class=\"colab-df-convert\" onclick=\"convertToInteractive('df-e27ef01f-0b29-4605-b066-637a0ca80860')\"\n",
              "              title=\"Convert this dataframe to an interactive table.\"\n",
              "              style=\"display:none;\">\n",
              "        \n",
              "  <svg xmlns=\"http://www.w3.org/2000/svg\" height=\"24px\"viewBox=\"0 0 24 24\"\n",
              "       width=\"24px\">\n",
              "    <path d=\"M0 0h24v24H0V0z\" fill=\"none\"/>\n",
              "    <path d=\"M18.56 5.44l.94 2.06.94-2.06 2.06-.94-2.06-.94-.94-2.06-.94 2.06-2.06.94zm-11 1L8.5 8.5l.94-2.06 2.06-.94-2.06-.94L8.5 2.5l-.94 2.06-2.06.94zm10 10l.94 2.06.94-2.06 2.06-.94-2.06-.94-.94-2.06-.94 2.06-2.06.94z\"/><path d=\"M17.41 7.96l-1.37-1.37c-.4-.4-.92-.59-1.43-.59-.52 0-1.04.2-1.43.59L10.3 9.45l-7.72 7.72c-.78.78-.78 2.05 0 2.83L4 21.41c.39.39.9.59 1.41.59.51 0 1.02-.2 1.41-.59l7.78-7.78 2.81-2.81c.8-.78.8-2.07 0-2.86zM5.41 20L4 18.59l7.72-7.72 1.47 1.35L5.41 20z\"/>\n",
              "  </svg>\n",
              "      </button>\n",
              "      \n",
              "  <style>\n",
              "    .colab-df-container {\n",
              "      display:flex;\n",
              "      flex-wrap:wrap;\n",
              "      gap: 12px;\n",
              "    }\n",
              "\n",
              "    .colab-df-convert {\n",
              "      background-color: #E8F0FE;\n",
              "      border: none;\n",
              "      border-radius: 50%;\n",
              "      cursor: pointer;\n",
              "      display: none;\n",
              "      fill: #1967D2;\n",
              "      height: 32px;\n",
              "      padding: 0 0 0 0;\n",
              "      width: 32px;\n",
              "    }\n",
              "\n",
              "    .colab-df-convert:hover {\n",
              "      background-color: #E2EBFA;\n",
              "      box-shadow: 0px 1px 2px rgba(60, 64, 67, 0.3), 0px 1px 3px 1px rgba(60, 64, 67, 0.15);\n",
              "      fill: #174EA6;\n",
              "    }\n",
              "\n",
              "    [theme=dark] .colab-df-convert {\n",
              "      background-color: #3B4455;\n",
              "      fill: #D2E3FC;\n",
              "    }\n",
              "\n",
              "    [theme=dark] .colab-df-convert:hover {\n",
              "      background-color: #434B5C;\n",
              "      box-shadow: 0px 1px 3px 1px rgba(0, 0, 0, 0.15);\n",
              "      filter: drop-shadow(0px 1px 2px rgba(0, 0, 0, 0.3));\n",
              "      fill: #FFFFFF;\n",
              "    }\n",
              "  </style>\n",
              "\n",
              "      <script>\n",
              "        const buttonEl =\n",
              "          document.querySelector('#df-e27ef01f-0b29-4605-b066-637a0ca80860 button.colab-df-convert');\n",
              "        buttonEl.style.display =\n",
              "          google.colab.kernel.accessAllowed ? 'block' : 'none';\n",
              "\n",
              "        async function convertToInteractive(key) {\n",
              "          const element = document.querySelector('#df-e27ef01f-0b29-4605-b066-637a0ca80860');\n",
              "          const dataTable =\n",
              "            await google.colab.kernel.invokeFunction('convertToInteractive',\n",
              "                                                     [key], {});\n",
              "          if (!dataTable) return;\n",
              "\n",
              "          const docLinkHtml = 'Like what you see? Visit the ' +\n",
              "            '<a target=\"_blank\" href=https://colab.research.google.com/notebooks/data_table.ipynb>data table notebook</a>'\n",
              "            + ' to learn more about interactive tables.';\n",
              "          element.innerHTML = '';\n",
              "          dataTable['output_type'] = 'display_data';\n",
              "          await google.colab.output.renderOutput(dataTable, element);\n",
              "          const docLink = document.createElement('div');\n",
              "          docLink.innerHTML = docLinkHtml;\n",
              "          element.appendChild(docLink);\n",
              "        }\n",
              "      </script>\n",
              "    </div>\n",
              "  </div>\n",
              "  "
            ]
          },
          "metadata": {},
          "execution_count": 23
        }
      ]
    },
    {
      "cell_type": "code",
      "source": [
        "kbest_df_ig.to_csv('./CNA-TMB-IG.csv',index=False)"
      ],
      "metadata": {
        "id": "mCq_APOfZQUn"
      },
      "execution_count": 24,
      "outputs": []
    },
    {
      "cell_type": "markdown",
      "source": [
        "## using RFE (Recursive Feature Elimination)"
      ],
      "metadata": {
        "id": "-1zbVjSpfCXa"
      }
    },
    {
      "cell_type": "code",
      "source": [
        "from sklearn.feature_selection import RFE\n",
        "from sklearn.ensemble import RandomForestClassifier"
      ],
      "metadata": {
        "id": "u0tg9kFtfIG2"
      },
      "execution_count": 35,
      "outputs": []
    },
    {
      "cell_type": "code",
      "source": [
        "rfe_selector = RFE(estimator=RandomForestClassifier(), n_features_to_select=1000, step=100, verbose=5)\n",
        "rfe_selector.fit(x, y)\n",
        "rfe_support = rfe_selector.get_support()"
      ],
      "metadata": {
        "colab": {
          "base_uri": "https://localhost:8080/"
        },
        "id": "tASM9fzBfUIS",
        "outputId": "e5425889-a12d-4b3b-b40c-98048e9e3e0d"
      },
      "execution_count": 37,
      "outputs": [
        {
          "output_type": "stream",
          "name": "stdout",
          "text": [
            "Fitting estimator with 25128 features.\n"
          ]
        },
        {
          "output_type": "stream",
          "name": "stderr",
          "text": [
            "/usr/local/lib/python3.7/dist-packages/sklearn/feature_selection/_rfe.py:283: DataConversionWarning: A column-vector y was passed when a 1d array was expected. Please change the shape of y to (n_samples,), for example using ravel().\n",
            "  estimator.fit(X[:, features], y, **fit_params)\n"
          ]
        },
        {
          "output_type": "stream",
          "name": "stdout",
          "text": [
            "Fitting estimator with 25028 features.\n"
          ]
        },
        {
          "output_type": "stream",
          "name": "stderr",
          "text": [
            "/usr/local/lib/python3.7/dist-packages/sklearn/feature_selection/_rfe.py:283: DataConversionWarning: A column-vector y was passed when a 1d array was expected. Please change the shape of y to (n_samples,), for example using ravel().\n",
            "  estimator.fit(X[:, features], y, **fit_params)\n"
          ]
        },
        {
          "output_type": "stream",
          "name": "stdout",
          "text": [
            "Fitting estimator with 24928 features.\n"
          ]
        },
        {
          "output_type": "stream",
          "name": "stderr",
          "text": [
            "/usr/local/lib/python3.7/dist-packages/sklearn/feature_selection/_rfe.py:283: DataConversionWarning: A column-vector y was passed when a 1d array was expected. Please change the shape of y to (n_samples,), for example using ravel().\n",
            "  estimator.fit(X[:, features], y, **fit_params)\n"
          ]
        },
        {
          "output_type": "stream",
          "name": "stdout",
          "text": [
            "Fitting estimator with 24828 features.\n"
          ]
        },
        {
          "output_type": "stream",
          "name": "stderr",
          "text": [
            "/usr/local/lib/python3.7/dist-packages/sklearn/feature_selection/_rfe.py:283: DataConversionWarning: A column-vector y was passed when a 1d array was expected. Please change the shape of y to (n_samples,), for example using ravel().\n",
            "  estimator.fit(X[:, features], y, **fit_params)\n"
          ]
        },
        {
          "output_type": "stream",
          "name": "stdout",
          "text": [
            "Fitting estimator with 24728 features.\n"
          ]
        },
        {
          "output_type": "stream",
          "name": "stderr",
          "text": [
            "/usr/local/lib/python3.7/dist-packages/sklearn/feature_selection/_rfe.py:283: DataConversionWarning: A column-vector y was passed when a 1d array was expected. Please change the shape of y to (n_samples,), for example using ravel().\n",
            "  estimator.fit(X[:, features], y, **fit_params)\n"
          ]
        },
        {
          "output_type": "stream",
          "name": "stdout",
          "text": [
            "Fitting estimator with 24628 features.\n"
          ]
        },
        {
          "output_type": "stream",
          "name": "stderr",
          "text": [
            "/usr/local/lib/python3.7/dist-packages/sklearn/feature_selection/_rfe.py:283: DataConversionWarning: A column-vector y was passed when a 1d array was expected. Please change the shape of y to (n_samples,), for example using ravel().\n",
            "  estimator.fit(X[:, features], y, **fit_params)\n"
          ]
        },
        {
          "output_type": "stream",
          "name": "stdout",
          "text": [
            "Fitting estimator with 24528 features.\n"
          ]
        },
        {
          "output_type": "stream",
          "name": "stderr",
          "text": [
            "/usr/local/lib/python3.7/dist-packages/sklearn/feature_selection/_rfe.py:283: DataConversionWarning: A column-vector y was passed when a 1d array was expected. Please change the shape of y to (n_samples,), for example using ravel().\n",
            "  estimator.fit(X[:, features], y, **fit_params)\n"
          ]
        },
        {
          "output_type": "stream",
          "name": "stdout",
          "text": [
            "Fitting estimator with 24428 features.\n"
          ]
        },
        {
          "output_type": "stream",
          "name": "stderr",
          "text": [
            "/usr/local/lib/python3.7/dist-packages/sklearn/feature_selection/_rfe.py:283: DataConversionWarning: A column-vector y was passed when a 1d array was expected. Please change the shape of y to (n_samples,), for example using ravel().\n",
            "  estimator.fit(X[:, features], y, **fit_params)\n"
          ]
        },
        {
          "output_type": "stream",
          "name": "stdout",
          "text": [
            "Fitting estimator with 24328 features.\n"
          ]
        },
        {
          "output_type": "stream",
          "name": "stderr",
          "text": [
            "/usr/local/lib/python3.7/dist-packages/sklearn/feature_selection/_rfe.py:283: DataConversionWarning: A column-vector y was passed when a 1d array was expected. Please change the shape of y to (n_samples,), for example using ravel().\n",
            "  estimator.fit(X[:, features], y, **fit_params)\n"
          ]
        },
        {
          "output_type": "stream",
          "name": "stdout",
          "text": [
            "Fitting estimator with 24228 features.\n"
          ]
        },
        {
          "output_type": "stream",
          "name": "stderr",
          "text": [
            "/usr/local/lib/python3.7/dist-packages/sklearn/feature_selection/_rfe.py:283: DataConversionWarning: A column-vector y was passed when a 1d array was expected. Please change the shape of y to (n_samples,), for example using ravel().\n",
            "  estimator.fit(X[:, features], y, **fit_params)\n"
          ]
        },
        {
          "output_type": "stream",
          "name": "stdout",
          "text": [
            "Fitting estimator with 24128 features.\n"
          ]
        },
        {
          "output_type": "stream",
          "name": "stderr",
          "text": [
            "/usr/local/lib/python3.7/dist-packages/sklearn/feature_selection/_rfe.py:283: DataConversionWarning: A column-vector y was passed when a 1d array was expected. Please change the shape of y to (n_samples,), for example using ravel().\n",
            "  estimator.fit(X[:, features], y, **fit_params)\n"
          ]
        },
        {
          "output_type": "stream",
          "name": "stdout",
          "text": [
            "Fitting estimator with 24028 features.\n"
          ]
        },
        {
          "output_type": "stream",
          "name": "stderr",
          "text": [
            "/usr/local/lib/python3.7/dist-packages/sklearn/feature_selection/_rfe.py:283: DataConversionWarning: A column-vector y was passed when a 1d array was expected. Please change the shape of y to (n_samples,), for example using ravel().\n",
            "  estimator.fit(X[:, features], y, **fit_params)\n"
          ]
        },
        {
          "output_type": "stream",
          "name": "stdout",
          "text": [
            "Fitting estimator with 23928 features.\n"
          ]
        },
        {
          "output_type": "stream",
          "name": "stderr",
          "text": [
            "/usr/local/lib/python3.7/dist-packages/sklearn/feature_selection/_rfe.py:283: DataConversionWarning: A column-vector y was passed when a 1d array was expected. Please change the shape of y to (n_samples,), for example using ravel().\n",
            "  estimator.fit(X[:, features], y, **fit_params)\n"
          ]
        },
        {
          "output_type": "stream",
          "name": "stdout",
          "text": [
            "Fitting estimator with 23828 features.\n"
          ]
        },
        {
          "output_type": "stream",
          "name": "stderr",
          "text": [
            "/usr/local/lib/python3.7/dist-packages/sklearn/feature_selection/_rfe.py:283: DataConversionWarning: A column-vector y was passed when a 1d array was expected. Please change the shape of y to (n_samples,), for example using ravel().\n",
            "  estimator.fit(X[:, features], y, **fit_params)\n"
          ]
        },
        {
          "output_type": "stream",
          "name": "stdout",
          "text": [
            "Fitting estimator with 23728 features.\n"
          ]
        },
        {
          "output_type": "stream",
          "name": "stderr",
          "text": [
            "/usr/local/lib/python3.7/dist-packages/sklearn/feature_selection/_rfe.py:283: DataConversionWarning: A column-vector y was passed when a 1d array was expected. Please change the shape of y to (n_samples,), for example using ravel().\n",
            "  estimator.fit(X[:, features], y, **fit_params)\n"
          ]
        },
        {
          "output_type": "stream",
          "name": "stdout",
          "text": [
            "Fitting estimator with 23628 features.\n"
          ]
        },
        {
          "output_type": "stream",
          "name": "stderr",
          "text": [
            "/usr/local/lib/python3.7/dist-packages/sklearn/feature_selection/_rfe.py:283: DataConversionWarning: A column-vector y was passed when a 1d array was expected. Please change the shape of y to (n_samples,), for example using ravel().\n",
            "  estimator.fit(X[:, features], y, **fit_params)\n"
          ]
        },
        {
          "output_type": "stream",
          "name": "stdout",
          "text": [
            "Fitting estimator with 23528 features.\n"
          ]
        },
        {
          "output_type": "stream",
          "name": "stderr",
          "text": [
            "/usr/local/lib/python3.7/dist-packages/sklearn/feature_selection/_rfe.py:283: DataConversionWarning: A column-vector y was passed when a 1d array was expected. Please change the shape of y to (n_samples,), for example using ravel().\n",
            "  estimator.fit(X[:, features], y, **fit_params)\n"
          ]
        },
        {
          "output_type": "stream",
          "name": "stdout",
          "text": [
            "Fitting estimator with 23428 features.\n"
          ]
        },
        {
          "output_type": "stream",
          "name": "stderr",
          "text": [
            "/usr/local/lib/python3.7/dist-packages/sklearn/feature_selection/_rfe.py:283: DataConversionWarning: A column-vector y was passed when a 1d array was expected. Please change the shape of y to (n_samples,), for example using ravel().\n",
            "  estimator.fit(X[:, features], y, **fit_params)\n"
          ]
        },
        {
          "output_type": "stream",
          "name": "stdout",
          "text": [
            "Fitting estimator with 23328 features.\n"
          ]
        },
        {
          "output_type": "stream",
          "name": "stderr",
          "text": [
            "/usr/local/lib/python3.7/dist-packages/sklearn/feature_selection/_rfe.py:283: DataConversionWarning: A column-vector y was passed when a 1d array was expected. Please change the shape of y to (n_samples,), for example using ravel().\n",
            "  estimator.fit(X[:, features], y, **fit_params)\n"
          ]
        },
        {
          "output_type": "stream",
          "name": "stdout",
          "text": [
            "Fitting estimator with 23228 features.\n"
          ]
        },
        {
          "output_type": "stream",
          "name": "stderr",
          "text": [
            "/usr/local/lib/python3.7/dist-packages/sklearn/feature_selection/_rfe.py:283: DataConversionWarning: A column-vector y was passed when a 1d array was expected. Please change the shape of y to (n_samples,), for example using ravel().\n",
            "  estimator.fit(X[:, features], y, **fit_params)\n"
          ]
        },
        {
          "output_type": "stream",
          "name": "stdout",
          "text": [
            "Fitting estimator with 23128 features.\n"
          ]
        },
        {
          "output_type": "stream",
          "name": "stderr",
          "text": [
            "/usr/local/lib/python3.7/dist-packages/sklearn/feature_selection/_rfe.py:283: DataConversionWarning: A column-vector y was passed when a 1d array was expected. Please change the shape of y to (n_samples,), for example using ravel().\n",
            "  estimator.fit(X[:, features], y, **fit_params)\n"
          ]
        },
        {
          "output_type": "stream",
          "name": "stdout",
          "text": [
            "Fitting estimator with 23028 features.\n"
          ]
        },
        {
          "output_type": "stream",
          "name": "stderr",
          "text": [
            "/usr/local/lib/python3.7/dist-packages/sklearn/feature_selection/_rfe.py:283: DataConversionWarning: A column-vector y was passed when a 1d array was expected. Please change the shape of y to (n_samples,), for example using ravel().\n",
            "  estimator.fit(X[:, features], y, **fit_params)\n"
          ]
        },
        {
          "output_type": "stream",
          "name": "stdout",
          "text": [
            "Fitting estimator with 22928 features.\n"
          ]
        },
        {
          "output_type": "stream",
          "name": "stderr",
          "text": [
            "/usr/local/lib/python3.7/dist-packages/sklearn/feature_selection/_rfe.py:283: DataConversionWarning: A column-vector y was passed when a 1d array was expected. Please change the shape of y to (n_samples,), for example using ravel().\n",
            "  estimator.fit(X[:, features], y, **fit_params)\n"
          ]
        },
        {
          "output_type": "stream",
          "name": "stdout",
          "text": [
            "Fitting estimator with 22828 features.\n"
          ]
        },
        {
          "output_type": "stream",
          "name": "stderr",
          "text": [
            "/usr/local/lib/python3.7/dist-packages/sklearn/feature_selection/_rfe.py:283: DataConversionWarning: A column-vector y was passed when a 1d array was expected. Please change the shape of y to (n_samples,), for example using ravel().\n",
            "  estimator.fit(X[:, features], y, **fit_params)\n"
          ]
        },
        {
          "output_type": "stream",
          "name": "stdout",
          "text": [
            "Fitting estimator with 22728 features.\n"
          ]
        },
        {
          "output_type": "stream",
          "name": "stderr",
          "text": [
            "/usr/local/lib/python3.7/dist-packages/sklearn/feature_selection/_rfe.py:283: DataConversionWarning: A column-vector y was passed when a 1d array was expected. Please change the shape of y to (n_samples,), for example using ravel().\n",
            "  estimator.fit(X[:, features], y, **fit_params)\n"
          ]
        },
        {
          "output_type": "stream",
          "name": "stdout",
          "text": [
            "Fitting estimator with 22628 features.\n"
          ]
        },
        {
          "output_type": "stream",
          "name": "stderr",
          "text": [
            "/usr/local/lib/python3.7/dist-packages/sklearn/feature_selection/_rfe.py:283: DataConversionWarning: A column-vector y was passed when a 1d array was expected. Please change the shape of y to (n_samples,), for example using ravel().\n",
            "  estimator.fit(X[:, features], y, **fit_params)\n"
          ]
        },
        {
          "output_type": "stream",
          "name": "stdout",
          "text": [
            "Fitting estimator with 22528 features.\n"
          ]
        },
        {
          "output_type": "stream",
          "name": "stderr",
          "text": [
            "/usr/local/lib/python3.7/dist-packages/sklearn/feature_selection/_rfe.py:283: DataConversionWarning: A column-vector y was passed when a 1d array was expected. Please change the shape of y to (n_samples,), for example using ravel().\n",
            "  estimator.fit(X[:, features], y, **fit_params)\n"
          ]
        },
        {
          "output_type": "stream",
          "name": "stdout",
          "text": [
            "Fitting estimator with 22428 features.\n"
          ]
        },
        {
          "output_type": "stream",
          "name": "stderr",
          "text": [
            "/usr/local/lib/python3.7/dist-packages/sklearn/feature_selection/_rfe.py:283: DataConversionWarning: A column-vector y was passed when a 1d array was expected. Please change the shape of y to (n_samples,), for example using ravel().\n",
            "  estimator.fit(X[:, features], y, **fit_params)\n"
          ]
        },
        {
          "output_type": "stream",
          "name": "stdout",
          "text": [
            "Fitting estimator with 22328 features.\n"
          ]
        },
        {
          "output_type": "stream",
          "name": "stderr",
          "text": [
            "/usr/local/lib/python3.7/dist-packages/sklearn/feature_selection/_rfe.py:283: DataConversionWarning: A column-vector y was passed when a 1d array was expected. Please change the shape of y to (n_samples,), for example using ravel().\n",
            "  estimator.fit(X[:, features], y, **fit_params)\n"
          ]
        },
        {
          "output_type": "stream",
          "name": "stdout",
          "text": [
            "Fitting estimator with 22228 features.\n"
          ]
        },
        {
          "output_type": "stream",
          "name": "stderr",
          "text": [
            "/usr/local/lib/python3.7/dist-packages/sklearn/feature_selection/_rfe.py:283: DataConversionWarning: A column-vector y was passed when a 1d array was expected. Please change the shape of y to (n_samples,), for example using ravel().\n",
            "  estimator.fit(X[:, features], y, **fit_params)\n"
          ]
        },
        {
          "output_type": "stream",
          "name": "stdout",
          "text": [
            "Fitting estimator with 22128 features.\n"
          ]
        },
        {
          "output_type": "stream",
          "name": "stderr",
          "text": [
            "/usr/local/lib/python3.7/dist-packages/sklearn/feature_selection/_rfe.py:283: DataConversionWarning: A column-vector y was passed when a 1d array was expected. Please change the shape of y to (n_samples,), for example using ravel().\n",
            "  estimator.fit(X[:, features], y, **fit_params)\n"
          ]
        },
        {
          "output_type": "stream",
          "name": "stdout",
          "text": [
            "Fitting estimator with 22028 features.\n"
          ]
        },
        {
          "output_type": "stream",
          "name": "stderr",
          "text": [
            "/usr/local/lib/python3.7/dist-packages/sklearn/feature_selection/_rfe.py:283: DataConversionWarning: A column-vector y was passed when a 1d array was expected. Please change the shape of y to (n_samples,), for example using ravel().\n",
            "  estimator.fit(X[:, features], y, **fit_params)\n"
          ]
        },
        {
          "output_type": "stream",
          "name": "stdout",
          "text": [
            "Fitting estimator with 21928 features.\n"
          ]
        },
        {
          "output_type": "stream",
          "name": "stderr",
          "text": [
            "/usr/local/lib/python3.7/dist-packages/sklearn/feature_selection/_rfe.py:283: DataConversionWarning: A column-vector y was passed when a 1d array was expected. Please change the shape of y to (n_samples,), for example using ravel().\n",
            "  estimator.fit(X[:, features], y, **fit_params)\n"
          ]
        },
        {
          "output_type": "stream",
          "name": "stdout",
          "text": [
            "Fitting estimator with 21828 features.\n"
          ]
        },
        {
          "output_type": "stream",
          "name": "stderr",
          "text": [
            "/usr/local/lib/python3.7/dist-packages/sklearn/feature_selection/_rfe.py:283: DataConversionWarning: A column-vector y was passed when a 1d array was expected. Please change the shape of y to (n_samples,), for example using ravel().\n",
            "  estimator.fit(X[:, features], y, **fit_params)\n"
          ]
        },
        {
          "output_type": "stream",
          "name": "stdout",
          "text": [
            "Fitting estimator with 21728 features.\n"
          ]
        },
        {
          "output_type": "stream",
          "name": "stderr",
          "text": [
            "/usr/local/lib/python3.7/dist-packages/sklearn/feature_selection/_rfe.py:283: DataConversionWarning: A column-vector y was passed when a 1d array was expected. Please change the shape of y to (n_samples,), for example using ravel().\n",
            "  estimator.fit(X[:, features], y, **fit_params)\n"
          ]
        },
        {
          "output_type": "stream",
          "name": "stdout",
          "text": [
            "Fitting estimator with 21628 features.\n"
          ]
        },
        {
          "output_type": "stream",
          "name": "stderr",
          "text": [
            "/usr/local/lib/python3.7/dist-packages/sklearn/feature_selection/_rfe.py:283: DataConversionWarning: A column-vector y was passed when a 1d array was expected. Please change the shape of y to (n_samples,), for example using ravel().\n",
            "  estimator.fit(X[:, features], y, **fit_params)\n"
          ]
        },
        {
          "output_type": "stream",
          "name": "stdout",
          "text": [
            "Fitting estimator with 21528 features.\n"
          ]
        },
        {
          "output_type": "stream",
          "name": "stderr",
          "text": [
            "/usr/local/lib/python3.7/dist-packages/sklearn/feature_selection/_rfe.py:283: DataConversionWarning: A column-vector y was passed when a 1d array was expected. Please change the shape of y to (n_samples,), for example using ravel().\n",
            "  estimator.fit(X[:, features], y, **fit_params)\n"
          ]
        },
        {
          "output_type": "stream",
          "name": "stdout",
          "text": [
            "Fitting estimator with 21428 features.\n"
          ]
        },
        {
          "output_type": "stream",
          "name": "stderr",
          "text": [
            "/usr/local/lib/python3.7/dist-packages/sklearn/feature_selection/_rfe.py:283: DataConversionWarning: A column-vector y was passed when a 1d array was expected. Please change the shape of y to (n_samples,), for example using ravel().\n",
            "  estimator.fit(X[:, features], y, **fit_params)\n"
          ]
        },
        {
          "output_type": "stream",
          "name": "stdout",
          "text": [
            "Fitting estimator with 21328 features.\n"
          ]
        },
        {
          "output_type": "stream",
          "name": "stderr",
          "text": [
            "/usr/local/lib/python3.7/dist-packages/sklearn/feature_selection/_rfe.py:283: DataConversionWarning: A column-vector y was passed when a 1d array was expected. Please change the shape of y to (n_samples,), for example using ravel().\n",
            "  estimator.fit(X[:, features], y, **fit_params)\n"
          ]
        },
        {
          "output_type": "stream",
          "name": "stdout",
          "text": [
            "Fitting estimator with 21228 features.\n"
          ]
        },
        {
          "output_type": "stream",
          "name": "stderr",
          "text": [
            "/usr/local/lib/python3.7/dist-packages/sklearn/feature_selection/_rfe.py:283: DataConversionWarning: A column-vector y was passed when a 1d array was expected. Please change the shape of y to (n_samples,), for example using ravel().\n",
            "  estimator.fit(X[:, features], y, **fit_params)\n"
          ]
        },
        {
          "output_type": "stream",
          "name": "stdout",
          "text": [
            "Fitting estimator with 21128 features.\n"
          ]
        },
        {
          "output_type": "stream",
          "name": "stderr",
          "text": [
            "/usr/local/lib/python3.7/dist-packages/sklearn/feature_selection/_rfe.py:283: DataConversionWarning: A column-vector y was passed when a 1d array was expected. Please change the shape of y to (n_samples,), for example using ravel().\n",
            "  estimator.fit(X[:, features], y, **fit_params)\n"
          ]
        },
        {
          "output_type": "stream",
          "name": "stdout",
          "text": [
            "Fitting estimator with 21028 features.\n"
          ]
        },
        {
          "output_type": "stream",
          "name": "stderr",
          "text": [
            "/usr/local/lib/python3.7/dist-packages/sklearn/feature_selection/_rfe.py:283: DataConversionWarning: A column-vector y was passed when a 1d array was expected. Please change the shape of y to (n_samples,), for example using ravel().\n",
            "  estimator.fit(X[:, features], y, **fit_params)\n"
          ]
        },
        {
          "output_type": "stream",
          "name": "stdout",
          "text": [
            "Fitting estimator with 20928 features.\n"
          ]
        },
        {
          "output_type": "stream",
          "name": "stderr",
          "text": [
            "/usr/local/lib/python3.7/dist-packages/sklearn/feature_selection/_rfe.py:283: DataConversionWarning: A column-vector y was passed when a 1d array was expected. Please change the shape of y to (n_samples,), for example using ravel().\n",
            "  estimator.fit(X[:, features], y, **fit_params)\n"
          ]
        },
        {
          "output_type": "stream",
          "name": "stdout",
          "text": [
            "Fitting estimator with 20828 features.\n"
          ]
        },
        {
          "output_type": "stream",
          "name": "stderr",
          "text": [
            "/usr/local/lib/python3.7/dist-packages/sklearn/feature_selection/_rfe.py:283: DataConversionWarning: A column-vector y was passed when a 1d array was expected. Please change the shape of y to (n_samples,), for example using ravel().\n",
            "  estimator.fit(X[:, features], y, **fit_params)\n"
          ]
        },
        {
          "output_type": "stream",
          "name": "stdout",
          "text": [
            "Fitting estimator with 20728 features.\n"
          ]
        },
        {
          "output_type": "stream",
          "name": "stderr",
          "text": [
            "/usr/local/lib/python3.7/dist-packages/sklearn/feature_selection/_rfe.py:283: DataConversionWarning: A column-vector y was passed when a 1d array was expected. Please change the shape of y to (n_samples,), for example using ravel().\n",
            "  estimator.fit(X[:, features], y, **fit_params)\n"
          ]
        },
        {
          "output_type": "stream",
          "name": "stdout",
          "text": [
            "Fitting estimator with 20628 features.\n"
          ]
        },
        {
          "output_type": "stream",
          "name": "stderr",
          "text": [
            "/usr/local/lib/python3.7/dist-packages/sklearn/feature_selection/_rfe.py:283: DataConversionWarning: A column-vector y was passed when a 1d array was expected. Please change the shape of y to (n_samples,), for example using ravel().\n",
            "  estimator.fit(X[:, features], y, **fit_params)\n"
          ]
        },
        {
          "output_type": "stream",
          "name": "stdout",
          "text": [
            "Fitting estimator with 20528 features.\n"
          ]
        },
        {
          "output_type": "stream",
          "name": "stderr",
          "text": [
            "/usr/local/lib/python3.7/dist-packages/sklearn/feature_selection/_rfe.py:283: DataConversionWarning: A column-vector y was passed when a 1d array was expected. Please change the shape of y to (n_samples,), for example using ravel().\n",
            "  estimator.fit(X[:, features], y, **fit_params)\n"
          ]
        },
        {
          "output_type": "stream",
          "name": "stdout",
          "text": [
            "Fitting estimator with 20428 features.\n"
          ]
        },
        {
          "output_type": "stream",
          "name": "stderr",
          "text": [
            "/usr/local/lib/python3.7/dist-packages/sklearn/feature_selection/_rfe.py:283: DataConversionWarning: A column-vector y was passed when a 1d array was expected. Please change the shape of y to (n_samples,), for example using ravel().\n",
            "  estimator.fit(X[:, features], y, **fit_params)\n"
          ]
        },
        {
          "output_type": "stream",
          "name": "stdout",
          "text": [
            "Fitting estimator with 20328 features.\n"
          ]
        },
        {
          "output_type": "stream",
          "name": "stderr",
          "text": [
            "/usr/local/lib/python3.7/dist-packages/sklearn/feature_selection/_rfe.py:283: DataConversionWarning: A column-vector y was passed when a 1d array was expected. Please change the shape of y to (n_samples,), for example using ravel().\n",
            "  estimator.fit(X[:, features], y, **fit_params)\n"
          ]
        },
        {
          "output_type": "stream",
          "name": "stdout",
          "text": [
            "Fitting estimator with 20228 features.\n"
          ]
        },
        {
          "output_type": "stream",
          "name": "stderr",
          "text": [
            "/usr/local/lib/python3.7/dist-packages/sklearn/feature_selection/_rfe.py:283: DataConversionWarning: A column-vector y was passed when a 1d array was expected. Please change the shape of y to (n_samples,), for example using ravel().\n",
            "  estimator.fit(X[:, features], y, **fit_params)\n"
          ]
        },
        {
          "output_type": "stream",
          "name": "stdout",
          "text": [
            "Fitting estimator with 20128 features.\n"
          ]
        },
        {
          "output_type": "stream",
          "name": "stderr",
          "text": [
            "/usr/local/lib/python3.7/dist-packages/sklearn/feature_selection/_rfe.py:283: DataConversionWarning: A column-vector y was passed when a 1d array was expected. Please change the shape of y to (n_samples,), for example using ravel().\n",
            "  estimator.fit(X[:, features], y, **fit_params)\n"
          ]
        },
        {
          "output_type": "stream",
          "name": "stdout",
          "text": [
            "Fitting estimator with 20028 features.\n"
          ]
        },
        {
          "output_type": "stream",
          "name": "stderr",
          "text": [
            "/usr/local/lib/python3.7/dist-packages/sklearn/feature_selection/_rfe.py:283: DataConversionWarning: A column-vector y was passed when a 1d array was expected. Please change the shape of y to (n_samples,), for example using ravel().\n",
            "  estimator.fit(X[:, features], y, **fit_params)\n"
          ]
        },
        {
          "output_type": "stream",
          "name": "stdout",
          "text": [
            "Fitting estimator with 19928 features.\n"
          ]
        },
        {
          "output_type": "stream",
          "name": "stderr",
          "text": [
            "/usr/local/lib/python3.7/dist-packages/sklearn/feature_selection/_rfe.py:283: DataConversionWarning: A column-vector y was passed when a 1d array was expected. Please change the shape of y to (n_samples,), for example using ravel().\n",
            "  estimator.fit(X[:, features], y, **fit_params)\n"
          ]
        },
        {
          "output_type": "stream",
          "name": "stdout",
          "text": [
            "Fitting estimator with 19828 features.\n"
          ]
        },
        {
          "output_type": "stream",
          "name": "stderr",
          "text": [
            "/usr/local/lib/python3.7/dist-packages/sklearn/feature_selection/_rfe.py:283: DataConversionWarning: A column-vector y was passed when a 1d array was expected. Please change the shape of y to (n_samples,), for example using ravel().\n",
            "  estimator.fit(X[:, features], y, **fit_params)\n"
          ]
        },
        {
          "output_type": "stream",
          "name": "stdout",
          "text": [
            "Fitting estimator with 19728 features.\n"
          ]
        },
        {
          "output_type": "stream",
          "name": "stderr",
          "text": [
            "/usr/local/lib/python3.7/dist-packages/sklearn/feature_selection/_rfe.py:283: DataConversionWarning: A column-vector y was passed when a 1d array was expected. Please change the shape of y to (n_samples,), for example using ravel().\n",
            "  estimator.fit(X[:, features], y, **fit_params)\n"
          ]
        },
        {
          "output_type": "stream",
          "name": "stdout",
          "text": [
            "Fitting estimator with 19628 features.\n"
          ]
        },
        {
          "output_type": "stream",
          "name": "stderr",
          "text": [
            "/usr/local/lib/python3.7/dist-packages/sklearn/feature_selection/_rfe.py:283: DataConversionWarning: A column-vector y was passed when a 1d array was expected. Please change the shape of y to (n_samples,), for example using ravel().\n",
            "  estimator.fit(X[:, features], y, **fit_params)\n"
          ]
        },
        {
          "output_type": "stream",
          "name": "stdout",
          "text": [
            "Fitting estimator with 19528 features.\n"
          ]
        },
        {
          "output_type": "stream",
          "name": "stderr",
          "text": [
            "/usr/local/lib/python3.7/dist-packages/sklearn/feature_selection/_rfe.py:283: DataConversionWarning: A column-vector y was passed when a 1d array was expected. Please change the shape of y to (n_samples,), for example using ravel().\n",
            "  estimator.fit(X[:, features], y, **fit_params)\n"
          ]
        },
        {
          "output_type": "stream",
          "name": "stdout",
          "text": [
            "Fitting estimator with 19428 features.\n"
          ]
        },
        {
          "output_type": "stream",
          "name": "stderr",
          "text": [
            "/usr/local/lib/python3.7/dist-packages/sklearn/feature_selection/_rfe.py:283: DataConversionWarning: A column-vector y was passed when a 1d array was expected. Please change the shape of y to (n_samples,), for example using ravel().\n",
            "  estimator.fit(X[:, features], y, **fit_params)\n"
          ]
        },
        {
          "output_type": "stream",
          "name": "stdout",
          "text": [
            "Fitting estimator with 19328 features.\n"
          ]
        },
        {
          "output_type": "stream",
          "name": "stderr",
          "text": [
            "/usr/local/lib/python3.7/dist-packages/sklearn/feature_selection/_rfe.py:283: DataConversionWarning: A column-vector y was passed when a 1d array was expected. Please change the shape of y to (n_samples,), for example using ravel().\n",
            "  estimator.fit(X[:, features], y, **fit_params)\n"
          ]
        },
        {
          "output_type": "stream",
          "name": "stdout",
          "text": [
            "Fitting estimator with 19228 features.\n"
          ]
        },
        {
          "output_type": "stream",
          "name": "stderr",
          "text": [
            "/usr/local/lib/python3.7/dist-packages/sklearn/feature_selection/_rfe.py:283: DataConversionWarning: A column-vector y was passed when a 1d array was expected. Please change the shape of y to (n_samples,), for example using ravel().\n",
            "  estimator.fit(X[:, features], y, **fit_params)\n"
          ]
        },
        {
          "output_type": "stream",
          "name": "stdout",
          "text": [
            "Fitting estimator with 19128 features.\n"
          ]
        },
        {
          "output_type": "stream",
          "name": "stderr",
          "text": [
            "/usr/local/lib/python3.7/dist-packages/sklearn/feature_selection/_rfe.py:283: DataConversionWarning: A column-vector y was passed when a 1d array was expected. Please change the shape of y to (n_samples,), for example using ravel().\n",
            "  estimator.fit(X[:, features], y, **fit_params)\n"
          ]
        },
        {
          "output_type": "stream",
          "name": "stdout",
          "text": [
            "Fitting estimator with 19028 features.\n"
          ]
        },
        {
          "output_type": "stream",
          "name": "stderr",
          "text": [
            "/usr/local/lib/python3.7/dist-packages/sklearn/feature_selection/_rfe.py:283: DataConversionWarning: A column-vector y was passed when a 1d array was expected. Please change the shape of y to (n_samples,), for example using ravel().\n",
            "  estimator.fit(X[:, features], y, **fit_params)\n"
          ]
        },
        {
          "output_type": "stream",
          "name": "stdout",
          "text": [
            "Fitting estimator with 18928 features.\n"
          ]
        },
        {
          "output_type": "stream",
          "name": "stderr",
          "text": [
            "/usr/local/lib/python3.7/dist-packages/sklearn/feature_selection/_rfe.py:283: DataConversionWarning: A column-vector y was passed when a 1d array was expected. Please change the shape of y to (n_samples,), for example using ravel().\n",
            "  estimator.fit(X[:, features], y, **fit_params)\n"
          ]
        },
        {
          "output_type": "stream",
          "name": "stdout",
          "text": [
            "Fitting estimator with 18828 features.\n"
          ]
        },
        {
          "output_type": "stream",
          "name": "stderr",
          "text": [
            "/usr/local/lib/python3.7/dist-packages/sklearn/feature_selection/_rfe.py:283: DataConversionWarning: A column-vector y was passed when a 1d array was expected. Please change the shape of y to (n_samples,), for example using ravel().\n",
            "  estimator.fit(X[:, features], y, **fit_params)\n"
          ]
        },
        {
          "output_type": "stream",
          "name": "stdout",
          "text": [
            "Fitting estimator with 18728 features.\n"
          ]
        },
        {
          "output_type": "stream",
          "name": "stderr",
          "text": [
            "/usr/local/lib/python3.7/dist-packages/sklearn/feature_selection/_rfe.py:283: DataConversionWarning: A column-vector y was passed when a 1d array was expected. Please change the shape of y to (n_samples,), for example using ravel().\n",
            "  estimator.fit(X[:, features], y, **fit_params)\n"
          ]
        },
        {
          "output_type": "stream",
          "name": "stdout",
          "text": [
            "Fitting estimator with 18628 features.\n"
          ]
        },
        {
          "output_type": "stream",
          "name": "stderr",
          "text": [
            "/usr/local/lib/python3.7/dist-packages/sklearn/feature_selection/_rfe.py:283: DataConversionWarning: A column-vector y was passed when a 1d array was expected. Please change the shape of y to (n_samples,), for example using ravel().\n",
            "  estimator.fit(X[:, features], y, **fit_params)\n"
          ]
        },
        {
          "output_type": "stream",
          "name": "stdout",
          "text": [
            "Fitting estimator with 18528 features.\n"
          ]
        },
        {
          "output_type": "stream",
          "name": "stderr",
          "text": [
            "/usr/local/lib/python3.7/dist-packages/sklearn/feature_selection/_rfe.py:283: DataConversionWarning: A column-vector y was passed when a 1d array was expected. Please change the shape of y to (n_samples,), for example using ravel().\n",
            "  estimator.fit(X[:, features], y, **fit_params)\n"
          ]
        },
        {
          "output_type": "stream",
          "name": "stdout",
          "text": [
            "Fitting estimator with 18428 features.\n"
          ]
        },
        {
          "output_type": "stream",
          "name": "stderr",
          "text": [
            "/usr/local/lib/python3.7/dist-packages/sklearn/feature_selection/_rfe.py:283: DataConversionWarning: A column-vector y was passed when a 1d array was expected. Please change the shape of y to (n_samples,), for example using ravel().\n",
            "  estimator.fit(X[:, features], y, **fit_params)\n"
          ]
        },
        {
          "output_type": "stream",
          "name": "stdout",
          "text": [
            "Fitting estimator with 18328 features.\n"
          ]
        },
        {
          "output_type": "stream",
          "name": "stderr",
          "text": [
            "/usr/local/lib/python3.7/dist-packages/sklearn/feature_selection/_rfe.py:283: DataConversionWarning: A column-vector y was passed when a 1d array was expected. Please change the shape of y to (n_samples,), for example using ravel().\n",
            "  estimator.fit(X[:, features], y, **fit_params)\n"
          ]
        },
        {
          "output_type": "stream",
          "name": "stdout",
          "text": [
            "Fitting estimator with 18228 features.\n"
          ]
        },
        {
          "output_type": "stream",
          "name": "stderr",
          "text": [
            "/usr/local/lib/python3.7/dist-packages/sklearn/feature_selection/_rfe.py:283: DataConversionWarning: A column-vector y was passed when a 1d array was expected. Please change the shape of y to (n_samples,), for example using ravel().\n",
            "  estimator.fit(X[:, features], y, **fit_params)\n"
          ]
        },
        {
          "output_type": "stream",
          "name": "stdout",
          "text": [
            "Fitting estimator with 18128 features.\n"
          ]
        },
        {
          "output_type": "stream",
          "name": "stderr",
          "text": [
            "/usr/local/lib/python3.7/dist-packages/sklearn/feature_selection/_rfe.py:283: DataConversionWarning: A column-vector y was passed when a 1d array was expected. Please change the shape of y to (n_samples,), for example using ravel().\n",
            "  estimator.fit(X[:, features], y, **fit_params)\n"
          ]
        },
        {
          "output_type": "stream",
          "name": "stdout",
          "text": [
            "Fitting estimator with 18028 features.\n"
          ]
        },
        {
          "output_type": "stream",
          "name": "stderr",
          "text": [
            "/usr/local/lib/python3.7/dist-packages/sklearn/feature_selection/_rfe.py:283: DataConversionWarning: A column-vector y was passed when a 1d array was expected. Please change the shape of y to (n_samples,), for example using ravel().\n",
            "  estimator.fit(X[:, features], y, **fit_params)\n"
          ]
        },
        {
          "output_type": "stream",
          "name": "stdout",
          "text": [
            "Fitting estimator with 17928 features.\n"
          ]
        },
        {
          "output_type": "stream",
          "name": "stderr",
          "text": [
            "/usr/local/lib/python3.7/dist-packages/sklearn/feature_selection/_rfe.py:283: DataConversionWarning: A column-vector y was passed when a 1d array was expected. Please change the shape of y to (n_samples,), for example using ravel().\n",
            "  estimator.fit(X[:, features], y, **fit_params)\n"
          ]
        },
        {
          "output_type": "stream",
          "name": "stdout",
          "text": [
            "Fitting estimator with 17828 features.\n"
          ]
        },
        {
          "output_type": "stream",
          "name": "stderr",
          "text": [
            "/usr/local/lib/python3.7/dist-packages/sklearn/feature_selection/_rfe.py:283: DataConversionWarning: A column-vector y was passed when a 1d array was expected. Please change the shape of y to (n_samples,), for example using ravel().\n",
            "  estimator.fit(X[:, features], y, **fit_params)\n"
          ]
        },
        {
          "output_type": "stream",
          "name": "stdout",
          "text": [
            "Fitting estimator with 17728 features.\n"
          ]
        },
        {
          "output_type": "stream",
          "name": "stderr",
          "text": [
            "/usr/local/lib/python3.7/dist-packages/sklearn/feature_selection/_rfe.py:283: DataConversionWarning: A column-vector y was passed when a 1d array was expected. Please change the shape of y to (n_samples,), for example using ravel().\n",
            "  estimator.fit(X[:, features], y, **fit_params)\n"
          ]
        },
        {
          "output_type": "stream",
          "name": "stdout",
          "text": [
            "Fitting estimator with 17628 features.\n"
          ]
        },
        {
          "output_type": "stream",
          "name": "stderr",
          "text": [
            "/usr/local/lib/python3.7/dist-packages/sklearn/feature_selection/_rfe.py:283: DataConversionWarning: A column-vector y was passed when a 1d array was expected. Please change the shape of y to (n_samples,), for example using ravel().\n",
            "  estimator.fit(X[:, features], y, **fit_params)\n"
          ]
        },
        {
          "output_type": "stream",
          "name": "stdout",
          "text": [
            "Fitting estimator with 17528 features.\n"
          ]
        },
        {
          "output_type": "stream",
          "name": "stderr",
          "text": [
            "/usr/local/lib/python3.7/dist-packages/sklearn/feature_selection/_rfe.py:283: DataConversionWarning: A column-vector y was passed when a 1d array was expected. Please change the shape of y to (n_samples,), for example using ravel().\n",
            "  estimator.fit(X[:, features], y, **fit_params)\n"
          ]
        },
        {
          "output_type": "stream",
          "name": "stdout",
          "text": [
            "Fitting estimator with 17428 features.\n"
          ]
        },
        {
          "output_type": "stream",
          "name": "stderr",
          "text": [
            "/usr/local/lib/python3.7/dist-packages/sklearn/feature_selection/_rfe.py:283: DataConversionWarning: A column-vector y was passed when a 1d array was expected. Please change the shape of y to (n_samples,), for example using ravel().\n",
            "  estimator.fit(X[:, features], y, **fit_params)\n"
          ]
        },
        {
          "output_type": "stream",
          "name": "stdout",
          "text": [
            "Fitting estimator with 17328 features.\n"
          ]
        },
        {
          "output_type": "stream",
          "name": "stderr",
          "text": [
            "/usr/local/lib/python3.7/dist-packages/sklearn/feature_selection/_rfe.py:283: DataConversionWarning: A column-vector y was passed when a 1d array was expected. Please change the shape of y to (n_samples,), for example using ravel().\n",
            "  estimator.fit(X[:, features], y, **fit_params)\n"
          ]
        },
        {
          "output_type": "stream",
          "name": "stdout",
          "text": [
            "Fitting estimator with 17228 features.\n"
          ]
        },
        {
          "output_type": "stream",
          "name": "stderr",
          "text": [
            "/usr/local/lib/python3.7/dist-packages/sklearn/feature_selection/_rfe.py:283: DataConversionWarning: A column-vector y was passed when a 1d array was expected. Please change the shape of y to (n_samples,), for example using ravel().\n",
            "  estimator.fit(X[:, features], y, **fit_params)\n"
          ]
        },
        {
          "output_type": "stream",
          "name": "stdout",
          "text": [
            "Fitting estimator with 17128 features.\n"
          ]
        },
        {
          "output_type": "stream",
          "name": "stderr",
          "text": [
            "/usr/local/lib/python3.7/dist-packages/sklearn/feature_selection/_rfe.py:283: DataConversionWarning: A column-vector y was passed when a 1d array was expected. Please change the shape of y to (n_samples,), for example using ravel().\n",
            "  estimator.fit(X[:, features], y, **fit_params)\n"
          ]
        },
        {
          "output_type": "stream",
          "name": "stdout",
          "text": [
            "Fitting estimator with 17028 features.\n"
          ]
        },
        {
          "output_type": "stream",
          "name": "stderr",
          "text": [
            "/usr/local/lib/python3.7/dist-packages/sklearn/feature_selection/_rfe.py:283: DataConversionWarning: A column-vector y was passed when a 1d array was expected. Please change the shape of y to (n_samples,), for example using ravel().\n",
            "  estimator.fit(X[:, features], y, **fit_params)\n"
          ]
        },
        {
          "output_type": "stream",
          "name": "stdout",
          "text": [
            "Fitting estimator with 16928 features.\n"
          ]
        },
        {
          "output_type": "stream",
          "name": "stderr",
          "text": [
            "/usr/local/lib/python3.7/dist-packages/sklearn/feature_selection/_rfe.py:283: DataConversionWarning: A column-vector y was passed when a 1d array was expected. Please change the shape of y to (n_samples,), for example using ravel().\n",
            "  estimator.fit(X[:, features], y, **fit_params)\n"
          ]
        },
        {
          "output_type": "stream",
          "name": "stdout",
          "text": [
            "Fitting estimator with 16828 features.\n"
          ]
        },
        {
          "output_type": "stream",
          "name": "stderr",
          "text": [
            "/usr/local/lib/python3.7/dist-packages/sklearn/feature_selection/_rfe.py:283: DataConversionWarning: A column-vector y was passed when a 1d array was expected. Please change the shape of y to (n_samples,), for example using ravel().\n",
            "  estimator.fit(X[:, features], y, **fit_params)\n"
          ]
        },
        {
          "output_type": "stream",
          "name": "stdout",
          "text": [
            "Fitting estimator with 16728 features.\n"
          ]
        },
        {
          "output_type": "stream",
          "name": "stderr",
          "text": [
            "/usr/local/lib/python3.7/dist-packages/sklearn/feature_selection/_rfe.py:283: DataConversionWarning: A column-vector y was passed when a 1d array was expected. Please change the shape of y to (n_samples,), for example using ravel().\n",
            "  estimator.fit(X[:, features], y, **fit_params)\n"
          ]
        },
        {
          "output_type": "stream",
          "name": "stdout",
          "text": [
            "Fitting estimator with 16628 features.\n"
          ]
        },
        {
          "output_type": "stream",
          "name": "stderr",
          "text": [
            "/usr/local/lib/python3.7/dist-packages/sklearn/feature_selection/_rfe.py:283: DataConversionWarning: A column-vector y was passed when a 1d array was expected. Please change the shape of y to (n_samples,), for example using ravel().\n",
            "  estimator.fit(X[:, features], y, **fit_params)\n"
          ]
        },
        {
          "output_type": "stream",
          "name": "stdout",
          "text": [
            "Fitting estimator with 16528 features.\n"
          ]
        },
        {
          "output_type": "stream",
          "name": "stderr",
          "text": [
            "/usr/local/lib/python3.7/dist-packages/sklearn/feature_selection/_rfe.py:283: DataConversionWarning: A column-vector y was passed when a 1d array was expected. Please change the shape of y to (n_samples,), for example using ravel().\n",
            "  estimator.fit(X[:, features], y, **fit_params)\n"
          ]
        },
        {
          "output_type": "stream",
          "name": "stdout",
          "text": [
            "Fitting estimator with 16428 features.\n"
          ]
        },
        {
          "output_type": "stream",
          "name": "stderr",
          "text": [
            "/usr/local/lib/python3.7/dist-packages/sklearn/feature_selection/_rfe.py:283: DataConversionWarning: A column-vector y was passed when a 1d array was expected. Please change the shape of y to (n_samples,), for example using ravel().\n",
            "  estimator.fit(X[:, features], y, **fit_params)\n"
          ]
        },
        {
          "output_type": "stream",
          "name": "stdout",
          "text": [
            "Fitting estimator with 16328 features.\n"
          ]
        },
        {
          "output_type": "stream",
          "name": "stderr",
          "text": [
            "/usr/local/lib/python3.7/dist-packages/sklearn/feature_selection/_rfe.py:283: DataConversionWarning: A column-vector y was passed when a 1d array was expected. Please change the shape of y to (n_samples,), for example using ravel().\n",
            "  estimator.fit(X[:, features], y, **fit_params)\n"
          ]
        },
        {
          "output_type": "stream",
          "name": "stdout",
          "text": [
            "Fitting estimator with 16228 features.\n"
          ]
        },
        {
          "output_type": "stream",
          "name": "stderr",
          "text": [
            "/usr/local/lib/python3.7/dist-packages/sklearn/feature_selection/_rfe.py:283: DataConversionWarning: A column-vector y was passed when a 1d array was expected. Please change the shape of y to (n_samples,), for example using ravel().\n",
            "  estimator.fit(X[:, features], y, **fit_params)\n"
          ]
        },
        {
          "output_type": "stream",
          "name": "stdout",
          "text": [
            "Fitting estimator with 16128 features.\n"
          ]
        },
        {
          "output_type": "stream",
          "name": "stderr",
          "text": [
            "/usr/local/lib/python3.7/dist-packages/sklearn/feature_selection/_rfe.py:283: DataConversionWarning: A column-vector y was passed when a 1d array was expected. Please change the shape of y to (n_samples,), for example using ravel().\n",
            "  estimator.fit(X[:, features], y, **fit_params)\n"
          ]
        },
        {
          "output_type": "stream",
          "name": "stdout",
          "text": [
            "Fitting estimator with 16028 features.\n"
          ]
        },
        {
          "output_type": "stream",
          "name": "stderr",
          "text": [
            "/usr/local/lib/python3.7/dist-packages/sklearn/feature_selection/_rfe.py:283: DataConversionWarning: A column-vector y was passed when a 1d array was expected. Please change the shape of y to (n_samples,), for example using ravel().\n",
            "  estimator.fit(X[:, features], y, **fit_params)\n"
          ]
        },
        {
          "output_type": "stream",
          "name": "stdout",
          "text": [
            "Fitting estimator with 15928 features.\n"
          ]
        },
        {
          "output_type": "stream",
          "name": "stderr",
          "text": [
            "/usr/local/lib/python3.7/dist-packages/sklearn/feature_selection/_rfe.py:283: DataConversionWarning: A column-vector y was passed when a 1d array was expected. Please change the shape of y to (n_samples,), for example using ravel().\n",
            "  estimator.fit(X[:, features], y, **fit_params)\n"
          ]
        },
        {
          "output_type": "stream",
          "name": "stdout",
          "text": [
            "Fitting estimator with 15828 features.\n"
          ]
        },
        {
          "output_type": "stream",
          "name": "stderr",
          "text": [
            "/usr/local/lib/python3.7/dist-packages/sklearn/feature_selection/_rfe.py:283: DataConversionWarning: A column-vector y was passed when a 1d array was expected. Please change the shape of y to (n_samples,), for example using ravel().\n",
            "  estimator.fit(X[:, features], y, **fit_params)\n"
          ]
        },
        {
          "output_type": "stream",
          "name": "stdout",
          "text": [
            "Fitting estimator with 15728 features.\n"
          ]
        },
        {
          "output_type": "stream",
          "name": "stderr",
          "text": [
            "/usr/local/lib/python3.7/dist-packages/sklearn/feature_selection/_rfe.py:283: DataConversionWarning: A column-vector y was passed when a 1d array was expected. Please change the shape of y to (n_samples,), for example using ravel().\n",
            "  estimator.fit(X[:, features], y, **fit_params)\n"
          ]
        },
        {
          "output_type": "stream",
          "name": "stdout",
          "text": [
            "Fitting estimator with 15628 features.\n"
          ]
        },
        {
          "output_type": "stream",
          "name": "stderr",
          "text": [
            "/usr/local/lib/python3.7/dist-packages/sklearn/feature_selection/_rfe.py:283: DataConversionWarning: A column-vector y was passed when a 1d array was expected. Please change the shape of y to (n_samples,), for example using ravel().\n",
            "  estimator.fit(X[:, features], y, **fit_params)\n"
          ]
        },
        {
          "output_type": "stream",
          "name": "stdout",
          "text": [
            "Fitting estimator with 15528 features.\n"
          ]
        },
        {
          "output_type": "stream",
          "name": "stderr",
          "text": [
            "/usr/local/lib/python3.7/dist-packages/sklearn/feature_selection/_rfe.py:283: DataConversionWarning: A column-vector y was passed when a 1d array was expected. Please change the shape of y to (n_samples,), for example using ravel().\n",
            "  estimator.fit(X[:, features], y, **fit_params)\n"
          ]
        },
        {
          "output_type": "stream",
          "name": "stdout",
          "text": [
            "Fitting estimator with 15428 features.\n"
          ]
        },
        {
          "output_type": "stream",
          "name": "stderr",
          "text": [
            "/usr/local/lib/python3.7/dist-packages/sklearn/feature_selection/_rfe.py:283: DataConversionWarning: A column-vector y was passed when a 1d array was expected. Please change the shape of y to (n_samples,), for example using ravel().\n",
            "  estimator.fit(X[:, features], y, **fit_params)\n"
          ]
        },
        {
          "output_type": "stream",
          "name": "stdout",
          "text": [
            "Fitting estimator with 15328 features.\n"
          ]
        },
        {
          "output_type": "stream",
          "name": "stderr",
          "text": [
            "/usr/local/lib/python3.7/dist-packages/sklearn/feature_selection/_rfe.py:283: DataConversionWarning: A column-vector y was passed when a 1d array was expected. Please change the shape of y to (n_samples,), for example using ravel().\n",
            "  estimator.fit(X[:, features], y, **fit_params)\n"
          ]
        },
        {
          "output_type": "stream",
          "name": "stdout",
          "text": [
            "Fitting estimator with 15228 features.\n"
          ]
        },
        {
          "output_type": "stream",
          "name": "stderr",
          "text": [
            "/usr/local/lib/python3.7/dist-packages/sklearn/feature_selection/_rfe.py:283: DataConversionWarning: A column-vector y was passed when a 1d array was expected. Please change the shape of y to (n_samples,), for example using ravel().\n",
            "  estimator.fit(X[:, features], y, **fit_params)\n"
          ]
        },
        {
          "output_type": "stream",
          "name": "stdout",
          "text": [
            "Fitting estimator with 15128 features.\n"
          ]
        },
        {
          "output_type": "stream",
          "name": "stderr",
          "text": [
            "/usr/local/lib/python3.7/dist-packages/sklearn/feature_selection/_rfe.py:283: DataConversionWarning: A column-vector y was passed when a 1d array was expected. Please change the shape of y to (n_samples,), for example using ravel().\n",
            "  estimator.fit(X[:, features], y, **fit_params)\n"
          ]
        },
        {
          "output_type": "stream",
          "name": "stdout",
          "text": [
            "Fitting estimator with 15028 features.\n"
          ]
        },
        {
          "output_type": "stream",
          "name": "stderr",
          "text": [
            "/usr/local/lib/python3.7/dist-packages/sklearn/feature_selection/_rfe.py:283: DataConversionWarning: A column-vector y was passed when a 1d array was expected. Please change the shape of y to (n_samples,), for example using ravel().\n",
            "  estimator.fit(X[:, features], y, **fit_params)\n"
          ]
        },
        {
          "output_type": "stream",
          "name": "stdout",
          "text": [
            "Fitting estimator with 14928 features.\n"
          ]
        },
        {
          "output_type": "stream",
          "name": "stderr",
          "text": [
            "/usr/local/lib/python3.7/dist-packages/sklearn/feature_selection/_rfe.py:283: DataConversionWarning: A column-vector y was passed when a 1d array was expected. Please change the shape of y to (n_samples,), for example using ravel().\n",
            "  estimator.fit(X[:, features], y, **fit_params)\n"
          ]
        },
        {
          "output_type": "stream",
          "name": "stdout",
          "text": [
            "Fitting estimator with 14828 features.\n"
          ]
        },
        {
          "output_type": "stream",
          "name": "stderr",
          "text": [
            "/usr/local/lib/python3.7/dist-packages/sklearn/feature_selection/_rfe.py:283: DataConversionWarning: A column-vector y was passed when a 1d array was expected. Please change the shape of y to (n_samples,), for example using ravel().\n",
            "  estimator.fit(X[:, features], y, **fit_params)\n"
          ]
        },
        {
          "output_type": "stream",
          "name": "stdout",
          "text": [
            "Fitting estimator with 14728 features.\n"
          ]
        },
        {
          "output_type": "stream",
          "name": "stderr",
          "text": [
            "/usr/local/lib/python3.7/dist-packages/sklearn/feature_selection/_rfe.py:283: DataConversionWarning: A column-vector y was passed when a 1d array was expected. Please change the shape of y to (n_samples,), for example using ravel().\n",
            "  estimator.fit(X[:, features], y, **fit_params)\n"
          ]
        },
        {
          "output_type": "stream",
          "name": "stdout",
          "text": [
            "Fitting estimator with 14628 features.\n"
          ]
        },
        {
          "output_type": "stream",
          "name": "stderr",
          "text": [
            "/usr/local/lib/python3.7/dist-packages/sklearn/feature_selection/_rfe.py:283: DataConversionWarning: A column-vector y was passed when a 1d array was expected. Please change the shape of y to (n_samples,), for example using ravel().\n",
            "  estimator.fit(X[:, features], y, **fit_params)\n"
          ]
        },
        {
          "output_type": "stream",
          "name": "stdout",
          "text": [
            "Fitting estimator with 14528 features.\n"
          ]
        },
        {
          "output_type": "stream",
          "name": "stderr",
          "text": [
            "/usr/local/lib/python3.7/dist-packages/sklearn/feature_selection/_rfe.py:283: DataConversionWarning: A column-vector y was passed when a 1d array was expected. Please change the shape of y to (n_samples,), for example using ravel().\n",
            "  estimator.fit(X[:, features], y, **fit_params)\n"
          ]
        },
        {
          "output_type": "stream",
          "name": "stdout",
          "text": [
            "Fitting estimator with 14428 features.\n"
          ]
        },
        {
          "output_type": "stream",
          "name": "stderr",
          "text": [
            "/usr/local/lib/python3.7/dist-packages/sklearn/feature_selection/_rfe.py:283: DataConversionWarning: A column-vector y was passed when a 1d array was expected. Please change the shape of y to (n_samples,), for example using ravel().\n",
            "  estimator.fit(X[:, features], y, **fit_params)\n"
          ]
        },
        {
          "output_type": "stream",
          "name": "stdout",
          "text": [
            "Fitting estimator with 14328 features.\n"
          ]
        },
        {
          "output_type": "stream",
          "name": "stderr",
          "text": [
            "/usr/local/lib/python3.7/dist-packages/sklearn/feature_selection/_rfe.py:283: DataConversionWarning: A column-vector y was passed when a 1d array was expected. Please change the shape of y to (n_samples,), for example using ravel().\n",
            "  estimator.fit(X[:, features], y, **fit_params)\n"
          ]
        },
        {
          "output_type": "stream",
          "name": "stdout",
          "text": [
            "Fitting estimator with 14228 features.\n"
          ]
        },
        {
          "output_type": "stream",
          "name": "stderr",
          "text": [
            "/usr/local/lib/python3.7/dist-packages/sklearn/feature_selection/_rfe.py:283: DataConversionWarning: A column-vector y was passed when a 1d array was expected. Please change the shape of y to (n_samples,), for example using ravel().\n",
            "  estimator.fit(X[:, features], y, **fit_params)\n"
          ]
        },
        {
          "output_type": "stream",
          "name": "stdout",
          "text": [
            "Fitting estimator with 14128 features.\n"
          ]
        },
        {
          "output_type": "stream",
          "name": "stderr",
          "text": [
            "/usr/local/lib/python3.7/dist-packages/sklearn/feature_selection/_rfe.py:283: DataConversionWarning: A column-vector y was passed when a 1d array was expected. Please change the shape of y to (n_samples,), for example using ravel().\n",
            "  estimator.fit(X[:, features], y, **fit_params)\n"
          ]
        },
        {
          "output_type": "stream",
          "name": "stdout",
          "text": [
            "Fitting estimator with 14028 features.\n"
          ]
        },
        {
          "output_type": "stream",
          "name": "stderr",
          "text": [
            "/usr/local/lib/python3.7/dist-packages/sklearn/feature_selection/_rfe.py:283: DataConversionWarning: A column-vector y was passed when a 1d array was expected. Please change the shape of y to (n_samples,), for example using ravel().\n",
            "  estimator.fit(X[:, features], y, **fit_params)\n"
          ]
        },
        {
          "output_type": "stream",
          "name": "stdout",
          "text": [
            "Fitting estimator with 13928 features.\n"
          ]
        },
        {
          "output_type": "stream",
          "name": "stderr",
          "text": [
            "/usr/local/lib/python3.7/dist-packages/sklearn/feature_selection/_rfe.py:283: DataConversionWarning: A column-vector y was passed when a 1d array was expected. Please change the shape of y to (n_samples,), for example using ravel().\n",
            "  estimator.fit(X[:, features], y, **fit_params)\n"
          ]
        },
        {
          "output_type": "stream",
          "name": "stdout",
          "text": [
            "Fitting estimator with 13828 features.\n"
          ]
        },
        {
          "output_type": "stream",
          "name": "stderr",
          "text": [
            "/usr/local/lib/python3.7/dist-packages/sklearn/feature_selection/_rfe.py:283: DataConversionWarning: A column-vector y was passed when a 1d array was expected. Please change the shape of y to (n_samples,), for example using ravel().\n",
            "  estimator.fit(X[:, features], y, **fit_params)\n"
          ]
        },
        {
          "output_type": "stream",
          "name": "stdout",
          "text": [
            "Fitting estimator with 13728 features.\n"
          ]
        },
        {
          "output_type": "stream",
          "name": "stderr",
          "text": [
            "/usr/local/lib/python3.7/dist-packages/sklearn/feature_selection/_rfe.py:283: DataConversionWarning: A column-vector y was passed when a 1d array was expected. Please change the shape of y to (n_samples,), for example using ravel().\n",
            "  estimator.fit(X[:, features], y, **fit_params)\n"
          ]
        },
        {
          "output_type": "stream",
          "name": "stdout",
          "text": [
            "Fitting estimator with 13628 features.\n"
          ]
        },
        {
          "output_type": "stream",
          "name": "stderr",
          "text": [
            "/usr/local/lib/python3.7/dist-packages/sklearn/feature_selection/_rfe.py:283: DataConversionWarning: A column-vector y was passed when a 1d array was expected. Please change the shape of y to (n_samples,), for example using ravel().\n",
            "  estimator.fit(X[:, features], y, **fit_params)\n"
          ]
        },
        {
          "output_type": "stream",
          "name": "stdout",
          "text": [
            "Fitting estimator with 13528 features.\n"
          ]
        },
        {
          "output_type": "stream",
          "name": "stderr",
          "text": [
            "/usr/local/lib/python3.7/dist-packages/sklearn/feature_selection/_rfe.py:283: DataConversionWarning: A column-vector y was passed when a 1d array was expected. Please change the shape of y to (n_samples,), for example using ravel().\n",
            "  estimator.fit(X[:, features], y, **fit_params)\n"
          ]
        },
        {
          "output_type": "stream",
          "name": "stdout",
          "text": [
            "Fitting estimator with 13428 features.\n"
          ]
        },
        {
          "output_type": "stream",
          "name": "stderr",
          "text": [
            "/usr/local/lib/python3.7/dist-packages/sklearn/feature_selection/_rfe.py:283: DataConversionWarning: A column-vector y was passed when a 1d array was expected. Please change the shape of y to (n_samples,), for example using ravel().\n",
            "  estimator.fit(X[:, features], y, **fit_params)\n"
          ]
        },
        {
          "output_type": "stream",
          "name": "stdout",
          "text": [
            "Fitting estimator with 13328 features.\n"
          ]
        },
        {
          "output_type": "stream",
          "name": "stderr",
          "text": [
            "/usr/local/lib/python3.7/dist-packages/sklearn/feature_selection/_rfe.py:283: DataConversionWarning: A column-vector y was passed when a 1d array was expected. Please change the shape of y to (n_samples,), for example using ravel().\n",
            "  estimator.fit(X[:, features], y, **fit_params)\n"
          ]
        },
        {
          "output_type": "stream",
          "name": "stdout",
          "text": [
            "Fitting estimator with 13228 features.\n"
          ]
        },
        {
          "output_type": "stream",
          "name": "stderr",
          "text": [
            "/usr/local/lib/python3.7/dist-packages/sklearn/feature_selection/_rfe.py:283: DataConversionWarning: A column-vector y was passed when a 1d array was expected. Please change the shape of y to (n_samples,), for example using ravel().\n",
            "  estimator.fit(X[:, features], y, **fit_params)\n"
          ]
        },
        {
          "output_type": "stream",
          "name": "stdout",
          "text": [
            "Fitting estimator with 13128 features.\n"
          ]
        },
        {
          "output_type": "stream",
          "name": "stderr",
          "text": [
            "/usr/local/lib/python3.7/dist-packages/sklearn/feature_selection/_rfe.py:283: DataConversionWarning: A column-vector y was passed when a 1d array was expected. Please change the shape of y to (n_samples,), for example using ravel().\n",
            "  estimator.fit(X[:, features], y, **fit_params)\n"
          ]
        },
        {
          "output_type": "stream",
          "name": "stdout",
          "text": [
            "Fitting estimator with 13028 features.\n"
          ]
        },
        {
          "output_type": "stream",
          "name": "stderr",
          "text": [
            "/usr/local/lib/python3.7/dist-packages/sklearn/feature_selection/_rfe.py:283: DataConversionWarning: A column-vector y was passed when a 1d array was expected. Please change the shape of y to (n_samples,), for example using ravel().\n",
            "  estimator.fit(X[:, features], y, **fit_params)\n"
          ]
        },
        {
          "output_type": "stream",
          "name": "stdout",
          "text": [
            "Fitting estimator with 12928 features.\n"
          ]
        },
        {
          "output_type": "stream",
          "name": "stderr",
          "text": [
            "/usr/local/lib/python3.7/dist-packages/sklearn/feature_selection/_rfe.py:283: DataConversionWarning: A column-vector y was passed when a 1d array was expected. Please change the shape of y to (n_samples,), for example using ravel().\n",
            "  estimator.fit(X[:, features], y, **fit_params)\n"
          ]
        },
        {
          "output_type": "stream",
          "name": "stdout",
          "text": [
            "Fitting estimator with 12828 features.\n"
          ]
        },
        {
          "output_type": "stream",
          "name": "stderr",
          "text": [
            "/usr/local/lib/python3.7/dist-packages/sklearn/feature_selection/_rfe.py:283: DataConversionWarning: A column-vector y was passed when a 1d array was expected. Please change the shape of y to (n_samples,), for example using ravel().\n",
            "  estimator.fit(X[:, features], y, **fit_params)\n"
          ]
        },
        {
          "output_type": "stream",
          "name": "stdout",
          "text": [
            "Fitting estimator with 12728 features.\n"
          ]
        },
        {
          "output_type": "stream",
          "name": "stderr",
          "text": [
            "/usr/local/lib/python3.7/dist-packages/sklearn/feature_selection/_rfe.py:283: DataConversionWarning: A column-vector y was passed when a 1d array was expected. Please change the shape of y to (n_samples,), for example using ravel().\n",
            "  estimator.fit(X[:, features], y, **fit_params)\n"
          ]
        },
        {
          "output_type": "stream",
          "name": "stdout",
          "text": [
            "Fitting estimator with 12628 features.\n"
          ]
        },
        {
          "output_type": "stream",
          "name": "stderr",
          "text": [
            "/usr/local/lib/python3.7/dist-packages/sklearn/feature_selection/_rfe.py:283: DataConversionWarning: A column-vector y was passed when a 1d array was expected. Please change the shape of y to (n_samples,), for example using ravel().\n",
            "  estimator.fit(X[:, features], y, **fit_params)\n"
          ]
        },
        {
          "output_type": "stream",
          "name": "stdout",
          "text": [
            "Fitting estimator with 12528 features.\n"
          ]
        },
        {
          "output_type": "stream",
          "name": "stderr",
          "text": [
            "/usr/local/lib/python3.7/dist-packages/sklearn/feature_selection/_rfe.py:283: DataConversionWarning: A column-vector y was passed when a 1d array was expected. Please change the shape of y to (n_samples,), for example using ravel().\n",
            "  estimator.fit(X[:, features], y, **fit_params)\n"
          ]
        },
        {
          "output_type": "stream",
          "name": "stdout",
          "text": [
            "Fitting estimator with 12428 features.\n"
          ]
        },
        {
          "output_type": "stream",
          "name": "stderr",
          "text": [
            "/usr/local/lib/python3.7/dist-packages/sklearn/feature_selection/_rfe.py:283: DataConversionWarning: A column-vector y was passed when a 1d array was expected. Please change the shape of y to (n_samples,), for example using ravel().\n",
            "  estimator.fit(X[:, features], y, **fit_params)\n"
          ]
        },
        {
          "output_type": "stream",
          "name": "stdout",
          "text": [
            "Fitting estimator with 12328 features.\n"
          ]
        },
        {
          "output_type": "stream",
          "name": "stderr",
          "text": [
            "/usr/local/lib/python3.7/dist-packages/sklearn/feature_selection/_rfe.py:283: DataConversionWarning: A column-vector y was passed when a 1d array was expected. Please change the shape of y to (n_samples,), for example using ravel().\n",
            "  estimator.fit(X[:, features], y, **fit_params)\n"
          ]
        },
        {
          "output_type": "stream",
          "name": "stdout",
          "text": [
            "Fitting estimator with 12228 features.\n"
          ]
        },
        {
          "output_type": "stream",
          "name": "stderr",
          "text": [
            "/usr/local/lib/python3.7/dist-packages/sklearn/feature_selection/_rfe.py:283: DataConversionWarning: A column-vector y was passed when a 1d array was expected. Please change the shape of y to (n_samples,), for example using ravel().\n",
            "  estimator.fit(X[:, features], y, **fit_params)\n"
          ]
        },
        {
          "output_type": "stream",
          "name": "stdout",
          "text": [
            "Fitting estimator with 12128 features.\n"
          ]
        },
        {
          "output_type": "stream",
          "name": "stderr",
          "text": [
            "/usr/local/lib/python3.7/dist-packages/sklearn/feature_selection/_rfe.py:283: DataConversionWarning: A column-vector y was passed when a 1d array was expected. Please change the shape of y to (n_samples,), for example using ravel().\n",
            "  estimator.fit(X[:, features], y, **fit_params)\n"
          ]
        },
        {
          "output_type": "stream",
          "name": "stdout",
          "text": [
            "Fitting estimator with 12028 features.\n"
          ]
        },
        {
          "output_type": "stream",
          "name": "stderr",
          "text": [
            "/usr/local/lib/python3.7/dist-packages/sklearn/feature_selection/_rfe.py:283: DataConversionWarning: A column-vector y was passed when a 1d array was expected. Please change the shape of y to (n_samples,), for example using ravel().\n",
            "  estimator.fit(X[:, features], y, **fit_params)\n"
          ]
        },
        {
          "output_type": "stream",
          "name": "stdout",
          "text": [
            "Fitting estimator with 11928 features.\n"
          ]
        },
        {
          "output_type": "stream",
          "name": "stderr",
          "text": [
            "/usr/local/lib/python3.7/dist-packages/sklearn/feature_selection/_rfe.py:283: DataConversionWarning: A column-vector y was passed when a 1d array was expected. Please change the shape of y to (n_samples,), for example using ravel().\n",
            "  estimator.fit(X[:, features], y, **fit_params)\n"
          ]
        },
        {
          "output_type": "stream",
          "name": "stdout",
          "text": [
            "Fitting estimator with 11828 features.\n"
          ]
        },
        {
          "output_type": "stream",
          "name": "stderr",
          "text": [
            "/usr/local/lib/python3.7/dist-packages/sklearn/feature_selection/_rfe.py:283: DataConversionWarning: A column-vector y was passed when a 1d array was expected. Please change the shape of y to (n_samples,), for example using ravel().\n",
            "  estimator.fit(X[:, features], y, **fit_params)\n"
          ]
        },
        {
          "output_type": "stream",
          "name": "stdout",
          "text": [
            "Fitting estimator with 11728 features.\n"
          ]
        },
        {
          "output_type": "stream",
          "name": "stderr",
          "text": [
            "/usr/local/lib/python3.7/dist-packages/sklearn/feature_selection/_rfe.py:283: DataConversionWarning: A column-vector y was passed when a 1d array was expected. Please change the shape of y to (n_samples,), for example using ravel().\n",
            "  estimator.fit(X[:, features], y, **fit_params)\n"
          ]
        },
        {
          "output_type": "stream",
          "name": "stdout",
          "text": [
            "Fitting estimator with 11628 features.\n"
          ]
        },
        {
          "output_type": "stream",
          "name": "stderr",
          "text": [
            "/usr/local/lib/python3.7/dist-packages/sklearn/feature_selection/_rfe.py:283: DataConversionWarning: A column-vector y was passed when a 1d array was expected. Please change the shape of y to (n_samples,), for example using ravel().\n",
            "  estimator.fit(X[:, features], y, **fit_params)\n"
          ]
        },
        {
          "output_type": "stream",
          "name": "stdout",
          "text": [
            "Fitting estimator with 11528 features.\n"
          ]
        },
        {
          "output_type": "stream",
          "name": "stderr",
          "text": [
            "/usr/local/lib/python3.7/dist-packages/sklearn/feature_selection/_rfe.py:283: DataConversionWarning: A column-vector y was passed when a 1d array was expected. Please change the shape of y to (n_samples,), for example using ravel().\n",
            "  estimator.fit(X[:, features], y, **fit_params)\n"
          ]
        },
        {
          "output_type": "stream",
          "name": "stdout",
          "text": [
            "Fitting estimator with 11428 features.\n"
          ]
        },
        {
          "output_type": "stream",
          "name": "stderr",
          "text": [
            "/usr/local/lib/python3.7/dist-packages/sklearn/feature_selection/_rfe.py:283: DataConversionWarning: A column-vector y was passed when a 1d array was expected. Please change the shape of y to (n_samples,), for example using ravel().\n",
            "  estimator.fit(X[:, features], y, **fit_params)\n"
          ]
        },
        {
          "output_type": "stream",
          "name": "stdout",
          "text": [
            "Fitting estimator with 11328 features.\n"
          ]
        },
        {
          "output_type": "stream",
          "name": "stderr",
          "text": [
            "/usr/local/lib/python3.7/dist-packages/sklearn/feature_selection/_rfe.py:283: DataConversionWarning: A column-vector y was passed when a 1d array was expected. Please change the shape of y to (n_samples,), for example using ravel().\n",
            "  estimator.fit(X[:, features], y, **fit_params)\n"
          ]
        },
        {
          "output_type": "stream",
          "name": "stdout",
          "text": [
            "Fitting estimator with 11228 features.\n"
          ]
        },
        {
          "output_type": "stream",
          "name": "stderr",
          "text": [
            "/usr/local/lib/python3.7/dist-packages/sklearn/feature_selection/_rfe.py:283: DataConversionWarning: A column-vector y was passed when a 1d array was expected. Please change the shape of y to (n_samples,), for example using ravel().\n",
            "  estimator.fit(X[:, features], y, **fit_params)\n"
          ]
        },
        {
          "output_type": "stream",
          "name": "stdout",
          "text": [
            "Fitting estimator with 11128 features.\n"
          ]
        },
        {
          "output_type": "stream",
          "name": "stderr",
          "text": [
            "/usr/local/lib/python3.7/dist-packages/sklearn/feature_selection/_rfe.py:283: DataConversionWarning: A column-vector y was passed when a 1d array was expected. Please change the shape of y to (n_samples,), for example using ravel().\n",
            "  estimator.fit(X[:, features], y, **fit_params)\n"
          ]
        },
        {
          "output_type": "stream",
          "name": "stdout",
          "text": [
            "Fitting estimator with 11028 features.\n"
          ]
        },
        {
          "output_type": "stream",
          "name": "stderr",
          "text": [
            "/usr/local/lib/python3.7/dist-packages/sklearn/feature_selection/_rfe.py:283: DataConversionWarning: A column-vector y was passed when a 1d array was expected. Please change the shape of y to (n_samples,), for example using ravel().\n",
            "  estimator.fit(X[:, features], y, **fit_params)\n"
          ]
        },
        {
          "output_type": "stream",
          "name": "stdout",
          "text": [
            "Fitting estimator with 10928 features.\n"
          ]
        },
        {
          "output_type": "stream",
          "name": "stderr",
          "text": [
            "/usr/local/lib/python3.7/dist-packages/sklearn/feature_selection/_rfe.py:283: DataConversionWarning: A column-vector y was passed when a 1d array was expected. Please change the shape of y to (n_samples,), for example using ravel().\n",
            "  estimator.fit(X[:, features], y, **fit_params)\n"
          ]
        },
        {
          "output_type": "stream",
          "name": "stdout",
          "text": [
            "Fitting estimator with 10828 features.\n"
          ]
        },
        {
          "output_type": "stream",
          "name": "stderr",
          "text": [
            "/usr/local/lib/python3.7/dist-packages/sklearn/feature_selection/_rfe.py:283: DataConversionWarning: A column-vector y was passed when a 1d array was expected. Please change the shape of y to (n_samples,), for example using ravel().\n",
            "  estimator.fit(X[:, features], y, **fit_params)\n"
          ]
        },
        {
          "output_type": "stream",
          "name": "stdout",
          "text": [
            "Fitting estimator with 10728 features.\n"
          ]
        },
        {
          "output_type": "stream",
          "name": "stderr",
          "text": [
            "/usr/local/lib/python3.7/dist-packages/sklearn/feature_selection/_rfe.py:283: DataConversionWarning: A column-vector y was passed when a 1d array was expected. Please change the shape of y to (n_samples,), for example using ravel().\n",
            "  estimator.fit(X[:, features], y, **fit_params)\n"
          ]
        },
        {
          "output_type": "stream",
          "name": "stdout",
          "text": [
            "Fitting estimator with 10628 features.\n"
          ]
        },
        {
          "output_type": "stream",
          "name": "stderr",
          "text": [
            "/usr/local/lib/python3.7/dist-packages/sklearn/feature_selection/_rfe.py:283: DataConversionWarning: A column-vector y was passed when a 1d array was expected. Please change the shape of y to (n_samples,), for example using ravel().\n",
            "  estimator.fit(X[:, features], y, **fit_params)\n"
          ]
        },
        {
          "output_type": "stream",
          "name": "stdout",
          "text": [
            "Fitting estimator with 10528 features.\n"
          ]
        },
        {
          "output_type": "stream",
          "name": "stderr",
          "text": [
            "/usr/local/lib/python3.7/dist-packages/sklearn/feature_selection/_rfe.py:283: DataConversionWarning: A column-vector y was passed when a 1d array was expected. Please change the shape of y to (n_samples,), for example using ravel().\n",
            "  estimator.fit(X[:, features], y, **fit_params)\n"
          ]
        },
        {
          "output_type": "stream",
          "name": "stdout",
          "text": [
            "Fitting estimator with 10428 features.\n"
          ]
        },
        {
          "output_type": "stream",
          "name": "stderr",
          "text": [
            "/usr/local/lib/python3.7/dist-packages/sklearn/feature_selection/_rfe.py:283: DataConversionWarning: A column-vector y was passed when a 1d array was expected. Please change the shape of y to (n_samples,), for example using ravel().\n",
            "  estimator.fit(X[:, features], y, **fit_params)\n"
          ]
        },
        {
          "output_type": "stream",
          "name": "stdout",
          "text": [
            "Fitting estimator with 10328 features.\n"
          ]
        },
        {
          "output_type": "stream",
          "name": "stderr",
          "text": [
            "/usr/local/lib/python3.7/dist-packages/sklearn/feature_selection/_rfe.py:283: DataConversionWarning: A column-vector y was passed when a 1d array was expected. Please change the shape of y to (n_samples,), for example using ravel().\n",
            "  estimator.fit(X[:, features], y, **fit_params)\n"
          ]
        },
        {
          "output_type": "stream",
          "name": "stdout",
          "text": [
            "Fitting estimator with 10228 features.\n"
          ]
        },
        {
          "output_type": "stream",
          "name": "stderr",
          "text": [
            "/usr/local/lib/python3.7/dist-packages/sklearn/feature_selection/_rfe.py:283: DataConversionWarning: A column-vector y was passed when a 1d array was expected. Please change the shape of y to (n_samples,), for example using ravel().\n",
            "  estimator.fit(X[:, features], y, **fit_params)\n"
          ]
        },
        {
          "output_type": "stream",
          "name": "stdout",
          "text": [
            "Fitting estimator with 10128 features.\n"
          ]
        },
        {
          "output_type": "stream",
          "name": "stderr",
          "text": [
            "/usr/local/lib/python3.7/dist-packages/sklearn/feature_selection/_rfe.py:283: DataConversionWarning: A column-vector y was passed when a 1d array was expected. Please change the shape of y to (n_samples,), for example using ravel().\n",
            "  estimator.fit(X[:, features], y, **fit_params)\n"
          ]
        },
        {
          "output_type": "stream",
          "name": "stdout",
          "text": [
            "Fitting estimator with 10028 features.\n"
          ]
        },
        {
          "output_type": "stream",
          "name": "stderr",
          "text": [
            "/usr/local/lib/python3.7/dist-packages/sklearn/feature_selection/_rfe.py:283: DataConversionWarning: A column-vector y was passed when a 1d array was expected. Please change the shape of y to (n_samples,), for example using ravel().\n",
            "  estimator.fit(X[:, features], y, **fit_params)\n"
          ]
        },
        {
          "output_type": "stream",
          "name": "stdout",
          "text": [
            "Fitting estimator with 9928 features.\n"
          ]
        },
        {
          "output_type": "stream",
          "name": "stderr",
          "text": [
            "/usr/local/lib/python3.7/dist-packages/sklearn/feature_selection/_rfe.py:283: DataConversionWarning: A column-vector y was passed when a 1d array was expected. Please change the shape of y to (n_samples,), for example using ravel().\n",
            "  estimator.fit(X[:, features], y, **fit_params)\n"
          ]
        },
        {
          "output_type": "stream",
          "name": "stdout",
          "text": [
            "Fitting estimator with 9828 features.\n"
          ]
        },
        {
          "output_type": "stream",
          "name": "stderr",
          "text": [
            "/usr/local/lib/python3.7/dist-packages/sklearn/feature_selection/_rfe.py:283: DataConversionWarning: A column-vector y was passed when a 1d array was expected. Please change the shape of y to (n_samples,), for example using ravel().\n",
            "  estimator.fit(X[:, features], y, **fit_params)\n"
          ]
        },
        {
          "output_type": "stream",
          "name": "stdout",
          "text": [
            "Fitting estimator with 9728 features.\n"
          ]
        },
        {
          "output_type": "stream",
          "name": "stderr",
          "text": [
            "/usr/local/lib/python3.7/dist-packages/sklearn/feature_selection/_rfe.py:283: DataConversionWarning: A column-vector y was passed when a 1d array was expected. Please change the shape of y to (n_samples,), for example using ravel().\n",
            "  estimator.fit(X[:, features], y, **fit_params)\n"
          ]
        },
        {
          "output_type": "stream",
          "name": "stdout",
          "text": [
            "Fitting estimator with 9628 features.\n"
          ]
        },
        {
          "output_type": "stream",
          "name": "stderr",
          "text": [
            "/usr/local/lib/python3.7/dist-packages/sklearn/feature_selection/_rfe.py:283: DataConversionWarning: A column-vector y was passed when a 1d array was expected. Please change the shape of y to (n_samples,), for example using ravel().\n",
            "  estimator.fit(X[:, features], y, **fit_params)\n"
          ]
        },
        {
          "output_type": "stream",
          "name": "stdout",
          "text": [
            "Fitting estimator with 9528 features.\n"
          ]
        },
        {
          "output_type": "stream",
          "name": "stderr",
          "text": [
            "/usr/local/lib/python3.7/dist-packages/sklearn/feature_selection/_rfe.py:283: DataConversionWarning: A column-vector y was passed when a 1d array was expected. Please change the shape of y to (n_samples,), for example using ravel().\n",
            "  estimator.fit(X[:, features], y, **fit_params)\n"
          ]
        },
        {
          "output_type": "stream",
          "name": "stdout",
          "text": [
            "Fitting estimator with 9428 features.\n"
          ]
        },
        {
          "output_type": "stream",
          "name": "stderr",
          "text": [
            "/usr/local/lib/python3.7/dist-packages/sklearn/feature_selection/_rfe.py:283: DataConversionWarning: A column-vector y was passed when a 1d array was expected. Please change the shape of y to (n_samples,), for example using ravel().\n",
            "  estimator.fit(X[:, features], y, **fit_params)\n"
          ]
        },
        {
          "output_type": "stream",
          "name": "stdout",
          "text": [
            "Fitting estimator with 9328 features.\n"
          ]
        },
        {
          "output_type": "stream",
          "name": "stderr",
          "text": [
            "/usr/local/lib/python3.7/dist-packages/sklearn/feature_selection/_rfe.py:283: DataConversionWarning: A column-vector y was passed when a 1d array was expected. Please change the shape of y to (n_samples,), for example using ravel().\n",
            "  estimator.fit(X[:, features], y, **fit_params)\n"
          ]
        },
        {
          "output_type": "stream",
          "name": "stdout",
          "text": [
            "Fitting estimator with 9228 features.\n"
          ]
        },
        {
          "output_type": "stream",
          "name": "stderr",
          "text": [
            "/usr/local/lib/python3.7/dist-packages/sklearn/feature_selection/_rfe.py:283: DataConversionWarning: A column-vector y was passed when a 1d array was expected. Please change the shape of y to (n_samples,), for example using ravel().\n",
            "  estimator.fit(X[:, features], y, **fit_params)\n"
          ]
        },
        {
          "output_type": "stream",
          "name": "stdout",
          "text": [
            "Fitting estimator with 9128 features.\n"
          ]
        },
        {
          "output_type": "stream",
          "name": "stderr",
          "text": [
            "/usr/local/lib/python3.7/dist-packages/sklearn/feature_selection/_rfe.py:283: DataConversionWarning: A column-vector y was passed when a 1d array was expected. Please change the shape of y to (n_samples,), for example using ravel().\n",
            "  estimator.fit(X[:, features], y, **fit_params)\n"
          ]
        },
        {
          "output_type": "stream",
          "name": "stdout",
          "text": [
            "Fitting estimator with 9028 features.\n"
          ]
        },
        {
          "output_type": "stream",
          "name": "stderr",
          "text": [
            "/usr/local/lib/python3.7/dist-packages/sklearn/feature_selection/_rfe.py:283: DataConversionWarning: A column-vector y was passed when a 1d array was expected. Please change the shape of y to (n_samples,), for example using ravel().\n",
            "  estimator.fit(X[:, features], y, **fit_params)\n"
          ]
        },
        {
          "output_type": "stream",
          "name": "stdout",
          "text": [
            "Fitting estimator with 8928 features.\n"
          ]
        },
        {
          "output_type": "stream",
          "name": "stderr",
          "text": [
            "/usr/local/lib/python3.7/dist-packages/sklearn/feature_selection/_rfe.py:283: DataConversionWarning: A column-vector y was passed when a 1d array was expected. Please change the shape of y to (n_samples,), for example using ravel().\n",
            "  estimator.fit(X[:, features], y, **fit_params)\n"
          ]
        },
        {
          "output_type": "stream",
          "name": "stdout",
          "text": [
            "Fitting estimator with 8828 features.\n"
          ]
        },
        {
          "output_type": "stream",
          "name": "stderr",
          "text": [
            "/usr/local/lib/python3.7/dist-packages/sklearn/feature_selection/_rfe.py:283: DataConversionWarning: A column-vector y was passed when a 1d array was expected. Please change the shape of y to (n_samples,), for example using ravel().\n",
            "  estimator.fit(X[:, features], y, **fit_params)\n"
          ]
        },
        {
          "output_type": "stream",
          "name": "stdout",
          "text": [
            "Fitting estimator with 8728 features.\n"
          ]
        },
        {
          "output_type": "stream",
          "name": "stderr",
          "text": [
            "/usr/local/lib/python3.7/dist-packages/sklearn/feature_selection/_rfe.py:283: DataConversionWarning: A column-vector y was passed when a 1d array was expected. Please change the shape of y to (n_samples,), for example using ravel().\n",
            "  estimator.fit(X[:, features], y, **fit_params)\n"
          ]
        },
        {
          "output_type": "stream",
          "name": "stdout",
          "text": [
            "Fitting estimator with 8628 features.\n"
          ]
        },
        {
          "output_type": "stream",
          "name": "stderr",
          "text": [
            "/usr/local/lib/python3.7/dist-packages/sklearn/feature_selection/_rfe.py:283: DataConversionWarning: A column-vector y was passed when a 1d array was expected. Please change the shape of y to (n_samples,), for example using ravel().\n",
            "  estimator.fit(X[:, features], y, **fit_params)\n"
          ]
        },
        {
          "output_type": "stream",
          "name": "stdout",
          "text": [
            "Fitting estimator with 8528 features.\n"
          ]
        },
        {
          "output_type": "stream",
          "name": "stderr",
          "text": [
            "/usr/local/lib/python3.7/dist-packages/sklearn/feature_selection/_rfe.py:283: DataConversionWarning: A column-vector y was passed when a 1d array was expected. Please change the shape of y to (n_samples,), for example using ravel().\n",
            "  estimator.fit(X[:, features], y, **fit_params)\n"
          ]
        },
        {
          "output_type": "stream",
          "name": "stdout",
          "text": [
            "Fitting estimator with 8428 features.\n"
          ]
        },
        {
          "output_type": "stream",
          "name": "stderr",
          "text": [
            "/usr/local/lib/python3.7/dist-packages/sklearn/feature_selection/_rfe.py:283: DataConversionWarning: A column-vector y was passed when a 1d array was expected. Please change the shape of y to (n_samples,), for example using ravel().\n",
            "  estimator.fit(X[:, features], y, **fit_params)\n"
          ]
        },
        {
          "output_type": "stream",
          "name": "stdout",
          "text": [
            "Fitting estimator with 8328 features.\n"
          ]
        },
        {
          "output_type": "stream",
          "name": "stderr",
          "text": [
            "/usr/local/lib/python3.7/dist-packages/sklearn/feature_selection/_rfe.py:283: DataConversionWarning: A column-vector y was passed when a 1d array was expected. Please change the shape of y to (n_samples,), for example using ravel().\n",
            "  estimator.fit(X[:, features], y, **fit_params)\n"
          ]
        },
        {
          "output_type": "stream",
          "name": "stdout",
          "text": [
            "Fitting estimator with 8228 features.\n"
          ]
        },
        {
          "output_type": "stream",
          "name": "stderr",
          "text": [
            "/usr/local/lib/python3.7/dist-packages/sklearn/feature_selection/_rfe.py:283: DataConversionWarning: A column-vector y was passed when a 1d array was expected. Please change the shape of y to (n_samples,), for example using ravel().\n",
            "  estimator.fit(X[:, features], y, **fit_params)\n"
          ]
        },
        {
          "output_type": "stream",
          "name": "stdout",
          "text": [
            "Fitting estimator with 8128 features.\n"
          ]
        },
        {
          "output_type": "stream",
          "name": "stderr",
          "text": [
            "/usr/local/lib/python3.7/dist-packages/sklearn/feature_selection/_rfe.py:283: DataConversionWarning: A column-vector y was passed when a 1d array was expected. Please change the shape of y to (n_samples,), for example using ravel().\n",
            "  estimator.fit(X[:, features], y, **fit_params)\n"
          ]
        },
        {
          "output_type": "stream",
          "name": "stdout",
          "text": [
            "Fitting estimator with 8028 features.\n"
          ]
        },
        {
          "output_type": "stream",
          "name": "stderr",
          "text": [
            "/usr/local/lib/python3.7/dist-packages/sklearn/feature_selection/_rfe.py:283: DataConversionWarning: A column-vector y was passed when a 1d array was expected. Please change the shape of y to (n_samples,), for example using ravel().\n",
            "  estimator.fit(X[:, features], y, **fit_params)\n"
          ]
        },
        {
          "output_type": "stream",
          "name": "stdout",
          "text": [
            "Fitting estimator with 7928 features.\n"
          ]
        },
        {
          "output_type": "stream",
          "name": "stderr",
          "text": [
            "/usr/local/lib/python3.7/dist-packages/sklearn/feature_selection/_rfe.py:283: DataConversionWarning: A column-vector y was passed when a 1d array was expected. Please change the shape of y to (n_samples,), for example using ravel().\n",
            "  estimator.fit(X[:, features], y, **fit_params)\n"
          ]
        },
        {
          "output_type": "stream",
          "name": "stdout",
          "text": [
            "Fitting estimator with 7828 features.\n"
          ]
        },
        {
          "output_type": "stream",
          "name": "stderr",
          "text": [
            "/usr/local/lib/python3.7/dist-packages/sklearn/feature_selection/_rfe.py:283: DataConversionWarning: A column-vector y was passed when a 1d array was expected. Please change the shape of y to (n_samples,), for example using ravel().\n",
            "  estimator.fit(X[:, features], y, **fit_params)\n"
          ]
        },
        {
          "output_type": "stream",
          "name": "stdout",
          "text": [
            "Fitting estimator with 7728 features.\n"
          ]
        },
        {
          "output_type": "stream",
          "name": "stderr",
          "text": [
            "/usr/local/lib/python3.7/dist-packages/sklearn/feature_selection/_rfe.py:283: DataConversionWarning: A column-vector y was passed when a 1d array was expected. Please change the shape of y to (n_samples,), for example using ravel().\n",
            "  estimator.fit(X[:, features], y, **fit_params)\n"
          ]
        },
        {
          "output_type": "stream",
          "name": "stdout",
          "text": [
            "Fitting estimator with 7628 features.\n"
          ]
        },
        {
          "output_type": "stream",
          "name": "stderr",
          "text": [
            "/usr/local/lib/python3.7/dist-packages/sklearn/feature_selection/_rfe.py:283: DataConversionWarning: A column-vector y was passed when a 1d array was expected. Please change the shape of y to (n_samples,), for example using ravel().\n",
            "  estimator.fit(X[:, features], y, **fit_params)\n"
          ]
        },
        {
          "output_type": "stream",
          "name": "stdout",
          "text": [
            "Fitting estimator with 7528 features.\n"
          ]
        },
        {
          "output_type": "stream",
          "name": "stderr",
          "text": [
            "/usr/local/lib/python3.7/dist-packages/sklearn/feature_selection/_rfe.py:283: DataConversionWarning: A column-vector y was passed when a 1d array was expected. Please change the shape of y to (n_samples,), for example using ravel().\n",
            "  estimator.fit(X[:, features], y, **fit_params)\n"
          ]
        },
        {
          "output_type": "stream",
          "name": "stdout",
          "text": [
            "Fitting estimator with 7428 features.\n"
          ]
        },
        {
          "output_type": "stream",
          "name": "stderr",
          "text": [
            "/usr/local/lib/python3.7/dist-packages/sklearn/feature_selection/_rfe.py:283: DataConversionWarning: A column-vector y was passed when a 1d array was expected. Please change the shape of y to (n_samples,), for example using ravel().\n",
            "  estimator.fit(X[:, features], y, **fit_params)\n"
          ]
        },
        {
          "output_type": "stream",
          "name": "stdout",
          "text": [
            "Fitting estimator with 7328 features.\n"
          ]
        },
        {
          "output_type": "stream",
          "name": "stderr",
          "text": [
            "/usr/local/lib/python3.7/dist-packages/sklearn/feature_selection/_rfe.py:283: DataConversionWarning: A column-vector y was passed when a 1d array was expected. Please change the shape of y to (n_samples,), for example using ravel().\n",
            "  estimator.fit(X[:, features], y, **fit_params)\n"
          ]
        },
        {
          "output_type": "stream",
          "name": "stdout",
          "text": [
            "Fitting estimator with 7228 features.\n"
          ]
        },
        {
          "output_type": "stream",
          "name": "stderr",
          "text": [
            "/usr/local/lib/python3.7/dist-packages/sklearn/feature_selection/_rfe.py:283: DataConversionWarning: A column-vector y was passed when a 1d array was expected. Please change the shape of y to (n_samples,), for example using ravel().\n",
            "  estimator.fit(X[:, features], y, **fit_params)\n"
          ]
        },
        {
          "output_type": "stream",
          "name": "stdout",
          "text": [
            "Fitting estimator with 7128 features.\n"
          ]
        },
        {
          "output_type": "stream",
          "name": "stderr",
          "text": [
            "/usr/local/lib/python3.7/dist-packages/sklearn/feature_selection/_rfe.py:283: DataConversionWarning: A column-vector y was passed when a 1d array was expected. Please change the shape of y to (n_samples,), for example using ravel().\n",
            "  estimator.fit(X[:, features], y, **fit_params)\n"
          ]
        },
        {
          "output_type": "stream",
          "name": "stdout",
          "text": [
            "Fitting estimator with 7028 features.\n"
          ]
        },
        {
          "output_type": "stream",
          "name": "stderr",
          "text": [
            "/usr/local/lib/python3.7/dist-packages/sklearn/feature_selection/_rfe.py:283: DataConversionWarning: A column-vector y was passed when a 1d array was expected. Please change the shape of y to (n_samples,), for example using ravel().\n",
            "  estimator.fit(X[:, features], y, **fit_params)\n"
          ]
        },
        {
          "output_type": "stream",
          "name": "stdout",
          "text": [
            "Fitting estimator with 6928 features.\n"
          ]
        },
        {
          "output_type": "stream",
          "name": "stderr",
          "text": [
            "/usr/local/lib/python3.7/dist-packages/sklearn/feature_selection/_rfe.py:283: DataConversionWarning: A column-vector y was passed when a 1d array was expected. Please change the shape of y to (n_samples,), for example using ravel().\n",
            "  estimator.fit(X[:, features], y, **fit_params)\n"
          ]
        },
        {
          "output_type": "stream",
          "name": "stdout",
          "text": [
            "Fitting estimator with 6828 features.\n"
          ]
        },
        {
          "output_type": "stream",
          "name": "stderr",
          "text": [
            "/usr/local/lib/python3.7/dist-packages/sklearn/feature_selection/_rfe.py:283: DataConversionWarning: A column-vector y was passed when a 1d array was expected. Please change the shape of y to (n_samples,), for example using ravel().\n",
            "  estimator.fit(X[:, features], y, **fit_params)\n"
          ]
        },
        {
          "output_type": "stream",
          "name": "stdout",
          "text": [
            "Fitting estimator with 6728 features.\n"
          ]
        },
        {
          "output_type": "stream",
          "name": "stderr",
          "text": [
            "/usr/local/lib/python3.7/dist-packages/sklearn/feature_selection/_rfe.py:283: DataConversionWarning: A column-vector y was passed when a 1d array was expected. Please change the shape of y to (n_samples,), for example using ravel().\n",
            "  estimator.fit(X[:, features], y, **fit_params)\n"
          ]
        },
        {
          "output_type": "stream",
          "name": "stdout",
          "text": [
            "Fitting estimator with 6628 features.\n"
          ]
        },
        {
          "output_type": "stream",
          "name": "stderr",
          "text": [
            "/usr/local/lib/python3.7/dist-packages/sklearn/feature_selection/_rfe.py:283: DataConversionWarning: A column-vector y was passed when a 1d array was expected. Please change the shape of y to (n_samples,), for example using ravel().\n",
            "  estimator.fit(X[:, features], y, **fit_params)\n"
          ]
        },
        {
          "output_type": "stream",
          "name": "stdout",
          "text": [
            "Fitting estimator with 6528 features.\n"
          ]
        },
        {
          "output_type": "stream",
          "name": "stderr",
          "text": [
            "/usr/local/lib/python3.7/dist-packages/sklearn/feature_selection/_rfe.py:283: DataConversionWarning: A column-vector y was passed when a 1d array was expected. Please change the shape of y to (n_samples,), for example using ravel().\n",
            "  estimator.fit(X[:, features], y, **fit_params)\n"
          ]
        },
        {
          "output_type": "stream",
          "name": "stdout",
          "text": [
            "Fitting estimator with 6428 features.\n"
          ]
        },
        {
          "output_type": "stream",
          "name": "stderr",
          "text": [
            "/usr/local/lib/python3.7/dist-packages/sklearn/feature_selection/_rfe.py:283: DataConversionWarning: A column-vector y was passed when a 1d array was expected. Please change the shape of y to (n_samples,), for example using ravel().\n",
            "  estimator.fit(X[:, features], y, **fit_params)\n"
          ]
        },
        {
          "output_type": "stream",
          "name": "stdout",
          "text": [
            "Fitting estimator with 6328 features.\n"
          ]
        },
        {
          "output_type": "stream",
          "name": "stderr",
          "text": [
            "/usr/local/lib/python3.7/dist-packages/sklearn/feature_selection/_rfe.py:283: DataConversionWarning: A column-vector y was passed when a 1d array was expected. Please change the shape of y to (n_samples,), for example using ravel().\n",
            "  estimator.fit(X[:, features], y, **fit_params)\n"
          ]
        },
        {
          "output_type": "stream",
          "name": "stdout",
          "text": [
            "Fitting estimator with 6228 features.\n"
          ]
        },
        {
          "output_type": "stream",
          "name": "stderr",
          "text": [
            "/usr/local/lib/python3.7/dist-packages/sklearn/feature_selection/_rfe.py:283: DataConversionWarning: A column-vector y was passed when a 1d array was expected. Please change the shape of y to (n_samples,), for example using ravel().\n",
            "  estimator.fit(X[:, features], y, **fit_params)\n"
          ]
        },
        {
          "output_type": "stream",
          "name": "stdout",
          "text": [
            "Fitting estimator with 6128 features.\n"
          ]
        },
        {
          "output_type": "stream",
          "name": "stderr",
          "text": [
            "/usr/local/lib/python3.7/dist-packages/sklearn/feature_selection/_rfe.py:283: DataConversionWarning: A column-vector y was passed when a 1d array was expected. Please change the shape of y to (n_samples,), for example using ravel().\n",
            "  estimator.fit(X[:, features], y, **fit_params)\n"
          ]
        },
        {
          "output_type": "stream",
          "name": "stdout",
          "text": [
            "Fitting estimator with 6028 features.\n"
          ]
        },
        {
          "output_type": "stream",
          "name": "stderr",
          "text": [
            "/usr/local/lib/python3.7/dist-packages/sklearn/feature_selection/_rfe.py:283: DataConversionWarning: A column-vector y was passed when a 1d array was expected. Please change the shape of y to (n_samples,), for example using ravel().\n",
            "  estimator.fit(X[:, features], y, **fit_params)\n"
          ]
        },
        {
          "output_type": "stream",
          "name": "stdout",
          "text": [
            "Fitting estimator with 5928 features.\n"
          ]
        },
        {
          "output_type": "stream",
          "name": "stderr",
          "text": [
            "/usr/local/lib/python3.7/dist-packages/sklearn/feature_selection/_rfe.py:283: DataConversionWarning: A column-vector y was passed when a 1d array was expected. Please change the shape of y to (n_samples,), for example using ravel().\n",
            "  estimator.fit(X[:, features], y, **fit_params)\n"
          ]
        },
        {
          "output_type": "stream",
          "name": "stdout",
          "text": [
            "Fitting estimator with 5828 features.\n"
          ]
        },
        {
          "output_type": "stream",
          "name": "stderr",
          "text": [
            "/usr/local/lib/python3.7/dist-packages/sklearn/feature_selection/_rfe.py:283: DataConversionWarning: A column-vector y was passed when a 1d array was expected. Please change the shape of y to (n_samples,), for example using ravel().\n",
            "  estimator.fit(X[:, features], y, **fit_params)\n"
          ]
        },
        {
          "output_type": "stream",
          "name": "stdout",
          "text": [
            "Fitting estimator with 5728 features.\n"
          ]
        },
        {
          "output_type": "stream",
          "name": "stderr",
          "text": [
            "/usr/local/lib/python3.7/dist-packages/sklearn/feature_selection/_rfe.py:283: DataConversionWarning: A column-vector y was passed when a 1d array was expected. Please change the shape of y to (n_samples,), for example using ravel().\n",
            "  estimator.fit(X[:, features], y, **fit_params)\n"
          ]
        },
        {
          "output_type": "stream",
          "name": "stdout",
          "text": [
            "Fitting estimator with 5628 features.\n"
          ]
        },
        {
          "output_type": "stream",
          "name": "stderr",
          "text": [
            "/usr/local/lib/python3.7/dist-packages/sklearn/feature_selection/_rfe.py:283: DataConversionWarning: A column-vector y was passed when a 1d array was expected. Please change the shape of y to (n_samples,), for example using ravel().\n",
            "  estimator.fit(X[:, features], y, **fit_params)\n"
          ]
        },
        {
          "output_type": "stream",
          "name": "stdout",
          "text": [
            "Fitting estimator with 5528 features.\n"
          ]
        },
        {
          "output_type": "stream",
          "name": "stderr",
          "text": [
            "/usr/local/lib/python3.7/dist-packages/sklearn/feature_selection/_rfe.py:283: DataConversionWarning: A column-vector y was passed when a 1d array was expected. Please change the shape of y to (n_samples,), for example using ravel().\n",
            "  estimator.fit(X[:, features], y, **fit_params)\n"
          ]
        },
        {
          "output_type": "stream",
          "name": "stdout",
          "text": [
            "Fitting estimator with 5428 features.\n"
          ]
        },
        {
          "output_type": "stream",
          "name": "stderr",
          "text": [
            "/usr/local/lib/python3.7/dist-packages/sklearn/feature_selection/_rfe.py:283: DataConversionWarning: A column-vector y was passed when a 1d array was expected. Please change the shape of y to (n_samples,), for example using ravel().\n",
            "  estimator.fit(X[:, features], y, **fit_params)\n"
          ]
        },
        {
          "output_type": "stream",
          "name": "stdout",
          "text": [
            "Fitting estimator with 5328 features.\n"
          ]
        },
        {
          "output_type": "stream",
          "name": "stderr",
          "text": [
            "/usr/local/lib/python3.7/dist-packages/sklearn/feature_selection/_rfe.py:283: DataConversionWarning: A column-vector y was passed when a 1d array was expected. Please change the shape of y to (n_samples,), for example using ravel().\n",
            "  estimator.fit(X[:, features], y, **fit_params)\n"
          ]
        },
        {
          "output_type": "stream",
          "name": "stdout",
          "text": [
            "Fitting estimator with 5228 features.\n"
          ]
        },
        {
          "output_type": "stream",
          "name": "stderr",
          "text": [
            "/usr/local/lib/python3.7/dist-packages/sklearn/feature_selection/_rfe.py:283: DataConversionWarning: A column-vector y was passed when a 1d array was expected. Please change the shape of y to (n_samples,), for example using ravel().\n",
            "  estimator.fit(X[:, features], y, **fit_params)\n"
          ]
        },
        {
          "output_type": "stream",
          "name": "stdout",
          "text": [
            "Fitting estimator with 5128 features.\n"
          ]
        },
        {
          "output_type": "stream",
          "name": "stderr",
          "text": [
            "/usr/local/lib/python3.7/dist-packages/sklearn/feature_selection/_rfe.py:283: DataConversionWarning: A column-vector y was passed when a 1d array was expected. Please change the shape of y to (n_samples,), for example using ravel().\n",
            "  estimator.fit(X[:, features], y, **fit_params)\n"
          ]
        },
        {
          "output_type": "stream",
          "name": "stdout",
          "text": [
            "Fitting estimator with 5028 features.\n"
          ]
        },
        {
          "output_type": "stream",
          "name": "stderr",
          "text": [
            "/usr/local/lib/python3.7/dist-packages/sklearn/feature_selection/_rfe.py:283: DataConversionWarning: A column-vector y was passed when a 1d array was expected. Please change the shape of y to (n_samples,), for example using ravel().\n",
            "  estimator.fit(X[:, features], y, **fit_params)\n"
          ]
        },
        {
          "output_type": "stream",
          "name": "stdout",
          "text": [
            "Fitting estimator with 4928 features.\n"
          ]
        },
        {
          "output_type": "stream",
          "name": "stderr",
          "text": [
            "/usr/local/lib/python3.7/dist-packages/sklearn/feature_selection/_rfe.py:283: DataConversionWarning: A column-vector y was passed when a 1d array was expected. Please change the shape of y to (n_samples,), for example using ravel().\n",
            "  estimator.fit(X[:, features], y, **fit_params)\n"
          ]
        },
        {
          "output_type": "stream",
          "name": "stdout",
          "text": [
            "Fitting estimator with 4828 features.\n"
          ]
        },
        {
          "output_type": "stream",
          "name": "stderr",
          "text": [
            "/usr/local/lib/python3.7/dist-packages/sklearn/feature_selection/_rfe.py:283: DataConversionWarning: A column-vector y was passed when a 1d array was expected. Please change the shape of y to (n_samples,), for example using ravel().\n",
            "  estimator.fit(X[:, features], y, **fit_params)\n"
          ]
        },
        {
          "output_type": "stream",
          "name": "stdout",
          "text": [
            "Fitting estimator with 4728 features.\n"
          ]
        },
        {
          "output_type": "stream",
          "name": "stderr",
          "text": [
            "/usr/local/lib/python3.7/dist-packages/sklearn/feature_selection/_rfe.py:283: DataConversionWarning: A column-vector y was passed when a 1d array was expected. Please change the shape of y to (n_samples,), for example using ravel().\n",
            "  estimator.fit(X[:, features], y, **fit_params)\n"
          ]
        },
        {
          "output_type": "stream",
          "name": "stdout",
          "text": [
            "Fitting estimator with 4628 features.\n"
          ]
        },
        {
          "output_type": "stream",
          "name": "stderr",
          "text": [
            "/usr/local/lib/python3.7/dist-packages/sklearn/feature_selection/_rfe.py:283: DataConversionWarning: A column-vector y was passed when a 1d array was expected. Please change the shape of y to (n_samples,), for example using ravel().\n",
            "  estimator.fit(X[:, features], y, **fit_params)\n"
          ]
        },
        {
          "output_type": "stream",
          "name": "stdout",
          "text": [
            "Fitting estimator with 4528 features.\n"
          ]
        },
        {
          "output_type": "stream",
          "name": "stderr",
          "text": [
            "/usr/local/lib/python3.7/dist-packages/sklearn/feature_selection/_rfe.py:283: DataConversionWarning: A column-vector y was passed when a 1d array was expected. Please change the shape of y to (n_samples,), for example using ravel().\n",
            "  estimator.fit(X[:, features], y, **fit_params)\n"
          ]
        },
        {
          "output_type": "stream",
          "name": "stdout",
          "text": [
            "Fitting estimator with 4428 features.\n"
          ]
        },
        {
          "output_type": "stream",
          "name": "stderr",
          "text": [
            "/usr/local/lib/python3.7/dist-packages/sklearn/feature_selection/_rfe.py:283: DataConversionWarning: A column-vector y was passed when a 1d array was expected. Please change the shape of y to (n_samples,), for example using ravel().\n",
            "  estimator.fit(X[:, features], y, **fit_params)\n"
          ]
        },
        {
          "output_type": "stream",
          "name": "stdout",
          "text": [
            "Fitting estimator with 4328 features.\n"
          ]
        },
        {
          "output_type": "stream",
          "name": "stderr",
          "text": [
            "/usr/local/lib/python3.7/dist-packages/sklearn/feature_selection/_rfe.py:283: DataConversionWarning: A column-vector y was passed when a 1d array was expected. Please change the shape of y to (n_samples,), for example using ravel().\n",
            "  estimator.fit(X[:, features], y, **fit_params)\n"
          ]
        },
        {
          "output_type": "stream",
          "name": "stdout",
          "text": [
            "Fitting estimator with 4228 features.\n"
          ]
        },
        {
          "output_type": "stream",
          "name": "stderr",
          "text": [
            "/usr/local/lib/python3.7/dist-packages/sklearn/feature_selection/_rfe.py:283: DataConversionWarning: A column-vector y was passed when a 1d array was expected. Please change the shape of y to (n_samples,), for example using ravel().\n",
            "  estimator.fit(X[:, features], y, **fit_params)\n"
          ]
        },
        {
          "output_type": "stream",
          "name": "stdout",
          "text": [
            "Fitting estimator with 4128 features.\n"
          ]
        },
        {
          "output_type": "stream",
          "name": "stderr",
          "text": [
            "/usr/local/lib/python3.7/dist-packages/sklearn/feature_selection/_rfe.py:283: DataConversionWarning: A column-vector y was passed when a 1d array was expected. Please change the shape of y to (n_samples,), for example using ravel().\n",
            "  estimator.fit(X[:, features], y, **fit_params)\n"
          ]
        },
        {
          "output_type": "stream",
          "name": "stdout",
          "text": [
            "Fitting estimator with 4028 features.\n"
          ]
        },
        {
          "output_type": "stream",
          "name": "stderr",
          "text": [
            "/usr/local/lib/python3.7/dist-packages/sklearn/feature_selection/_rfe.py:283: DataConversionWarning: A column-vector y was passed when a 1d array was expected. Please change the shape of y to (n_samples,), for example using ravel().\n",
            "  estimator.fit(X[:, features], y, **fit_params)\n"
          ]
        },
        {
          "output_type": "stream",
          "name": "stdout",
          "text": [
            "Fitting estimator with 3928 features.\n"
          ]
        },
        {
          "output_type": "stream",
          "name": "stderr",
          "text": [
            "/usr/local/lib/python3.7/dist-packages/sklearn/feature_selection/_rfe.py:283: DataConversionWarning: A column-vector y was passed when a 1d array was expected. Please change the shape of y to (n_samples,), for example using ravel().\n",
            "  estimator.fit(X[:, features], y, **fit_params)\n"
          ]
        },
        {
          "output_type": "stream",
          "name": "stdout",
          "text": [
            "Fitting estimator with 3828 features.\n"
          ]
        },
        {
          "output_type": "stream",
          "name": "stderr",
          "text": [
            "/usr/local/lib/python3.7/dist-packages/sklearn/feature_selection/_rfe.py:283: DataConversionWarning: A column-vector y was passed when a 1d array was expected. Please change the shape of y to (n_samples,), for example using ravel().\n",
            "  estimator.fit(X[:, features], y, **fit_params)\n"
          ]
        },
        {
          "output_type": "stream",
          "name": "stdout",
          "text": [
            "Fitting estimator with 3728 features.\n"
          ]
        },
        {
          "output_type": "stream",
          "name": "stderr",
          "text": [
            "/usr/local/lib/python3.7/dist-packages/sklearn/feature_selection/_rfe.py:283: DataConversionWarning: A column-vector y was passed when a 1d array was expected. Please change the shape of y to (n_samples,), for example using ravel().\n",
            "  estimator.fit(X[:, features], y, **fit_params)\n"
          ]
        },
        {
          "output_type": "stream",
          "name": "stdout",
          "text": [
            "Fitting estimator with 3628 features.\n"
          ]
        },
        {
          "output_type": "stream",
          "name": "stderr",
          "text": [
            "/usr/local/lib/python3.7/dist-packages/sklearn/feature_selection/_rfe.py:283: DataConversionWarning: A column-vector y was passed when a 1d array was expected. Please change the shape of y to (n_samples,), for example using ravel().\n",
            "  estimator.fit(X[:, features], y, **fit_params)\n"
          ]
        },
        {
          "output_type": "stream",
          "name": "stdout",
          "text": [
            "Fitting estimator with 3528 features.\n"
          ]
        },
        {
          "output_type": "stream",
          "name": "stderr",
          "text": [
            "/usr/local/lib/python3.7/dist-packages/sklearn/feature_selection/_rfe.py:283: DataConversionWarning: A column-vector y was passed when a 1d array was expected. Please change the shape of y to (n_samples,), for example using ravel().\n",
            "  estimator.fit(X[:, features], y, **fit_params)\n"
          ]
        },
        {
          "output_type": "stream",
          "name": "stdout",
          "text": [
            "Fitting estimator with 3428 features.\n"
          ]
        },
        {
          "output_type": "stream",
          "name": "stderr",
          "text": [
            "/usr/local/lib/python3.7/dist-packages/sklearn/feature_selection/_rfe.py:283: DataConversionWarning: A column-vector y was passed when a 1d array was expected. Please change the shape of y to (n_samples,), for example using ravel().\n",
            "  estimator.fit(X[:, features], y, **fit_params)\n"
          ]
        },
        {
          "output_type": "stream",
          "name": "stdout",
          "text": [
            "Fitting estimator with 3328 features.\n"
          ]
        },
        {
          "output_type": "stream",
          "name": "stderr",
          "text": [
            "/usr/local/lib/python3.7/dist-packages/sklearn/feature_selection/_rfe.py:283: DataConversionWarning: A column-vector y was passed when a 1d array was expected. Please change the shape of y to (n_samples,), for example using ravel().\n",
            "  estimator.fit(X[:, features], y, **fit_params)\n"
          ]
        },
        {
          "output_type": "stream",
          "name": "stdout",
          "text": [
            "Fitting estimator with 3228 features.\n"
          ]
        },
        {
          "output_type": "stream",
          "name": "stderr",
          "text": [
            "/usr/local/lib/python3.7/dist-packages/sklearn/feature_selection/_rfe.py:283: DataConversionWarning: A column-vector y was passed when a 1d array was expected. Please change the shape of y to (n_samples,), for example using ravel().\n",
            "  estimator.fit(X[:, features], y, **fit_params)\n"
          ]
        },
        {
          "output_type": "stream",
          "name": "stdout",
          "text": [
            "Fitting estimator with 3128 features.\n"
          ]
        },
        {
          "output_type": "stream",
          "name": "stderr",
          "text": [
            "/usr/local/lib/python3.7/dist-packages/sklearn/feature_selection/_rfe.py:283: DataConversionWarning: A column-vector y was passed when a 1d array was expected. Please change the shape of y to (n_samples,), for example using ravel().\n",
            "  estimator.fit(X[:, features], y, **fit_params)\n"
          ]
        },
        {
          "output_type": "stream",
          "name": "stdout",
          "text": [
            "Fitting estimator with 3028 features.\n"
          ]
        },
        {
          "output_type": "stream",
          "name": "stderr",
          "text": [
            "/usr/local/lib/python3.7/dist-packages/sklearn/feature_selection/_rfe.py:283: DataConversionWarning: A column-vector y was passed when a 1d array was expected. Please change the shape of y to (n_samples,), for example using ravel().\n",
            "  estimator.fit(X[:, features], y, **fit_params)\n"
          ]
        },
        {
          "output_type": "stream",
          "name": "stdout",
          "text": [
            "Fitting estimator with 2928 features.\n"
          ]
        },
        {
          "output_type": "stream",
          "name": "stderr",
          "text": [
            "/usr/local/lib/python3.7/dist-packages/sklearn/feature_selection/_rfe.py:283: DataConversionWarning: A column-vector y was passed when a 1d array was expected. Please change the shape of y to (n_samples,), for example using ravel().\n",
            "  estimator.fit(X[:, features], y, **fit_params)\n"
          ]
        },
        {
          "output_type": "stream",
          "name": "stdout",
          "text": [
            "Fitting estimator with 2828 features.\n"
          ]
        },
        {
          "output_type": "stream",
          "name": "stderr",
          "text": [
            "/usr/local/lib/python3.7/dist-packages/sklearn/feature_selection/_rfe.py:283: DataConversionWarning: A column-vector y was passed when a 1d array was expected. Please change the shape of y to (n_samples,), for example using ravel().\n",
            "  estimator.fit(X[:, features], y, **fit_params)\n"
          ]
        },
        {
          "output_type": "stream",
          "name": "stdout",
          "text": [
            "Fitting estimator with 2728 features.\n"
          ]
        },
        {
          "output_type": "stream",
          "name": "stderr",
          "text": [
            "/usr/local/lib/python3.7/dist-packages/sklearn/feature_selection/_rfe.py:283: DataConversionWarning: A column-vector y was passed when a 1d array was expected. Please change the shape of y to (n_samples,), for example using ravel().\n",
            "  estimator.fit(X[:, features], y, **fit_params)\n"
          ]
        },
        {
          "output_type": "stream",
          "name": "stdout",
          "text": [
            "Fitting estimator with 2628 features.\n"
          ]
        },
        {
          "output_type": "stream",
          "name": "stderr",
          "text": [
            "/usr/local/lib/python3.7/dist-packages/sklearn/feature_selection/_rfe.py:283: DataConversionWarning: A column-vector y was passed when a 1d array was expected. Please change the shape of y to (n_samples,), for example using ravel().\n",
            "  estimator.fit(X[:, features], y, **fit_params)\n"
          ]
        },
        {
          "output_type": "stream",
          "name": "stdout",
          "text": [
            "Fitting estimator with 2528 features.\n"
          ]
        },
        {
          "output_type": "stream",
          "name": "stderr",
          "text": [
            "/usr/local/lib/python3.7/dist-packages/sklearn/feature_selection/_rfe.py:283: DataConversionWarning: A column-vector y was passed when a 1d array was expected. Please change the shape of y to (n_samples,), for example using ravel().\n",
            "  estimator.fit(X[:, features], y, **fit_params)\n"
          ]
        },
        {
          "output_type": "stream",
          "name": "stdout",
          "text": [
            "Fitting estimator with 2428 features.\n"
          ]
        },
        {
          "output_type": "stream",
          "name": "stderr",
          "text": [
            "/usr/local/lib/python3.7/dist-packages/sklearn/feature_selection/_rfe.py:283: DataConversionWarning: A column-vector y was passed when a 1d array was expected. Please change the shape of y to (n_samples,), for example using ravel().\n",
            "  estimator.fit(X[:, features], y, **fit_params)\n"
          ]
        },
        {
          "output_type": "stream",
          "name": "stdout",
          "text": [
            "Fitting estimator with 2328 features.\n"
          ]
        },
        {
          "output_type": "stream",
          "name": "stderr",
          "text": [
            "/usr/local/lib/python3.7/dist-packages/sklearn/feature_selection/_rfe.py:283: DataConversionWarning: A column-vector y was passed when a 1d array was expected. Please change the shape of y to (n_samples,), for example using ravel().\n",
            "  estimator.fit(X[:, features], y, **fit_params)\n"
          ]
        },
        {
          "output_type": "stream",
          "name": "stdout",
          "text": [
            "Fitting estimator with 2228 features.\n"
          ]
        },
        {
          "output_type": "stream",
          "name": "stderr",
          "text": [
            "/usr/local/lib/python3.7/dist-packages/sklearn/feature_selection/_rfe.py:283: DataConversionWarning: A column-vector y was passed when a 1d array was expected. Please change the shape of y to (n_samples,), for example using ravel().\n",
            "  estimator.fit(X[:, features], y, **fit_params)\n"
          ]
        },
        {
          "output_type": "stream",
          "name": "stdout",
          "text": [
            "Fitting estimator with 2128 features.\n"
          ]
        },
        {
          "output_type": "stream",
          "name": "stderr",
          "text": [
            "/usr/local/lib/python3.7/dist-packages/sklearn/feature_selection/_rfe.py:283: DataConversionWarning: A column-vector y was passed when a 1d array was expected. Please change the shape of y to (n_samples,), for example using ravel().\n",
            "  estimator.fit(X[:, features], y, **fit_params)\n"
          ]
        },
        {
          "output_type": "stream",
          "name": "stdout",
          "text": [
            "Fitting estimator with 2028 features.\n"
          ]
        },
        {
          "output_type": "stream",
          "name": "stderr",
          "text": [
            "/usr/local/lib/python3.7/dist-packages/sklearn/feature_selection/_rfe.py:283: DataConversionWarning: A column-vector y was passed when a 1d array was expected. Please change the shape of y to (n_samples,), for example using ravel().\n",
            "  estimator.fit(X[:, features], y, **fit_params)\n"
          ]
        },
        {
          "output_type": "stream",
          "name": "stdout",
          "text": [
            "Fitting estimator with 1928 features.\n"
          ]
        },
        {
          "output_type": "stream",
          "name": "stderr",
          "text": [
            "/usr/local/lib/python3.7/dist-packages/sklearn/feature_selection/_rfe.py:283: DataConversionWarning: A column-vector y was passed when a 1d array was expected. Please change the shape of y to (n_samples,), for example using ravel().\n",
            "  estimator.fit(X[:, features], y, **fit_params)\n"
          ]
        },
        {
          "output_type": "stream",
          "name": "stdout",
          "text": [
            "Fitting estimator with 1828 features.\n"
          ]
        },
        {
          "output_type": "stream",
          "name": "stderr",
          "text": [
            "/usr/local/lib/python3.7/dist-packages/sklearn/feature_selection/_rfe.py:283: DataConversionWarning: A column-vector y was passed when a 1d array was expected. Please change the shape of y to (n_samples,), for example using ravel().\n",
            "  estimator.fit(X[:, features], y, **fit_params)\n"
          ]
        },
        {
          "output_type": "stream",
          "name": "stdout",
          "text": [
            "Fitting estimator with 1728 features.\n"
          ]
        },
        {
          "output_type": "stream",
          "name": "stderr",
          "text": [
            "/usr/local/lib/python3.7/dist-packages/sklearn/feature_selection/_rfe.py:283: DataConversionWarning: A column-vector y was passed when a 1d array was expected. Please change the shape of y to (n_samples,), for example using ravel().\n",
            "  estimator.fit(X[:, features], y, **fit_params)\n"
          ]
        },
        {
          "output_type": "stream",
          "name": "stdout",
          "text": [
            "Fitting estimator with 1628 features.\n"
          ]
        },
        {
          "output_type": "stream",
          "name": "stderr",
          "text": [
            "/usr/local/lib/python3.7/dist-packages/sklearn/feature_selection/_rfe.py:283: DataConversionWarning: A column-vector y was passed when a 1d array was expected. Please change the shape of y to (n_samples,), for example using ravel().\n",
            "  estimator.fit(X[:, features], y, **fit_params)\n"
          ]
        },
        {
          "output_type": "stream",
          "name": "stdout",
          "text": [
            "Fitting estimator with 1528 features.\n"
          ]
        },
        {
          "output_type": "stream",
          "name": "stderr",
          "text": [
            "/usr/local/lib/python3.7/dist-packages/sklearn/feature_selection/_rfe.py:283: DataConversionWarning: A column-vector y was passed when a 1d array was expected. Please change the shape of y to (n_samples,), for example using ravel().\n",
            "  estimator.fit(X[:, features], y, **fit_params)\n"
          ]
        },
        {
          "output_type": "stream",
          "name": "stdout",
          "text": [
            "Fitting estimator with 1428 features.\n"
          ]
        },
        {
          "output_type": "stream",
          "name": "stderr",
          "text": [
            "/usr/local/lib/python3.7/dist-packages/sklearn/feature_selection/_rfe.py:283: DataConversionWarning: A column-vector y was passed when a 1d array was expected. Please change the shape of y to (n_samples,), for example using ravel().\n",
            "  estimator.fit(X[:, features], y, **fit_params)\n"
          ]
        },
        {
          "output_type": "stream",
          "name": "stdout",
          "text": [
            "Fitting estimator with 1328 features.\n"
          ]
        },
        {
          "output_type": "stream",
          "name": "stderr",
          "text": [
            "/usr/local/lib/python3.7/dist-packages/sklearn/feature_selection/_rfe.py:283: DataConversionWarning: A column-vector y was passed when a 1d array was expected. Please change the shape of y to (n_samples,), for example using ravel().\n",
            "  estimator.fit(X[:, features], y, **fit_params)\n"
          ]
        },
        {
          "output_type": "stream",
          "name": "stdout",
          "text": [
            "Fitting estimator with 1228 features.\n"
          ]
        },
        {
          "output_type": "stream",
          "name": "stderr",
          "text": [
            "/usr/local/lib/python3.7/dist-packages/sklearn/feature_selection/_rfe.py:283: DataConversionWarning: A column-vector y was passed when a 1d array was expected. Please change the shape of y to (n_samples,), for example using ravel().\n",
            "  estimator.fit(X[:, features], y, **fit_params)\n"
          ]
        },
        {
          "output_type": "stream",
          "name": "stdout",
          "text": [
            "Fitting estimator with 1128 features.\n"
          ]
        },
        {
          "output_type": "stream",
          "name": "stderr",
          "text": [
            "/usr/local/lib/python3.7/dist-packages/sklearn/feature_selection/_rfe.py:283: DataConversionWarning: A column-vector y was passed when a 1d array was expected. Please change the shape of y to (n_samples,), for example using ravel().\n",
            "  estimator.fit(X[:, features], y, **fit_params)\n"
          ]
        },
        {
          "output_type": "stream",
          "name": "stdout",
          "text": [
            "Fitting estimator with 1028 features.\n"
          ]
        },
        {
          "output_type": "stream",
          "name": "stderr",
          "text": [
            "/usr/local/lib/python3.7/dist-packages/sklearn/feature_selection/_rfe.py:283: DataConversionWarning: A column-vector y was passed when a 1d array was expected. Please change the shape of y to (n_samples,), for example using ravel().\n",
            "  estimator.fit(X[:, features], y, **fit_params)\n",
            "/usr/local/lib/python3.7/dist-packages/sklearn/feature_selection/_rfe.py:310: DataConversionWarning: A column-vector y was passed when a 1d array was expected. Please change the shape of y to (n_samples,), for example using ravel().\n",
            "  self.estimator_.fit(X[:, features], y, **fit_params)\n"
          ]
        }
      ]
    },
    {
      "cell_type": "code",
      "source": [
        "rfe_feature = x.loc[:,rfe_support].columns.tolist()\n",
        "print(rfe_feature)\n",
        "print(len(rfe_feature))"
      ],
      "metadata": {
        "colab": {
          "base_uri": "https://localhost:8080/"
        },
        "id": "85-WFmV-fdHK",
        "outputId": "9ff3911c-689b-4894-f2c6-096608fd7dcd"
      },
      "execution_count": 41,
      "outputs": [
        {
          "output_type": "stream",
          "name": "stdout",
          "text": [
            "['MIR34A', 'LINC02606', 'UBE4B', 'PGD', 'CORT', 'HNRNPCL1', 'HNRNPCL3', 'PRAMEF10', 'PRAMEF13', 'PRAMEF2', 'PRAMEF3', 'PRAMEF4', 'PRDM2', 'UQCRHL', 'SPEN', 'FAM131C', 'PADI4', 'DDOST', 'USP48', 'LACTBL1', 'ARID1A', 'COL16A1', 'TMEM234', 'KIAA0319L', 'AGO1', 'THRAP3', 'LSM10', 'CSF3R', 'LINC01137', 'CDCA8', 'MANEAL', 'MTF1', 'SF3A3', 'UTP11L', 'RHBDL2', 'SMAP2', 'C1orf185', 'NFIA', 'NEGR1', 'NEGR1-IT1', 'ST6GALNAC3', 'SAMD13', 'RPF1', 'CLCA4', 'CCDC18', 'TRMT13', 'LRRC39', 'CDC14A', 'AMY2A', 'C1orf194', 'AP4B1', 'ANKRD34A', 'HIST2H2BF', 'LIX1L', 'NBPF14', 'APH1A', 'PSMB4', 'PRR9', 'SCAMP3', 'ASH1L', 'IQGAP3', 'NES', 'HDGF', 'SH2D2A', 'FCRL3', 'CD1A', 'DARC', 'CRP', 'DUSP23', 'C1orf204', 'SLAMF9', 'PIGM', 'KCNJ10', 'NHLH1', 'LY9', 'ITLN2', 'USF1', 'PFDN2', 'NIT1', 'B4GALT3', 'PPOX', 'ADAMTS4', 'MIR5187', 'NR1I3', 'SDHC', 'C1orf192', 'FCGR2A', 'FCGR2B', 'FCGR2C', 'FCGR3B', 'HSPA7', 'NOS1AP', 'UHMK1', 'HSD17B7', 'RGS5', 'LOC440700', 'FMO9P', 'TADA1', 'GPA33', 'GM140', 'RGS16', 'C1orf21', 'PDC', 'LINC01351', 'CDC73', 'MIR5191', 'TIMM17A', 'ARL8A', 'FAM72A', 'CD55', 'LOC148696', 'NEK2', 'MIR3122', 'PROX1', 'KCTD3', 'RNU5F-1', 'PYCR2', 'ARF1', 'HIST3H3', 'SPHAR', 'ACTA1', 'COG2', 'FAM110C', 'FAM150B', 'SH3YL1', 'PXDN', 'SNTG2', 'TSSC1', 'MIR7515HG', 'LINC00487', 'RNF144A-AS1', 'RNF144A', 'LOC100506274', 'CPSF3', 'IAH1', 'GRHL1', 'KLF11', 'CYS1', 'C2orf48', 'HPCAL1', 'NOL10', 'C2orf50', 'PQLC3', 'LINC00276', 'FAM84A', 'FAM49A', 'VSNL1', 'SMC6', 'MSGN1', 'TTC32', 'WDR35-DT', 'MATN3', 'TP53I3', 'POMC', 'TMEM214', 'SPAST', 'GALM', 'LINC01914', 'ZFP36L2', 'C1GALT1C1L', 'ERLEC1', 'REL', 'C2orf74', 'DYSF', 'SFXN5', 'NOTO', 'FBXO41', 'EGR4', 'DCTN1', 'RTKN', 'MRPL53', 'AUP1', 'SFTPB', 'KANSL3', 'FER1L5', 'LMAN2L', 'FAM178B', 'ANKRD36', 'LINC01125', 'INPP4A', 'COA5', 'UNC50', 'MGAT4A', 'TSGA10', 'C2orf15', 'MRPL30', 'LYG1', 'LYG2', 'RNF149', 'MIR5696', 'RFX8', 'MIR4772', 'SLC9A2', 'TMEM182', 'SULT1C3', 'LIMS3', 'LOC100288570', 'NPHP1', 'CHCHD5', 'IL1A', 'IL37', 'RPL23AP7', 'TMEM37', 'IWS1', 'HS6ST1', 'LYPD1', 'NCKAP5', 'YY1P2', 'LRP1B', 'MMADHC', 'MIR548N', 'CHROMR', 'NEUROD1', 'ZSWIM2', 'MIR1245B', 'OSGEPL1', 'PMS1', 'MSTN', 'NABP1', 'CASP10', 'ALS2CR12', 'TRAK2', 'KIAA2012', 'NBEAL1', 'MIR4775', 'KANSL1L', 'ACADL', 'CPS1-IT1', 'ERBB4', 'SPAG16-DT', 'SPAG16', 'PECR', 'SMARCAL1', 'IGFBP5', 'SPATA3', 'MIR4777', 'KCNJ13', 'UGT1A5', 'UGT1A3', 'UGT1A1', 'SPP2', 'ARL4C', 'GBX2', 'COL6A3', 'MIR6811', 'RAB17', 'RAMP1', 'ESPNL', 'KLHL30', 'ILKAP', 'LINC02610', 'LINC01107', 'LINC01940', 'HDAC4', 'NDUFA10', 'PRR21', 'ANKMY1', 'CAPN10', 'PPP1R7', 'STK25', 'BOK-AS1', 'LINC01881', 'NEU4', 'RTP5', 'THAP4', 'LINC01266', 'CHL1', 'ITPR1-AS1', 'ITPR1', 'BHLHE40', 'MIR4790', 'OXTR', 'SRGAP3-AS3', 'MTMR14', 'TTLL3', 'RPUSD3', 'CIDEC', 'LOC401052', 'BRK1', 'ATP2B2', 'SLC6A1-AS1', 'HRH1', 'ATG7', 'TAMM41', 'TIMP4', 'TSEN2', 'MKRN2', 'TMEM40', 'CAND2', 'RPL32', 'SNORA7A', 'IQSEC1', 'NUP210', 'HDAC11', 'TMEM43', 'LSM3', 'LINC01267', 'SLC6A6', 'FGD5', 'FGD5-AS1', 'COL6A4P1', 'DPH3', 'MIR4791', 'MIR548AC', 'ACAA1', 'ZNF619', 'ULK4', 'TRAK1', 'MAP4', 'NME6', 'MIR6824', 'NCKIPSD', 'MIR425', 'KLHDC8B', 'MIR5193', 'RBM6', 'RBM5-AS1', 'GNAT1', 'GNAI2', 'LSMEM2', 'HYAL3', 'CADM2', 'ARL13B', 'TRMT10C', 'ZBTB11', 'ZPLD1', 'MORC1', 'C3orf17', 'LINC02044', 'QTRTD1', 'DRD3', 'ZNF80', 'TIGIT', 'ZBTB20-AS1', 'H1FX-AS1', 'ALG1L2', 'MIR5704', 'SLC35G2', 'RBP2', 'CLSTN2-AS1', 'SLC9A9', 'PLSCR5', 'SHOX2', 'LRRC31', 'USP13', 'ABCC5', 'SST', 'LOC100131635', 'BCL6', 'LPP-AS2', 'LPP', 'FLJ42393', 'LPP-AS1', 'TPRG1', 'ZNF595', 'CTBP1', 'MSANTD1', 'LYAR', 'STX18-AS1', 'MSX1', 'CRMP1', 'LOC93622', 'MRFAP1L1', 'GRPEL1', 'SORCS2', 'PSAPL1', 'ACOX3', 'MIR548I2', 'USP17L12', 'USP17L17', 'USP17L20', 'USP17L24', 'USP17L27', 'USP17L6P', 'DRD5', 'ZNF518B', 'GRID2', 'DCLK2', 'TRIM61', 'PDCD6-DT', 'PLEKHG4B', 'NKD2', 'CTD-2194D22.4', 'C5orf38', 'LINC01377', 'LINC01019', 'LINC01017', 'LINC02114', 'MIR4458HG', 'TAS2R1', 'MARCH6', 'MIR6131', 'DNAH5', 'ANKH', 'PMCHL1', 'CDH10', 'CDH9', 'LSP1P3', 'DROSHA', 'PDZD2', 'UGT3A1', 'FYB', 'ANXA2R-OT1', 'CCL28', 'ISL1-DT', 'GZMA', 'PDE4D', 'ZFYVE16', 'LINC00491', 'PJA2', 'E2F3', 'CDKAL1', 'GUCA1A', 'GPR115', 'AHI1', 'PARK2', 'FAM126A', 'LINC01005', 'ZNF727', 'ZNF735', 'ZNF736', 'ZNF680', 'LOC100128885', 'LOC641746', 'ZNF107', 'MIR6839', 'ZNF138', 'ZNF273', 'ZNF117', 'KBTBD11', 'DEFA10P', 'DEFB103A', 'FAM86B3P', 'FAM90A2P', 'MIR3926-2', 'SGCZ', 'MSR1', 'NKX3-1', 'ADAMDEC1', 'STMN4', 'KIF13B', 'FAM183CP', 'RNF122', 'PROSC', 'DDHD2', 'PPAPDC1B', 'TACC1', 'ADAM3A', 'AGPAT6', 'ANK1', 'AP3M2', 'PLAT', 'DKK4', 'SMIM19', 'NPBWR1', 'MIR5681A', 'POLR2K', 'FLJ42969', 'PCAT1', 'CCAT2', 'MIR1207', 'IFNB1', 'IFNA14', 'IFNA22P', 'KLHL9', 'IFNA13', 'IFNA8', 'MTAP', 'CDKN2B', 'DMRTA1', 'LINC01239', 'ELAVL2', 'ANKRD20A2', 'AQP7P3', 'FAM27A', 'PGM5P2', 'LOC101927069', 'PRKACG', 'TJP2', 'C9orf135-AS1', 'SMC5', 'MIR204', 'ANXA1', 'VPS13A-AS1', 'LINC01508', 'FGD3', 'WNK2', 'C9orf129', 'HIATL1', 'TBC1D2', 'COL15A1', 'CDC26', 'RNF183', 'C9orf43', 'KIF12', 'MIR1256|chr10', 'MICU1', 'TPTE2', 'IFI27L1', 'IFI27', 'THSD4', 'TMEM114', 'MFSD11', 'SGSH', 'AZI1', 'OXLD1', 'MRPL12', 'P4HB', 'RFNG', 'SLC16A3', 'FN3KRP', 'ZNF750', 'DLGAP1-AS3', 'ZBTB14', 'MIR7153', 'IMPA2', 'CIDEA', 'TUBB6', 'AFG3L2', 'SPIRE1', 'ANKRD20A5P', 'MIR133A1HG', 'MIR320C2', 'IMPACT', 'HRH4', 'SS18', 'TAF4B', 'LINC01543', 'KCTD1', 'CHST9', 'DSG1', 'DSG3', 'TRAPPC8', 'RNF125', 'RNF138', 'CELF4', 'KC6', 'LOXHD1', 'HDHD2', 'IER3IP1', 'SMAD7', 'MIR1539', 'SNORD58A', 'LIPG', 'MYO5B', 'ME2', 'MEX3C', 'LINC-ROR', 'NARS', 'NEDD4L', 'GRP', 'CPLX4', 'MC4R', 'CDH19', 'DSEL', 'CCDC102B', 'RTTN', 'CNDP1', 'ZADH2', 'HSBP1L1', 'RBFA', 'PCSK4', 'ADAT3', 'SCAMP4', 'CSNK1G2', 'MIR1227', 'AMH', 'GNA15', 'CACTIN-AS1', 'DAPK3', 'PLIN5', 'MIR7-3', 'SAFB2', 'CD70', 'ZNF699', 'ZNF559-ZNF177', 'ZNF266', 'ZNF561', 'ICAM4', 'KEAP1', 'ILF3', 'DNM2', 'MIR4748', 'TMED1', 'RAB3D', 'ZNF20', 'PRKACA', 'MIR1470', 'OR10H4', 'RAB8A', 'EPS15L1', 'C19orf44', 'TMEM59L', 'KLHL26', 'NDUFA13', 'YJEFN3', 'LINC00664', 'LOC641367', 'ZNF43', 'ZNF676', 'ZNF729', 'LOC101929124', 'LINC01233', 'LOC100996349', 'ZNF492', 'ZNF675', 'RPSAP58', 'HAVCR1P1', 'ZNF726', 'LOC100420587', 'LOC284395', 'VSTM2B', 'PLEKHF1', 'CCNE1', 'TSHZ3', 'THEG5', 'LINC01533', 'ANKRD27', 'RGS9BP', 'CEP89', 'GPATCH1', 'CEBPA-AS1', 'HPN', 'HAUS5', 'ZNF146', 'ZNF790', 'ZNF568', 'ZFP30', 'CATSPERG', 'SYCN', 'IFNL3', 'IFNL2', 'GMFG', 'DYRK1B', 'FBL', 'MIR6719', 'FCGBP', 'AKT2', 'CEACAM5', 'RPS19', 'SRRM5', 'SMG9', 'ZNF404', 'ZNF221', 'APOC1', 'PPP1R13L', 'EML2', 'C19orf83', 'GIPR', 'MIR642B', 'MEIOSIN', 'SYMPK', 'MYPOP', 'CCDC61', 'MIR769', 'IGFL2', 'PPP5C', 'C5AR2', 'KPTN', 'CA11', 'BAX', 'NTF4', 'SPACA6P-AS', 'MIR521-2', 'MIR527', 'LILRA4', 'NLRP11', 'ZNF787', 'ZNF444', 'ZNF667', 'ZNF470', 'SMIM17', 'PEG3', 'USP29', 'ZNF304', 'ZNF671', 'ZNF587', 'ZNF256', 'ZSCAN1', 'SLC27A5', 'UBE2M', 'ZNF132', 'ZNF324', 'C20orf96', 'DEFB126', 'RBCK1', 'TBC1D20', 'TRIB3', 'TCF15', 'SLC52A3', 'UBOX5', 'LINC01433', 'GPCPD1', 'LINC01729', 'C20orf196', 'PARAL1', 'KIF16B', 'RRBP1', 'BANF2', 'DTD1-AS1', 'LINC01726', 'NXT1', 'GGTLC1', 'CST7', 'FAM182B', 'FAM182A', 'MIR663AHG', 'FRG1B', 'DEFB115', 'DEFB121', 'DEFB124', 'BCL2L1', 'PDRG1', 'POFUT1', 'KIF3B', 'C20orf112', 'COMMD7', 'BPIFB2', 'C20orf144', 'MIR499B', 'FAM83C-AS1', 'SPAG4', 'NFS1', 'ROMO1', 'SCAND1', 'CNBD2', 'STK4', 'DBNDD2', 'WFDC11', 'WFDC10B', 'SPINT4', 'NCOA5', 'ZMYND8', 'ADNP', 'C20orf166', 'LINC00659', 'ANKRD20A11P', 'LINC01674', 'C21orf15', 'TPTE', 'ABCC13', 'LOC388813', 'USP25', 'LINC00515', 'ADAMTS5', 'LINC00307', 'KRTAP23-1', 'KRTAP19-1', 'KRTAP19-2', 'TIAM1', 'HUNK', 'EVA1C', 'OLIG1', 'AP000289.6', 'IFNAR1', 'TMEM50B', 'SON', 'LOC400863', 'RUNX1', 'SETD4', 'CBR1-AS1', 'MORC3', 'SIM2', 'HLCS', 'DSCR8', 'BRWD1-AS1', 'MIR4760', 'LINC00323', 'MX2', 'C21orf128', 'AATBC', 'PWP2', 'DNMT3L', 'LRRC3', 'C21orf90', 'KRTAP10-1', 'ITGB2-AS1', 'SLC19A1', 'PCBP3', 'S100B', 'YBEY', 'PEX26', 'DGCR14', 'LINC00896', 'RIMBP3C', 'SLC7A4', 'USP18', 'LINC01659', 'CES5AP1', 'PRAME', 'ZNF280A', 'ZNF280B', 'PIWIL3', 'LRP5L', 'HSCB', 'CCDC117', 'ZNRF3-AS1', 'RHBDD3', 'RNF215', 'LIMK2', 'PATZ1', 'DEPDC5', 'YWHAH', 'AP1B1P1', 'SLC5A4', 'LARGE', 'LARGE-AS1', 'MIR3909', 'RASD2', 'RBFOX2', 'CACNG2', 'PVALB', 'TEX33', 'TMPRSS6', 'RAC2', 'EIF3L', 'MIR4534', 'APOBEC3A', 'SNORD139', 'MGAT3', 'ENTHD1', 'SEPT3', 'ATP5L2', 'TTLL12', 'CPT1B', 'MOV10L1', 'SCO2', 'MIR3690|chrX', 'MIR6089-1|chrX', 'ZBED1', 'NLGN4X', 'MOSPD2', 'TXLNG', 'RS1', 'EIF1AX', 'EIF1AX-AS1', 'RPS6KA3', 'PCYT1B-AS1', 'IL1RAPL1', 'LOC100132831', 'SSX4', 'XAGE1A', 'XAGE3', 'IGBP1', 'OTUD6A', 'INGX', 'TAF9B', 'PCDH11X', 'FAM133A', 'XKRX', 'CENPI', 'HNRNPH2', 'ARMCX4', 'ZMAT1', 'NXF4', 'BEX1', 'GLRA4', 'H2BFWT', 'IL1RAPL2', 'FRMPD3', 'MID2', 'TEX13B', 'VSIG1', 'PSMD10', 'COL4A6', 'TMEM164', 'LINC00890', 'ALG13', 'LRCH2', 'RBMXL3', 'AGTR2', 'WDR44', 'SNORA69', 'UPF3B', 'RHOXF2B', 'RHOXF2', 'ZBTB33', 'CUL4B', 'C1GALT1C1', 'CT47A2', 'CT47B1', 'DCAF12L1', 'DENND10P1.1', 'FIRRE', 'IGSF1', 'MIR363', 'MIR503', 'CD40LG', 'SPANXA1', 'SPANXC', 'MAGEC2', 'SPANXN3', 'CXorf40A', 'CSAG4', 'AVPR2', 'NAA10', 'SNORA70', 'ATP6AP1', 'GDI1', 'G6PD', 'FUNDC2', 'H2AFB2', 'RP13-228J13.1', 'hsa-mir-551a', 'hsa-mir-552', 'hsa-mir-548s', 'hsa-mir-1245', 'hsa-mir-3130-3', 'hsa-mir-378b', 'hsa-mir-3134', 'hsa-mir-3135', 'hsa-mir-2115', 'hsa-mir-566', 'hsa-mir-544b', 'hsa-mir-1263', 'hsa-mir-720', 'hsa-mir-28', 'hsa-mir-95', 'hsa-mir-1255a', 'hsa-mir-576', 'hsa-mir-297', 'hsa-mir-3139', 'hsa-mir-548g', 'hsa-mir-1979', 'hsa-mir-548t', 'hsa-mir-1274a', 'hsa-mir-582', 'hsa-mir-548f-3', 'hsa-mir-886', 'hsa-mir-584', 'hsa-mir-1294', 'hsa-mir-1303', 'hsa-mir-1271', 'hsa-mir-548u', 'hsa-mir-2113', 'hsa-mir-587', 'hsa-mir-3144', 'hsa-mir-548a-2', 'hsa-mir-1273c', 'hsa-mir-1202', 'hsa-mir-1302-6', 'hsa-mir-1183', 'hsa-mir-548n', 'hsa-mir-548o', 'hsa-mir-96', 'hsa-mir-4286', 'hsa-mir-548v', 'hsa-mir-548h-4', 'hsa-mir-3149', 'hsa-mir-1273', 'hsa-mir-548a-3', 'hsa-mir-151', 'hsa-mir-1302-7', 'hsa-mir-1302-9', 'hsa-mir-1299', 'hsa-mir-1302-8', 'hsa-mir-548q', 'hsa-mir-4293', 'hsa-mir-548f-1', 'hsa-mir-1254', 'hsa-mir-607', 'hsa-mir-302e', 'hsa-mir-3159', 'hsa-mir-3163', 'hsa-mir-3164', 'hsa-mir-3166', 'hsa-mir-1261', 'hsa-mir-548l', 'hsa-mir-1244-3', 'hsa-mir-616', 'hsa-mir-619', 'hsa-mir-1302-1', 'hsa-mir-3168', 'hsa-mir-1267', 'hsa-mir-1201', 'hsa-mir-3171', 'hsa-mir-625', 'hsa-mir-342', 'hsa-mir-1185-1', 'hsa-mir-1185-2', 'hsa-mir-544', 'hsa-mir-1268', 'hsa-mir-3118-4', 'hsa-mir-3118-6', 'hsa-mir-422a', 'hsa-mir-3174', 'hsa-mir-1302-10', 'hsa-mir-548h-2', 'hsa-mir-1972-1', 'hsa-mir-548w', 'hsa-mir-1826', 'hsa-mir-3181', 'hsa-mir-548h-3', 'hsa-mir-633', 'hsa-mir-548d-2', 'hsa-mir-924', 'hsa-mir-1302-11', 'hsa-mir-220b', 'hsa-mir-1289-1', 'hsa-mir-1302-5']\n",
            "1000\n"
          ]
        }
      ]
    },
    {
      "cell_type": "code",
      "source": [
        "kbest_df_rfe=x[rfe_feature].copy()\n",
        "kbest_df_rfe['TMB_CLASS'] = y.iloc[:,0].values\n",
        "kbest_df_rfe['SAMPLE_ID'] = df_cna['SAMPLE_ID'].copy()\n",
        "kbest_df_rfe.set_index('SAMPLE_ID', inplace=True)\n",
        "kbest_df_rfe.head()\n",
        "#x[rfe_feature]"
      ],
      "metadata": {
        "colab": {
          "base_uri": "https://localhost:8080/",
          "height": 470
        },
        "id": "jhhvtVsukCvT",
        "outputId": "3d44607b-769f-4e82-b9ee-f69c8c8856f3"
      },
      "execution_count": 63,
      "outputs": [
        {
          "output_type": "execute_result",
          "data": {
            "text/plain": [
              "                   MIR34A  LINC02606     UBE4B       PGD      CORT  HNRNPCL1  \\\n",
              "SAMPLE_ID                                                                      \n",
              "TCGA-2F-A9KO-01  0.000215   0.000215  0.001263  0.001266  0.001266  0.000217   \n",
              "TCGA-2F-A9KP-01  0.006670   0.006670  0.004708  0.004719  0.004719  0.006727   \n",
              "TCGA-2F-A9KQ-01  0.002367   0.002367  0.002412  0.002417  0.002417  0.002387   \n",
              "TCGA-2F-A9KR-01  0.002367   0.002367  0.002412  0.002417  0.002417  0.002387   \n",
              "TCGA-2F-A9KT-01  0.002367   0.002367  0.002412  0.002417  0.002417  0.002387   \n",
              "\n",
              "                 HNRNPCL3  PRAMEF10  PRAMEF13   PRAMEF2  ...  hsa-mir-3181  \\\n",
              "SAMPLE_ID                                                ...                 \n",
              "TCGA-2F-A9KO-01  0.000217  0.000217  0.000217  0.000217  ...      0.002558   \n",
              "TCGA-2F-A9KP-01  0.006727  0.006727  0.006727  0.006727  ...      0.002558   \n",
              "TCGA-2F-A9KQ-01  0.002387  0.002387  0.002387  0.002387  ...      0.002558   \n",
              "TCGA-2F-A9KR-01  0.002387  0.002387  0.002387  0.002387  ...      0.002558   \n",
              "TCGA-2F-A9KT-01  0.002387  0.002387  0.002387  0.002387  ...      0.002558   \n",
              "\n",
              "                 hsa-mir-548h-3  hsa-mir-633  hsa-mir-548d-2  hsa-mir-924  \\\n",
              "SAMPLE_ID                                                                   \n",
              "TCGA-2F-A9KO-01        0.001602     0.001725        0.002025     0.001442   \n",
              "TCGA-2F-A9KP-01        0.004514     0.001725        0.002025     0.002753   \n",
              "TCGA-2F-A9KQ-01        0.003058     0.001725        0.002025     0.001442   \n",
              "TCGA-2F-A9KR-01        0.001602     0.004860        0.003954     0.001442   \n",
              "TCGA-2F-A9KT-01        0.001602     0.001725        0.002025     0.002753   \n",
              "\n",
              "                 hsa-mir-1302-11  hsa-mir-220b  hsa-mir-1289-1  \\\n",
              "SAMPLE_ID                                                        \n",
              "TCGA-2F-A9KO-01         0.002735      0.002943        0.002803   \n",
              "TCGA-2F-A9KP-01         0.005340      0.002943        0.002803   \n",
              "TCGA-2F-A9KQ-01         0.002735      0.002943        0.001899   \n",
              "TCGA-2F-A9KR-01         0.002735      0.002943        0.002803   \n",
              "TCGA-2F-A9KT-01         0.002735      0.002943        0.000995   \n",
              "\n",
              "                 hsa-mir-1302-5  TMB_CLASS  \n",
              "SAMPLE_ID                                   \n",
              "TCGA-2F-A9KO-01        0.003036          2  \n",
              "TCGA-2F-A9KP-01        0.003036          1  \n",
              "TCGA-2F-A9KQ-01        0.001590          1  \n",
              "TCGA-2F-A9KR-01        0.003036          2  \n",
              "TCGA-2F-A9KT-01        0.004481          2  \n",
              "\n",
              "[5 rows x 1001 columns]"
            ],
            "text/html": [
              "\n",
              "  <div id=\"df-6a6e40fb-d002-430e-8718-945ac1684a13\">\n",
              "    <div class=\"colab-df-container\">\n",
              "      <div>\n",
              "<style scoped>\n",
              "    .dataframe tbody tr th:only-of-type {\n",
              "        vertical-align: middle;\n",
              "    }\n",
              "\n",
              "    .dataframe tbody tr th {\n",
              "        vertical-align: top;\n",
              "    }\n",
              "\n",
              "    .dataframe thead th {\n",
              "        text-align: right;\n",
              "    }\n",
              "</style>\n",
              "<table border=\"1\" class=\"dataframe\">\n",
              "  <thead>\n",
              "    <tr style=\"text-align: right;\">\n",
              "      <th></th>\n",
              "      <th>MIR34A</th>\n",
              "      <th>LINC02606</th>\n",
              "      <th>UBE4B</th>\n",
              "      <th>PGD</th>\n",
              "      <th>CORT</th>\n",
              "      <th>HNRNPCL1</th>\n",
              "      <th>HNRNPCL3</th>\n",
              "      <th>PRAMEF10</th>\n",
              "      <th>PRAMEF13</th>\n",
              "      <th>PRAMEF2</th>\n",
              "      <th>...</th>\n",
              "      <th>hsa-mir-3181</th>\n",
              "      <th>hsa-mir-548h-3</th>\n",
              "      <th>hsa-mir-633</th>\n",
              "      <th>hsa-mir-548d-2</th>\n",
              "      <th>hsa-mir-924</th>\n",
              "      <th>hsa-mir-1302-11</th>\n",
              "      <th>hsa-mir-220b</th>\n",
              "      <th>hsa-mir-1289-1</th>\n",
              "      <th>hsa-mir-1302-5</th>\n",
              "      <th>TMB_CLASS</th>\n",
              "    </tr>\n",
              "    <tr>\n",
              "      <th>SAMPLE_ID</th>\n",
              "      <th></th>\n",
              "      <th></th>\n",
              "      <th></th>\n",
              "      <th></th>\n",
              "      <th></th>\n",
              "      <th></th>\n",
              "      <th></th>\n",
              "      <th></th>\n",
              "      <th></th>\n",
              "      <th></th>\n",
              "      <th></th>\n",
              "      <th></th>\n",
              "      <th></th>\n",
              "      <th></th>\n",
              "      <th></th>\n",
              "      <th></th>\n",
              "      <th></th>\n",
              "      <th></th>\n",
              "      <th></th>\n",
              "      <th></th>\n",
              "      <th></th>\n",
              "    </tr>\n",
              "  </thead>\n",
              "  <tbody>\n",
              "    <tr>\n",
              "      <th>TCGA-2F-A9KO-01</th>\n",
              "      <td>0.000215</td>\n",
              "      <td>0.000215</td>\n",
              "      <td>0.001263</td>\n",
              "      <td>0.001266</td>\n",
              "      <td>0.001266</td>\n",
              "      <td>0.000217</td>\n",
              "      <td>0.000217</td>\n",
              "      <td>0.000217</td>\n",
              "      <td>0.000217</td>\n",
              "      <td>0.000217</td>\n",
              "      <td>...</td>\n",
              "      <td>0.002558</td>\n",
              "      <td>0.001602</td>\n",
              "      <td>0.001725</td>\n",
              "      <td>0.002025</td>\n",
              "      <td>0.001442</td>\n",
              "      <td>0.002735</td>\n",
              "      <td>0.002943</td>\n",
              "      <td>0.002803</td>\n",
              "      <td>0.003036</td>\n",
              "      <td>2</td>\n",
              "    </tr>\n",
              "    <tr>\n",
              "      <th>TCGA-2F-A9KP-01</th>\n",
              "      <td>0.006670</td>\n",
              "      <td>0.006670</td>\n",
              "      <td>0.004708</td>\n",
              "      <td>0.004719</td>\n",
              "      <td>0.004719</td>\n",
              "      <td>0.006727</td>\n",
              "      <td>0.006727</td>\n",
              "      <td>0.006727</td>\n",
              "      <td>0.006727</td>\n",
              "      <td>0.006727</td>\n",
              "      <td>...</td>\n",
              "      <td>0.002558</td>\n",
              "      <td>0.004514</td>\n",
              "      <td>0.001725</td>\n",
              "      <td>0.002025</td>\n",
              "      <td>0.002753</td>\n",
              "      <td>0.005340</td>\n",
              "      <td>0.002943</td>\n",
              "      <td>0.002803</td>\n",
              "      <td>0.003036</td>\n",
              "      <td>1</td>\n",
              "    </tr>\n",
              "    <tr>\n",
              "      <th>TCGA-2F-A9KQ-01</th>\n",
              "      <td>0.002367</td>\n",
              "      <td>0.002367</td>\n",
              "      <td>0.002412</td>\n",
              "      <td>0.002417</td>\n",
              "      <td>0.002417</td>\n",
              "      <td>0.002387</td>\n",
              "      <td>0.002387</td>\n",
              "      <td>0.002387</td>\n",
              "      <td>0.002387</td>\n",
              "      <td>0.002387</td>\n",
              "      <td>...</td>\n",
              "      <td>0.002558</td>\n",
              "      <td>0.003058</td>\n",
              "      <td>0.001725</td>\n",
              "      <td>0.002025</td>\n",
              "      <td>0.001442</td>\n",
              "      <td>0.002735</td>\n",
              "      <td>0.002943</td>\n",
              "      <td>0.001899</td>\n",
              "      <td>0.001590</td>\n",
              "      <td>1</td>\n",
              "    </tr>\n",
              "    <tr>\n",
              "      <th>TCGA-2F-A9KR-01</th>\n",
              "      <td>0.002367</td>\n",
              "      <td>0.002367</td>\n",
              "      <td>0.002412</td>\n",
              "      <td>0.002417</td>\n",
              "      <td>0.002417</td>\n",
              "      <td>0.002387</td>\n",
              "      <td>0.002387</td>\n",
              "      <td>0.002387</td>\n",
              "      <td>0.002387</td>\n",
              "      <td>0.002387</td>\n",
              "      <td>...</td>\n",
              "      <td>0.002558</td>\n",
              "      <td>0.001602</td>\n",
              "      <td>0.004860</td>\n",
              "      <td>0.003954</td>\n",
              "      <td>0.001442</td>\n",
              "      <td>0.002735</td>\n",
              "      <td>0.002943</td>\n",
              "      <td>0.002803</td>\n",
              "      <td>0.003036</td>\n",
              "      <td>2</td>\n",
              "    </tr>\n",
              "    <tr>\n",
              "      <th>TCGA-2F-A9KT-01</th>\n",
              "      <td>0.002367</td>\n",
              "      <td>0.002367</td>\n",
              "      <td>0.002412</td>\n",
              "      <td>0.002417</td>\n",
              "      <td>0.002417</td>\n",
              "      <td>0.002387</td>\n",
              "      <td>0.002387</td>\n",
              "      <td>0.002387</td>\n",
              "      <td>0.002387</td>\n",
              "      <td>0.002387</td>\n",
              "      <td>...</td>\n",
              "      <td>0.002558</td>\n",
              "      <td>0.001602</td>\n",
              "      <td>0.001725</td>\n",
              "      <td>0.002025</td>\n",
              "      <td>0.002753</td>\n",
              "      <td>0.002735</td>\n",
              "      <td>0.002943</td>\n",
              "      <td>0.000995</td>\n",
              "      <td>0.004481</td>\n",
              "      <td>2</td>\n",
              "    </tr>\n",
              "  </tbody>\n",
              "</table>\n",
              "<p>5 rows × 1001 columns</p>\n",
              "</div>\n",
              "      <button class=\"colab-df-convert\" onclick=\"convertToInteractive('df-6a6e40fb-d002-430e-8718-945ac1684a13')\"\n",
              "              title=\"Convert this dataframe to an interactive table.\"\n",
              "              style=\"display:none;\">\n",
              "        \n",
              "  <svg xmlns=\"http://www.w3.org/2000/svg\" height=\"24px\"viewBox=\"0 0 24 24\"\n",
              "       width=\"24px\">\n",
              "    <path d=\"M0 0h24v24H0V0z\" fill=\"none\"/>\n",
              "    <path d=\"M18.56 5.44l.94 2.06.94-2.06 2.06-.94-2.06-.94-.94-2.06-.94 2.06-2.06.94zm-11 1L8.5 8.5l.94-2.06 2.06-.94-2.06-.94L8.5 2.5l-.94 2.06-2.06.94zm10 10l.94 2.06.94-2.06 2.06-.94-2.06-.94-.94-2.06-.94 2.06-2.06.94z\"/><path d=\"M17.41 7.96l-1.37-1.37c-.4-.4-.92-.59-1.43-.59-.52 0-1.04.2-1.43.59L10.3 9.45l-7.72 7.72c-.78.78-.78 2.05 0 2.83L4 21.41c.39.39.9.59 1.41.59.51 0 1.02-.2 1.41-.59l7.78-7.78 2.81-2.81c.8-.78.8-2.07 0-2.86zM5.41 20L4 18.59l7.72-7.72 1.47 1.35L5.41 20z\"/>\n",
              "  </svg>\n",
              "      </button>\n",
              "      \n",
              "  <style>\n",
              "    .colab-df-container {\n",
              "      display:flex;\n",
              "      flex-wrap:wrap;\n",
              "      gap: 12px;\n",
              "    }\n",
              "\n",
              "    .colab-df-convert {\n",
              "      background-color: #E8F0FE;\n",
              "      border: none;\n",
              "      border-radius: 50%;\n",
              "      cursor: pointer;\n",
              "      display: none;\n",
              "      fill: #1967D2;\n",
              "      height: 32px;\n",
              "      padding: 0 0 0 0;\n",
              "      width: 32px;\n",
              "    }\n",
              "\n",
              "    .colab-df-convert:hover {\n",
              "      background-color: #E2EBFA;\n",
              "      box-shadow: 0px 1px 2px rgba(60, 64, 67, 0.3), 0px 1px 3px 1px rgba(60, 64, 67, 0.15);\n",
              "      fill: #174EA6;\n",
              "    }\n",
              "\n",
              "    [theme=dark] .colab-df-convert {\n",
              "      background-color: #3B4455;\n",
              "      fill: #D2E3FC;\n",
              "    }\n",
              "\n",
              "    [theme=dark] .colab-df-convert:hover {\n",
              "      background-color: #434B5C;\n",
              "      box-shadow: 0px 1px 3px 1px rgba(0, 0, 0, 0.15);\n",
              "      filter: drop-shadow(0px 1px 2px rgba(0, 0, 0, 0.3));\n",
              "      fill: #FFFFFF;\n",
              "    }\n",
              "  </style>\n",
              "\n",
              "      <script>\n",
              "        const buttonEl =\n",
              "          document.querySelector('#df-6a6e40fb-d002-430e-8718-945ac1684a13 button.colab-df-convert');\n",
              "        buttonEl.style.display =\n",
              "          google.colab.kernel.accessAllowed ? 'block' : 'none';\n",
              "\n",
              "        async function convertToInteractive(key) {\n",
              "          const element = document.querySelector('#df-6a6e40fb-d002-430e-8718-945ac1684a13');\n",
              "          const dataTable =\n",
              "            await google.colab.kernel.invokeFunction('convertToInteractive',\n",
              "                                                     [key], {});\n",
              "          if (!dataTable) return;\n",
              "\n",
              "          const docLinkHtml = 'Like what you see? Visit the ' +\n",
              "            '<a target=\"_blank\" href=https://colab.research.google.com/notebooks/data_table.ipynb>data table notebook</a>'\n",
              "            + ' to learn more about interactive tables.';\n",
              "          element.innerHTML = '';\n",
              "          dataTable['output_type'] = 'display_data';\n",
              "          await google.colab.output.renderOutput(dataTable, element);\n",
              "          const docLink = document.createElement('div');\n",
              "          docLink.innerHTML = docLinkHtml;\n",
              "          element.appendChild(docLink);\n",
              "        }\n",
              "      </script>\n",
              "    </div>\n",
              "  </div>\n",
              "  "
            ]
          },
          "metadata": {},
          "execution_count": 63
        }
      ]
    },
    {
      "cell_type": "code",
      "source": [
        "kbest_df_ig.to_csv('./CNA-TMB-RFE.csv',index=False)"
      ],
      "metadata": {
        "id": "24vIk50bmNus"
      },
      "execution_count": 64,
      "outputs": []
    },
    {
      "cell_type": "markdown",
      "source": [
        "## comparing features"
      ],
      "metadata": {
        "id": "Wd0G0lLAZYeG"
      }
    },
    {
      "cell_type": "code",
      "source": [
        "kbest_df_chi2.drop('TMB_CLASS', axis=1 ,inplace=True)\n",
        "list_of_fea_chi2 = kbest_df_chi2.columns.to_list()\n",
        "len(list_of_fea_chi2)"
      ],
      "metadata": {
        "colab": {
          "base_uri": "https://localhost:8080/"
        },
        "id": "rcKK54uHZXAD",
        "outputId": "41f6f475-da28-4a98-dd7e-f7bad4cd2329"
      },
      "execution_count": 29,
      "outputs": [
        {
          "output_type": "execute_result",
          "data": {
            "text/plain": [
              "1000"
            ]
          },
          "metadata": {},
          "execution_count": 29
        }
      ]
    },
    {
      "cell_type": "code",
      "source": [
        "kbest_df_ig.drop('TMB_CLASS', axis=1, inplace=True)\n",
        "list_of_fea_ig = kbest_df_ig.columns.to_list()\n",
        "len(list_of_fea_ig)"
      ],
      "metadata": {
        "colab": {
          "base_uri": "https://localhost:8080/"
        },
        "id": "__pW1QN5ZeNf",
        "outputId": "e373e7c0-f86c-4ee0-fe60-29c4013de117"
      },
      "execution_count": 30,
      "outputs": [
        {
          "output_type": "execute_result",
          "data": {
            "text/plain": [
              "1000"
            ]
          },
          "metadata": {},
          "execution_count": 30
        }
      ]
    },
    {
      "cell_type": "code",
      "source": [
        "list_of_fea_rfe = rfe_feature\n",
        "print(len(list_of_fea_rfe))"
      ],
      "metadata": {
        "colab": {
          "base_uri": "https://localhost:8080/"
        },
        "id": "3wcvAY0biq0L",
        "outputId": "562ed8da-821a-483f-869d-d14b0507759f"
      },
      "execution_count": 47,
      "outputs": [
        {
          "output_type": "stream",
          "name": "stdout",
          "text": [
            "1000\n"
          ]
        }
      ]
    },
    {
      "cell_type": "code",
      "source": [
        "# compare Chi2 to IG\n",
        "common_features_chi2_ig = set(list_of_fea_chi2).intersection(list_of_fea_ig)\n",
        "print(list(common_features_chi2_ig))\n",
        "print(len(list(common_features_chi2_ig)))"
      ],
      "metadata": {
        "colab": {
          "base_uri": "https://localhost:8080/"
        },
        "id": "gpo861dKaWZD",
        "outputId": "8bcc7698-67ac-41ea-8f3a-53614d5086cb"
      },
      "execution_count": 68,
      "outputs": [
        {
          "output_type": "stream",
          "name": "stdout",
          "text": [
            "['MZB1', 'GORAB', 'SMPD1', 'OXNAD1', 'KCNJ10', 'OR52A1', 'SNRPD1', 'LYSMD1', 'LINC00852', 'MIR4270', 'ATG7', 'HBE1', 'POGZ', 'OR52N1', 'BEX5', 'LINC02153', 'C4orf51', 'AKIP1', 'DND1', 'NR2C2', 'PCDHA13', 'SLC22A18AS', 'PCDHA1', 'BIN3', 'PHLDA2', 'MBOAT4', 'UCP1', 'MROH9', 'CHCHD4', 'SMAD1', 'OR52N5', 'SELL', 'MIR320A', 'MIR1277', 'LGI3', 'NOS1AP', 'MIR133A1HG', 'PCDHGA4', 'FAM90A25P', 'SLAMF7', 'DNAJC18', 'MPZL1', 'TMOD4', 'OR56B1', 'FBLN2', 'NCR3LG1', 'MIR5197', 'OR51G2', 'RPL31P11', 'PCDHB4', 'CSRP3', 'NUF2', 'RFTN1', 'USP47', 'TUB', 'EMC3-AS1', 'IGIP', 'TRIM68', 'KRTAP5-4', 'TMEM9B', 'PCDHA9', 'ATP1A4', 'SCOC-AS1', 'hsa-mir-4259', 'HBD', 'THUMPD3', 'ELMOD2', 'DPYSL2', 'OR52E4', 'BLZF1', 'PCDH19', 'TNRC18P1', 'IQSEC1', 'LOC100507156', 'RBPMS', 'ATP1B1', 'UHMK1', 'OR51D1', 'MIR3926-1', 'TNFRSF10B', 'PCDHGC3', 'KCNQ1DN', 'HARS2', 'TSSC2', 'C11orf16', 'RHOXF1', 'ZDHHC2', 'PCM1', 'GAB1', 'NRG2', 'MIR597', 'VPS37A', 'OR52L1', 'GALNT15', 'COL6A4P1', 'ITLN1', 'ANKRD36BP1', 'FGF1', 'JAKMIP2-AS1', 'MCPH1-DT', 'IGF2', 'MICAL2', 'UEVLD', 'PRRT3-AS1', 'C4orf33', 'TADA3', 'PCDHAC1', 'TAF7', 'LINC02466', 'PCDHGB5', 'FAM66A', 'OR2D3', 'OR51B6', 'EXTL3', 'HSD17B7', 'PURA', 'DNHD1', 'TOP1P1', 'POU4F2', 'FGL1', 'PBX1', 'HBEGF', 'HBG2', 'TUFT1', 'RIC3', 'REEP4', 'COPA', 'MIR4687', 'PCDHGB2', 'IGSF22', 'FCRL6', 'MGST3', 'SPINK6', 'MRGPRG', 'MIR4694', 'PSMD4', 'SPINK14', 'FAM86B2-DT', 'CTAGE1', 'LSM6', 'MSR1', 'POGK', 'GUSBP5', 'KRTAP5-AS1', 'OGG1', 'PCP4L1', 'CNOT7', 'MRGPRX1', 'MYOZ2', 'NEFL', 'KIAA1456', 'TSPAN4', 'CT47A1', 'RP5-968D22.1', 'LINC01363', 'NME7', 'SMARCA5-AS1', 'FBXO16', 'OR52B4', 'MIR8054', 'ATP1A2', 'SLC25A51P4', 'LINC01285', 'LINC00970', 'F5', 'SAA3P', 'MIR3119-2', 'AGTR2', 'MIR557', 'MUC6', 'PURG', 'DLGAP2', 'LDHA', 'OR10A3', 'RP11-494M8.4', 'SLAMF1', 'KRTAP5-5', 'PPP2R2B', 'KIAA1210', 'FCER1G', 'IL21', 'MUC2', 'LOXL2', 'NAP1L4', 'RBPMS-AS1', 'SFTPC', 'OLFML2B', 'HIPK3', 'SSUH2', 'FMO1', 'EAF1', 'EFCAB4A', 'MIR4442', 'HACL1', 'LOC440700', 'SLC25A37', 'MIR556', 'CT47A12', 'PCDHA3', 'FMO6P', 'KCNE1L', 'STK33', 'SAAL1', 'MYOC', 'CLN8', 'MIR1295B', 'SLC6A11', 'LSM3', 'DEFB136', 'OR52K1', 'SNORA74A', 'RHOBTB2', 'LRRC52', 'ZNF705D', 'PDLIM2', 'FCGR2C', 'SCNM1', 'RGS5', 'TIMM10B', 'DPT', 'hsa-mir-548h-4', 'SUMO1P3', 'PCDHB17', 'OR51I2', 'ARMCX1', 'PCDHA10', 'MIR320C1', 'PCDHGA12', 'SFT2D2', 'SH3BP5-AS1', 'SRA1', 'ARPC4', 'IGSF8', 'SCOC', 'TMEM255A', 'LINC00599', 'SPATA24', 'USH1C', 'DEFB134', 'TSSC4', 'MKRN2', 'HHIP-AS1', 'NDUFS2', 'OR51T1', 'CTSD', 'JAGN1', 'MIR383', 'HMBOX1', 'CSTF3-AS1', 'PDGFRL', 'OR2AG1', 'ARHGEF10', 'CD151', 'PCDHA2', 'OR52J3', 'hsa-mir-3139', 'TADA1', 'GNRH1', 'RGS4', 'USP17L2', 'MIR3119-1', 'VTRNA1-3', 'GPR151', 'SNORD97', 'TSG101', 'CLGN', 'METTL18', 'BIN3-IT1', 'ITPR1-AS1', 'LINC00681', 'MIR3622A', 'MIB1', 'KCNQ1OT1', 'PCDHB2', 'IGSF9', 'ADAMDEC1', 'MIR6842', 'ZNF395', 'DNM3', 'TNKS', 'KIFAP3', 'TPP1', 'CREG1', 'ARPC4-TTLL3', 'FAM99A', 'OR52K2', 'ADCY10', 'PLAC8L1', 'SAA1', 'KCTD9', 'CCDC19', 'NPM2', 'RP11-370A5.1', 'CEND1', 'FCGR2A', 'VTRNA1-1', 'PROB1', 'ADAM7', 'SLC6A1', 'OR5P3', 'CCDC181', 'HSPA7', 'CD247', 'PHYHIP', 'RPL27A', 'FGD5P1', 'PCDHA12', 'FGD5-AS1', 'TAMM41', 'SH3BP5', 'LINC03019', 'C1orf204', 'ABHD3', 'FAM78B', 'RP11-115J16.1', 'TMEM66', 'CDKN2B', 'ZBED5', 'SPINK7', 'OR52E6', 'VANGL2', 'DIAPH1', 'MAEL', 'RAF1', 'PRSS55', 'DUSP26', 'MTMR7', 'CT47A8', 'SAA2', 'CPNE9', 'NCSTN', 'MIR4791', 'NR1I3', 'SLAMF6', 'C1orf110', 'GTF2E2', 'APCS', 'USP21', 'SELE', 'LDHC', 'DBX1', 'UFC1', 'PIDD', 'MIR6843', 'MIR7160', 'LINC01267', 'MIR3714', 'VGLL4', 'FCGR3A', 'LOC100505658', 'PSMD10', 'LINC00626', 'TRIM21', 'CUL4B', 'EIF3F', 'TMEM9B-AS1', 'DAZL', 'NAV2-AS5', 'IL17RC', 'OLFML1', 'APBB3', 'PCDHGB7', 'ART1', 'FGD5', 'ZBTB33', 'MIR6841', 'GHRL', 'USP53', 'MIR4288', 'TNFAIP8L2-SCNM1', 'IFITM10', 'CD81', 'OR51B4', 'SGCZ', 'SYT8', 'SOX6', 'BRPF1', 'LOC100422212', 'DPYSL3', 'PLS3', 'CCRN4L', 'MICALCL', 'TSTD1', 'TPRXL', 'C3orf20', 'OTUD4', 'DUSP4', 'RRM1', 'DCHS1', 'MAK16', 'CT47A2', 'PGAP2', 'FCGR2B', 'MRGPRG-AS1', 'METTL6', 'TMCO1', 'ARMCX3', 'PCDHGA6', 'ZNF214', 'SMARCA5', 'MIR4299', 'LRRC52-AS1', 'ATG4A', 'CRP', 'GATA6-AS1', 'OR51V1', 'PSD2-AS1', 'CHRNA10', 'WNT7A', 'RFX5', 'PCDHB7', 'LINC00613', 'TAF10', 'LINC01365', 'DOCK11', 'TRIM35', 'ZBED5-AS1', 'SORBS3', 'TNFRSF10D', 'hsa-mir-220a', 'GABPB2', 'GPA33', 'CCDC179', 'KIF13B', 'SNORA52', 'ENTPD4', 'hsa-mir-3119-1', 'CT47A3', 'INS', 'DPH3', 'PCDHA5', 'NHLH1', 'RHOXF2B', 'NUP210', 'SLAMF8', 'MAD2L1', 'TIPRL', 'GHRLOS', 'SLAMF9', 'OR51A4', 'SLC25A2', 'STC1', 'CT47A7', 'NUCB2', 'MIR563', 'MIR6831', 'TUSC3', 'RP11-24P4.1', 'EGR3', 'MIR5187', 'NDUFA2', 'WRN', 'LY9', 'MIR483', 'MIR3622B', 'CD81-AS1', 'CSNK2A3', 'FMO2', 'MIR133A1', 'ANKRD50', 'RHOXF2', 'RP11-1080G15.1', 'GLUD2', 'MIR4486', 'TNFRSF10C', 'MMAA', 'SLC4A9', 'MMP26', 'PCDHB1', 'PEX19', 'LHFPL4', 'ZMAT2', 'NLRP10', 'MRGPRE', 'LOC645513', 'PCDHA4', 'RNF150', 'PCDHGB3', 'PCDHGA3', 'MIR2054', 'hsa-mir-1255b-2', 'hsa-mir-548v', 'PCDHB19P', 'USF1', 'TALDO1', 'HBG1', 'SMIM18', 'LINC01061', 'EMC3', 'RP11-544M22.1', 'DLC1', 'IL17RE', 'B4GALT3', 'FBXO38-DT', 'SPTY2D1-AS1', 'MIR4790', 'LINC00606', 'FANCD2OS', 'FAM90A2P', 'OR51A2', 'SVIP', 'DCTN6', 'KCTD16', 'LARS', 'NRG1', 'PPP2CB', 'HDAC11', 'FAM66D', 'CNGA4', 'DKK3', 'C1orf226', 'RPUSD3', 'RAB5A', 'PPP2R2B-IT1', 'TMEM173', 'MIR124-1', 'LMCD1', 'BMP1', 'OR52R1', 'TCEAL6', 'OR10A5', 'PCDHB15', 'CD84', 'OR51F1', 'GTF2H1', 'DUSP12', 'LONRF3', 'CT47A4', 'DCAF8', 'RBMXL2', 'PCDH10', 'OR6A2', 'WDR44', 'F11R', 'PNOC', 'SPINK13', 'NEFM', 'TRPM5', 'SPTY2D1', 'MIR1-2', 'CT47A10', 'OR52N4', 'ZCCHC12', 'TTI2', 'HBBP1', 'GSR', 'ARFIP2', 'CAPN7', 'ASCL2', 'CD48', 'DUSP23', 'OR51B2', 'MIR885', 'LOC100126784', 'ANKHD1-EIF4EBP3', 'SH2D4A', 'TMEM41B', 'METTL13', 'PCDHA11', 'TCERG1', 'LOC649352', 'SETD5', 'KRTAP5-2', 'LINC02749', 'GRXCR2', 'FMO4', 'hsa-mir-378b', 'SAA4', 'LINC01024', 'CARS', 'NLRP14', 'KBTBD11', 'OR10J3', 'OTOG', 'NKX3-1', 'USP17L7', 'LOC729732', 'OR51S1', 'XCL2', 'SNORA54', 'FREM3', 'POLR3D', 'JADE1', 'PIWIL2', 'DDR2', 'MIR7849', 'MIR3655', 'PFDN1', 'OR51A7', 'SUMF1', 'LAMP2', 'TAGLN2', 'CD14', 'CTR9', 'VSIG1', 'TMEM43', 'RNF122', 'CCKBR', 'CT47A11', 'LINC01239', 'C11orf40', 'ZNF827', 'DEDD', 'ZNF195', 'MRGPRX4', 'MYOD1', 'SLC6A5', 'MIR4660', 'HR', 'ANKHD1', 'MICU3', 'PGRMC1', 'C11orf42', 'UAP1', 'TOP2B', 'MRGPRX2', 'LOC389641', 'RPLP2', 'TMEM40', 'PCDHA6', 'LOC401052', 'MIR4298', 'INS-IGF2', 'TRIM3', 'C1orf112', 'PCDHGC4', 'OR51F2', 'TTLL3', 'C1GALT1C1', 'SEC13', 'CD244', 'OR52E2', 'PI4KB', 'IRAK2', 'MYOM2', 'MIR8070', 'FCRLA', 'ADAMTS4', 'USP38', 'HARS', 'RBM27', 'KCNJ9', 'MIR921', 'MRPS25', 'CRELD1', 'OR52E8', 'CT83', 'LINC01142', 'PTPN5', 'SPINK9', 'CCDC25', 'MRPL17', 'CTSB', 'hsa-mir-3135', 'ABCE1', 'GFRA2', 'OR52I2', 'ILK', 'NKX2-6', 'PNMA2', 'FCGR3B', 'MRGPRX3', 'PP2D1', 'LINC02516', 'SPINK5', 'ASCL3', 'IL13RA2', 'C11orf58', 'DUSP27', 'ATP2B2', 'FDFT1', 'RCSD1', 'PCDHB1-AS1', 'SETMAR', 'OR56A1', 'CDCA2', 'IL15', 'LOC254896', 'THUMPD3-AS1', 'GVINP1', 'PCDHGA8', 'MIR6876', 'SCYL3', 'LINC00690', 'OR51L1', 'LONRF1', 'CCAR2', 'PIP5K1A', 'EIF4G2', 'NKAPP1', 'POU2F1', 'OR56A5', 'CXXC5', 'ANKRD28', 'MIR3926-2', 'ZDHHC13', 'CASQ1', 'PCDHB8', 'ARAP3', 'MIR3148', 'PCDHGA5', 'RP11-875O11.2', 'HPX', 'NXT2', 'MPZ', 'SPRY4', 'HDAC3', 'VENTXP7', 'PCDHA8', 'LINC01133', 'TNNI2', 'LINC00589', 'MCTS1', 'MGAT4D', 'GPR161', 'HBB', 'FMO3', 'COLQ', 'FUT10', 'TEX13B', 'CT47A5', 'C11orf21', 'PCDHB5', 'TH', 'PARVA', 'EDEM1', 'TOMM40L', 'OR5E1P', 'HSPA6', 'YIPF5', 'PPP1R3B', 'KCNJ11', 'SLC23A1', 'OR51I1', 'SLC25A22', 'C8orf48', 'SCLT1', 'TNFAIP8L2', 'PCDHGA1', 'XCL1', 'OR56B4', 'PCDHGA10', 'DMRTA1', 'SNORA3', 'PBX1-AS1', 'GATD1-DT', 'UCK2', 'BRK1', 'SAA2-SAA4', 'SCARA3', 'CDH2', 'MIR4686', 'PCDHGC5', 'ABCC8', 'ART5', 'HPS5', 'ADAM28', 'SNORA45', 'PEA15', 'CAV3', 'SLC35A4', 'ATF6', 'OR10A4', 'CLU', 'DENND5A', 'UBXN8', 'FANCD2', 'hsa-mir-3134', 'MTUS1', 'OR52M1', 'WDR55', 'PRRC2C', 'PFDN2', 'CYB5R2', 'ILDR2', 'PRELID2', 'VPS72', 'RARB', 'KRTAP5-6', 'OR56A4', 'HHIP', 'SIL1', 'DOCK5', 'ZFYVE20', 'PDE5A', 'PCDHGB8P', 'PRRX1', 'FAM183CP', 'SNORA7A', 'CIDEC', 'OR7E12P', 'PCDHA7', 'PCDHGA7', 'OR5P2', 'PPOX', 'TSPAN32', 'PCDHGB4', 'SDHC', 'DUSP8', 'OR51M1', 'ZNF330', 'FGF20', 'PCDHGA9', 'MIR596', 'DEFB130', 'CT47B1', 'RP5-1139I1.1', 'TRPC2', 'IK', 'CSMD1', 'OR2D2', 'MIR1295A', 'FCRLB', 'OR51G1', 'OR51Q1', 'SELP', 'BTD', 'SEMA6C', 'OR2AG2', 'EGOT', 'LINC00312', 'FCHSD1', 'PPP2R2A', 'PRKCDBP', 'DEFB109P1', 'LINC00620', 'ARMCX6', 'EPHX2', 'FAM86B1', 'PEBP4', 'MIR3658', 'OR51E1', 'NRIP3', 'HMHB1', 'INTS9', 'HTATIP2', 'PPP3CC', 'ARHGAP26-AS1', 'LRCH2', 'SRGAP3-AS3', 'XPC', 'CHMP7', 'NRG1-IT3', 'VTRNA1-2', 'OR56A3', 'RPL32', 'SMAD1-AS2', 'MPC2', 'OR52B2', 'SLC10A7', 'IGF2-AS', 'OR10A6', 'PSD2', 'ARL8B', 'ELP3', 'ZNF687', 'FMO9P', 'OR52N2', 'OR10A2', 'VAMP4', 'LMX1A', 'PTK2B', 'hsa-mir-3159', 'FAM160A2', 'ADRA1A', 'SLC22A18', 'ST5', 'LUZP4', 'PVRL4', 'C3orf83', 'RHOG', 'STK32A', 'C1orf192', 'SRGAP3', 'CHRNA2', 'EIF4EBP3', 'APBB1', 'OR10J1', 'RELL2', 'KRTAP5-1', 'TPH1', 'LINC01095', 'NAV2-AS4', 'RBMXL3', 'SLC7A2', 'PCDH18', 'OVCH2', 'CAMK1', 'MIR4654', 'PPARG', 'RRP8', 'PCDHGB1', 'POU4F3', 'TCEAL2', 'PLS3-AS1', 'OR10J5', 'VSIG8', 'PCDHAC2', 'AP2A2', 'GATA6', 'PCDHB6', 'LINC01844', 'PAIP2', 'SH2D1B', 'BHLHE40-AS1', 'BHLHE40', 'SLC39A14', 'ARHGAP30', 'RGS5-AS1', 'TATDN2', 'ECSCR', 'OSBPL5', 'SLC19A2', 'C1orf111', 'OR52I1', 'BNIP3L', 'LDHAL6A', 'CIDECP', 'TSEN2', 'FAM99B', 'PNPLA2', 'TRIM66', 'STIM1', 'FANCF', 'NR3C1', 'C4orf3', 'PRMT3', 'FABP2', 'MSRA', 'MIR6124', 'NUDT18', 'PCDHGA2', 'CDKN1C', 'KLHDC9', 'FAT4', 'R3HCC1', 'PCDHGA11', 'OR52A5', 'OR52W1', 'C8orf58', 'PIGM', 'TBX19', 'CAND2', 'TEX15', 'APOA2', 'PCDHB3', 'PCDHGB6', 'KCNC1', 'hsa-mir-302e', 'RXRG', 'DEFB135', 'TMCO6', 'PRRT3', 'LMO1', 'POLR2L', 'SYT9-AS1', 'TNFRSF10A', 'ATP1B4', 'TNNT3', 'SYN2', 'MIR6073', 'ITLN2', 'NAV2', 'ALDH9A1', 'MTMR14', 'NUP98', 'SLC6A14', 'SERGEF', 'OXTR', 'FZD3', 'PCDHB18', 'ANAPC10', 'KLHL13', 'DCAF6', 'TIMP4', 'SNHG4', 'LOC392196', 'CHID1', 'ZNF215', 'TMEM86A', 'PDDC1', 'TNMD', 'MIR548O2', 'VHL', 'NIT1', 'KRTAP5-3', 'CYSTM1', 'SLC6A1-AS1', 'RP1L1', 'CT47A6', 'RAD18', 'UBE2D2', 'METTL11B', 'LSP1', 'HRH1', 'FAM86B2', 'LEPROTL1', 'FBXO38', 'PLCL2', 'NXF5']\n",
            "1000\n"
          ]
        }
      ]
    },
    {
      "cell_type": "code",
      "source": [
        "# compare Chi2 to RFE\n",
        "common_features_chi2_rfe = set(list_of_fea_chi2).intersection(list_of_fea_rfe)\n",
        "print(list(common_features_chi2_rfe))\n",
        "print(len(list(common_features_chi2_rfe)))"
      ],
      "metadata": {
        "colab": {
          "base_uri": "https://localhost:8080/"
        },
        "id": "F6u6rKOCbUP6",
        "outputId": "c90783af-418b-41a3-f769-a1de6f2e0c8a"
      },
      "execution_count": 67,
      "outputs": [
        {
          "output_type": "stream",
          "name": "stdout",
          "text": [
            "['hsa-mir-548v', 'USF1', 'KCNJ10', 'hsa-mir-3139', 'B4GALT3', 'TADA1', 'ATG7', 'DMRTA1', 'MIR4790', 'BRK1', 'FAM90A2P', 'HDAC11', 'ITPR1-AS1', 'RPUSD3', 'ADAMDEC1', 'hsa-mir-3134', 'PFDN2', 'NOS1AP', 'MIR133A1HG', 'WDR44', 'FAM183CP', 'SNORA7A', 'CIDEC', 'PPOX', 'SDHC', 'FCGR2A', 'DUSP23', 'CT47B1', 'HSPA7', 'FGD5-AS1', 'TAMM41', 'IQSEC1', 'C1orf204', 'UHMK1', 'hsa-mir-378b', 'KBTBD11', 'CDKN2B', 'NKX3-1', 'LRCH2', 'COL6A4P1', 'SRGAP3-AS3', 'MIR4791', 'RPL32', 'NR1I3', 'VSIG1', 'FMO9P', 'TMEM43', 'LINC01267', 'RNF122', 'LINC01239', 'HSD17B7', 'hsa-mir-3159', 'PSMD10', 'CUL4B', 'C1orf192', 'C1GALT1C1', 'RBMXL3', 'FGD5', 'ZBTB33', 'TMEM40', 'LOC401052', 'MSR1', 'SGCZ', 'TTLL3', 'BHLHE40', 'CT47A2', 'FCGR2B', 'TSEN2', 'ADAMTS4', 'CRP', 'AGTR2', 'hsa-mir-3135', 'FCGR3B', 'PIGM', 'CAND2', 'GPA33', 'KIF13B', 'ATP2B2', 'hsa-mir-302e', 'LOC440700', 'DPH3', 'NHLH1', 'RHOXF2B', 'NUP210', 'LSM3', 'ITLN2', 'SLAMF9', 'MTMR14', 'MIR3926-2', 'FCGR2C', 'OXTR', 'MIR5187', 'RGS5', 'LY9', 'hsa-mir-548h-4', 'TIMP4', 'RHOXF2', 'TEX13B', 'NIT1', 'SLC6A1-AS1', 'MKRN2', 'HRH1']\n",
            "102\n"
          ]
        }
      ]
    },
    {
      "cell_type": "code",
      "source": [
        "# compare IG to RFE\n",
        "common_features_ig_rfe = set(list_of_fea_ig).intersection(list_of_fea_rfe)\n",
        "print(list(common_features_ig_rfe))\n",
        "print(len(list(common_features_ig_rfe)))"
      ],
      "metadata": {
        "colab": {
          "base_uri": "https://localhost:8080/"
        },
        "id": "8x0GMuALi_m9",
        "outputId": "6b1bcdca-33cb-48ad-c063-b595ee6733b2"
      },
      "execution_count": 50,
      "outputs": [
        {
          "output_type": "stream",
          "name": "stdout",
          "text": [
            "['hsa-mir-548v', 'USF1', 'KCNJ10', 'hsa-mir-3139', 'B4GALT3', 'TADA1', 'ATG7', 'DMRTA1', 'MIR4790', 'BRK1', 'FAM90A2P', 'HDAC11', 'ITPR1-AS1', 'RPUSD3', 'ADAMDEC1', 'hsa-mir-3134', 'PFDN2', 'NOS1AP', 'MIR133A1HG', 'WDR44', 'FAM183CP', 'SNORA7A', 'CIDEC', 'PPOX', 'SDHC', 'FCGR2A', 'DUSP23', 'CT47B1', 'HSPA7', 'FGD5-AS1', 'TAMM41', 'IQSEC1', 'C1orf204', 'UHMK1', 'hsa-mir-378b', 'KBTBD11', 'CDKN2B', 'NKX3-1', 'LRCH2', 'COL6A4P1', 'SRGAP3-AS3', 'MIR4791', 'RPL32', 'NR1I3', 'VSIG1', 'FMO9P', 'TMEM43', 'LINC01267', 'RNF122', 'LINC01239', 'HSD17B7', 'hsa-mir-3159', 'PSMD10', 'CUL4B', 'C1orf192', 'C1GALT1C1', 'RBMXL3', 'FGD5', 'ZBTB33', 'TMEM40', 'LOC401052', 'MSR1', 'SGCZ', 'TTLL3', 'BHLHE40', 'CT47A2', 'FCGR2B', 'TSEN2', 'ADAMTS4', 'CRP', 'AGTR2', 'hsa-mir-3135', 'FCGR3B', 'PIGM', 'CAND2', 'GPA33', 'KIF13B', 'ATP2B2', 'hsa-mir-302e', 'LOC440700', 'DPH3', 'NHLH1', 'RHOXF2B', 'NUP210', 'LSM3', 'ITLN2', 'SLAMF9', 'MTMR14', 'MIR3926-2', 'FCGR2C', 'OXTR', 'MIR5187', 'RGS5', 'LY9', 'hsa-mir-548h-4', 'TIMP4', 'RHOXF2', 'TEX13B', 'NIT1', 'SLC6A1-AS1', 'MKRN2', 'HRH1']\n",
            "102\n"
          ]
        }
      ]
    },
    {
      "cell_type": "code",
      "source": [
        "# common between all three methods\n",
        "common_features = set(common_features_chi2_rfe).intersection(common_features_ig_rfe)\n",
        "print(list(common_features))\n",
        "print(len(list(common_features)))"
      ],
      "metadata": {
        "colab": {
          "base_uri": "https://localhost:8080/"
        },
        "id": "X1Xh8azAj4dS",
        "outputId": "2e5fbccb-efed-466d-e909-e2609d460533"
      },
      "execution_count": 69,
      "outputs": [
        {
          "output_type": "stream",
          "name": "stdout",
          "text": [
            "['hsa-mir-548v', 'USF1', 'KCNJ10', 'hsa-mir-3139', 'TADA1', 'B4GALT3', 'DMRTA1', 'ATG7', 'MIR4790', 'BRK1', 'FAM90A2P', 'HDAC11', 'ITPR1-AS1', 'RPUSD3', 'ADAMDEC1', 'hsa-mir-3134', 'PFDN2', 'NOS1AP', 'MIR133A1HG', 'WDR44', 'FAM183CP', 'SNORA7A', 'CIDEC', 'PPOX', 'SDHC', 'FCGR2A', 'DUSP23', 'CT47B1', 'HSPA7', 'FGD5-AS1', 'TAMM41', 'IQSEC1', 'C1orf204', 'UHMK1', 'hsa-mir-378b', 'KBTBD11', 'CDKN2B', 'NKX3-1', 'LRCH2', 'COL6A4P1', 'SRGAP3-AS3', 'MIR4791', 'RPL32', 'NR1I3', 'VSIG1', 'FMO9P', 'TMEM43', 'LINC01267', 'RNF122', 'LINC01239', 'HSD17B7', 'hsa-mir-3159', 'PSMD10', 'CUL4B', 'C1orf192', 'C1GALT1C1', 'RBMXL3', 'FGD5', 'ZBTB33', 'TMEM40', 'LOC401052', 'MSR1', 'SGCZ', 'TTLL3', 'BHLHE40', 'CT47A2', 'FCGR2B', 'TSEN2', 'ADAMTS4', 'CRP', 'AGTR2', 'hsa-mir-3135', 'FCGR3B', 'PIGM', 'CAND2', 'GPA33', 'KIF13B', 'ATP2B2', 'hsa-mir-302e', 'LOC440700', 'DPH3', 'NHLH1', 'RHOXF2B', 'NUP210', 'LSM3', 'ITLN2', 'SLAMF9', 'MTMR14', 'MIR3926-2', 'FCGR2C', 'OXTR', 'MIR5187', 'RGS5', 'LY9', 'hsa-mir-548h-4', 'TIMP4', 'RHOXF2', 'TEX13B', 'NIT1', 'SLC6A1-AS1', 'MKRN2', 'HRH1']\n",
            "102\n"
          ]
        }
      ]
    },
    {
      "cell_type": "code",
      "source": [
        "## Creating the CSV file from those features\n",
        "df_final = x[common_features].copy()\n",
        "df_final['TMB_CLASS'] = y.iloc[:,0].values\n",
        "df_final['SAMPLE_ID'] = df_cna['SAMPLE_ID']\n",
        "df_final.set_index('SAMPLE_ID', inplace=True)\n",
        "df_final.head()"
      ],
      "metadata": {
        "colab": {
          "base_uri": "https://localhost:8080/",
          "height": 452
        },
        "id": "u_wpKwNFm7rk",
        "outputId": "5bf928a8-87f4-4189-aefe-51a68567632c"
      },
      "execution_count": 71,
      "outputs": [
        {
          "output_type": "execute_result",
          "data": {
            "text/plain": [
              "                 hsa-mir-548v      USF1    KCNJ10  hsa-mir-3139     TADA1  \\\n",
              "SAMPLE_ID                                                                   \n",
              "TCGA-2F-A9KO-01      0.001758  0.002934  0.003067      0.000289  0.003159   \n",
              "TCGA-2F-A9KP-01      0.001758  0.004331  0.003067      0.003181  0.003159   \n",
              "TCGA-2F-A9KQ-01      0.003356  0.001537  0.001606      0.003181  0.001655   \n",
              "TCGA-2F-A9KR-01      0.001758  0.001537  0.001606      0.003181  0.003159   \n",
              "TCGA-2F-A9KT-01      0.001758  0.004331  0.001606      0.000289  0.001655   \n",
              "\n",
              "                  B4GALT3    DMRTA1      ATG7   MIR4790      BRK1  ...  \\\n",
              "SAMPLE_ID                                                          ...   \n",
              "TCGA-2F-A9KO-01  0.002942  0.000160  0.003484  0.003705  0.003490  ...   \n",
              "TCGA-2F-A9KP-01  0.004343  0.001758  0.005143  0.005469  0.005151  ...   \n",
              "TCGA-2F-A9KQ-01  0.001541  0.000160  0.001825  0.001941  0.001828  ...   \n",
              "TCGA-2F-A9KR-01  0.001541  0.000160  0.000166  0.000176  0.000166  ...   \n",
              "TCGA-2F-A9KT-01  0.004343  0.001758  0.001825  0.001941  0.001828  ...   \n",
              "\n",
              "                      LY9  hsa-mir-548h-4     TIMP4    RHOXF2    TEX13B  \\\n",
              "SAMPLE_ID                                                                 \n",
              "TCGA-2F-A9KO-01  0.002975        0.001744  0.003308  0.002571  0.002542   \n",
              "TCGA-2F-A9KP-01  0.004392        0.001744  0.004883  0.002571  0.002542   \n",
              "TCGA-2F-A9KQ-01  0.001559        0.003329  0.001733  0.000234  0.000231   \n",
              "TCGA-2F-A9KR-01  0.001559        0.001744  0.000158  0.000234  0.000231   \n",
              "TCGA-2F-A9KT-01  0.001559        0.001744  0.004883  0.000234  0.000231   \n",
              "\n",
              "                     NIT1  SLC6A1-AS1     MKRN2      HRH1  TMB_CLASS  \n",
              "SAMPLE_ID                                                             \n",
              "TCGA-2F-A9KO-01  0.002926    0.003501  0.003319  0.003501          2  \n",
              "TCGA-2F-A9KP-01  0.004319    0.005168  0.004899  0.005168          1  \n",
              "TCGA-2F-A9KQ-01  0.001532    0.001834  0.001738  0.001834          1  \n",
              "TCGA-2F-A9KR-01  0.001532    0.000167  0.000158  0.000167          2  \n",
              "TCGA-2F-A9KT-01  0.004319    0.001834  0.001738  0.001834          2  \n",
              "\n",
              "[5 rows x 103 columns]"
            ],
            "text/html": [
              "\n",
              "  <div id=\"df-9b7b958b-568d-4d53-928c-8f07364dd4c9\">\n",
              "    <div class=\"colab-df-container\">\n",
              "      <div>\n",
              "<style scoped>\n",
              "    .dataframe tbody tr th:only-of-type {\n",
              "        vertical-align: middle;\n",
              "    }\n",
              "\n",
              "    .dataframe tbody tr th {\n",
              "        vertical-align: top;\n",
              "    }\n",
              "\n",
              "    .dataframe thead th {\n",
              "        text-align: right;\n",
              "    }\n",
              "</style>\n",
              "<table border=\"1\" class=\"dataframe\">\n",
              "  <thead>\n",
              "    <tr style=\"text-align: right;\">\n",
              "      <th></th>\n",
              "      <th>hsa-mir-548v</th>\n",
              "      <th>USF1</th>\n",
              "      <th>KCNJ10</th>\n",
              "      <th>hsa-mir-3139</th>\n",
              "      <th>TADA1</th>\n",
              "      <th>B4GALT3</th>\n",
              "      <th>DMRTA1</th>\n",
              "      <th>ATG7</th>\n",
              "      <th>MIR4790</th>\n",
              "      <th>BRK1</th>\n",
              "      <th>...</th>\n",
              "      <th>LY9</th>\n",
              "      <th>hsa-mir-548h-4</th>\n",
              "      <th>TIMP4</th>\n",
              "      <th>RHOXF2</th>\n",
              "      <th>TEX13B</th>\n",
              "      <th>NIT1</th>\n",
              "      <th>SLC6A1-AS1</th>\n",
              "      <th>MKRN2</th>\n",
              "      <th>HRH1</th>\n",
              "      <th>TMB_CLASS</th>\n",
              "    </tr>\n",
              "    <tr>\n",
              "      <th>SAMPLE_ID</th>\n",
              "      <th></th>\n",
              "      <th></th>\n",
              "      <th></th>\n",
              "      <th></th>\n",
              "      <th></th>\n",
              "      <th></th>\n",
              "      <th></th>\n",
              "      <th></th>\n",
              "      <th></th>\n",
              "      <th></th>\n",
              "      <th></th>\n",
              "      <th></th>\n",
              "      <th></th>\n",
              "      <th></th>\n",
              "      <th></th>\n",
              "      <th></th>\n",
              "      <th></th>\n",
              "      <th></th>\n",
              "      <th></th>\n",
              "      <th></th>\n",
              "      <th></th>\n",
              "    </tr>\n",
              "  </thead>\n",
              "  <tbody>\n",
              "    <tr>\n",
              "      <th>TCGA-2F-A9KO-01</th>\n",
              "      <td>0.001758</td>\n",
              "      <td>0.002934</td>\n",
              "      <td>0.003067</td>\n",
              "      <td>0.000289</td>\n",
              "      <td>0.003159</td>\n",
              "      <td>0.002942</td>\n",
              "      <td>0.000160</td>\n",
              "      <td>0.003484</td>\n",
              "      <td>0.003705</td>\n",
              "      <td>0.003490</td>\n",
              "      <td>...</td>\n",
              "      <td>0.002975</td>\n",
              "      <td>0.001744</td>\n",
              "      <td>0.003308</td>\n",
              "      <td>0.002571</td>\n",
              "      <td>0.002542</td>\n",
              "      <td>0.002926</td>\n",
              "      <td>0.003501</td>\n",
              "      <td>0.003319</td>\n",
              "      <td>0.003501</td>\n",
              "      <td>2</td>\n",
              "    </tr>\n",
              "    <tr>\n",
              "      <th>TCGA-2F-A9KP-01</th>\n",
              "      <td>0.001758</td>\n",
              "      <td>0.004331</td>\n",
              "      <td>0.003067</td>\n",
              "      <td>0.003181</td>\n",
              "      <td>0.003159</td>\n",
              "      <td>0.004343</td>\n",
              "      <td>0.001758</td>\n",
              "      <td>0.005143</td>\n",
              "      <td>0.005469</td>\n",
              "      <td>0.005151</td>\n",
              "      <td>...</td>\n",
              "      <td>0.004392</td>\n",
              "      <td>0.001744</td>\n",
              "      <td>0.004883</td>\n",
              "      <td>0.002571</td>\n",
              "      <td>0.002542</td>\n",
              "      <td>0.004319</td>\n",
              "      <td>0.005168</td>\n",
              "      <td>0.004899</td>\n",
              "      <td>0.005168</td>\n",
              "      <td>1</td>\n",
              "    </tr>\n",
              "    <tr>\n",
              "      <th>TCGA-2F-A9KQ-01</th>\n",
              "      <td>0.003356</td>\n",
              "      <td>0.001537</td>\n",
              "      <td>0.001606</td>\n",
              "      <td>0.003181</td>\n",
              "      <td>0.001655</td>\n",
              "      <td>0.001541</td>\n",
              "      <td>0.000160</td>\n",
              "      <td>0.001825</td>\n",
              "      <td>0.001941</td>\n",
              "      <td>0.001828</td>\n",
              "      <td>...</td>\n",
              "      <td>0.001559</td>\n",
              "      <td>0.003329</td>\n",
              "      <td>0.001733</td>\n",
              "      <td>0.000234</td>\n",
              "      <td>0.000231</td>\n",
              "      <td>0.001532</td>\n",
              "      <td>0.001834</td>\n",
              "      <td>0.001738</td>\n",
              "      <td>0.001834</td>\n",
              "      <td>1</td>\n",
              "    </tr>\n",
              "    <tr>\n",
              "      <th>TCGA-2F-A9KR-01</th>\n",
              "      <td>0.001758</td>\n",
              "      <td>0.001537</td>\n",
              "      <td>0.001606</td>\n",
              "      <td>0.003181</td>\n",
              "      <td>0.003159</td>\n",
              "      <td>0.001541</td>\n",
              "      <td>0.000160</td>\n",
              "      <td>0.000166</td>\n",
              "      <td>0.000176</td>\n",
              "      <td>0.000166</td>\n",
              "      <td>...</td>\n",
              "      <td>0.001559</td>\n",
              "      <td>0.001744</td>\n",
              "      <td>0.000158</td>\n",
              "      <td>0.000234</td>\n",
              "      <td>0.000231</td>\n",
              "      <td>0.001532</td>\n",
              "      <td>0.000167</td>\n",
              "      <td>0.000158</td>\n",
              "      <td>0.000167</td>\n",
              "      <td>2</td>\n",
              "    </tr>\n",
              "    <tr>\n",
              "      <th>TCGA-2F-A9KT-01</th>\n",
              "      <td>0.001758</td>\n",
              "      <td>0.004331</td>\n",
              "      <td>0.001606</td>\n",
              "      <td>0.000289</td>\n",
              "      <td>0.001655</td>\n",
              "      <td>0.004343</td>\n",
              "      <td>0.001758</td>\n",
              "      <td>0.001825</td>\n",
              "      <td>0.001941</td>\n",
              "      <td>0.001828</td>\n",
              "      <td>...</td>\n",
              "      <td>0.001559</td>\n",
              "      <td>0.001744</td>\n",
              "      <td>0.004883</td>\n",
              "      <td>0.000234</td>\n",
              "      <td>0.000231</td>\n",
              "      <td>0.004319</td>\n",
              "      <td>0.001834</td>\n",
              "      <td>0.001738</td>\n",
              "      <td>0.001834</td>\n",
              "      <td>2</td>\n",
              "    </tr>\n",
              "  </tbody>\n",
              "</table>\n",
              "<p>5 rows × 103 columns</p>\n",
              "</div>\n",
              "      <button class=\"colab-df-convert\" onclick=\"convertToInteractive('df-9b7b958b-568d-4d53-928c-8f07364dd4c9')\"\n",
              "              title=\"Convert this dataframe to an interactive table.\"\n",
              "              style=\"display:none;\">\n",
              "        \n",
              "  <svg xmlns=\"http://www.w3.org/2000/svg\" height=\"24px\"viewBox=\"0 0 24 24\"\n",
              "       width=\"24px\">\n",
              "    <path d=\"M0 0h24v24H0V0z\" fill=\"none\"/>\n",
              "    <path d=\"M18.56 5.44l.94 2.06.94-2.06 2.06-.94-2.06-.94-.94-2.06-.94 2.06-2.06.94zm-11 1L8.5 8.5l.94-2.06 2.06-.94-2.06-.94L8.5 2.5l-.94 2.06-2.06.94zm10 10l.94 2.06.94-2.06 2.06-.94-2.06-.94-.94-2.06-.94 2.06-2.06.94z\"/><path d=\"M17.41 7.96l-1.37-1.37c-.4-.4-.92-.59-1.43-.59-.52 0-1.04.2-1.43.59L10.3 9.45l-7.72 7.72c-.78.78-.78 2.05 0 2.83L4 21.41c.39.39.9.59 1.41.59.51 0 1.02-.2 1.41-.59l7.78-7.78 2.81-2.81c.8-.78.8-2.07 0-2.86zM5.41 20L4 18.59l7.72-7.72 1.47 1.35L5.41 20z\"/>\n",
              "  </svg>\n",
              "      </button>\n",
              "      \n",
              "  <style>\n",
              "    .colab-df-container {\n",
              "      display:flex;\n",
              "      flex-wrap:wrap;\n",
              "      gap: 12px;\n",
              "    }\n",
              "\n",
              "    .colab-df-convert {\n",
              "      background-color: #E8F0FE;\n",
              "      border: none;\n",
              "      border-radius: 50%;\n",
              "      cursor: pointer;\n",
              "      display: none;\n",
              "      fill: #1967D2;\n",
              "      height: 32px;\n",
              "      padding: 0 0 0 0;\n",
              "      width: 32px;\n",
              "    }\n",
              "\n",
              "    .colab-df-convert:hover {\n",
              "      background-color: #E2EBFA;\n",
              "      box-shadow: 0px 1px 2px rgba(60, 64, 67, 0.3), 0px 1px 3px 1px rgba(60, 64, 67, 0.15);\n",
              "      fill: #174EA6;\n",
              "    }\n",
              "\n",
              "    [theme=dark] .colab-df-convert {\n",
              "      background-color: #3B4455;\n",
              "      fill: #D2E3FC;\n",
              "    }\n",
              "\n",
              "    [theme=dark] .colab-df-convert:hover {\n",
              "      background-color: #434B5C;\n",
              "      box-shadow: 0px 1px 3px 1px rgba(0, 0, 0, 0.15);\n",
              "      filter: drop-shadow(0px 1px 2px rgba(0, 0, 0, 0.3));\n",
              "      fill: #FFFFFF;\n",
              "    }\n",
              "  </style>\n",
              "\n",
              "      <script>\n",
              "        const buttonEl =\n",
              "          document.querySelector('#df-9b7b958b-568d-4d53-928c-8f07364dd4c9 button.colab-df-convert');\n",
              "        buttonEl.style.display =\n",
              "          google.colab.kernel.accessAllowed ? 'block' : 'none';\n",
              "\n",
              "        async function convertToInteractive(key) {\n",
              "          const element = document.querySelector('#df-9b7b958b-568d-4d53-928c-8f07364dd4c9');\n",
              "          const dataTable =\n",
              "            await google.colab.kernel.invokeFunction('convertToInteractive',\n",
              "                                                     [key], {});\n",
              "          if (!dataTable) return;\n",
              "\n",
              "          const docLinkHtml = 'Like what you see? Visit the ' +\n",
              "            '<a target=\"_blank\" href=https://colab.research.google.com/notebooks/data_table.ipynb>data table notebook</a>'\n",
              "            + ' to learn more about interactive tables.';\n",
              "          element.innerHTML = '';\n",
              "          dataTable['output_type'] = 'display_data';\n",
              "          await google.colab.output.renderOutput(dataTable, element);\n",
              "          const docLink = document.createElement('div');\n",
              "          docLink.innerHTML = docLinkHtml;\n",
              "          element.appendChild(docLink);\n",
              "        }\n",
              "      </script>\n",
              "    </div>\n",
              "  </div>\n",
              "  "
            ]
          },
          "metadata": {},
          "execution_count": 71
        }
      ]
    },
    {
      "cell_type": "code",
      "source": [
        "df_final.to_csv('./CNA-TMB-Reduced.csv', index=False)"
      ],
      "metadata": {
        "id": "h2mKWIe6nmLp"
      },
      "execution_count": 72,
      "outputs": []
    },
    {
      "cell_type": "markdown",
      "source": [
        "## using csv2arff to convert .csv to arff : https://pypi.org/project/csv2arff/"
      ],
      "metadata": {
        "id": "asmoaQbFiF7w"
      }
    },
    {
      "cell_type": "code",
      "source": [
        "#!pip install numpy\n",
        "#!pip install python-javabridge\n",
        "#!pip install python-weka-wrapper3"
      ],
      "metadata": {
        "colab": {
          "base_uri": "https://localhost:8080/"
        },
        "id": "Ppch7vjgiPtS",
        "outputId": "f8376aac-34ca-4a06-9afa-aa262d90b4a3"
      },
      "execution_count": 2,
      "outputs": [
        {
          "output_type": "stream",
          "name": "stdout",
          "text": [
            "Looking in indexes: https://pypi.org/simple, https://us-python.pkg.dev/colab-wheels/public/simple/\n",
            "Requirement already satisfied: numpy in /usr/local/lib/python3.7/dist-packages (1.21.6)\n",
            "Looking in indexes: https://pypi.org/simple, https://us-python.pkg.dev/colab-wheels/public/simple/\n",
            "Requirement already satisfied: python-javabridge in /usr/local/lib/python3.7/dist-packages (4.0.3)\n",
            "Requirement already satisfied: numpy>=1.20.1 in /usr/local/lib/python3.7/dist-packages (from python-javabridge) (1.21.6)\n",
            "Looking in indexes: https://pypi.org/simple, https://us-python.pkg.dev/colab-wheels/public/simple/\n",
            "Requirement already satisfied: python-weka-wrapper3 in /usr/local/lib/python3.7/dist-packages (0.2.10)\n",
            "Requirement already satisfied: python-javabridge>=4.0.0 in /usr/local/lib/python3.7/dist-packages (from python-weka-wrapper3) (4.0.3)\n",
            "Requirement already satisfied: packaging in /usr/local/lib/python3.7/dist-packages (from python-weka-wrapper3) (21.3)\n",
            "Requirement already satisfied: numpy in /usr/local/lib/python3.7/dist-packages (from python-weka-wrapper3) (1.21.6)\n",
            "Requirement already satisfied: pyparsing!=3.0.5,>=2.0.2 in /usr/local/lib/python3.7/dist-packages (from packaging->python-weka-wrapper3) (3.0.9)\n",
            "Looking in indexes: https://pypi.org/simple, https://us-python.pkg.dev/colab-wheels/public/simple/\n",
            "\u001b[31mERROR: Could not find a version that satisfies the requirement wekaexamples (from versions: none)\u001b[0m\n",
            "\u001b[31mERROR: No matching distribution found for wekaexamples\u001b[0m\n"
          ]
        }
      ]
    },
    {
      "cell_type": "markdown",
      "source": [
        "### installing the java runtime on the colab"
      ],
      "metadata": {
        "id": "C2RYVXhIoC0t"
      }
    },
    {
      "cell_type": "code",
      "source": [
        "!sudo apt-get update\n",
        "!sudo apt-get install -y default-jdk \n",
        "!git clone https://github.com/heshida01/mrmd.git"
      ],
      "metadata": {
        "colab": {
          "base_uri": "https://localhost:8080/"
        },
        "id": "xxrhSfmaoAkc",
        "outputId": "dffcf9bc-4888-45cd-ea64-6f16274514bf"
      },
      "execution_count": 3,
      "outputs": [
        {
          "output_type": "stream",
          "name": "stdout",
          "text": [
            "\r0% [Working]\r            \rHit:1 https://cloud.r-project.org/bin/linux/ubuntu bionic-cran40/ InRelease\n",
            "\r0% [Connecting to archive.ubuntu.com] [Connecting to security.ubuntu.com] [Wait\r0% [1 InRelease gpgv 3,626 B] [Connecting to archive.ubuntu.com (91.189.91.39)]\r                                                                               \rIgn:2 https://developer.download.nvidia.com/compute/machine-learning/repos/ubuntu1804/x86_64  InRelease\n",
            "\r0% [1 InRelease gpgv 3,626 B] [Connecting to archive.ubuntu.com (91.189.91.39)]\r                                                                               \rHit:3 https://developer.download.nvidia.com/compute/cuda/repos/ubuntu1804/x86_64  InRelease\n",
            "\r0% [1 InRelease gpgv 3,626 B] [Waiting for headers] [Waiting for headers] [Wait\r                                                                               \rHit:4 https://developer.download.nvidia.com/compute/machine-learning/repos/ubuntu1804/x86_64  Release\n",
            "Hit:5 http://archive.ubuntu.com/ubuntu bionic InRelease\n",
            "Hit:6 http://security.ubuntu.com/ubuntu bionic-security InRelease\n",
            "Hit:7 http://archive.ubuntu.com/ubuntu bionic-updates InRelease\n",
            "Hit:8 http://ppa.launchpad.net/c2d4u.team/c2d4u4.0+/ubuntu bionic InRelease\n",
            "Hit:9 http://archive.ubuntu.com/ubuntu bionic-backports InRelease\n",
            "Hit:10 http://ppa.launchpad.net/cran/libgit2/ubuntu bionic InRelease\n",
            "Hit:12 http://ppa.launchpad.net/deadsnakes/ppa/ubuntu bionic InRelease\n",
            "Hit:13 http://ppa.launchpad.net/graphics-drivers/ppa/ubuntu bionic InRelease\n",
            "Reading package lists... Done\n",
            "Reading package lists... Done\n",
            "Building dependency tree       \n",
            "Reading state information... Done\n",
            "default-jdk is already the newest version (2:1.11-68ubuntu1~18.04.1).\n",
            "The following package was automatically installed and is no longer required:\n",
            "  libnvidia-common-460\n",
            "Use 'sudo apt autoremove' to remove it.\n",
            "0 upgraded, 0 newly installed, 0 to remove and 12 not upgraded.\n",
            "fatal: destination path 'mrmd' already exists and is not an empty directory.\n"
          ]
        }
      ]
    },
    {
      "cell_type": "code",
      "source": [
        "# to get terminal on colab ##\n",
        "#!pip install colab-xterm\n",
        "#%load_ext colabxterm\n",
        "#%xterm"
      ],
      "metadata": {
        "id": "1tLDtS8ooMiB"
      },
      "execution_count": 4,
      "outputs": []
    },
    {
      "cell_type": "code",
      "source": [
        "# start JVM\n",
        "#import weka.core.jvm as jvm\n",
        "#jvm.start()\n",
        "#jvm.stop()"
      ],
      "metadata": {
        "colab": {
          "base_uri": "https://localhost:8080/"
        },
        "id": "d5NGXCcHpA9q",
        "outputId": "3cc69a52-f571-487a-b199-7dd3df182285"
      },
      "execution_count": 5,
      "outputs": [
        {
          "output_type": "stream",
          "name": "stderr",
          "text": [
            "DEBUG:weka.core.jvm:Adding bundled jars\n",
            "DEBUG:weka.core.jvm:Classpath=['/usr/local/lib/python3.7/dist-packages/javabridge/jars/rhino-1.7R4.jar', '/usr/local/lib/python3.7/dist-packages/javabridge/jars/runnablequeue.jar', '/usr/local/lib/python3.7/dist-packages/javabridge/jars/cpython.jar', '/usr/local/lib/python3.7/dist-packages/weka/lib/weka.jar', '/usr/local/lib/python3.7/dist-packages/weka/lib/python-weka-wrapper.jar']\n",
            "DEBUG:weka.core.jvm:MaxHeapSize=default\n",
            "DEBUG:weka.core.jvm:Package support disabled\n"
          ]
        }
      ]
    },
    {
      "cell_type": "code",
      "source": [
        "!pip install csv2arff"
      ],
      "metadata": {
        "colab": {
          "base_uri": "https://localhost:8080/"
        },
        "id": "djExbpawqyXp",
        "outputId": "2f323766-fd96-4760-9ab2-34bd6966da59"
      },
      "execution_count": 8,
      "outputs": [
        {
          "output_type": "stream",
          "name": "stdout",
          "text": [
            "Looking in indexes: https://pypi.org/simple, https://us-python.pkg.dev/colab-wheels/public/simple/\n",
            "Collecting csv2arff\n",
            "  Downloading csv2arff-2.0.tar.gz (16 kB)\n",
            "Requirement already satisfied: numpy in /usr/local/lib/python3.7/dist-packages (from csv2arff) (1.21.6)\n",
            "Building wheels for collected packages: csv2arff\n",
            "  Building wheel for csv2arff (setup.py) ... \u001b[?25l\u001b[?25hdone\n",
            "  Created wheel for csv2arff: filename=csv2arff-2.0-py3-none-any.whl size=17252 sha256=737bd4116effbffed32c7a215a72c6f18d1540f073bf6cb55b7568eb09f5834b\n",
            "  Stored in directory: /root/.cache/pip/wheels/e1/d9/93/908a6541f84dbfbb6df585613b96c8406e5e84896ef7968db1\n",
            "Successfully built csv2arff\n",
            "Installing collected packages: csv2arff\n",
            "Successfully installed csv2arff-2.0\n"
          ]
        }
      ]
    },
    {
      "cell_type": "code",
      "source": [
        "!csv2arff CNA-TMB-Chi2.csv CNA-TMB-Chi2.arff"
      ],
      "metadata": {
        "id": "sj1sDaKfr87c"
      },
      "execution_count": 37,
      "outputs": []
    },
    {
      "cell_type": "code",
      "source": [
        "# replacing numeric with list for class TMB so that mrmd can work on it\n",
        "!grep TMB CNA-TMB-Chi2.arff\n",
        "!sed -i 's/TMB_CLASS numeric/TMB_CLASS \\{1,2\\}/' CNA-TMB-Chi2.arff\n",
        "!grep TMB CNA-TMB-Chi2.arff"
      ],
      "metadata": {
        "colab": {
          "base_uri": "https://localhost:8080/"
        },
        "id": "yQlMSb0l3Tue",
        "outputId": "e5baf02b-a74f-4138-b7f0-0648d0fffcc8"
      },
      "execution_count": 38,
      "outputs": [
        {
          "output_type": "stream",
          "name": "stdout",
          "text": [
            "@relation CNA-TMB-Chi2\n",
            "@attribute TMB_CLASS numeric\n",
            "@relation CNA-TMB-Chi2\n",
            "@attribute TMB_CLASS {1,2}\n"
          ]
        }
      ]
    },
    {
      "cell_type": "code",
      "source": [
        "!java -jar ./mrmd/mrmd.jar -i ./CNA-TMB-Chi2.arff -o ./CNA-TMB-MRMD.csv"
      ],
      "metadata": {
        "colab": {
          "base_uri": "https://localhost:8080/"
        },
        "id": "NS8gDfT4x4Pa",
        "outputId": "93d311ff-9dfb-46af-9c9b-fc4b87cfe38c"
      },
      "execution_count": 39,
      "outputs": [
        {
          "output_type": "stream",
          "name": "stdout",
          "text": [
            "Initialization...\n",
            "Initialization over!!!\n",
            "Start to calculate Pearson's correlation coefficient...\n",
            "Calculating Pearson's correlation coefficient over!!!\n",
            "Start to calculate Euclidean Distance...\n",
            "Calculating Euclidean Distance over!!!\n",
            "MRMD over.\n",
            "Feature selction optimation begin\n",
            "model:rf\n",
            "feature num: 1 rate: 0.6274509803921569\n",
            "feature num: 2 rate: 0.6274509803921569\n",
            "feature num: 3 rate: 0.6274509803921569\n",
            "feature num: 4 rate: 0.6274509803921569\n",
            "feature num: 5 rate: 0.6274509803921569\n",
            "feature num: 6 rate: 0.6274509803921569\n",
            "feature num: 7 rate: 0.6323529411764706\n",
            "feature num: 8 rate: 0.6348039215686274\n",
            "feature num: 9 rate: 0.6372549019607843\n",
            "feature num: 10 rate: 0.6519607843137255\n",
            "feature num: 11 rate: 0.6519607843137255\n",
            "feature num: 12 rate: 0.6495098039215687\n",
            "feature num: 13 rate: 0.6519607843137255\n",
            "feature num: 14 rate: 0.6507352941176471\n",
            "feature num: 15 rate: 0.6507352941176471\n",
            "feature num: 16 rate: 0.6519607843137255\n",
            "feature num: 17 rate: 0.6507352941176471\n",
            "feature num: 18 rate: 0.6495098039215687\n",
            "feature num: 19 rate: 0.6519607843137255\n",
            "feature num: 20 rate: 0.6495098039215687\n",
            "feature num: 21 rate: 0.6495098039215687\n",
            "feature num: 22 rate: 0.6507352941176471\n",
            "feature num: 23 rate: 0.6519607843137255\n",
            "feature num: 24 rate: 0.6495098039215687\n",
            "feature num: 25 rate: 0.6519607843137255\n",
            "feature num: 26 rate: 0.6507352941176471\n",
            "feature num: 27 rate: 0.6519607843137255\n",
            "feature num: 28 rate: 0.6519607843137255\n",
            "feature num: 29 rate: 0.6507352941176471\n",
            "feature num: 30 rate: 0.6531862745098039\n",
            "feature num: 31 rate: 0.6519607843137255\n",
            "feature num: 32 rate: 0.6531862745098039\n",
            "feature num: 33 rate: 0.6519607843137255\n",
            "feature num: 34 rate: 0.6544117647058824\n",
            "feature num: 35 rate: 0.6544117647058824\n",
            "feature num: 36 rate: 0.6568627450980392\n",
            "feature num: 37 rate: 0.6544117647058824\n",
            "feature num: 38 rate: 0.6531862745098039\n",
            "feature num: 39 rate: 0.6556372549019608\n",
            "feature num: 40 rate: 0.6593137254901961\n",
            "feature num: 41 rate: 0.6593137254901961\n",
            "feature num: 42 rate: 0.6593137254901961\n",
            "feature num: 43 rate: 0.6580882352941176\n",
            "feature num: 44 rate: 0.6580882352941176\n",
            "feature num: 45 rate: 0.6580882352941176\n",
            "feature num: 46 rate: 0.6605392156862745\n",
            "feature num: 47 rate: 0.6593137254901961\n",
            "feature num: 48 rate: 0.6580882352941176\n",
            "feature num: 49 rate: 0.6605392156862745\n",
            "feature num: 50 rate: 0.6629901960784313\n",
            "feature num: 51 rate: 0.6617647058823529\n",
            "feature num: 52 rate: 0.6593137254901961\n",
            "feature num: 53 rate: 0.6568627450980392\n",
            "feature num: 54 rate: 0.6605392156862745\n",
            "feature num: 55 rate: 0.6605392156862745\n",
            "feature num: 56 rate: 0.6580882352941176\n",
            "feature num: 57 rate: 0.6593137254901961\n",
            "feature num: 58 rate: 0.6629901960784313\n",
            "feature num: 59 rate: 0.6568627450980392\n",
            "feature num: 60 rate: 0.6605392156862745\n",
            "feature num: 61 rate: 0.6617647058823529\n",
            "feature num: 62 rate: 0.6605392156862745\n",
            "feature num: 63 rate: 0.6580882352941176\n",
            "feature num: 64 rate: 0.6654411764705883\n",
            "feature num: 65 rate: 0.6666666666666667\n",
            "feature num: 66 rate: 0.6642156862745099\n",
            "feature num: 67 rate: 0.6776960784313726\n",
            "feature num: 68 rate: 0.6801470588235294\n",
            "feature num: 69 rate: 0.678921568627451\n",
            "feature num: 70 rate: 0.6825980392156863\n",
            "feature num: 71 rate: 0.6764705882352942\n",
            "feature num: 72 rate: 0.6776960784313726\n",
            "feature num: 73 rate: 0.6813725490196079\n",
            "feature num: 74 rate: 0.6813725490196079\n",
            "feature num: 75 rate: 0.6764705882352942\n",
            "feature num: 76 rate: 0.6776960784313726\n",
            "feature num: 77 rate: 0.6764705882352942\n",
            "feature num: 78 rate: 0.6825980392156863\n",
            "feature num: 79 rate: 0.6825980392156863\n",
            "feature num: 80 rate: 0.6813725490196079\n",
            "feature num: 81 rate: 0.6801470588235294\n",
            "feature num: 82 rate: 0.678921568627451\n",
            "feature num: 83 rate: 0.6801470588235294\n",
            "feature num: 84 rate: 0.6801470588235294\n",
            "feature num: 85 rate: 0.6801470588235294\n",
            "feature num: 86 rate: 0.6813725490196079\n",
            "feature num: 87 rate: 0.678921568627451\n",
            "feature num: 88 rate: 0.6862745098039216\n",
            "feature num: 89 rate: 0.6752450980392157\n",
            "feature num: 90 rate: 0.6825980392156863\n",
            "feature num: 91 rate: 0.6875\n",
            "feature num: 92 rate: 0.6875\n",
            "feature num: 93 rate: 0.6899509803921569\n",
            "feature num: 94 rate: 0.6862745098039216\n",
            "feature num: 95 rate: 0.6899509803921569\n",
            "feature num: 96 rate: 0.6887254901960784\n",
            "feature num: 97 rate: 0.6862745098039216\n",
            "feature num: 98 rate: 0.6899509803921569\n",
            "feature num: 99 rate: 0.6887254901960784\n",
            "feature num: 100 rate: 0.6911764705882353\n",
            "feature num: 101 rate: 0.6875\n",
            "feature num: 102 rate: 0.6924019607843137\n",
            "feature num: 103 rate: 0.6875\n",
            "feature num: 104 rate: 0.6899509803921569\n",
            "feature num: 105 rate: 0.6911764705882353\n",
            "feature num: 106 rate: 0.6862745098039216\n",
            "feature num: 107 rate: 0.6875\n",
            "feature num: 108 rate: 0.6838235294117647\n",
            "feature num: 109 rate: 0.6887254901960784\n",
            "feature num: 110 rate: 0.6924019607843137\n",
            "feature num: 111 rate: 0.6899509803921569\n",
            "feature num: 112 rate: 0.6911764705882353\n",
            "feature num: 113 rate: 0.7009803921568627\n",
            "feature num: 114 rate: 0.6973039215686274\n",
            "feature num: 115 rate: 0.6985294117647058\n",
            "feature num: 116 rate: 0.7034313725490196\n",
            "feature num: 117 rate: 0.7022058823529411\n",
            "feature num: 118 rate: 0.6948529411764706\n",
            "feature num: 119 rate: 0.6997549019607843\n",
            "feature num: 120 rate: 0.696078431372549\n",
            "feature num: 121 rate: 0.7034313725490196\n",
            "feature num: 122 rate: 0.6997549019607843\n",
            "feature num: 123 rate: 0.7009803921568627\n",
            "feature num: 124 rate: 0.696078431372549\n",
            "feature num: 125 rate: 0.6997549019607843\n",
            "feature num: 126 rate: 0.7022058823529411\n",
            "feature num: 127 rate: 0.6997549019607843\n",
            "feature num: 128 rate: 0.6911764705882353\n",
            "feature num: 129 rate: 0.6985294117647058\n",
            "feature num: 130 rate: 0.6973039215686274\n",
            "feature num: 131 rate: 0.6997549019607843\n",
            "feature num: 132 rate: 0.6985294117647058\n",
            "feature num: 133 rate: 0.7034313725490196\n",
            "feature num: 134 rate: 0.7095588235294117\n",
            "feature num: 135 rate: 0.7009803921568627\n",
            "feature num: 136 rate: 0.7009803921568627\n",
            "feature num: 137 rate: 0.6936274509803921\n",
            "feature num: 138 rate: 0.6936274509803921\n",
            "feature num: 139 rate: 0.6985294117647058\n",
            "feature num: 140 rate: 0.6985294117647058\n",
            "feature num: 141 rate: 0.6936274509803921\n",
            "feature num: 142 rate: 0.6973039215686274\n",
            "feature num: 143 rate: 0.6973039215686274\n",
            "feature num: 144 rate: 0.6948529411764706\n",
            "feature num: 145 rate: 0.7071078431372548\n",
            "feature num: 146 rate: 0.6948529411764706\n",
            "feature num: 147 rate: 0.6887254901960784\n",
            "feature num: 148 rate: 0.6997549019607843\n",
            "feature num: 149 rate: 0.696078431372549\n",
            "feature num: 150 rate: 0.6924019607843137\n",
            "feature num: 151 rate: 0.696078431372549\n",
            "feature num: 152 rate: 0.6948529411764706\n",
            "feature num: 153 rate: 0.696078431372549\n",
            "feature num: 154 rate: 0.6936274509803921\n",
            "feature num: 155 rate: 0.6985294117647058\n",
            "feature num: 156 rate: 0.6973039215686274\n",
            "feature num: 157 rate: 0.6899509803921569\n",
            "feature num: 158 rate: 0.6911764705882353\n",
            "feature num: 159 rate: 0.6948529411764706\n",
            "feature num: 160 rate: 0.7009803921568627\n",
            "feature num: 161 rate: 0.6887254901960784\n",
            "feature num: 162 rate: 0.6973039215686274\n",
            "feature num: 163 rate: 0.6997549019607843\n",
            "feature num: 164 rate: 0.7095588235294117\n",
            "feature num: 165 rate: 0.7058823529411764\n",
            "feature num: 166 rate: 0.7181372549019608\n",
            "feature num: 167 rate: 0.7169117647058824\n",
            "feature num: 168 rate: 0.7120098039215687\n",
            "feature num: 169 rate: 0.7071078431372548\n",
            "feature num: 170 rate: 0.6997549019607843\n",
            "feature num: 171 rate: 0.7071078431372548\n",
            "feature num: 172 rate: 0.7169117647058824\n",
            "feature num: 173 rate: 0.7120098039215687\n",
            "feature num: 174 rate: 0.7132352941176471\n",
            "feature num: 175 rate: 0.7156862745098039\n",
            "feature num: 176 rate: 0.7156862745098039\n",
            "feature num: 177 rate: 0.7120098039215687\n",
            "feature num: 178 rate: 0.7034313725490196\n",
            "feature num: 179 rate: 0.7132352941176471\n",
            "feature num: 180 rate: 0.7107843137254901\n",
            "feature num: 181 rate: 0.7181372549019608\n",
            "feature num: 182 rate: 0.7022058823529411\n",
            "feature num: 183 rate: 0.6973039215686274\n",
            "feature num: 184 rate: 0.7022058823529411\n",
            "feature num: 185 rate: 0.6973039215686274\n",
            "feature num: 186 rate: 0.7058823529411764\n",
            "feature num: 187 rate: 0.6936274509803921\n",
            "feature num: 188 rate: 0.6936274509803921\n",
            "feature num: 189 rate: 0.7009803921568627\n",
            "feature num: 190 rate: 0.704656862745098\n",
            "feature num: 191 rate: 0.6997549019607843\n",
            "feature num: 192 rate: 0.6997549019607843\n",
            "feature num: 193 rate: 0.7083333333333333\n",
            "feature num: 194 rate: 0.7107843137254901\n",
            "feature num: 195 rate: 0.7071078431372548\n",
            "feature num: 196 rate: 0.7058823529411764\n",
            "feature num: 197 rate: 0.7095588235294117\n",
            "feature num: 198 rate: 0.7120098039215687\n",
            "feature num: 199 rate: 0.7071078431372548\n",
            "feature num: 200 rate: 0.7205882352941176\n",
            "feature num: 201 rate: 0.7022058823529411\n",
            "feature num: 202 rate: 0.7083333333333333\n",
            "feature num: 203 rate: 0.6985294117647058\n",
            "feature num: 204 rate: 0.7058823529411764\n",
            "feature num: 205 rate: 0.7144607843137255\n",
            "feature num: 206 rate: 0.7083333333333333\n",
            "feature num: 207 rate: 0.7058823529411764\n",
            "feature num: 208 rate: 0.7058823529411764\n",
            "feature num: 209 rate: 0.7120098039215687\n",
            "feature num: 210 rate: 0.7144607843137255\n",
            "feature num: 211 rate: 0.7107843137254901\n",
            "feature num: 212 rate: 0.7107843137254901\n",
            "feature num: 213 rate: 0.7156862745098039\n",
            "feature num: 214 rate: 0.7169117647058824\n",
            "feature num: 215 rate: 0.7193627450980392\n",
            "feature num: 216 rate: 0.7120098039215687\n",
            "feature num: 217 rate: 0.7132352941176471\n",
            "feature num: 218 rate: 0.7107843137254901\n",
            "feature num: 219 rate: 0.7083333333333333\n",
            "feature num: 220 rate: 0.7132352941176471\n",
            "feature num: 221 rate: 0.7107843137254901\n",
            "feature num: 222 rate: 0.7132352941176471\n",
            "feature num: 223 rate: 0.7132352941176471\n",
            "feature num: 224 rate: 0.7120098039215687\n",
            "feature num: 225 rate: 0.7009803921568627\n",
            "feature num: 226 rate: 0.7095588235294117\n",
            "feature num: 227 rate: 0.7144607843137255\n",
            "feature num: 228 rate: 0.7218137254901961\n",
            "feature num: 229 rate: 0.7218137254901961\n",
            "feature num: 230 rate: 0.7254901960784313\n",
            "feature num: 231 rate: 0.7267156862745099\n",
            "feature num: 232 rate: 0.7218137254901961\n",
            "feature num: 233 rate: 0.7267156862745099\n",
            "feature num: 234 rate: 0.7279411764705883\n",
            "feature num: 235 rate: 0.7254901960784313\n",
            "feature num: 236 rate: 0.7316176470588236\n",
            "feature num: 237 rate: 0.7193627450980392\n",
            "feature num: 238 rate: 0.7230392156862745\n",
            "feature num: 239 rate: 0.7316176470588236\n",
            "feature num: 240 rate: 0.7181372549019608\n",
            "feature num: 241 rate: 0.7267156862745099\n",
            "feature num: 242 rate: 0.7340686274509804\n",
            "feature num: 243 rate: 0.7230392156862745\n",
            "feature num: 244 rate: 0.7267156862745099\n",
            "feature num: 245 rate: 0.7267156862745099\n",
            "feature num: 246 rate: 0.7279411764705883\n",
            "feature num: 247 rate: 0.7254901960784313\n",
            "feature num: 248 rate: 0.7267156862745099\n",
            "feature num: 249 rate: 0.7205882352941176\n",
            "feature num: 250 rate: 0.7218137254901961\n",
            "feature num: 251 rate: 0.7340686274509804\n",
            "feature num: 252 rate: 0.7316176470588236\n",
            "feature num: 253 rate: 0.7218137254901961\n",
            "feature num: 254 rate: 0.7291666666666667\n",
            "feature num: 255 rate: 0.7279411764705883\n",
            "feature num: 256 rate: 0.732843137254902\n",
            "feature num: 257 rate: 0.7205882352941176\n",
            "feature num: 258 rate: 0.7193627450980392\n",
            "feature num: 259 rate: 0.7267156862745099\n",
            "feature num: 260 rate: 0.7169117647058824\n",
            "feature num: 261 rate: 0.7267156862745099\n",
            "feature num: 262 rate: 0.7267156862745099\n",
            "feature num: 263 rate: 0.7291666666666667\n",
            "feature num: 264 rate: 0.7230392156862745\n",
            "feature num: 265 rate: 0.7254901960784313\n",
            "feature num: 266 rate: 0.7303921568627452\n",
            "feature num: 267 rate: 0.7279411764705883\n",
            "feature num: 268 rate: 0.732843137254902\n",
            "feature num: 269 rate: 0.7303921568627452\n",
            "feature num: 270 rate: 0.7291666666666667\n",
            "feature num: 271 rate: 0.7303921568627452\n",
            "feature num: 272 rate: 0.732843137254902\n",
            "feature num: 273 rate: 0.7181372549019608\n",
            "feature num: 274 rate: 0.7242647058823529\n",
            "feature num: 275 rate: 0.7303921568627452\n",
            "feature num: 276 rate: 0.7205882352941176\n",
            "feature num: 277 rate: 0.7291666666666667\n",
            "feature num: 278 rate: 0.7254901960784313\n",
            "feature num: 279 rate: 0.7254901960784313\n",
            "feature num: 280 rate: 0.7230392156862745\n",
            "feature num: 281 rate: 0.7316176470588236\n",
            "feature num: 282 rate: 0.7254901960784313\n",
            "feature num: 283 rate: 0.7365196078431373\n",
            "feature num: 284 rate: 0.7316176470588236\n",
            "feature num: 285 rate: 0.7340686274509804\n",
            "feature num: 286 rate: 0.7303921568627452\n",
            "feature num: 287 rate: 0.7365196078431373\n",
            "feature num: 288 rate: 0.7279411764705883\n",
            "feature num: 289 rate: 0.7365196078431373\n",
            "feature num: 290 rate: 0.7377450980392157\n",
            "feature num: 291 rate: 0.7340686274509804\n",
            "feature num: 292 rate: 0.7316176470588236\n",
            "feature num: 293 rate: 0.7291666666666667\n",
            "feature num: 294 rate: 0.7279411764705883\n",
            "feature num: 295 rate: 0.7401960784313726\n",
            "feature num: 296 rate: 0.7291666666666667\n",
            "feature num: 297 rate: 0.7279411764705883\n",
            "feature num: 298 rate: 0.7254901960784313\n",
            "feature num: 299 rate: 0.7291666666666667\n",
            "feature num: 300 rate: 0.7316176470588236\n",
            "feature num: 301 rate: 0.7340686274509804\n",
            "feature num: 302 rate: 0.7340686274509804\n",
            "feature num: 303 rate: 0.732843137254902\n",
            "feature num: 304 rate: 0.7316176470588236\n",
            "feature num: 305 rate: 0.7365196078431373\n",
            "feature num: 306 rate: 0.7365196078431373\n",
            "feature num: 307 rate: 0.7303921568627452\n",
            "feature num: 308 rate: 0.7352941176470589\n",
            "feature num: 309 rate: 0.7352941176470589\n",
            "feature num: 310 rate: 0.732843137254902\n",
            "feature num: 311 rate: 0.7193627450980392\n",
            "feature num: 312 rate: 0.7377450980392157\n",
            "feature num: 313 rate: 0.7352941176470589\n",
            "feature num: 314 rate: 0.7267156862745099\n",
            "feature num: 315 rate: 0.7352941176470589\n",
            "feature num: 316 rate: 0.7340686274509804\n",
            "feature num: 317 rate: 0.732843137254902\n",
            "feature num: 318 rate: 0.7291666666666667\n",
            "feature num: 319 rate: 0.7303921568627452\n",
            "feature num: 320 rate: 0.732843137254902\n",
            "feature num: 321 rate: 0.7267156862745099\n",
            "feature num: 322 rate: 0.7340686274509804\n",
            "feature num: 323 rate: 0.7291666666666667\n",
            "feature num: 324 rate: 0.7316176470588236\n",
            "feature num: 325 rate: 0.7316176470588236\n",
            "feature num: 326 rate: 0.7303921568627452\n",
            "feature num: 327 rate: 0.732843137254902\n",
            "feature num: 328 rate: 0.7254901960784313\n",
            "feature num: 329 rate: 0.7279411764705883\n",
            "feature num: 330 rate: 0.732843137254902\n",
            "feature num: 331 rate: 0.7340686274509804\n",
            "feature num: 332 rate: 0.732843137254902\n",
            "feature num: 333 rate: 0.7291666666666667\n",
            "feature num: 334 rate: 0.7377450980392157\n",
            "feature num: 335 rate: 0.7316176470588236\n",
            "feature num: 336 rate: 0.7316176470588236\n",
            "feature num: 337 rate: 0.7377450980392157\n",
            "feature num: 338 rate: 0.741421568627451\n",
            "feature num: 339 rate: 0.7389705882352942\n",
            "feature num: 340 rate: 0.732843137254902\n",
            "feature num: 341 rate: 0.7316176470588236\n",
            "feature num: 342 rate: 0.732843137254902\n",
            "feature num: 343 rate: 0.732843137254902\n",
            "feature num: 344 rate: 0.7242647058823529\n",
            "feature num: 345 rate: 0.732843137254902\n",
            "feature num: 346 rate: 0.7389705882352942\n",
            "feature num: 347 rate: 0.7377450980392157\n",
            "feature num: 348 rate: 0.732843137254902\n",
            "feature num: 349 rate: 0.7340686274509804\n",
            "feature num: 350 rate: 0.7365196078431373\n",
            "feature num: 351 rate: 0.7377450980392157\n",
            "feature num: 352 rate: 0.7389705882352942\n",
            "feature num: 353 rate: 0.7303921568627452\n",
            "feature num: 354 rate: 0.7475490196078431\n",
            "feature num: 355 rate: 0.732843137254902\n",
            "feature num: 356 rate: 0.7450980392156863\n",
            "feature num: 357 rate: 0.7316176470588236\n",
            "feature num: 358 rate: 0.7377450980392157\n",
            "feature num: 359 rate: 0.741421568627451\n",
            "feature num: 360 rate: 0.7438725490196079\n",
            "feature num: 361 rate: 0.7352941176470589\n",
            "feature num: 362 rate: 0.741421568627451\n",
            "feature num: 363 rate: 0.7487745098039216\n",
            "feature num: 364 rate: 0.7352941176470589\n",
            "feature num: 365 rate: 0.7401960784313726\n",
            "feature num: 366 rate: 0.7401960784313726\n",
            "feature num: 367 rate: 0.7463235294117647\n",
            "feature num: 368 rate: 0.7389705882352942\n",
            "feature num: 369 rate: 0.7352941176470589\n",
            "feature num: 370 rate: 0.7512254901960784\n",
            "feature num: 371 rate: 0.75\n",
            "feature num: 372 rate: 0.7303921568627452\n",
            "feature num: 373 rate: 0.7365196078431373\n",
            "feature num: 374 rate: 0.741421568627451\n",
            "feature num: 375 rate: 0.7487745098039216\n",
            "feature num: 376 rate: 0.75\n",
            "feature num: 377 rate: 0.741421568627451\n",
            "feature num: 378 rate: 0.7377450980392157\n",
            "feature num: 379 rate: 0.741421568627451\n",
            "feature num: 380 rate: 0.7463235294117647\n",
            "feature num: 381 rate: 0.732843137254902\n",
            "feature num: 382 rate: 0.7426470588235294\n",
            "feature num: 383 rate: 0.7401960784313726\n",
            "feature num: 384 rate: 0.7377450980392157\n",
            "feature num: 385 rate: 0.7463235294117647\n",
            "feature num: 386 rate: 0.7365196078431373\n",
            "feature num: 387 rate: 0.7426470588235294\n",
            "feature num: 388 rate: 0.7340686274509804\n",
            "feature num: 389 rate: 0.7389705882352942\n",
            "feature num: 390 rate: 0.7352941176470589\n",
            "feature num: 391 rate: 0.732843137254902\n",
            "feature num: 392 rate: 0.7512254901960784\n",
            "feature num: 393 rate: 0.7450980392156863\n",
            "feature num: 394 rate: 0.7438725490196079\n",
            "feature num: 395 rate: 0.7487745098039216\n",
            "feature num: 396 rate: 0.7475490196078431\n",
            "feature num: 397 rate: 0.7438725490196079\n",
            "feature num: 398 rate: 0.7426470588235294\n",
            "feature num: 399 rate: 0.7365196078431373\n",
            "feature num: 400 rate: 0.7365196078431373\n",
            "feature num: 401 rate: 0.7365196078431373\n",
            "feature num: 402 rate: 0.7401960784313726\n",
            "feature num: 403 rate: 0.7401960784313726\n",
            "feature num: 404 rate: 0.7401960784313726\n",
            "feature num: 405 rate: 0.7401960784313726\n",
            "feature num: 406 rate: 0.7475490196078431\n",
            "feature num: 407 rate: 0.7438725490196079\n",
            "feature num: 408 rate: 0.7389705882352942\n",
            "feature num: 409 rate: 0.7450980392156863\n",
            "feature num: 410 rate: 0.7426470588235294\n",
            "feature num: 411 rate: 0.7438725490196079\n",
            "feature num: 412 rate: 0.7401960784313726\n",
            "feature num: 413 rate: 0.7401960784313726\n",
            "feature num: 414 rate: 0.7536764705882353\n",
            "feature num: 415 rate: 0.7401960784313726\n",
            "feature num: 416 rate: 0.741421568627451\n",
            "feature num: 417 rate: 0.732843137254902\n",
            "feature num: 418 rate: 0.7352941176470589\n",
            "feature num: 419 rate: 0.7389705882352942\n",
            "feature num: 420 rate: 0.7365196078431373\n",
            "feature num: 421 rate: 0.7438725490196079\n",
            "feature num: 422 rate: 0.7401960784313726\n",
            "feature num: 423 rate: 0.7365196078431373\n",
            "feature num: 424 rate: 0.7401960784313726\n",
            "feature num: 425 rate: 0.732843137254902\n",
            "feature num: 426 rate: 0.7426470588235294\n",
            "feature num: 427 rate: 0.7426470588235294\n",
            "feature num: 428 rate: 0.741421568627451\n",
            "feature num: 429 rate: 0.7438725490196079\n",
            "feature num: 430 rate: 0.7401960784313726\n",
            "feature num: 431 rate: 0.7401960784313726\n",
            "feature num: 432 rate: 0.7389705882352942\n",
            "feature num: 433 rate: 0.741421568627451\n",
            "feature num: 434 rate: 0.7365196078431373\n",
            "feature num: 435 rate: 0.741421568627451\n",
            "feature num: 436 rate: 0.7463235294117647\n",
            "feature num: 437 rate: 0.7463235294117647\n",
            "feature num: 438 rate: 0.7365196078431373\n",
            "feature num: 439 rate: 0.7475490196078431\n",
            "feature num: 440 rate: 0.7438725490196079\n",
            "feature num: 441 rate: 0.7389705882352942\n",
            "feature num: 442 rate: 0.7450980392156863\n",
            "feature num: 443 rate: 0.7389705882352942\n",
            "feature num: 444 rate: 0.7426470588235294\n",
            "feature num: 445 rate: 0.75\n",
            "feature num: 446 rate: 0.7377450980392157\n",
            "feature num: 447 rate: 0.741421568627451\n",
            "feature num: 448 rate: 0.7463235294117647\n",
            "feature num: 449 rate: 0.7450980392156863\n",
            "feature num: 450 rate: 0.7426470588235294\n",
            "feature num: 451 rate: 0.7389705882352942\n",
            "feature num: 452 rate: 0.7401960784313726\n",
            "feature num: 453 rate: 0.7426470588235294\n",
            "feature num: 454 rate: 0.7438725490196079\n",
            "feature num: 455 rate: 0.7365196078431373\n",
            "feature num: 456 rate: 0.7438725490196079\n",
            "feature num: 457 rate: 0.7426470588235294\n",
            "feature num: 458 rate: 0.7450980392156863\n",
            "feature num: 459 rate: 0.7487745098039216\n",
            "feature num: 460 rate: 0.7438725490196079\n",
            "feature num: 461 rate: 0.7401960784313726\n",
            "feature num: 462 rate: 0.7438725490196079\n",
            "feature num: 463 rate: 0.7463235294117647\n",
            "feature num: 464 rate: 0.7426470588235294\n",
            "feature num: 465 rate: 0.741421568627451\n",
            "feature num: 466 rate: 0.7377450980392157\n",
            "feature num: 467 rate: 0.75\n",
            "feature num: 468 rate: 0.7487745098039216\n",
            "feature num: 469 rate: 0.7487745098039216\n",
            "feature num: 470 rate: 0.7487745098039216\n",
            "feature num: 471 rate: 0.7352941176470589\n",
            "feature num: 472 rate: 0.7487745098039216\n",
            "feature num: 473 rate: 0.7352941176470589\n",
            "feature num: 474 rate: 0.7524509803921569\n",
            "feature num: 475 rate: 0.7401960784313726\n",
            "feature num: 476 rate: 0.7536764705882353\n",
            "feature num: 477 rate: 0.7475490196078431\n",
            "feature num: 478 rate: 0.7463235294117647\n",
            "feature num: 479 rate: 0.7426470588235294\n",
            "feature num: 480 rate: 0.7389705882352942\n",
            "feature num: 481 rate: 0.7352941176470589\n",
            "feature num: 482 rate: 0.7512254901960784\n",
            "feature num: 483 rate: 0.75\n",
            "feature num: 484 rate: 0.7475490196078431\n",
            "feature num: 485 rate: 0.7487745098039216\n",
            "feature num: 486 rate: 0.7340686274509804\n",
            "feature num: 487 rate: 0.7475490196078431\n",
            "feature num: 488 rate: 0.7401960784313726\n",
            "feature num: 489 rate: 0.7401960784313726\n",
            "feature num: 490 rate: 0.7450980392156863\n",
            "feature num: 491 rate: 0.7475490196078431\n",
            "feature num: 492 rate: 0.7377450980392157\n",
            "feature num: 493 rate: 0.741421568627451\n",
            "feature num: 494 rate: 0.7438725490196079\n",
            "feature num: 495 rate: 0.7340686274509804\n",
            "feature num: 496 rate: 0.7377450980392157\n",
            "feature num: 497 rate: 0.7561274509803921\n",
            "feature num: 498 rate: 0.7475490196078431\n",
            "feature num: 499 rate: 0.7487745098039216\n",
            "feature num: 500 rate: 0.7438725490196079\n",
            "feature num: 501 rate: 0.7365196078431373\n",
            "feature num: 502 rate: 0.7426470588235294\n",
            "feature num: 503 rate: 0.7536764705882353\n",
            "feature num: 504 rate: 0.7536764705882353\n",
            "feature num: 505 rate: 0.7426470588235294\n",
            "feature num: 506 rate: 0.7401960784313726\n",
            "feature num: 507 rate: 0.7475490196078431\n",
            "feature num: 508 rate: 0.7487745098039216\n",
            "feature num: 509 rate: 0.7463235294117647\n",
            "feature num: 510 rate: 0.7463235294117647\n",
            "feature num: 511 rate: 0.741421568627451\n",
            "feature num: 512 rate: 0.7450980392156863\n",
            "feature num: 513 rate: 0.7438725490196079\n",
            "feature num: 514 rate: 0.7610294117647058\n",
            "feature num: 515 rate: 0.7475490196078431\n",
            "feature num: 516 rate: 0.7561274509803921\n",
            "feature num: 517 rate: 0.7450980392156863\n",
            "feature num: 518 rate: 0.7512254901960784\n",
            "feature num: 519 rate: 0.75\n",
            "feature num: 520 rate: 0.758578431372549\n",
            "feature num: 521 rate: 0.75\n",
            "feature num: 522 rate: 0.7573529411764706\n",
            "feature num: 523 rate: 0.7463235294117647\n",
            "feature num: 524 rate: 0.7573529411764706\n",
            "feature num: 525 rate: 0.75\n",
            "feature num: 526 rate: 0.7463235294117647\n",
            "feature num: 527 rate: 0.767156862745098\n",
            "feature num: 528 rate: 0.758578431372549\n",
            "feature num: 529 rate: 0.7720588235294118\n",
            "feature num: 530 rate: 0.7769607843137255\n",
            "feature num: 531 rate: 0.7598039215686274\n",
            "feature num: 532 rate: 0.7647058823529411\n",
            "feature num: 533 rate: 0.7659313725490196\n",
            "feature num: 534 rate: 0.7561274509803921\n",
            "feature num: 535 rate: 0.7610294117647058\n",
            "feature num: 536 rate: 0.7622549019607843\n",
            "feature num: 537 rate: 0.767156862745098\n",
            "feature num: 538 rate: 0.7647058823529411\n",
            "feature num: 539 rate: 0.7781862745098039\n",
            "feature num: 540 rate: 0.767156862745098\n",
            "feature num: 541 rate: 0.7696078431372549\n",
            "feature num: 542 rate: 0.7683823529411764\n",
            "feature num: 543 rate: 0.7843137254901961\n",
            "feature num: 544 rate: 0.7708333333333334\n",
            "feature num: 545 rate: 0.767156862745098\n",
            "feature num: 546 rate: 0.7745098039215687\n",
            "feature num: 547 rate: 0.7806372549019608\n",
            "feature num: 548 rate: 0.7769607843137255\n",
            "feature num: 549 rate: 0.7708333333333334\n",
            "feature num: 550 rate: 0.7708333333333334\n",
            "feature num: 551 rate: 0.767156862745098\n",
            "feature num: 552 rate: 0.7720588235294118\n",
            "feature num: 553 rate: 0.7610294117647058\n",
            "feature num: 554 rate: 0.7757352941176471\n",
            "feature num: 555 rate: 0.7769607843137255\n",
            "feature num: 556 rate: 0.7708333333333334\n",
            "feature num: 557 rate: 0.7745098039215687\n",
            "feature num: 558 rate: 0.7806372549019608\n",
            "feature num: 559 rate: 0.7745098039215687\n",
            "feature num: 560 rate: 0.7806372549019608\n",
            "feature num: 561 rate: 0.7745098039215687\n",
            "feature num: 562 rate: 0.7732843137254902\n",
            "feature num: 563 rate: 0.7720588235294118\n",
            "feature num: 564 rate: 0.7683823529411764\n",
            "feature num: 565 rate: 0.7708333333333334\n",
            "feature num: 566 rate: 0.7683823529411764\n",
            "feature num: 567 rate: 0.7683823529411764\n",
            "feature num: 568 rate: 0.7659313725490196\n",
            "feature num: 569 rate: 0.767156862745098\n",
            "feature num: 570 rate: 0.7708333333333334\n",
            "feature num: 571 rate: 0.7708333333333334\n",
            "feature num: 572 rate: 0.7696078431372549\n",
            "feature num: 573 rate: 0.7757352941176471\n",
            "feature num: 574 rate: 0.7708333333333334\n",
            "feature num: 575 rate: 0.7769607843137255\n",
            "feature num: 576 rate: 0.7720588235294118\n",
            "feature num: 577 rate: 0.7659313725490196\n",
            "feature num: 578 rate: 0.7745098039215687\n",
            "feature num: 579 rate: 0.7659313725490196\n",
            "feature num: 580 rate: 0.7757352941176471\n",
            "feature num: 581 rate: 0.7634803921568627\n",
            "feature num: 582 rate: 0.7659313725490196\n",
            "feature num: 583 rate: 0.7732843137254902\n",
            "feature num: 584 rate: 0.7892156862745098\n",
            "feature num: 585 rate: 0.7659313725490196\n",
            "feature num: 586 rate: 0.7696078431372549\n",
            "feature num: 587 rate: 0.7732843137254902\n",
            "feature num: 588 rate: 0.7683823529411764\n",
            "feature num: 589 rate: 0.7781862745098039\n",
            "feature num: 590 rate: 0.7720588235294118\n",
            "feature num: 591 rate: 0.7806372549019608\n",
            "feature num: 592 rate: 0.7659313725490196\n",
            "feature num: 593 rate: 0.7843137254901961\n",
            "feature num: 594 rate: 0.767156862745098\n",
            "feature num: 595 rate: 0.7659313725490196\n",
            "feature num: 596 rate: 0.7757352941176471\n",
            "feature num: 597 rate: 0.7708333333333334\n",
            "feature num: 598 rate: 0.7720588235294118\n",
            "feature num: 599 rate: 0.7794117647058824\n",
            "feature num: 600 rate: 0.7708333333333334\n",
            "feature num: 601 rate: 0.7781862745098039\n",
            "feature num: 602 rate: 0.7634803921568627\n",
            "feature num: 603 rate: 0.767156862745098\n",
            "feature num: 604 rate: 0.7769607843137255\n",
            "feature num: 605 rate: 0.7683823529411764\n",
            "feature num: 606 rate: 0.7610294117647058\n",
            "feature num: 607 rate: 0.7659313725490196\n",
            "feature num: 608 rate: 0.7806372549019608\n",
            "feature num: 609 rate: 0.7916666666666666\n",
            "feature num: 610 rate: 0.7769607843137255\n",
            "feature num: 611 rate: 0.7708333333333334\n",
            "feature num: 612 rate: 0.767156862745098\n",
            "feature num: 613 rate: 0.767156862745098\n",
            "feature num: 614 rate: 0.7806372549019608\n",
            "feature num: 615 rate: 0.7904411764705882\n",
            "feature num: 616 rate: 0.7573529411764706\n",
            "feature num: 617 rate: 0.767156862745098\n",
            "feature num: 618 rate: 0.7732843137254902\n",
            "feature num: 619 rate: 0.7794117647058824\n",
            "feature num: 620 rate: 0.7622549019607843\n",
            "feature num: 621 rate: 0.7855392156862745\n",
            "feature num: 622 rate: 0.7781862745098039\n",
            "feature num: 623 rate: 0.7683823529411764\n",
            "feature num: 624 rate: 0.7806372549019608\n",
            "feature num: 625 rate: 0.7757352941176471\n",
            "feature num: 626 rate: 0.7843137254901961\n",
            "feature num: 627 rate: 0.7708333333333334\n",
            "feature num: 628 rate: 0.7720588235294118\n",
            "feature num: 629 rate: 0.7720588235294118\n",
            "feature num: 630 rate: 0.7708333333333334\n",
            "feature num: 631 rate: 0.7769607843137255\n",
            "feature num: 632 rate: 0.7806372549019608\n",
            "feature num: 633 rate: 0.7732843137254902\n",
            "feature num: 634 rate: 0.7781862745098039\n",
            "feature num: 635 rate: 0.7708333333333334\n",
            "feature num: 636 rate: 0.7683823529411764\n",
            "feature num: 637 rate: 0.7806372549019608\n",
            "feature num: 638 rate: 0.7683823529411764\n",
            "feature num: 639 rate: 0.7610294117647058\n",
            "feature num: 640 rate: 0.7745098039215687\n",
            "feature num: 641 rate: 0.7696078431372549\n",
            "feature num: 642 rate: 0.7598039215686274\n",
            "feature num: 643 rate: 0.7781862745098039\n",
            "feature num: 644 rate: 0.7892156862745098\n",
            "feature num: 645 rate: 0.7781862745098039\n",
            "feature num: 646 rate: 0.7806372549019608\n",
            "feature num: 647 rate: 0.7867647058823529\n",
            "feature num: 648 rate: 0.7745098039215687\n",
            "feature num: 649 rate: 0.7696078431372549\n",
            "feature num: 650 rate: 0.767156862745098\n",
            "feature num: 651 rate: 0.7683823529411764\n",
            "feature num: 652 rate: 0.7781862745098039\n",
            "feature num: 653 rate: 0.7683823529411764\n",
            "feature num: 654 rate: 0.7598039215686274\n",
            "feature num: 655 rate: 0.7830882352941176\n",
            "feature num: 656 rate: 0.7598039215686274\n",
            "feature num: 657 rate: 0.7769607843137255\n",
            "feature num: 658 rate: 0.7745098039215687\n",
            "feature num: 659 rate: 0.7732843137254902\n",
            "feature num: 660 rate: 0.7781862745098039\n",
            "feature num: 661 rate: 0.767156862745098\n",
            "feature num: 662 rate: 0.7683823529411764\n",
            "feature num: 663 rate: 0.7683823529411764\n",
            "feature num: 664 rate: 0.7696078431372549\n",
            "feature num: 665 rate: 0.7769607843137255\n",
            "feature num: 666 rate: 0.7781862745098039\n",
            "feature num: 667 rate: 0.7708333333333334\n",
            "feature num: 668 rate: 0.7720588235294118\n",
            "feature num: 669 rate: 0.7708333333333334\n",
            "feature num: 670 rate: 0.7696078431372549\n",
            "feature num: 671 rate: 0.7757352941176471\n",
            "feature num: 672 rate: 0.7818627450980392\n",
            "feature num: 673 rate: 0.7916666666666666\n",
            "feature num: 674 rate: 0.767156862745098\n",
            "feature num: 675 rate: 0.7794117647058824\n",
            "feature num: 676 rate: 0.7720588235294118\n",
            "feature num: 677 rate: 0.7683823529411764\n",
            "feature num: 678 rate: 0.767156862745098\n",
            "feature num: 679 rate: 0.7818627450980392\n",
            "feature num: 680 rate: 0.7769607843137255\n",
            "feature num: 681 rate: 0.7916666666666666\n",
            "feature num: 682 rate: 0.7781862745098039\n",
            "feature num: 683 rate: 0.7696078431372549\n",
            "feature num: 684 rate: 0.767156862745098\n",
            "feature num: 685 rate: 0.7818627450980392\n",
            "feature num: 686 rate: 0.7781862745098039\n",
            "feature num: 687 rate: 0.7794117647058824\n",
            "feature num: 688 rate: 0.7732843137254902\n",
            "feature num: 689 rate: 0.7794117647058824\n",
            "feature num: 690 rate: 0.7634803921568627\n",
            "feature num: 691 rate: 0.7720588235294118\n",
            "feature num: 692 rate: 0.7745098039215687\n",
            "feature num: 693 rate: 0.767156862745098\n",
            "feature num: 694 rate: 0.7794117647058824\n",
            "feature num: 695 rate: 0.7561274509803921\n",
            "feature num: 696 rate: 0.7745098039215687\n",
            "feature num: 697 rate: 0.7867647058823529\n",
            "feature num: 698 rate: 0.7708333333333334\n",
            "feature num: 699 rate: 0.7757352941176471\n",
            "feature num: 700 rate: 0.767156862745098\n",
            "feature num: 701 rate: 0.7757352941176471\n",
            "feature num: 702 rate: 0.7659313725490196\n",
            "feature num: 703 rate: 0.767156862745098\n",
            "feature num: 704 rate: 0.7757352941176471\n",
            "feature num: 705 rate: 0.7634803921568627\n",
            "feature num: 706 rate: 0.7769607843137255\n",
            "feature num: 707 rate: 0.7622549019607843\n",
            "feature num: 708 rate: 0.7855392156862745\n",
            "feature num: 709 rate: 0.7634803921568627\n",
            "feature num: 710 rate: 0.7818627450980392\n",
            "feature num: 711 rate: 0.7781862745098039\n",
            "feature num: 712 rate: 0.758578431372549\n",
            "feature num: 713 rate: 0.7745098039215687\n",
            "feature num: 714 rate: 0.7683823529411764\n",
            "feature num: 715 rate: 0.7732843137254902\n",
            "feature num: 716 rate: 0.7879901960784313\n",
            "feature num: 717 rate: 0.7720588235294118\n",
            "feature num: 718 rate: 0.7622549019607843\n",
            "feature num: 719 rate: 0.7757352941176471\n",
            "feature num: 720 rate: 0.767156862745098\n",
            "feature num: 721 rate: 0.7830882352941176\n",
            "feature num: 722 rate: 0.7781862745098039\n",
            "feature num: 723 rate: 0.7806372549019608\n",
            "feature num: 724 rate: 0.7708333333333334\n",
            "feature num: 725 rate: 0.767156862745098\n",
            "feature num: 726 rate: 0.7794117647058824\n",
            "feature num: 727 rate: 0.7794117647058824\n",
            "feature num: 728 rate: 0.7634803921568627\n",
            "feature num: 729 rate: 0.7696078431372549\n",
            "feature num: 730 rate: 0.7720588235294118\n",
            "feature num: 731 rate: 0.7683823529411764\n",
            "feature num: 732 rate: 0.7732843137254902\n",
            "feature num: 733 rate: 0.7696078431372549\n",
            "feature num: 734 rate: 0.7708333333333334\n",
            "feature num: 735 rate: 0.7696078431372549\n",
            "feature num: 736 rate: 0.7659313725490196\n",
            "feature num: 737 rate: 0.7708333333333334\n",
            "feature num: 738 rate: 0.7830882352941176\n",
            "feature num: 739 rate: 0.7745098039215687\n",
            "feature num: 740 rate: 0.7843137254901961\n",
            "feature num: 741 rate: 0.7622549019607843\n",
            "feature num: 742 rate: 0.7879901960784313\n",
            "feature num: 743 rate: 0.7732843137254902\n",
            "feature num: 744 rate: 0.7720588235294118\n",
            "feature num: 745 rate: 0.7708333333333334\n",
            "feature num: 746 rate: 0.7769607843137255\n",
            "feature num: 747 rate: 0.7708333333333334\n",
            "feature num: 748 rate: 0.7732843137254902\n",
            "feature num: 749 rate: 0.7610294117647058\n",
            "feature num: 750 rate: 0.7683823529411764\n",
            "feature num: 751 rate: 0.7732843137254902\n",
            "feature num: 752 rate: 0.7647058823529411\n",
            "feature num: 753 rate: 0.7696078431372549\n",
            "feature num: 754 rate: 0.7720588235294118\n",
            "feature num: 755 rate: 0.7769607843137255\n",
            "feature num: 756 rate: 0.7647058823529411\n",
            "feature num: 757 rate: 0.7806372549019608\n",
            "feature num: 758 rate: 0.7794117647058824\n",
            "feature num: 759 rate: 0.7598039215686274\n",
            "feature num: 760 rate: 0.7708333333333334\n",
            "feature num: 761 rate: 0.7843137254901961\n",
            "feature num: 762 rate: 0.7720588235294118\n",
            "feature num: 763 rate: 0.7757352941176471\n",
            "feature num: 764 rate: 0.7745098039215687\n",
            "feature num: 765 rate: 0.7720588235294118\n",
            "feature num: 766 rate: 0.7622549019607843\n",
            "feature num: 767 rate: 0.7781862745098039\n",
            "feature num: 768 rate: 0.7745098039215687\n",
            "feature num: 769 rate: 0.7683823529411764\n",
            "feature num: 770 rate: 0.7818627450980392\n",
            "feature num: 771 rate: 0.7769607843137255\n",
            "feature num: 772 rate: 0.7769607843137255\n",
            "feature num: 773 rate: 0.7843137254901961\n",
            "feature num: 774 rate: 0.7769607843137255\n",
            "feature num: 775 rate: 0.7781862745098039\n",
            "feature num: 776 rate: 0.7696078431372549\n",
            "feature num: 777 rate: 0.7683823529411764\n",
            "feature num: 778 rate: 0.7622549019607843\n",
            "feature num: 779 rate: 0.7769607843137255\n",
            "feature num: 780 rate: 0.7843137254901961\n",
            "feature num: 781 rate: 0.7745098039215687\n",
            "feature num: 782 rate: 0.7806372549019608\n",
            "feature num: 783 rate: 0.7732843137254902\n",
            "feature num: 784 rate: 0.7818627450980392\n",
            "feature num: 785 rate: 0.7830882352941176\n",
            "feature num: 786 rate: 0.7647058823529411\n",
            "feature num: 787 rate: 0.7720588235294118\n",
            "feature num: 788 rate: 0.7610294117647058\n",
            "feature num: 789 rate: 0.7659313725490196\n",
            "feature num: 790 rate: 0.7928921568627451\n",
            "feature num: 791 rate: 0.767156862745098\n",
            "feature num: 792 rate: 0.7806372549019608\n",
            "feature num: 793 rate: 0.7745098039215687\n",
            "feature num: 794 rate: 0.7769607843137255\n",
            "feature num: 795 rate: 0.7757352941176471\n",
            "feature num: 796 rate: 0.7745098039215687\n",
            "feature num: 797 rate: 0.7843137254901961\n",
            "feature num: 798 rate: 0.7806372549019608\n",
            "feature num: 799 rate: 0.7794117647058824\n",
            "feature num: 800 rate: 0.7794117647058824\n",
            "feature num: 801 rate: 0.7720588235294118\n",
            "feature num: 802 rate: 0.7818627450980392\n",
            "feature num: 803 rate: 0.7720588235294118\n",
            "feature num: 804 rate: 0.7879901960784313\n",
            "feature num: 805 rate: 0.7732843137254902\n",
            "feature num: 806 rate: 0.758578431372549\n",
            "feature num: 807 rate: 0.7745098039215687\n",
            "feature num: 808 rate: 0.7769607843137255\n",
            "feature num: 809 rate: 0.7769607843137255\n",
            "feature num: 810 rate: 0.7696078431372549\n",
            "feature num: 811 rate: 0.7720588235294118\n",
            "feature num: 812 rate: 0.7757352941176471\n",
            "feature num: 813 rate: 0.7855392156862745\n",
            "feature num: 814 rate: 0.7683823529411764\n",
            "feature num: 815 rate: 0.7634803921568627\n",
            "feature num: 816 rate: 0.7757352941176471\n",
            "feature num: 817 rate: 0.7696078431372549\n",
            "feature num: 818 rate: 0.7732843137254902\n",
            "feature num: 819 rate: 0.7720588235294118\n",
            "feature num: 820 rate: 0.7745098039215687\n",
            "feature num: 821 rate: 0.7781862745098039\n",
            "feature num: 822 rate: 0.7806372549019608\n",
            "feature num: 823 rate: 0.7659313725490196\n",
            "feature num: 824 rate: 0.7573529411764706\n",
            "feature num: 825 rate: 0.7781862745098039\n",
            "feature num: 826 rate: 0.7843137254901961\n",
            "feature num: 827 rate: 0.7818627450980392\n",
            "feature num: 828 rate: 0.7683823529411764\n",
            "feature num: 829 rate: 0.7830882352941176\n",
            "feature num: 830 rate: 0.7634803921568627\n",
            "feature num: 831 rate: 0.7879901960784313\n",
            "feature num: 832 rate: 0.7720588235294118\n",
            "feature num: 833 rate: 0.7708333333333334\n",
            "feature num: 834 rate: 0.7720588235294118\n",
            "feature num: 835 rate: 0.7794117647058824\n",
            "feature num: 836 rate: 0.7683823529411764\n",
            "feature num: 837 rate: 0.7683823529411764\n",
            "feature num: 838 rate: 0.7818627450980392\n",
            "feature num: 839 rate: 0.7634803921568627\n",
            "feature num: 840 rate: 0.767156862745098\n",
            "feature num: 841 rate: 0.7720588235294118\n",
            "feature num: 842 rate: 0.7683823529411764\n",
            "feature num: 843 rate: 0.7769607843137255\n",
            "feature num: 844 rate: 0.7843137254901961\n",
            "feature num: 845 rate: 0.7683823529411764\n",
            "feature num: 846 rate: 0.7598039215686274\n",
            "feature num: 847 rate: 0.7732843137254902\n",
            "feature num: 848 rate: 0.7610294117647058\n",
            "feature num: 849 rate: 0.7683823529411764\n",
            "feature num: 850 rate: 0.767156862745098\n",
            "feature num: 851 rate: 0.7781862745098039\n",
            "feature num: 852 rate: 0.7634803921568627\n",
            "feature num: 853 rate: 0.7867647058823529\n",
            "feature num: 854 rate: 0.7708333333333334\n",
            "feature num: 855 rate: 0.7818627450980392\n",
            "feature num: 856 rate: 0.7806372549019608\n",
            "feature num: 857 rate: 0.7928921568627451\n",
            "feature num: 858 rate: 0.7769607843137255\n",
            "feature num: 859 rate: 0.7745098039215687\n",
            "feature num: 860 rate: 0.7830882352941176\n",
            "feature num: 861 rate: 0.7794117647058824\n",
            "feature num: 862 rate: 0.7781862745098039\n",
            "feature num: 863 rate: 0.7745098039215687\n",
            "feature num: 864 rate: 0.7708333333333334\n",
            "feature num: 865 rate: 0.7732843137254902\n",
            "feature num: 866 rate: 0.7794117647058824\n",
            "feature num: 867 rate: 0.7794117647058824\n",
            "feature num: 868 rate: 0.7549019607843137\n",
            "feature num: 869 rate: 0.7598039215686274\n",
            "feature num: 870 rate: 0.7794117647058824\n",
            "feature num: 871 rate: 0.7598039215686274\n",
            "feature num: 872 rate: 0.7794117647058824\n",
            "feature num: 873 rate: 0.7683823529411764\n",
            "feature num: 874 rate: 0.767156862745098\n",
            "feature num: 875 rate: 0.7647058823529411\n",
            "feature num: 876 rate: 0.7769607843137255\n",
            "feature num: 877 rate: 0.7843137254901961\n",
            "feature num: 878 rate: 0.7745098039215687\n",
            "feature num: 879 rate: 0.7757352941176471\n",
            "feature num: 880 rate: 0.7806372549019608\n",
            "feature num: 881 rate: 0.7818627450980392\n",
            "feature num: 882 rate: 0.7769607843137255\n",
            "feature num: 883 rate: 0.7745098039215687\n",
            "feature num: 884 rate: 0.7781862745098039\n",
            "feature num: 885 rate: 0.758578431372549\n",
            "feature num: 886 rate: 0.7769607843137255\n",
            "feature num: 887 rate: 0.7708333333333334\n",
            "feature num: 888 rate: 0.7708333333333334\n",
            "feature num: 889 rate: 0.7683823529411764\n",
            "feature num: 890 rate: 0.7708333333333334\n",
            "feature num: 891 rate: 0.7720588235294118\n",
            "feature num: 892 rate: 0.7610294117647058\n",
            "feature num: 893 rate: 0.7745098039215687\n",
            "feature num: 894 rate: 0.7843137254901961\n",
            "feature num: 895 rate: 0.7892156862745098\n",
            "feature num: 896 rate: 0.7769607843137255\n",
            "feature num: 897 rate: 0.7487745098039216\n",
            "feature num: 898 rate: 0.7806372549019608\n",
            "feature num: 899 rate: 0.7696078431372549\n",
            "feature num: 900 rate: 0.7818627450980392\n",
            "feature num: 901 rate: 0.7904411764705882\n",
            "feature num: 902 rate: 0.7769607843137255\n",
            "feature num: 903 rate: 0.7696078431372549\n",
            "feature num: 904 rate: 0.7769607843137255\n",
            "feature num: 905 rate: 0.7879901960784313\n",
            "feature num: 906 rate: 0.7818627450980392\n",
            "feature num: 907 rate: 0.7745098039215687\n",
            "feature num: 908 rate: 0.7622549019607843\n",
            "feature num: 909 rate: 0.7732843137254902\n",
            "feature num: 910 rate: 0.7683823529411764\n",
            "feature num: 911 rate: 0.7843137254901961\n",
            "feature num: 912 rate: 0.7622549019607843\n",
            "feature num: 913 rate: 0.7769607843137255\n",
            "feature num: 914 rate: 0.7732843137254902\n",
            "feature num: 915 rate: 0.7659313725490196\n",
            "feature num: 916 rate: 0.7720588235294118\n",
            "feature num: 917 rate: 0.7708333333333334\n",
            "feature num: 918 rate: 0.7757352941176471\n",
            "feature num: 919 rate: 0.7683823529411764\n",
            "feature num: 920 rate: 0.7598039215686274\n",
            "feature num: 921 rate: 0.7647058823529411\n",
            "feature num: 922 rate: 0.7769607843137255\n",
            "feature num: 923 rate: 0.7867647058823529\n",
            "feature num: 924 rate: 0.7696078431372549\n",
            "feature num: 925 rate: 0.7855392156862745\n",
            "feature num: 926 rate: 0.7732843137254902\n",
            "feature num: 927 rate: 0.767156862745098\n",
            "feature num: 928 rate: 0.7757352941176471\n",
            "feature num: 929 rate: 0.7683823529411764\n",
            "feature num: 930 rate: 0.7708333333333334\n",
            "feature num: 931 rate: 0.7745098039215687\n",
            "feature num: 932 rate: 0.7757352941176471\n",
            "feature num: 933 rate: 0.7818627450980392\n",
            "feature num: 934 rate: 0.7647058823529411\n",
            "feature num: 935 rate: 0.7732843137254902\n",
            "feature num: 936 rate: 0.7745098039215687\n",
            "feature num: 937 rate: 0.7708333333333334\n",
            "feature num: 938 rate: 0.7634803921568627\n",
            "feature num: 939 rate: 0.767156862745098\n",
            "feature num: 940 rate: 0.7818627450980392\n",
            "feature num: 941 rate: 0.7622549019607843\n",
            "feature num: 942 rate: 0.7708333333333334\n",
            "feature num: 943 rate: 0.7781862745098039\n",
            "feature num: 944 rate: 0.7806372549019608\n",
            "feature num: 945 rate: 0.7622549019607843\n",
            "feature num: 946 rate: 0.7769607843137255\n",
            "feature num: 947 rate: 0.7769607843137255\n",
            "feature num: 948 rate: 0.7830882352941176\n",
            "feature num: 949 rate: 0.7732843137254902\n",
            "feature num: 950 rate: 0.7634803921568627\n",
            "feature num: 951 rate: 0.7843137254901961\n",
            "feature num: 952 rate: 0.7622549019607843\n",
            "feature num: 953 rate: 0.7634803921568627\n",
            "feature num: 954 rate: 0.767156862745098\n",
            "feature num: 955 rate: 0.7659313725490196\n",
            "feature num: 956 rate: 0.7708333333333334\n",
            "feature num: 957 rate: 0.7781862745098039\n",
            "feature num: 958 rate: 0.7647058823529411\n",
            "feature num: 959 rate: 0.758578431372549\n",
            "feature num: 960 rate: 0.7622549019607843\n",
            "feature num: 961 rate: 0.7732843137254902\n",
            "feature num: 962 rate: 0.7732843137254902\n",
            "feature num: 963 rate: 0.7659313725490196\n",
            "feature num: 964 rate: 0.7696078431372549\n",
            "feature num: 965 rate: 0.7659313725490196\n",
            "feature num: 966 rate: 0.7769607843137255\n",
            "feature num: 967 rate: 0.767156862745098\n",
            "feature num: 968 rate: 0.7708333333333334\n",
            "feature num: 969 rate: 0.7634803921568627\n",
            "feature num: 970 rate: 0.7561274509803921\n",
            "feature num: 971 rate: 0.767156862745098\n",
            "feature num: 972 rate: 0.7573529411764706\n",
            "feature num: 973 rate: 0.7769607843137255\n",
            "feature num: 974 rate: 0.7647058823529411\n",
            "feature num: 975 rate: 0.7622549019607843\n",
            "feature num: 976 rate: 0.7610294117647058\n",
            "feature num: 977 rate: 0.7598039215686274\n",
            "feature num: 978 rate: 0.7720588235294118\n",
            "feature num: 979 rate: 0.7720588235294118\n",
            "feature num: 980 rate: 0.7720588235294118\n",
            "feature num: 981 rate: 0.7696078431372549\n",
            "feature num: 982 rate: 0.7683823529411764\n",
            "feature num: 983 rate: 0.7659313725490196\n",
            "feature num: 984 rate: 0.7830882352941176\n",
            "feature num: 985 rate: 0.7806372549019608\n",
            "feature num: 986 rate: 0.7757352941176471\n",
            "feature num: 987 rate: 0.7634803921568627\n",
            "feature num: 988 rate: 0.7781862745098039\n",
            "feature num: 989 rate: 0.758578431372549\n",
            "feature num: 990 rate: 0.7806372549019608\n",
            "feature num: 991 rate: 0.7794117647058824\n",
            "feature num: 992 rate: 0.7794117647058824\n",
            "feature num: 993 rate: 0.7683823529411764\n",
            "feature num: 994 rate: 0.7720588235294118\n",
            "feature num: 995 rate: 0.7745098039215687\n",
            "feature num: 996 rate: 0.7708333333333334\n",
            "feature num: 997 rate: 0.7843137254901961\n",
            "feature num: 998 rate: 0.7745098039215687\n",
            "feature num: 999 rate: 0.7683823529411764\n",
            "feature num: 1000 rate: 0.7806372549019608\n",
            "The best feature number: 790\n",
            "The best rate: 0.7928921568627451\n",
            "Feature selction optimation end,the best arff save out_24.arff\n"
          ]
        }
      ]
    },
    {
      "cell_type": "code",
      "source": [
        "!head ./CNA-TMB-MRMD.csv"
      ],
      "metadata": {
        "colab": {
          "base_uri": "https://localhost:8080/"
        },
        "id": "ArAMODo11rpM",
        "outputId": "3e715ff9-298a-48af-979d-df57608a7806"
      },
      "execution_count": 40,
      "outputs": [
        {
          "output_type": "stream",
          "name": "stdout",
          "text": [
            "The number of selected features is: 1000\r\n",
            "\r\n",
            "The index of selected features start from 0\r\n",
            "\r\n",
            "NO.\t\tFeaName\t\tScore\r\n",
            "\r\n",
            "1\t\tFea43\t\t1.0\r\n",
            "2\t\tFea42\t\t1.0\r\n",
            "3\t\tFea39\t\t0.9962424241832826\r\n",
            "4\t\tFea41\t\t0.9887092184752435\r\n"
          ]
        }
      ]
    },
    {
      "cell_type": "code",
      "source": [],
      "metadata": {
        "id": "I89fN7bT28tB"
      },
      "execution_count": null,
      "outputs": []
    }
  ]
}